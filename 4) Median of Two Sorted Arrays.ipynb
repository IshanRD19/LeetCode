{
 "cells": [
  {
   "cell_type": "markdown",
   "metadata": {},
   "source": [
    "# MEDIAN OF TWO SORTED ARRAYS"
   ]
  },
  {
   "cell_type": "markdown",
   "metadata": {},
   "source": [
    "Given two sorted arrays nums1 and nums2 of size m and n respectively, return the median of the two sorted arrays.\n",
    "\n",
    " "
   ]
  },
  {
   "cell_type": "markdown",
   "metadata": {},
   "source": [
    "### Example 1:\n",
    "\n",
    "Input: nums1 = [1,3], nums2 = [2]\n",
    "\n",
    "Output: 2.00000\n",
    "\n",
    "Explanation: merged array = [1,2,3] and median is 2.\n",
    "\n",
    "### Example 2:\n",
    "\n",
    "Input: nums1 = [1,2], nums2 = [3,4]\n",
    "\n",
    "Output: 2.50000\n",
    "\n",
    "Explanation: merged array = [1,2,3,4] and median is (2 + 3) / 2 = 2.5.\n",
    "\n",
    "### Example 3:\n",
    "\n",
    "Input: nums1 = [0,0], nums2 = [0,0]\n",
    "\n",
    "Output: 0.00000\n",
    "\n",
    "### Example 4:\n",
    "\n",
    "Input: nums1 = [], nums2 = [1]\n",
    "\n",
    "Output: 1.00000\n",
    "\n",
    "### Example 5:\n",
    "\n",
    "Input: nums1 = [2], nums2 = []\n",
    "\n",
    "Output: 2.00000"
   ]
  },
  {
   "cell_type": "markdown",
   "metadata": {},
   "source": [
    "## Constraints:\n",
    "\n",
    "- nums1.length == m\n",
    "\n",
    "- nums2.length == n\n",
    "\n",
    "- 0 <= m <= 1000\n",
    "\n",
    "- 0 <= n <= 1000\n",
    "\n",
    "- 1 <= m + n <= 2000\n",
    "\n",
    "- -10^6 <= nums1[i], nums2[i] <= 10^6"
   ]
  },
  {
   "cell_type": "markdown",
   "metadata": {},
   "source": [
    "## Linear Time Complexity"
   ]
  },
  {
   "cell_type": "code",
   "execution_count": 41,
   "metadata": {},
   "outputs": [],
   "source": [
    "# nums1: List[int]\n",
    "# nums2: List[int]\n",
    "# return -> float\n",
    "class Solution:\n",
    "    def findMedianSortedArrays(self, nums1, nums2):\n",
    "        len1, len2 = len(nums1), len(nums2)\n",
    "        i, j = 0, 0\n",
    "        merged = []        \n",
    "        while (True):\n",
    "            try:\n",
    "                if nums1[i] < nums2[j]:\n",
    "                    merged.append(nums1[i])\n",
    "                    i += 1\n",
    "                else:\n",
    "                    merged.append(nums2[j])  \n",
    "                    j += 1\n",
    "            except:\n",
    "                try:\n",
    "                    merged.append(nums1[i])\n",
    "                    i += 1\n",
    "                except:\n",
    "                    try:\n",
    "                        merged.append(nums2[j])\n",
    "                        j += 1\n",
    "                    except:\n",
    "                        break\n",
    "        len3 = len(merged)\n",
    "        try:\n",
    "            return merged[len3//2] if len3%2 else ((merged[len3//2] + merged[len3//2 - 1]) / 2)\n",
    "        except:\n",
    "            return 0"
   ]
  },
  {
   "cell_type": "code",
   "execution_count": 42,
   "metadata": {},
   "outputs": [
    {
     "data": {
      "text/plain": [
       "2.5"
      ]
     },
     "execution_count": 42,
     "metadata": {},
     "output_type": "execute_result"
    }
   ],
   "source": [
    "Solution.findMedianSortedArrays(Solution.findMedianSortedArrays, [1,2], [3,4])"
   ]
  },
  {
   "cell_type": "markdown",
   "metadata": {},
   "source": [
    "## Logarithmic Time Complexity"
   ]
  },
  {
   "cell_type": "code",
   "execution_count": 62,
   "metadata": {},
   "outputs": [],
   "source": [
    "def median(A, B):\n",
    "    m, n = len(A), len(B)\n",
    "    \n",
    "    # Make A the shorter of the 2 lists\n",
    "    if m > n:\n",
    "        A, B, m, n = B, A, n, m\n",
    "\n",
    "    # Both lists can't be blank\n",
    "    if n == 0:\n",
    "        raise ValueError\n",
    "\n",
    "    imin, imax, half_len = 0, m, (m + n + 1) // 2\n",
    "\n",
    "    while imin <= imax:\n",
    "        i = (imin + imax) // 2\n",
    "        j = half_len - i\n",
    "        if i < m and B[j-1] > A[i]:\n",
    "            # i is too small, must increase it\n",
    "            imin = i + 1\n",
    "        elif i > 0 and A[i-1] > B[j]:\n",
    "            # i is too big, must decrease it\n",
    "            imax = i - 1\n",
    "        else:\n",
    "            # i is perfect\n",
    "\n",
    "            if i == 0: max_of_left = B[j-1]\n",
    "            elif j == 0: max_of_left = A[i-1]\n",
    "            else: max_of_left = max(A[i-1], B[j-1])\n",
    "\n",
    "            if (m + n) % 2 == 1:\n",
    "                return max_of_left\n",
    "\n",
    "            if i == m: min_of_right = B[j]\n",
    "            elif j == n: min_of_right = A[i]\n",
    "            else: min_of_right = min(A[i], B[j])\n",
    "\n",
    "            return (max_of_left + min_of_right) / 2.0"
   ]
  },
  {
   "cell_type": "code",
   "execution_count": 63,
   "metadata": {},
   "outputs": [
    {
     "data": {
      "text/plain": [
       "10"
      ]
     },
     "execution_count": 63,
     "metadata": {},
     "output_type": "execute_result"
    }
   ],
   "source": [
    "median([1,5,14,20], [3,4,10,11,21])"
   ]
  },
  {
   "cell_type": "markdown",
   "metadata": {},
   "source": [
    "### Complexity Analysis\n",
    "\n",
    "- Time complexity: O(log(min(m,n))).\n",
    "At first, the searching range is [0,m]. And the length of this searching range will be reduced by half after each loop. So, we only need log(m) loops. Since we do constant operations in each loop, so the time complexity is O(log(m)). Since m≤n, so the time complexity is O(log(min(m,n))).\n",
    "\n",
    "- Space complexity: O(1).\n",
    "We only need constant memory to store 9 local variables, so the space complexity is O(1)."
   ]
  }
 ],
 "metadata": {
  "kernelspec": {
   "display_name": "Python 3",
   "language": "python",
   "name": "python3"
  },
  "language_info": {
   "codemirror_mode": {
    "name": "ipython",
    "version": 3
   },
   "file_extension": ".py",
   "mimetype": "text/x-python",
   "name": "python",
   "nbconvert_exporter": "python",
   "pygments_lexer": "ipython3",
   "version": "3.8.3"
  }
 },
 "nbformat": 4,
 "nbformat_minor": 4
}
