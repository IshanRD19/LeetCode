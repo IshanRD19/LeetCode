{
 "cells": [
  {
   "cell_type": "markdown",
   "metadata": {},
   "source": [
    "# LONGEST VALID PARANTHESIS\n",
    "\n",
    "Given a string containing just the characters '(' and ')', find the length of the longest valid (well-formed) parentheses substring.\n",
    "\n",
    "### Example 1:\n",
    "\n",
    "#### Input: \n",
    "s = \"(()\"\n",
    "#### Output: \n",
    "2\n",
    "#### Explanation: \n",
    "The longest valid parentheses substring is \"()\".\n",
    "### Example 2:\n",
    "\n",
    "#### Input: \n",
    "s = \")()())\"\n",
    "#### Output: \n",
    "4\n",
    "#### Explanation: \n",
    "The longest valid parentheses substring is \"()()\".\n",
    "### Example 3:\n",
    "\n",
    "#### Input: \n",
    "s = \"\"\n",
    "#### Output: \n",
    "0\n",
    " \n",
    "\n",
    "### Constraints:\n",
    "0 <= s.length <= 3 * 10^4\n",
    "\n",
    "s[i] is '(', or ')'."
   ]
  },
  {
   "cell_type": "code",
   "execution_count": 3,
   "metadata": {},
   "outputs": [],
   "source": [
    "class Solution:\n",
    "    def longestValidParentheses(self, s: str) -> int:\n",
    "        length = len(s)\n",
    "        opening, closing = 0, 0\n",
    "        result = 0\n",
    "        \n",
    "        # Move left to right\n",
    "        for i in range(length):\n",
    "            \n",
    "            if s[i] == '(':\n",
    "                opening += 1\n",
    "            elif s[i] == ')':\n",
    "                closing += 1\n",
    "            \n",
    "            # Compare max length\n",
    "            if opening == closing:\n",
    "                result = max(result, opening + closing)\n",
    "            \n",
    "            # Reset counters\n",
    "            if closing > opening:\n",
    "                opening = closing = 0\n",
    "        \n",
    "        # Move right to left\n",
    "        opening, closing = 0, 0\n",
    "        for i in range(length-1, -1, -1):\n",
    "            \n",
    "            if s[i] == '(':\n",
    "                opening += 1\n",
    "            elif s[i] == ')':\n",
    "                closing += 1\n",
    "                \n",
    "            # Compare max length\n",
    "            if opening == closing:\n",
    "                result = max(result, opening + closing)\n",
    "            \n",
    "            # Reset counters\n",
    "            if opening > closing:\n",
    "                opening = closing = 0\n",
    "        \n",
    "        return result"
   ]
  },
  {
   "cell_type": "code",
   "execution_count": 4,
   "metadata": {},
   "outputs": [
    {
     "data": {
      "text/plain": [
       "4"
      ]
     },
     "execution_count": 4,
     "metadata": {},
     "output_type": "execute_result"
    }
   ],
   "source": [
    "Solution.longestValidParentheses(Solution.longestValidParentheses, ')()())')"
   ]
  }
 ],
 "metadata": {
  "kernelspec": {
   "display_name": "Python 3.10.6 64-bit",
   "language": "python",
   "name": "python3"
  },
  "language_info": {
   "codemirror_mode": {
    "name": "ipython",
    "version": 3
   },
   "file_extension": ".py",
   "mimetype": "text/x-python",
   "name": "python",
   "nbconvert_exporter": "python",
   "pygments_lexer": "ipython3",
   "version": "3.10.6"
  },
  "orig_nbformat": 4,
  "vscode": {
   "interpreter": {
    "hash": "26de051ba29f2982a8de78e945f0abaf191376122a1563185a90213a26c5da77"
   }
  }
 },
 "nbformat": 4,
 "nbformat_minor": 2
}
