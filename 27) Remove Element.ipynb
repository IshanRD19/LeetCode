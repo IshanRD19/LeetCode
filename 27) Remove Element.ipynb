{
 "cells": [
  {
   "cell_type": "markdown",
   "metadata": {},
   "source": [
    "# REMOVE ELEMENT\n",
    "\n",
    "Given an integer array nums and an integer val, remove all occurrences of val in nums in-place. The relative order of the elements may be changed.\n",
    "\n",
    "Since it is impossible to change the length of the array in some languages, you must instead have the result be placed in the first part of the array nums. More formally, if there are k elements after removing the duplicates, then the first k elements of nums should hold the final result. It does not matter what you leave beyond the first k elements.\n",
    "\n",
    "Return k after placing the final result in the first k slots of nums.\n",
    "\n",
    "Do not allocate extra space for another array. You must do this by modifying the input array in-place with O(1) extra memory.\n",
    "\n",
    "### Example 1:\n",
    "\n",
    "Input: nums = [3,2,2,3], val = 3\n",
    "\n",
    "Output: 2, nums = [2,2,_,_]\n",
    "\n",
    "Explanation: Your function should return k = 2, with the first two elements of nums being 2.\n",
    "It does not matter what you leave beyond the returned k (hence they are underscores).\n",
    "\n",
    "### Example 2:\n",
    "\n",
    "Input: nums = [0,1,2,2,3,0,4,2], val = 2\n",
    "\n",
    "Output: 5, nums = [0,1,4,0,3,_,_,_]\n",
    "\n",
    "Explanation: Your function should return k = 5, with the first five elements of nums containing 0, 0, 1, 3, and 4.\n",
    "Note that the five elements can be returned in any order.\n",
    "It does not matter what you leave beyond the returned k (hence they are underscores).\n",
    " \n",
    "\n",
    "### Constraints:\n",
    "\n",
    "0 <= nums.length <= 100\n",
    "\n",
    "0 <= nums[i] <= 50\n",
    "\n",
    "0 <= val <= 100"
   ]
  },
  {
   "cell_type": "markdown",
   "metadata": {},
   "source": [
    "## Approach 1: Trivial Array Traversal"
   ]
  },
  {
   "cell_type": "code",
   "execution_count": 1,
   "metadata": {},
   "outputs": [],
   "source": [
    "# nums: List[int]\n",
    "# val: int\n",
    "# return -> int\n",
    "class Solution:\n",
    "    def removeElement(self, nums, val):\n",
    "        k = len(nums)\n",
    "        # For array traversal\n",
    "        i = 0\n",
    "        # For swapping\n",
    "        j = k - 1\n",
    "        \n",
    "        while i <= j:\n",
    "            print('i:', i, nums[i])\n",
    "            print('j:', j, nums[j])\n",
    "            \n",
    "            if nums[i] == val:\n",
    "                # Decrement k                \n",
    "                k -= 1\n",
    "                print('k:', k)\n",
    "                \n",
    "                # Traverse right to left for legit value to swap\n",
    "                while i < j and nums[j] == val:\n",
    "                    k -= 1\n",
    "                    j -= 1\n",
    "                    print('k:', k)\n",
    "    \n",
    "                # Overwrite with legit value\n",
    "                print('j:', j, nums[j])\n",
    "                nums[i] = nums[j]\n",
    "                j -= 1\n",
    "                \n",
    "                print('i:', i, nums[i])\n",
    "                print('j:', j, nums[j])\n",
    "\n",
    "            i += 1\n",
    "            print('----')\n",
    "\n",
    "        print(nums)\n",
    "        \n",
    "        return k"
   ]
  },
  {
   "cell_type": "code",
   "execution_count": 2,
   "metadata": {
    "scrolled": true
   },
   "outputs": [
    {
     "name": "stdout",
     "output_type": "stream",
     "text": [
      "i: 0 3\n",
      "j: 3 3\n",
      "----\n",
      "i: 1 2\n",
      "j: 3 3\n",
      "k: 3\n",
      "j: 3 3\n",
      "i: 1 3\n",
      "j: 2 2\n",
      "----\n",
      "i: 2 2\n",
      "j: 2 2\n",
      "k: 2\n",
      "j: 2 2\n",
      "i: 2 2\n",
      "j: 1 3\n",
      "----\n",
      "[3, 3, 2, 3]\n"
     ]
    },
    {
     "data": {
      "text/plain": [
       "2"
      ]
     },
     "execution_count": 2,
     "metadata": {},
     "output_type": "execute_result"
    }
   ],
   "source": [
    "nums = [3,2,2,3]\n",
    "# [0,1,2,2,3,0,4,2]\n",
    "Solution.removeElement(Solution.removeElement, nums, 2)"
   ]
  },
  {
   "cell_type": "markdown",
   "metadata": {},
   "source": [
    "## Approach 2: Two Pointers\n",
    "\n",
    "### Intuition\n",
    "\n",
    "Since this question is asking us to remove all elements of the given value in-place, we have to handle it with O(1) extra space. How to solve it? We can keep two pointers i and j, where i is the slow-runner while j is the fast-runner.\n",
    "\n",
    "### Algorithm\n",
    "\n",
    "When nums[j] equals to the given value, skip this element by incrementing j. As long as nums[j] != val, we copy nums[j] to nums[i] and increment both indexes at the same time. Repeat the process until j reaches the end of the array and the new length is i."
   ]
  },
  {
   "cell_type": "code",
   "execution_count": 3,
   "metadata": {},
   "outputs": [],
   "source": [
    "# nums: List[int]\n",
    "# val: int\n",
    "# return -> int\n",
    "class Solution:\n",
    "    def removeElement2(self, nums, val):\n",
    "        # Slow runner as index for overwriting with legit values \n",
    "        i = 0\n",
    "        # Fast runner to traverse array and identify legit values \n",
    "        j = 0\n",
    "        \n",
    "        while j < len(nums):\n",
    "\n",
    "            if nums[j] != val:\n",
    "                nums[i] = nums[j]\n",
    "                i += 1\n",
    "\n",
    "            j += 1\n",
    "            \n",
    "        print('Final Result:', nums)\n",
    "\n",
    "        return i"
   ]
  },
  {
   "cell_type": "code",
   "execution_count": 4,
   "metadata": {},
   "outputs": [
    {
     "name": "stdout",
     "output_type": "stream",
     "text": [
      "Final Result: [0, 1, 3, 0, 4, 0, 4, 2]\n"
     ]
    },
    {
     "data": {
      "text/plain": [
       "5"
      ]
     },
     "execution_count": 4,
     "metadata": {},
     "output_type": "execute_result"
    }
   ],
   "source": [
    "nums = [0,1,2,2,3,0,4,2]\n",
    "Solution.removeElement2(Solution.removeElement2, nums, 2)"
   ]
  },
  {
   "cell_type": "markdown",
   "metadata": {},
   "source": [
    "### Complexity Analysis\n",
    "\n",
    "Time complexity : O(n). Assume the array has a total of n elements, both i and j traverse at most 2n steps.\n",
    "\n",
    "Space complexity : O(1).\n"
   ]
  },
  {
   "cell_type": "markdown",
   "metadata": {},
   "source": [
    "## Approach 3: Two Pointers when elements to remove are rare\n",
    "\n",
    "### Intuition\n",
    "\n",
    "Now consider cases where the array contains few elements to remove. For example, nums = [1,2,3,5,4], val = 4. The previous algorithm will do unnecessary copy operation of the first four elements. Another example is nums = [4,1,2,3,5], val = 4. It seems unnecessary to move elements [1,2,3,5] one step left as the problem description mentions that the order of elements could be changed.\n",
    "\n",
    "### Algorithm\n",
    "\n",
    "When we encounter nums[i]=val, we can swap the current element out with the last element and dispose the last one. This essentially reduces the array's size by 1.\n",
    "\n",
    "Note that the last element that was swapped in could be the value you want to remove itself. But don't worry, in the next iteration we will still check this element."
   ]
  },
  {
   "cell_type": "code",
   "execution_count": 5,
   "metadata": {},
   "outputs": [],
   "source": [
    "# nums: List[int]\n",
    "# val: int\n",
    "# return -> int\n",
    "class Solution:\n",
    "    def removeElement3(self, nums, val):\n",
    "        i = 0\n",
    "        capacity = len(nums)\n",
    "        \n",
    "        while i < capacity:\n",
    "\n",
    "            if nums[i] == val:\n",
    "                nums[i] = nums[capacity - 1]\n",
    "\n",
    "                # Reduce array size by 1\n",
    "                capacity -= 1\n",
    "                \n",
    "            else:\n",
    "                i += 1\n",
    "\n",
    "        print('Final Result:', nums)\n",
    "\n",
    "        return i"
   ]
  },
  {
   "cell_type": "code",
   "execution_count": 6,
   "metadata": {},
   "outputs": [
    {
     "name": "stdout",
     "output_type": "stream",
     "text": [
      "Final Result: [0, 1, 4, 0, 3, 0, 4, 2]\n"
     ]
    },
    {
     "data": {
      "text/plain": [
       "5"
      ]
     },
     "execution_count": 6,
     "metadata": {},
     "output_type": "execute_result"
    }
   ],
   "source": [
    "nums = [0,1,2,2,3,0,4,2]\n",
    "Solution.removeElement3(Solution.removeElement3, nums, 2)"
   ]
  },
  {
   "cell_type": "markdown",
   "metadata": {},
   "source": [
    "### Complexity Analysis\n",
    "\n",
    "Time complexity : O(n). Both i and n traverse at most n steps. In this approach, the number of assignment operations is equal to the number of elements to remove. So it is more efficient if elements to remove are rare.\n",
    "\n",
    "Space complexity : O(1)."
   ]
  }
 ],
 "metadata": {
  "kernelspec": {
   "display_name": "Python 3",
   "language": "python",
   "name": "python3"
  },
  "language_info": {
   "codemirror_mode": {
    "name": "ipython",
    "version": 3
   },
   "file_extension": ".py",
   "mimetype": "text/x-python",
   "name": "python",
   "nbconvert_exporter": "python",
   "pygments_lexer": "ipython3",
   "version": "3.8.3"
  }
 },
 "nbformat": 4,
 "nbformat_minor": 4
}
