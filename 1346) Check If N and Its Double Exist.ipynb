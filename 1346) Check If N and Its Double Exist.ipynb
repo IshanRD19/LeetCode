{
 "cells": [
  {
   "cell_type": "markdown",
   "metadata": {},
   "source": [
    "# 1346) CHECK IF N AND ITS DOUBLE EXIST"
   ]
  },
  {
   "cell_type": "markdown",
   "metadata": {},
   "source": [
    "Given an array arr of integers, check if there exists two integers N and M such that N is the double of M ( i.e. N = 2 * M).\n",
    "\n",
    "More formally check if there exists two indices i and j such that :\n",
    "\n",
    "i != j\n",
    "0 <= i, j < arr.length\n",
    "arr[i] == 2 * arr[j]\n",
    " \n",
    "\n",
    "### Example 1:\n",
    "\n",
    "Input: arr = [10,2,5,3]\n",
    "\n",
    "Output: true\n",
    "\n",
    "Explanation: N = 10 is the double of M = 5,that is, 10 = 2 * 5.\n",
    "\n",
    "### Example 2:\n",
    "\n",
    "Input: arr = [7,1,14,11]\n",
    "\n",
    "Output: true\n",
    "\n",
    "Explanation: N = 14 is the double of M = 7,that is, 14 = 2 * 7.\n",
    "\n",
    "### Example 3:\n",
    "\n",
    "Input: arr = [3,1,7,11]\n",
    "\n",
    "Output: false\n",
    "\n",
    "Explanation: In this case does not exist N and M, such that N = 2 * M.\n",
    " \n",
    "\n",
    "### Constraints:\n",
    "\n",
    "2 <= arr.length <= 500\n",
    "\n",
    "-10^3 <= arr[i] <= 10^3"
   ]
  },
  {
   "cell_type": "markdown",
   "metadata": {},
   "source": [
    "## Approach: Smart Array Traversal"
   ]
  },
  {
   "cell_type": "code",
   "execution_count": 1,
   "metadata": {},
   "outputs": [],
   "source": [
    "# arr: List[int]\n",
    "# return -> bool\n",
    "class Solution:\n",
    "    def checkIfExist(self, arr):\n",
    "        flag = False\n",
    "        \n",
    "        # Pick an element\n",
    "        for i in range(len(arr)):\n",
    "\n",
    "            # Check with elements ahead of it\n",
    "            for j in range(len(arr[i+1:])):\n",
    "            \n",
    "                if (arr[i] == 2 * arr[i+j+1]) or (arr[i] == 0.5 * arr[i+j+1]):\n",
    "                    flag = True\n",
    "                    break\n",
    "\n",
    "            if flag:\n",
    "                break\n",
    "        \n",
    "        return flag"
   ]
  },
  {
   "cell_type": "code",
   "execution_count": 2,
   "metadata": {},
   "outputs": [
    {
     "data": {
      "text/plain": [
       "True"
      ]
     },
     "execution_count": 2,
     "metadata": {},
     "output_type": "execute_result"
    }
   ],
   "source": [
    "Solution.checkIfExist(Solution.checkIfExist, [10, 2, 5, 3])"
   ]
  },
  {
   "cell_type": "markdown",
   "metadata": {},
   "source": [
    "### Complexity Analysis\n",
    "\n",
    "Time Complexity: O(n*n). However, this approach is much better than brute force method as an element is compared with only the elements ahead of it.\n",
    "\n",
    "Space Complexity: O(1)"
   ]
  }
 ],
 "metadata": {
  "kernelspec": {
   "display_name": "Python 3",
   "language": "python",
   "name": "python3"
  },
  "language_info": {
   "codemirror_mode": {
    "name": "ipython",
    "version": 3
   },
   "file_extension": ".py",
   "mimetype": "text/x-python",
   "name": "python",
   "nbconvert_exporter": "python",
   "pygments_lexer": "ipython3",
   "version": "3.8.3"
  }
 },
 "nbformat": 4,
 "nbformat_minor": 4
}
