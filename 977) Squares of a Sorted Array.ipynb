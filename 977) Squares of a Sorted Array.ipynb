{
 "cells": [
  {
   "cell_type": "markdown",
   "metadata": {},
   "source": [
    "# SQUARES OF A SORTED ARRAY\n",
    "\n",
    "Given an integer array nums sorted in non-decreasing order, return an array of the squares of each number sorted in non-decreasing order.\n",
    "\n",
    "\n",
    "\n",
    "### Example 1:\n",
    "\n",
    "Input: nums = [-4,-1,0,3,10]\n",
    "\n",
    "Output: [0,1,9,16,100]\n",
    "\n",
    "Explanation: After squaring, the array becomes [16,1,0,9,100].\n",
    "\n",
    "After sorting, it becomes [0,1,9,16,100].\n",
    "\n",
    "### Example 2:\n",
    "\n",
    "Input: nums = [-7,-3,2,3,11]\n",
    "\n",
    "Output: [4,9,9,49,121]\n",
    " \n",
    "### Constraints:\n",
    "\n",
    "1 <= nums.length <= 10^4\n",
    "\n",
    "-10^4 <= nums[i] <= 10^4\n",
    "\n",
    "nums is sorted in non-decreasing order."
   ]
  },
  {
   "cell_type": "markdown",
   "metadata": {},
   "source": [
    "## Approach 1: Trivial Method"
   ]
  },
  {
   "cell_type": "code",
   "execution_count": 1,
   "metadata": {},
   "outputs": [],
   "source": [
    "# nums: List[int]\n",
    "# return: List[int]\n",
    "class Solution:\n",
    "    def sortedSquares(self, nums):\n",
    "        result = [i**2 for i in nums]\n",
    "        result.sort()\n",
    "        return result"
   ]
  },
  {
   "cell_type": "code",
   "execution_count": 2,
   "metadata": {},
   "outputs": [
    {
     "data": {
      "text/plain": [
       "[0, 1, 9, 16, 100]"
      ]
     },
     "execution_count": 2,
     "metadata": {},
     "output_type": "execute_result"
    }
   ],
   "source": [
    "Solution.sortedSquares(Solution.sortedSquares, [-4,-1,0,3,10])"
   ]
  },
  {
   "cell_type": "markdown",
   "metadata": {},
   "source": [
    "### Follow up:\n",
    "\n",
    "Squaring each element and sorting the new array is very trivial, could you find an O(n) solution using a different approach?"
   ]
  },
  {
   "cell_type": "markdown",
   "metadata": {},
   "source": [
    "## Approach 2: Using Deque"
   ]
  },
  {
   "cell_type": "code",
   "execution_count": 3,
   "metadata": {},
   "outputs": [],
   "source": [
    "# Deque (Doubly Ended Queue) in Python is implemented using the module “collections“. \n",
    "# Deque is preferred over list in the cases where we need quicker append and pop operations from both the ends of container,\n",
    "# as it provides an O(1) time complexity for append and pop operations as compared to list which provides O(n) time complexity.\n",
    "from collections import deque\n",
    "\n",
    "# nums: List[int]\n",
    "# return: List[int]\n",
    "class Solution:\n",
    "    # 2-pass, linear solution.\n",
    "    def sortedSquares2(self, nums):\n",
    "        neg = deque()\n",
    "        pos = deque()\n",
    "        merged = deque()\n",
    "        \n",
    "        i = 0\n",
    "        \n",
    "        # Split the array into two parts: negative (store the absolute value of each) and non-negative\n",
    "        while i < len(nums) and nums[i] < 0:\n",
    "            neg.append(-nums[i])\n",
    "            i += 1\n",
    "        while i < len(nums):\n",
    "            pos.append(nums[i])\n",
    "            i += 1\n",
    "\n",
    "        # Merge the two parts\n",
    "        i = len(neg) - 1\n",
    "        j = 0\n",
    "\n",
    "        while i >= 0 and j < len(pos):\n",
    "            if neg[i] <= pos[j]:\n",
    "                merged.append(neg[i] ** 2)\n",
    "                i -= 1\n",
    "            else:\n",
    "                merged.append(pos[j] ** 2)\n",
    "                j += 1\n",
    "            \n",
    "        # Include all remaining in negative deque \n",
    "        while i >= 0:\n",
    "            merged.append(neg[i] ** 2)\n",
    "            i -= 1\n",
    "            \n",
    "        # Include all remaining in positive deque \n",
    "        while j < len(pos):\n",
    "            merged.append(pos[j] ** 2)\n",
    "            j += 1\n",
    "            \n",
    "        return merged"
   ]
  },
  {
   "cell_type": "code",
   "execution_count": 4,
   "metadata": {},
   "outputs": [
    {
     "data": {
      "text/plain": [
       "deque([4, 9, 9, 49, 121])"
      ]
     },
     "execution_count": 4,
     "metadata": {},
     "output_type": "execute_result"
    }
   ],
   "source": [
    "Solution.sortedSquares2(Solution.sortedSquares2, [-7,-3,2,3,11])"
   ]
  },
  {
   "cell_type": "markdown",
   "metadata": {},
   "source": [
    "## Complexity Analysis\n",
    "\n",
    "Runtime: O(n)\n",
    "\n",
    "Space: O(n): O(n) for the output array + O(n) for the negative and positive parts"
   ]
  }
 ],
 "metadata": {
  "kernelspec": {
   "display_name": "Python 3",
   "language": "python",
   "name": "python3"
  },
  "language_info": {
   "codemirror_mode": {
    "name": "ipython",
    "version": 3
   },
   "file_extension": ".py",
   "mimetype": "text/x-python",
   "name": "python",
   "nbconvert_exporter": "python",
   "pygments_lexer": "ipython3",
   "version": "3.8.3"
  }
 },
 "nbformat": 4,
 "nbformat_minor": 4
}
