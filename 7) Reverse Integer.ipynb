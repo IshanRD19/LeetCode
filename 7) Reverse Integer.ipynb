{
 "cells": [
  {
   "cell_type": "markdown",
   "metadata": {},
   "source": [
    "# REVERSE INTEGER"
   ]
  },
  {
   "cell_type": "markdown",
   "metadata": {},
   "source": [
    "Given a signed 32-bit integer x, return x with its digits reversed. If reversing x causes the value to go outside the signed 32-bit integer range [-231, 231 - 1], then return 0.\n",
    "\n",
    "Assume the environment does not allow you to store 64-bit integers (signed or unsigned)."
   ]
  },
  {
   "cell_type": "markdown",
   "metadata": {},
   "source": [
    "### Example 1:\n",
    "Input: x = 123\n",
    "\n",
    "Output: 321\n",
    "\n",
    "### Example 2:\n",
    "Input: x = -123\n",
    "\n",
    "Output: -321\n",
    "\n",
    "### Example 3:\n",
    "Input: x = 120\n",
    "\n",
    "Output: 21\n",
    "\n",
    "### Example 4:\n",
    "Input: x = 0\n",
    "\n",
    "Output: 0"
   ]
  },
  {
   "cell_type": "markdown",
   "metadata": {},
   "source": [
    "### Constraints:\n",
    "\n",
    "-231 <= x <= 231 - 1"
   ]
  },
  {
   "cell_type": "markdown",
   "metadata": {},
   "source": [
    "## Pop and Push Digits & Check before Overflow"
   ]
  },
  {
   "cell_type": "markdown",
   "metadata": {},
   "source": [
    "### Intuition\n",
    "\n",
    "We can build up the reverse integer one digit at a time. While doing so, we can check beforehand whether or not appending another digit would cause overflow.\n",
    "\n",
    "### Algorithm\n",
    "\n",
    "Reversing an integer can be done similarly to reversing a string.\n",
    "\n",
    "We want to repeatedly \"pop\" the last digit off of x and \"push\" it to the back of the rev. In the end, rev will be the reverse of the x.\n",
    "\n",
    "To \"pop\" and \"push\" digits without the help of some auxiliary stack/array, we can use math."
   ]
  },
  {
   "cell_type": "code",
   "execution_count": 48,
   "metadata": {},
   "outputs": [],
   "source": [
    "class Solution:\n",
    "    def reverse(self, x: int) -> int:\n",
    "        n = abs(x)\n",
    "        r = 0\n",
    "        while(n>0):\n",
    "            a = n%10\n",
    "            r = r*10 + a\n",
    "            n = n//10\n",
    "        reverse = r if x>0 else -r\n",
    "        return reverse if abs(reverse) < 2**31 - 1 else 0"
   ]
  },
  {
   "cell_type": "code",
   "execution_count": 49,
   "metadata": {},
   "outputs": [
    {
     "data": {
      "text/plain": [
       "-21"
      ]
     },
     "execution_count": 49,
     "metadata": {},
     "output_type": "execute_result"
    }
   ],
   "source": [
    "Solution.reverse(Solution.reverse, -120)"
   ]
  },
  {
   "cell_type": "markdown",
   "metadata": {},
   "source": [
    "### Complexity Analysis\n",
    "\n",
    "Time Complexity: O(log(x)). There are roughly log 10 (x) digits in x.\n",
    "Space Complexity: O(1)."
   ]
  }
 ],
 "metadata": {
  "kernelspec": {
   "display_name": "Python 3",
   "language": "python",
   "name": "python3"
  },
  "language_info": {
   "codemirror_mode": {
    "name": "ipython",
    "version": 3
   },
   "file_extension": ".py",
   "mimetype": "text/x-python",
   "name": "python",
   "nbconvert_exporter": "python",
   "pygments_lexer": "ipython3",
   "version": "3.8.3"
  }
 },
 "nbformat": 4,
 "nbformat_minor": 4
}
