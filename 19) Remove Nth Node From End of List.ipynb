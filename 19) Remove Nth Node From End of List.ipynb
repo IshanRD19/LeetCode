{
 "cells": [
  {
   "cell_type": "markdown",
   "metadata": {},
   "source": [
    "# REMOVE NTH NODE FROM END OF LIST\n",
    "\n",
    "Given the head of a linked list, remove the nth node from the end of the list and return its head.\n",
    "\n",
    "### Example 1:\n",
    "\n",
    "Input: head = [1,2,3,4,5], n = 2\n",
    "\n",
    "Output: [1,2,3,5]\n",
    "\n",
    "### Example 2:\n",
    "\n",
    "Input: head = [1], n = 1\n",
    "\n",
    "Output: []\n",
    "\n",
    "### Example 3:\n",
    "\n",
    "Input: head = [1,2], n = 1\n",
    "\n",
    "Output: [1]\n",
    "\n",
    "### Constraints:\n",
    "\n",
    "The number of nodes in the list is sz.\n",
    "\n",
    "1 <= sz <= 30\n",
    "\n",
    "0 <= Node.val <= 100\n",
    "\n",
    "1 <= n <= sz\n",
    " \n",
    "## Approach 1: Brute Force\n",
    "\n",
    "Traverse through the linked list and check for Nth node from end at each step."
   ]
  },
  {
   "cell_type": "code",
   "execution_count": null,
   "metadata": {},
   "outputs": [],
   "source": [
    "# Definition for singly-linked list.\n",
    "# class ListNode:\n",
    "#     def __init__(self, val=0, next=None):\n",
    "#         self.val = val\n",
    "#         self.next = next\n",
    "\n",
    "# head: Optional[ListNode]\n",
    "# n: int\n",
    "# return -> Optional[ListNode]\n",
    "class Solution:\n",
    "    def removeNthFromEnd(self, head: Optional[ListNode], n: int) -> Optional[ListNode]:\n",
    "        seeker = ListNode()\n",
    "        "
   ]
  },
  {
   "cell_type": "code",
   "execution_count": null,
   "metadata": {},
   "outputs": [],
   "source": []
  },
  {
   "cell_type": "code",
   "execution_count": null,
   "metadata": {},
   "outputs": [],
   "source": []
  },
  {
   "cell_type": "markdown",
   "metadata": {},
   "source": [
    "## Approach 2: Two-Pass Method"
   ]
  },
  {
   "cell_type": "code",
   "execution_count": null,
   "metadata": {},
   "outputs": [],
   "source": [
    "# Definition for singly-linked list.\n",
    "# class ListNode:\n",
    "#     def __init__(self, val=0, next=None):\n",
    "#         self.val = val\n",
    "#         self.next = next\n",
    "\n",
    "# head: Optional[ListNode]\n",
    "# n: int\n",
    "# return -> Optional[ListNode]\n",
    "class Solution:\n",
    "    def removeNthFromEnd(self, head: Optional[ListNode], n: int) -> Optional[ListNode]:\n",
    "        seeker = ListNode()\n",
    "        "
   ]
  },
  {
   "cell_type": "code",
   "execution_count": null,
   "metadata": {},
   "outputs": [],
   "source": []
  },
  {
   "cell_type": "code",
   "execution_count": null,
   "metadata": {},
   "outputs": [],
   "source": []
  },
  {
   "cell_type": "markdown",
   "metadata": {},
   "source": [
    "## Approach 3: One-Pass Method"
   ]
  },
  {
   "cell_type": "code",
   "execution_count": 2,
   "metadata": {},
   "outputs": [],
   "source": [
    "# Definition for singly-linked list.\n",
    "class ListNode:\n",
    "    def __init__(self, val=0, next=None):\n",
    "        self.val = val\n",
    "        self.next = next\n",
    "\n",
    "# head: Optional[ListNode]\n",
    "# n: int\n",
    "# return -> Optional[ListNode]\n",
    "class Solution:\n",
    "    def removeNthFromEnd3(self, head, n):\n",
    "        seeker = ListNode()\n",
    "        seeker = head\n",
    "        node_to_update = ListNode()\n",
    "        node_to_update.next = head\n",
    "        \n",
    "        # Give the seeker a headstart of n nodes\n",
    "        for i in range(n):\n",
    "            seeker = seeker.next\n",
    "            \n",
    "        # Traverse the linked list till seeker reaches the end\n",
    "        while seeker.next:\n",
    "            node_to_update = node_to_update.next\n",
    "            seeker = seeker.next\n",
    "            \n",
    "        # Remove the nth node from end\n",
    "        node_to_update.next = node_to_update.next.next\n",
    "        \n",
    "        return head"
   ]
  },
  {
   "cell_type": "code",
   "execution_count": null,
   "metadata": {},
   "outputs": [],
   "source": []
  }
 ],
 "metadata": {
  "kernelspec": {
   "display_name": "Python 3",
   "language": "python",
   "name": "python3"
  },
  "language_info": {
   "codemirror_mode": {
    "name": "ipython",
    "version": 3
   },
   "file_extension": ".py",
   "mimetype": "text/x-python",
   "name": "python",
   "nbconvert_exporter": "python",
   "pygments_lexer": "ipython3",
   "version": "3.8.3"
  }
 },
 "nbformat": 4,
 "nbformat_minor": 4
}
