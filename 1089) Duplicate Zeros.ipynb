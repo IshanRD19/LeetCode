{
 "cells": [
  {
   "cell_type": "markdown",
   "metadata": {},
   "source": [
    "# DUPLICATE ZEROS\n",
    "\n",
    "Given a fixed length array arr of integers, duplicate each occurrence of zero, shifting the remaining elements to the right.\n",
    "\n",
    "Note that elements beyond the length of the original array are not written.\n",
    "\n",
    "Do the above modifications to the input array in place, do not return anything from your function.\n",
    "\n",
    " \n",
    "\n",
    "### Example 1:\n",
    "\n",
    "Input: [1,0,2,3,0,4,5,0]\n",
    "\n",
    "Output: null\n",
    "\n",
    "Explanation: After calling your function, the input array is modified to: [1,0,0,2,3,0,0,4]\n",
    "\n",
    "### Example 2:\n",
    "\n",
    "Input: [1,2,3]\n",
    "\n",
    "Output: null\n",
    "\n",
    "Explanation: After calling your function, the input array is modified to: [1,2,3]\n",
    " \n",
    "\n",
    "### Note:\n",
    "\n",
    "1 <= arr.length <= 10000\n",
    "\n",
    "0 <= arr[i] <= 9"
   ]
  },
  {
   "cell_type": "markdown",
   "metadata": {},
   "source": [
    "## Approach: In-place Array Insertion"
   ]
  },
  {
   "cell_type": "code",
   "execution_count": 1,
   "metadata": {},
   "outputs": [],
   "source": [
    "# arr: List[int]\n",
    "# return: None\n",
    "class Solution:\n",
    "    def duplicateZeros(self, arr):\n",
    "        \"\"\"\n",
    "        Do not return anything, modify arr in-place instead.\n",
    "        \"\"\"\n",
    "        capacity = len(arr)\n",
    "        i = 0\n",
    "        \n",
    "        while i < capacity - 1:\n",
    "            print('i:', i)\n",
    "            print('arr i:', arr[i])\n",
    "            if not arr[i]:\n",
    "                j = capacity - 1\n",
    "                while j > i:\n",
    "                    arr[j] = arr[j-1]\n",
    "                    j -= 1\n",
    "                print(arr)\n",
    "                arr[i+1] = 0\n",
    "                i += 1\n",
    "            i += 1\n",
    "            print('---')\n",
    "\n",
    "        \n",
    "        print('Final Result:', arr)\n",
    "\n",
    "        return"
   ]
  },
  {
   "cell_type": "code",
   "execution_count": 2,
   "metadata": {},
   "outputs": [
    {
     "name": "stdout",
     "output_type": "stream",
     "text": [
      "i: 0\n",
      "arr i: 1\n",
      "---\n",
      "i: 1\n",
      "arr i: 0\n",
      "[1, 0, 0, 2, 3, 0, 4, 5]\n",
      "---\n",
      "i: 3\n",
      "arr i: 2\n",
      "---\n",
      "i: 4\n",
      "arr i: 3\n",
      "---\n",
      "i: 5\n",
      "arr i: 0\n",
      "[1, 0, 0, 2, 3, 0, 0, 4]\n",
      "---\n",
      "Final Result: [1, 0, 0, 2, 3, 0, 0, 4]\n"
     ]
    }
   ],
   "source": [
    "arr =  [1,0,2,3,0,4,5,0]\n",
    "Solution.duplicateZeros(Solution.duplicateZeros, arr)"
   ]
  },
  {
   "cell_type": "markdown",
   "metadata": {},
   "source": [
    "## Complexity Analysis\n",
    "\n",
    "Time Complexity: O(n), where n is the number of elements in the array. Time taken to insert duplicate of each '0' is directly proportional to the length of the array.\n",
    "\n",
    "Space Complexity: O(1). We do not use any extra space."
   ]
  }
 ],
 "metadata": {
  "kernelspec": {
   "display_name": "Python 3",
   "language": "python",
   "name": "python3"
  },
  "language_info": {
   "codemirror_mode": {
    "name": "ipython",
    "version": 3
   },
   "file_extension": ".py",
   "mimetype": "text/x-python",
   "name": "python",
   "nbconvert_exporter": "python",
   "pygments_lexer": "ipython3",
   "version": "3.8.3"
  }
 },
 "nbformat": 4,
 "nbformat_minor": 4
}
