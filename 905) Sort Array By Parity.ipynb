{
 "cells": [
  {
   "cell_type": "markdown",
   "metadata": {},
   "source": [
    "# SORT ARRAY BY PARITY\n",
    "\n",
    "Given an integer array nums, move all the even integers at the beginning of the array followed by all the odd integers.\n",
    "\n",
    "Return any array that satisfies this condition.\n",
    "\n",
    "### Example 1:\n",
    "\n",
    "Input: nums = [3,1,2,4]\n",
    "\n",
    "Output: [2,4,3,1]\n",
    "\n",
    "Explanation: The outputs [4,2,3,1], [2,4,1,3], and [4,2,1,3] would also be accepted.\n",
    "\n",
    "### Example 2:\n",
    "\n",
    "Input: nums = [0]\n",
    "\n",
    "Output: [0]\n",
    "\n",
    "### Constraints:\n",
    "\n",
    "1 <= nums.length <= 5000\n",
    "\n",
    "0 <= nums[i] <= 5000"
   ]
  },
  {
   "cell_type": "markdown",
   "metadata": {},
   "source": [
    "# Approach: In-place"
   ]
  },
  {
   "cell_type": "code",
   "execution_count": 1,
   "metadata": {},
   "outputs": [],
   "source": [
    "# nums: List[int]\n",
    "# return -> List[int]\n",
    "class Solution:\n",
    "    def sortArrayByParity(self, nums):\n",
    "        left, right = 0, len(nums) - 1\n",
    "        \n",
    "        while left < right:\n",
    "\n",
    "            # If left value is odd, swap with rightmost even value\n",
    "            if nums[left] % 2:\n",
    "            \n",
    "                # Find rightmost even value\n",
    "                while left < right and nums[right] % 2:\n",
    "                    right -= 1\n",
    "\n",
    "                # Swap\n",
    "                nums[left], nums[right] = nums[right], nums[left]\n",
    "                \n",
    "                right -= 1\n",
    "\n",
    "            left += 1\n",
    "                \n",
    "        return nums"
   ]
  },
  {
   "cell_type": "code",
   "execution_count": 2,
   "metadata": {},
   "outputs": [
    {
     "data": {
      "text/plain": [
       "[4, 2, 1, 3]"
      ]
     },
     "execution_count": 2,
     "metadata": {},
     "output_type": "execute_result"
    }
   ],
   "source": [
    "Solution.sortArrayByParity(Solution.sortArrayByParity, [3,1,2,4])"
   ]
  },
  {
   "cell_type": "markdown",
   "metadata": {},
   "source": [
    "### Complexity Analysis\n",
    "\n",
    "Time Complexity: O(N), where N is the length of A. Each step of the while loop makes j-i decrease by at least one. (Note that while quicksort is O(NlogN) normally, this is O(N) because we only need one pass to sort the elements.)\n",
    "\n",
    "Space Complexity: O(1) in additional space complexity."
   ]
  },
  {
   "cell_type": "markdown",
   "metadata": {},
   "source": [
    "# Approach 2: Sort\n",
    "\n",
    "Use a custom comparator when sorting, to sort by parity."
   ]
  },
  {
   "cell_type": "code",
   "execution_count": 3,
   "metadata": {},
   "outputs": [],
   "source": [
    "class Solution(object):\n",
    "    def sortArrayByParity2(self, A):\n",
    "        \n",
    "        A.sort(key = lambda x: x % 2)\n",
    "\n",
    "        return A"
   ]
  },
  {
   "cell_type": "code",
   "execution_count": 4,
   "metadata": {},
   "outputs": [
    {
     "data": {
      "text/plain": [
       "[2, 4, 3, 1]"
      ]
     },
     "execution_count": 4,
     "metadata": {},
     "output_type": "execute_result"
    }
   ],
   "source": [
    "Solution.sortArrayByParity2(Solution.sortArrayByParity2, [3,1,2,4])"
   ]
  },
  {
   "cell_type": "markdown",
   "metadata": {},
   "source": [
    "### Complexity Analysis\n",
    "\n",
    "Time Complexity: O(NlogN), where N is the length of A.\n",
    "\n",
    "Space Complexity: O(N) for the sort, depending on the built-in implementation of sort."
   ]
  },
  {
   "cell_type": "markdown",
   "metadata": {},
   "source": [
    "## Approach 3: Two Pass\n",
    "\n",
    "Write all the even elements first, then write all the odd elements."
   ]
  },
  {
   "cell_type": "code",
   "execution_count": 5,
   "metadata": {},
   "outputs": [],
   "source": [
    "class Solution(object):\n",
    "    def sortArrayByParity3(self, A):\n",
    "        return ([x for x in A if x % 2 == 0] + [x for x in A if x % 2 == 1])"
   ]
  },
  {
   "cell_type": "code",
   "execution_count": 6,
   "metadata": {},
   "outputs": [
    {
     "data": {
      "text/plain": [
       "[2, 4, 3, 1]"
      ]
     },
     "execution_count": 6,
     "metadata": {},
     "output_type": "execute_result"
    }
   ],
   "source": [
    "Solution.sortArrayByParity3(Solution.sortArrayByParity3, [3,1,2,4])"
   ]
  },
  {
   "cell_type": "markdown",
   "metadata": {},
   "source": [
    "### Complexity Analysis\n",
    "\n",
    "Time Complexity: O(N), where N is the length of A.\n",
    "\n",
    "Space Complexity: O(N), the space used by the answer."
   ]
  }
 ],
 "metadata": {
  "kernelspec": {
   "display_name": "Python 3",
   "language": "python",
   "name": "python3"
  },
  "language_info": {
   "codemirror_mode": {
    "name": "ipython",
    "version": 3
   },
   "file_extension": ".py",
   "mimetype": "text/x-python",
   "name": "python",
   "nbconvert_exporter": "python",
   "pygments_lexer": "ipython3",
   "version": "3.8.3"
  }
 },
 "nbformat": 4,
 "nbformat_minor": 4
}
