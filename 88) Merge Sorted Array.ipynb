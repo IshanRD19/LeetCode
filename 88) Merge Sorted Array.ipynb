{
 "cells": [
  {
   "cell_type": "markdown",
   "metadata": {},
   "source": [
    "# MERGE SORTED ARRAYS\n",
    "\n",
    "You are given two integer arrays nums1 and nums2, sorted in non-decreasing order, and two integers m and n, representing the number of elements in nums1 and nums2 respectively.\n",
    "\n",
    "Merge nums1 and nums2 into a single array sorted in non-decreasing order.\n",
    "\n",
    "The final sorted array should not be returned by the function, but instead be stored inside the array nums1. To accommodate this, nums1 has a length of m + n, where the first m elements denote the elements that should be merged, and the last n elements are set to 0 and should be ignored. nums2 has a length of n.\n",
    "\n",
    "### Example 1:\n",
    "\n",
    "Input: nums1 = [1,2,3,0,0,0], m = 3, nums2 = [2,5,6], n = 3\n",
    "\n",
    "Output: [1,2,2,3,5,6]\n",
    "\n",
    "Explanation: The arrays we are merging are [1,2,3] and [2,5,6].\n",
    "The result of the merge is [1,2,2,3,5,6] with the underlined elements coming from nums1.\n",
    "\n",
    "### Example 2:\n",
    "\n",
    "Input: nums1 = [1], m = 1, nums2 = [], n = 0\n",
    "\n",
    "Output: [1]\n",
    "\n",
    "Explanation: The arrays we are merging are [1] and [].\n",
    "The result of the merge is [1].\n",
    "\n",
    "### Example 3:\n",
    "\n",
    "Input: nums1 = [0], m = 0, nums2 = [1], n = 1\n",
    "\n",
    "Output: [1]\n",
    "\n",
    "Explanation: The arrays we are merging are [] and [1].\n",
    "The result of the merge is [1].\n",
    "Note that because m = 0, there are no elements in nums1. The 0 is only there to ensure the merge result can fit in nums1.\n",
    " \n",
    "\n",
    "### Constraints:\n",
    "\n",
    "nums1.length == m + n\n",
    "\n",
    "nums2.length == n\n",
    "\n",
    "0 <= m, n <= 200\n",
    "\n",
    "1 <= m + n <= 200\n",
    "\n",
    "-10^9 <= nums1[i], nums2[j] <= 10^9"
   ]
  },
  {
   "cell_type": "markdown",
   "metadata": {},
   "source": [
    "## Approach 1: Straightforward Method"
   ]
  },
  {
   "cell_type": "code",
   "execution_count": 1,
   "metadata": {},
   "outputs": [],
   "source": [
    "# nums1: List[int]\n",
    "# m: int\n",
    "# nums2: List[int]\n",
    "# n: int\n",
    "# return -> None\n",
    "class Solution:\n",
    "    def merge(self, nums1, m: int, nums2, n):\n",
    "        \"\"\"\n",
    "        Do not return anything, modify nums1 in-place instead.\n",
    "        \"\"\"\n",
    "        i1 = 0\n",
    "        i2 = 0\n",
    "        capacity1 = len(nums1)\n",
    "\n",
    "        # Merge the elements from nums1 and nums2\n",
    "        while i1 < m and i2 < n:\n",
    "            print('i1:', i1, 'nums1:', nums1[i1])\n",
    "            print('i2:', i2, 'nums2:', nums1[i1])\n",
    "            \n",
    "            # Non-decreasing order\n",
    "            if nums2[i2] < nums1[i1]:\n",
    "                j1 = capacity1 - 1\n",
    "                \n",
    "                # Shift the elements \n",
    "                while j1 > i1:\n",
    "                    nums1[j1] = nums1[j1 - 1]\n",
    "                    j1 -= 1\n",
    "                \n",
    "                # Insert the element from nums2\n",
    "                nums1[i1] = nums2[i2]\n",
    "                i1 += 1\n",
    "                i2 += 1\n",
    "                m += 1\n",
    "                \n",
    "            else:\n",
    "                i1 += 1\n",
    "                \n",
    "            print('---')\n",
    "            \n",
    "        # Append the remaining elements from nums2\n",
    "        while i2 < n:\n",
    "\n",
    "            nums1[i1] = nums2[i2]\n",
    "            i1 += 1\n",
    "            i2 += 1\n",
    "                \n",
    "        print('Final Result:', nums1)\n",
    "            \n",
    "        return"
   ]
  },
  {
   "cell_type": "code",
   "execution_count": 2,
   "metadata": {},
   "outputs": [
    {
     "name": "stdout",
     "output_type": "stream",
     "text": [
      "i1: 0 nums1: 1\n",
      "i2: 0 nums2: 1\n",
      "---\n",
      "i1: 1 nums1: 2\n",
      "i2: 0 nums2: 2\n",
      "---\n",
      "i1: 2 nums1: 3\n",
      "i2: 0 nums2: 3\n",
      "---\n",
      "i1: 3 nums1: 3\n",
      "i2: 1 nums2: 3\n",
      "---\n",
      "Final Result: [1, 2, 2, 3, 5, 6]\n"
     ]
    }
   ],
   "source": [
    "nums1 = [1,2,3,0,0,0]\n",
    "Solution.merge(Solution.merge, nums1, 3, [2,5,6], 3)"
   ]
  },
  {
   "cell_type": "markdown",
   "metadata": {},
   "source": [
    "## Complexity Analysis\n",
    "\n",
    "Time Complexity: O(m+n). However, this is a two-pass approach with each pass proportional to the length of nums1.\n",
    "\n",
    "Space Complexity: O(1)."
   ]
  },
  {
   "cell_type": "markdown",
   "metadata": {},
   "source": [
    "### Follow up\n",
    "\n",
    "Can you come up with an algorithm that runs in O(m + n) time?"
   ]
  },
  {
   "cell_type": "markdown",
   "metadata": {},
   "source": [
    "## Approach 2: Smart Method"
   ]
  },
  {
   "cell_type": "code",
   "execution_count": 3,
   "metadata": {},
   "outputs": [],
   "source": [
    "# nums1: List[int]\n",
    "# m: int\n",
    "# nums2: List[int]\n",
    "# n: int\n",
    "# return -> None\n",
    "class Solution:\n",
    "    def merge2(self, nums1, m: int, nums2, n):\n",
    "        \"\"\"\n",
    "        Do not return anything, modify nums1 in-place instead.\n",
    "        \"\"\"\n",
    "        #final index\n",
    "        i = m + n - 1 \n",
    "\n",
    "        # zero indexing\n",
    "        m = m-1 \n",
    "        # zero indexing\n",
    "        n = n-1 \n",
    "\n",
    "        # Traverse from right to left\n",
    "        while m > -1 and n > -1:\n",
    "            if nums2[n] > nums1[m]:\n",
    "                nums1[i] = nums2[n]\n",
    "                i -= 1\n",
    "                n -= 1\n",
    "            else:\n",
    "                nums1[i] = nums1[m]\n",
    "                m -= 1\n",
    "                i -= 1\n",
    "        \n",
    "        # If nums1 is traversed, insert the remaining elements of nums2\n",
    "        if m < 0:\n",
    "            nums1[:n+1] = nums2[:n+1]\n",
    "\n",
    "        print('Final Result:', nums1)\n",
    "\n",
    "        return"
   ]
  },
  {
   "cell_type": "code",
   "execution_count": 4,
   "metadata": {},
   "outputs": [
    {
     "name": "stdout",
     "output_type": "stream",
     "text": [
      "Final Result: [1, 2, 2, 3, 5, 6]\n"
     ]
    }
   ],
   "source": [
    "nums1 = [1,2,3,0,0,0]\n",
    "Solution.merge2(Solution.merge2, nums1, 3, [2,5,6], 3)"
   ]
  },
  {
   "cell_type": "markdown",
   "metadata": {},
   "source": [
    "## Complexity Analysis\n",
    "\n",
    "Time Complexity: O(m+n).\n",
    "\n",
    "Space Complexity: O(1)."
   ]
  }
 ],
 "metadata": {
  "kernelspec": {
   "display_name": "Python 3",
   "language": "python",
   "name": "python3"
  },
  "language_info": {
   "codemirror_mode": {
    "name": "ipython",
    "version": 3
   },
   "file_extension": ".py",
   "mimetype": "text/x-python",
   "name": "python",
   "nbconvert_exporter": "python",
   "pygments_lexer": "ipython3",
   "version": "3.8.3"
  }
 },
 "nbformat": 4,
 "nbformat_minor": 4
}
