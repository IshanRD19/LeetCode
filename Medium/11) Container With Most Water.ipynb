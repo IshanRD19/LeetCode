{
 "cells": [
  {
   "cell_type": "markdown",
   "metadata": {},
   "source": [
    "# CONTAINER WITH MOST WATER\n",
    "\n",
    "You are given an integer array height of length n. There are n vertical lines drawn such that the two endpoints of the ith line are (i, 0) and (i, height[i]).\n",
    "\n",
    "Find two lines that together with the x-axis form a container, such that the container contains the most water.\n",
    "\n",
    "Return the maximum amount of water a container can store.\n",
    "\n",
    "Notice that you may not slant the container.\n",
    "\n",
    "### Example 1:\n",
    "\n",
    "\n",
    "#### Input: \n",
    "height = [1,8,6,2,5,4,8,3,7]\n",
    "#### Output: \n",
    "49\n",
    "#### Explanation: \n",
    "The above vertical lines are represented by array [1,8,6,2,5,4,8,3,7]. In this case, the max area of water (blue section) the container can contain is 49.\n",
    "### Example 2:\n",
    "\n",
    "#### Input: \n",
    "height = [1,1]\n",
    "#### Output: \n",
    "1\n",
    " \n",
    "### Constraints:\n",
    "n == height.length\n",
    "\n",
    "2 <= n <= 10^5\n",
    "\n",
    "0 <= height[i] <= 10^4"
   ]
  },
  {
   "cell_type": "code",
   "execution_count": 1,
   "metadata": {},
   "outputs": [],
   "source": [
    "# height: List[int]\n",
    "# return -> int\n",
    "class Solution:\n",
    "    def maxArea(self, height):\n",
    "        length = len(height)\n",
    "        left, right = 0, length - 1\n",
    "        most_water = 0\n",
    "        \n",
    "        # While width of container is feasible\n",
    "        while left < right:\n",
    "            \n",
    "            # Shift from side having lower length\n",
    "            if height[left] < height[right]:\n",
    "                water = height[left] * (right - left)\n",
    "                left += 1\n",
    "\n",
    "            else:\n",
    "                water = height[right] * (right - left)\n",
    "                right -= 1\n",
    "            \n",
    "            # Compare most water observed yet\n",
    "            most_water = max(most_water, water)\n",
    "            \n",
    "        return most_water"
   ]
  },
  {
   "cell_type": "code",
   "execution_count": 2,
   "metadata": {},
   "outputs": [
    {
     "data": {
      "text/plain": [
       "49"
      ]
     },
     "execution_count": 2,
     "metadata": {},
     "output_type": "execute_result"
    }
   ],
   "source": [
    "Solution.maxArea(Solution.maxArea, [1,8,6,2,5,4,8,3,7])"
   ]
  }
 ],
 "metadata": {
  "kernelspec": {
   "display_name": "Python 3.10.6 64-bit",
   "language": "python",
   "name": "python3"
  },
  "language_info": {
   "codemirror_mode": {
    "name": "ipython",
    "version": 3
   },
   "file_extension": ".py",
   "mimetype": "text/x-python",
   "name": "python",
   "nbconvert_exporter": "python",
   "pygments_lexer": "ipython3",
   "version": "3.10.6"
  },
  "orig_nbformat": 4,
  "vscode": {
   "interpreter": {
    "hash": "26de051ba29f2982a8de78e945f0abaf191376122a1563185a90213a26c5da77"
   }
  }
 },
 "nbformat": 4,
 "nbformat_minor": 2
}
