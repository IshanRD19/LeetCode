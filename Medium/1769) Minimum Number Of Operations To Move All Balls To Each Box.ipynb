{
 "cells": [
  {
   "cell_type": "markdown",
   "metadata": {},
   "source": [
    "# MINIMUM NUMBER OF OPERATIONS TO MOVE ALL BALLS TO EACH BOX\n",
    "\n",
    "You have n boxes. You are given a binary string boxes of length n, where boxes[i] is '0' if the ith box is empty, and '1' if it contains one ball.\n",
    "\n",
    "In one operation, you can move one ball from a box to an adjacent box. Box i is adjacent to box j if abs(i - j) == 1. Note that after doing so, there may be more than one ball in some boxes.\n",
    "\n",
    "Return an array answer of size n, where answer[i] is the minimum number of operations needed to move all the balls to the ith box.\n",
    "\n",
    "Each answer[i] is calculated considering the initial state of the boxes.\n",
    "\n",
    "### Example 1:\n",
    "\n",
    "#### Input:\n",
    "boxes = \"110\"\n",
    "#### Output:\n",
    "[1,1,3]\n",
    "#### Explanation:\n",
    "The answer for each box is as follows:\n",
    "\n",
    "1) First box: you will have to move one ball from the second box to the first box in one operation.\n",
    "\n",
    "2) Second box: you will have to move one ball from the first box to the second box in one operation.\n",
    "\n",
    "3) Third box: you will have to move one ball from the first box to the third box in two operations, and move one ball from the second box to the third box in one operation.\n",
    "### Example 2:\n",
    "\n",
    "#### Input:\n",
    "boxes = \"001011\"\n",
    "#### Output:\n",
    "[11,8,5,4,3,4]\n",
    " \n",
    "### Constraints:\n",
    "n == boxes.length\n",
    "\n",
    "1 <= n <= 2000\n",
    "\n",
    "boxes[i] is either '0' or '1'."
   ]
  },
  {
   "cell_type": "code",
   "execution_count": 3,
   "metadata": {},
   "outputs": [],
   "source": [
    "# boxes: str\n",
    "# return -> List[int]\n",
    "class Solution:\n",
    "    def minOperations(self, boxes):\n",
    "        result = []\n",
    "        box_list = [int(b) for b in boxes]\n",
    "\n",
    "        # Consider each box as target\n",
    "        for i in range(len(box_list)):\n",
    "            steps = 0\n",
    "            \n",
    "            # Count steps required for transferring from each box\n",
    "            for j in range(len(box_list)):\n",
    "                \n",
    "                # No step required if same box or \n",
    "                if not box_list[j] or i == j:\n",
    "                    continue\n",
    "                \n",
    "                # Count the number of steps required\n",
    "                steps += abs(i - j)\n",
    "            \n",
    "            # Update the number of steps required\n",
    "            result.append(steps)\n",
    "                \n",
    "        return result        "
   ]
  },
  {
   "cell_type": "code",
   "execution_count": 5,
   "metadata": {},
   "outputs": [
    {
     "data": {
      "text/plain": [
       "[11, 8, 5, 4, 3, 4]"
      ]
     },
     "execution_count": 5,
     "metadata": {},
     "output_type": "execute_result"
    }
   ],
   "source": [
    "Solution.minOperations(Solution.minOperations, '001011')"
   ]
  },
  {
   "cell_type": "markdown",
   "metadata": {},
   "source": [
    "## Complexity Analysis\n",
    "\n",
    "Time Complexity: O(|boxes|^2)\n",
    "\n",
    "Space Complexity: O(|boxes|)"
   ]
  }
 ],
 "metadata": {
  "kernelspec": {
   "display_name": "Python 3",
   "language": "python",
   "name": "python3"
  },
  "language_info": {
   "codemirror_mode": {
    "name": "ipython",
    "version": 3
   },
   "file_extension": ".py",
   "mimetype": "text/x-python",
   "name": "python",
   "nbconvert_exporter": "python",
   "pygments_lexer": "ipython3",
   "version": "3.8.3"
  }
 },
 "nbformat": 4,
 "nbformat_minor": 4
}
