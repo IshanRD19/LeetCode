{
 "cells": [
  {
   "cell_type": "markdown",
   "metadata": {},
   "source": [
    "# SEARCH IN ROTATED SORTED ARRAY\n",
    "\n",
    "There is an integer array nums sorted in ascending order (with distinct values).\n",
    "\n",
    "Prior to being passed to your function, nums is possibly rotated at an unknown pivot index k (1 <= k < nums.length) such that the resulting array is [nums[k], nums[k+1], ..., nums[n-1], nums[0], nums[1], ..., nums[k-1]] (0-indexed). For example, [0,1,2,4,5,6,7] might be rotated at pivot index 3 and become [4,5,6,7,0,1,2].\n",
    "\n",
    "Given the array nums after the possible rotation and an integer target, return the index of target if it is in nums, or -1 if it is not in nums.\n",
    "\n",
    "You must write an algorithm with O(log n) runtime complexity.\n",
    "\n",
    "### Example 1:\n",
    "\n",
    "#### Input:\n",
    "nums = [4,5,6,7,0,1,2], target = 0\n",
    "#### Output:\n",
    "4\n",
    "### Example 2:\n",
    "\n",
    "#### Input:\n",
    "nums = [4,5,6,7,0,1,2], target = 3\n",
    "#### Output:\n",
    "-1\n",
    "### Example 3:\n",
    "\n",
    "#### Input:\n",
    "nums = [1], target = 0\n",
    "#### Output:\n",
    "-1\n",
    " \n",
    "\n",
    "### Constraints:\n",
    "\n",
    "1 <= nums.length <= 5000\n",
    "\n",
    "-10^4 <= nums[i] <= 10^4\n",
    "\n",
    "All values of nums are unique.\n",
    "\n",
    "nums is an ascending array that is possibly rotated.\n",
    "\n",
    "-10^4 <= target <= 10^4"
   ]
  },
  {
   "cell_type": "code",
   "execution_count": 1,
   "metadata": {},
   "outputs": [],
   "source": [
    "# nums: List[int]\n",
    "# target: int\n",
    "# return -> int\n",
    "class Solution:\n",
    "    def search(self, nums, target):\n",
    "        is_found = False\n",
    "        left, right = 0, len(nums) - 1\n",
    "        \n",
    "        while left <= right:\n",
    "            middle = (left + right) // 2\n",
    "            \n",
    "            # Search for required element\n",
    "            if nums[middle] == target:\n",
    "                return middle\n",
    "            \n",
    "            # Check if left subarray is sorted\n",
    "            if nums[left] <= nums[middle]:\n",
    "                \n",
    "                # Check if target lies in the sorted left subarray\n",
    "                if nums[left] <= target <= nums[middle]:\n",
    "                    right = middle - 1\n",
    "                    \n",
    "                else:\n",
    "                    left = middle + 1\n",
    "                    \n",
    "            else:\n",
    "                # Check if target lies in the sorted right subarray\n",
    "                if nums[middle] <= target <= nums[right]:\n",
    "                    left = middle + 1\n",
    "                else:\n",
    "                    right = middle - 1\n",
    "\n",
    "        return -1"
   ]
  },
  {
   "cell_type": "code",
   "execution_count": 2,
   "metadata": {},
   "outputs": [
    {
     "data": {
      "text/plain": [
       "4"
      ]
     },
     "execution_count": 2,
     "metadata": {},
     "output_type": "execute_result"
    }
   ],
   "source": [
    "Solution.search(Solution.search, [4,5,6,7,0,1,2], 0)"
   ]
  }
 ],
 "metadata": {
  "kernelspec": {
   "display_name": "Python 3",
   "language": "python",
   "name": "python3"
  },
  "language_info": {
   "codemirror_mode": {
    "name": "ipython",
    "version": 3
   },
   "file_extension": ".py",
   "mimetype": "text/x-python",
   "name": "python",
   "nbconvert_exporter": "python",
   "pygments_lexer": "ipython3",
   "version": "3.8.3"
  }
 },
 "nbformat": 4,
 "nbformat_minor": 4
}
