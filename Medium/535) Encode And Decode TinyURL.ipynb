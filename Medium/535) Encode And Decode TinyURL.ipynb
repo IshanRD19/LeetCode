{
 "cells": [
  {
   "cell_type": "markdown",
   "metadata": {},
   "source": [
    "# ENCODE AND DECODE TINYURL\n",
    "\n",
    "**Note:** This is a companion problem to the System Design problem: Design TinyURL.\n",
    "\n",
    "TinyURL is a URL shortening service where you enter a URL such as https://leetcode.com/problems/design-tinyurl and it returns a short URL such as http://tinyurl.com/4e9iAk. Design a class to encode a URL and decode a tiny URL.\n",
    "\n",
    "There is no restriction on how your encode/decode algorithm should work. You just need to ensure that a URL can be encoded to a tiny URL and the tiny URL can be decoded to the original URL.\n",
    "\n",
    "Implement the Solution class:\n",
    "\n",
    "Solution() Initializes the object of the system.\n",
    "String encode(String longUrl) Returns a tiny URL for the given longUrl.\n",
    "String decode(String shortUrl) Returns the original long URL for the given shortUrl. It is guaranteed that the given shortUrl was encoded by the same object.\n",
    " \n",
    "\n",
    "### Example 1:\n",
    "\n",
    "#### Input:\n",
    "url = \"https://leetcode.com/problems/design-tinyurl\"\n",
    "#### Output:\n",
    "\"https://leetcode.com/problems/design-tinyurl\"\n",
    "\n",
    "#### Explanation:\n",
    "Solution obj = new Solution();\n",
    "\n",
    "string tiny = obj.encode(url); // returns the encoded tiny url.\n",
    "\n",
    "string ans = obj.decode(tiny); // returns the original url after deconding it.\n",
    "\n",
    "### Constraints:\n",
    "\n",
    "1 <= url.length <= 10^4\n",
    "\n",
    "url is guranteed to be a valid URL."
   ]
  },
  {
   "cell_type": "code",
   "execution_count": 1,
   "metadata": {},
   "outputs": [],
   "source": [
    "class Codec:\n",
    "    def encode(self, longUrl: str) -> str:\n",
    "        \"\"\"Encodes a URL to a shortened URL.\n",
    "        \"\"\"\n",
    "        return longUrl.encode()\n",
    "\n",
    "    def decode(self, shortUrl: str) -> str:\n",
    "        \"\"\"Decodes a shortened URL to its original URL.\n",
    "        \"\"\"\n",
    "        return shortUrl.decode()"
   ]
  },
  {
   "cell_type": "code",
   "execution_count": 2,
   "metadata": {},
   "outputs": [
    {
     "data": {
      "text/plain": [
       "'https://leetcode.com/problems/design-tinyurl'"
      ]
     },
     "execution_count": 2,
     "metadata": {},
     "output_type": "execute_result"
    }
   ],
   "source": [
    "# Your Codec object will be instantiated and called as such:\n",
    "codec = Codec()\n",
    "\n",
    "url = 'https://leetcode.com/problems/design-tinyurl'\n",
    "codec.decode(codec.encode(url))"
   ]
  }
 ],
 "metadata": {
  "kernelspec": {
   "display_name": "Python 3",
   "language": "python",
   "name": "python3"
  },
  "language_info": {
   "codemirror_mode": {
    "name": "ipython",
    "version": 3
   },
   "file_extension": ".py",
   "mimetype": "text/x-python",
   "name": "python",
   "nbconvert_exporter": "python",
   "pygments_lexer": "ipython3",
   "version": "3.8.3"
  }
 },
 "nbformat": 4,
 "nbformat_minor": 4
}
