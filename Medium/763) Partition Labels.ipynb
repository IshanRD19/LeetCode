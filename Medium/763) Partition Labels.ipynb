{
 "cells": [
  {
   "cell_type": "markdown",
   "metadata": {},
   "source": [
    "# PARTITION LABELS\n",
    "\n",
    "You are given a string s. We want to partition the string into as many parts as possible so that each letter appears in at most one part.\n",
    "\n",
    "Note that the partition is done so that after concatenating all the parts in order, the resultant string should be s.\n",
    "\n",
    "Return a list of integers representing the size of these parts.\n",
    "\n",
    "### Example 1:\n",
    "\n",
    "#### Input: \n",
    "s = \"ababcbacadefegdehijhklij\"\n",
    "#### Output: \n",
    "[9,7,8]\n",
    "#### Explanation:\n",
    "The partition is \"ababcbaca\", \"defegde\", \"hijhklij\".\n",
    "This is a partition so that each letter appears in at most one part.\n",
    "A partition like \"ababcbacadefegde\", \"hijhklij\" is incorrect, because it splits s into less parts.\n",
    "### Example 2:\n",
    "\n",
    "#### Input: \n",
    "s = \"eccbbbbdec\"\n",
    "#### Output: \n",
    "[10]\n",
    " \n",
    "### Constraints:\n",
    "1 <= s.length <= 500\n",
    "\n",
    "s consists of lowercase English letters."
   ]
  },
  {
   "cell_type": "code",
   "execution_count": 27,
   "metadata": {},
   "outputs": [],
   "source": [
    "# s: str\n",
    "# return -> List[int]\n",
    "class Solution:\n",
    "    def partitionLabels(self, s):\n",
    "        length = len(s)\n",
    "        occurrence = {}\n",
    "        result = []\n",
    "\n",
    "        # Store the last occurrence of each letter\n",
    "        for i in range(length):\n",
    "            occurrence[s[i]] = i\n",
    "        \n",
    "        # Define initial range\n",
    "        partition_start, partition_end = -1, -1\n",
    "\n",
    "        # For each letter\n",
    "        for i in range(length):\n",
    "\n",
    "            # Expand range if needed\n",
    "            partition_end = max(partition_end, occurrence[s[i]])\n",
    "\n",
    "            # Store partition length and prepare for next\n",
    "            if i == partition_end:\n",
    "                result.append(partition_end - partition_start)\n",
    "                partition_start = i\n",
    "                partition_end = 0\n",
    "\n",
    "        return result"
   ]
  },
  {
   "cell_type": "code",
   "execution_count": 28,
   "metadata": {},
   "outputs": [
    {
     "data": {
      "text/plain": [
       "[9, 7, 8]"
      ]
     },
     "execution_count": 28,
     "metadata": {},
     "output_type": "execute_result"
    }
   ],
   "source": [
    "Solution.partitionLabels(Solution.partitionLabels, 'ababcbacadefegdehijhklij')"
   ]
  }
 ],
 "metadata": {
  "kernelspec": {
   "display_name": "Python 3.10.6 64-bit",
   "language": "python",
   "name": "python3"
  },
  "language_info": {
   "codemirror_mode": {
    "name": "ipython",
    "version": 3
   },
   "file_extension": ".py",
   "mimetype": "text/x-python",
   "name": "python",
   "nbconvert_exporter": "python",
   "pygments_lexer": "ipython3",
   "version": "3.10.6"
  },
  "orig_nbformat": 4,
  "vscode": {
   "interpreter": {
    "hash": "26de051ba29f2982a8de78e945f0abaf191376122a1563185a90213a26c5da77"
   }
  }
 },
 "nbformat": 4,
 "nbformat_minor": 2
}
