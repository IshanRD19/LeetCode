{
 "cells": [
  {
   "cell_type": "markdown",
   "metadata": {},
   "source": [
    "# HOUSE ROBBER\n",
    "\n",
    "You are a professional robber planning to rob houses along a street. Each house has a certain amount of money stashed, the only constraint stopping you from robbing each of them is that adjacent houses have security systems connected and it will automatically contact the police if two adjacent houses were broken into on the same night.\n",
    "\n",
    "Given an integer array nums representing the amount of money of each house, return the maximum amount of money you can rob tonight without alerting the police.\n",
    "\n",
    "### Example 1:\n",
    "\n",
    "#### Input:\n",
    "nums = [1,2,3,1]\n",
    "#### Output:\n",
    "4\n",
    "#### Explanation:\n",
    "Rob house 1 (money = 1) and then rob house 3 (money = 3). Total amount you can rob = 1 + 3 = 4.\n",
    "### Example 2:\n",
    "\n",
    "#### Input:\n",
    "nums = [2,7,9,3,1]\n",
    "#### Output:\n",
    "12\n",
    "#### Explanation:\n",
    "Rob house 1 (money = 2), rob house 3 (money = 9) and rob house 5 (money = 1). Total amount you can rob = 2 + 9 + 1 = 12.\n",
    "\n",
    "### Constraints:\n",
    "1 <= nums.length <= 100\n",
    "\n",
    "0 <= nums[i] <= 400"
   ]
  },
  {
   "cell_type": "code",
   "execution_count": 1,
   "metadata": {},
   "outputs": [],
   "source": [
    "# nums: List[int]\n",
    "# return -> int\n",
    "class Solution:\n",
    "    def rob(self, nums):\n",
    "        max_value = 0\n",
    "        next_to_adjacent = adjacent = 0\n",
    "        \n",
    "        # Traverse through each house\n",
    "        for money in nums:\n",
    "\n",
    "            # Calculate the maximum possible money that can be robbed\n",
    "            max_value = max(money + next_to_adjacent, adjacent)\n",
    "\n",
    "            # Update the last and second last values\n",
    "            next_to_adjacent = adjacent\n",
    "            adjacent = max_value\n",
    "            \n",
    "        return max_value        "
   ]
  },
  {
   "cell_type": "code",
   "execution_count": 2,
   "metadata": {},
   "outputs": [
    {
     "data": {
      "text/plain": [
       "12"
      ]
     },
     "execution_count": 2,
     "metadata": {},
     "output_type": "execute_result"
    }
   ],
   "source": [
    "Solution.rob(Solution.rob, [2, 7, 9, 3, 1])"
   ]
  }
 ],
 "metadata": {
  "kernelspec": {
   "display_name": "Python 3",
   "language": "python",
   "name": "python3"
  },
  "language_info": {
   "codemirror_mode": {
    "name": "ipython",
    "version": 3
   },
   "file_extension": ".py",
   "mimetype": "text/x-python",
   "name": "python",
   "nbconvert_exporter": "python",
   "pygments_lexer": "ipython3",
   "version": "3.8.3"
  }
 },
 "nbformat": 4,
 "nbformat_minor": 4
}
