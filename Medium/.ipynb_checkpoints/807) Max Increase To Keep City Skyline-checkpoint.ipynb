{
 "cells": [
  {
   "cell_type": "markdown",
   "metadata": {},
   "source": [
    "# MAX INCREASE TO KEEP CITY SKYLINE\n",
    "\n",
    "There is a city composed of n x n blocks, where each block contains a single building shaped like a vertical square prism. You are given a 0-indexed n x n integer matrix grid where grid[r][c] represents the height of the building located in the block at row r and column c.\n",
    "\n",
    "A city's skyline is the the outer contour formed by all the building when viewing the side of the city from a distance. The skyline from each cardinal direction north, east, south, and west may be different.\n",
    "\n",
    "We are allowed to increase the height of any number of buildings by any amount (the amount can be different per building). The height of a 0-height building can also be increased. However, increasing the height of a building should not affect the city's skyline from any cardinal direction.\n",
    "\n",
    "Return the maximum total sum that the height of the buildings can be increased by without changing the city's skyline from any cardinal direction.\n",
    "\n",
    " \n",
    "### Example 1:\n",
    "\n",
    "#### Input:\n",
    "grid = [[3,0,8,4],[2,4,5,7],[9,2,6,3],[0,3,1,0]]\n",
    "#### Output:\n",
    "35\n",
    "#### Explanation:\n",
    "The building heights are shown in the center of the above image.\n",
    "\n",
    "The skylines when viewed from each cardinal direction are drawn in red.\n",
    "\n",
    "The grid after increasing the height of buildings without affecting skylines is:\n",
    "\n",
    "gridNew = \n",
    "[ [8, 4, 8, 7],\n",
    "\n",
    "[7, 4, 7, 7],\n",
    "\n",
    "[9, 4, 8, 7],\n",
    "\n",
    "[3, 3, 3, 3] ]\n",
    "### Example 2:\n",
    "\n",
    "#### Input:\n",
    "grid = [[0,0,0],[0,0,0],[0,0,0]]\n",
    "#### Output:\n",
    "0\n",
    "#### Explanation:\n",
    "Increasing the height of any building will result in the skyline changing.\n",
    "\n",
    "### Constraints:\n",
    "n == grid.length\n",
    "\n",
    "n == grid[r].length\n",
    "\n",
    "2 <= n <= 50\n",
    "\n",
    "0 <= grid[r][c] <= 100"
   ]
  },
  {
   "cell_type": "code",
   "execution_count": 1,
   "metadata": {},
   "outputs": [],
   "source": [
    "# grid: List[List[int]]\n",
    "# return -> int\n",
    "class Solution:\n",
    "    def maxIncreaseKeepingSkyline(self, grid):\n",
    "        result = 0\n",
    "        n = len(grid[0])\n",
    "        row_max, col_max = [], []\n",
    "        \n",
    "        # Store the max of each row and column\n",
    "        for row in grid:\n",
    "            row_max.append(max(row))\n",
    "        \n",
    "        # Store the max of each column\n",
    "        for col in zip(*grid):\n",
    "            col_max.append(max(col))\n",
    "\n",
    "        # Traverse through the city\n",
    "        for row in range(n):\n",
    "            for col in range(n):\n",
    "                result += min(row_max[row], col_max[col]) - grid[row][col]\n",
    "        \n",
    "        return result"
   ]
  },
  {
   "cell_type": "code",
   "execution_count": 2,
   "metadata": {},
   "outputs": [
    {
     "data": {
      "text/plain": [
       "35"
      ]
     },
     "execution_count": 2,
     "metadata": {},
     "output_type": "execute_result"
    }
   ],
   "source": [
    "Solution.maxIncreaseKeepingSkyline(Solution.maxIncreaseKeepingSkyline, [[3,0,8,4],[2,4,5,7],[9,2,6,3],[0,3,1,0]])"
   ]
  }
 ],
 "metadata": {
  "kernelspec": {
   "display_name": "Python 3",
   "language": "python",
   "name": "python3"
  },
  "language_info": {
   "codemirror_mode": {
    "name": "ipython",
    "version": 3
   },
   "file_extension": ".py",
   "mimetype": "text/x-python",
   "name": "python",
   "nbconvert_exporter": "python",
   "pygments_lexer": "ipython3",
   "version": "3.8.3"
  }
 },
 "nbformat": 4,
 "nbformat_minor": 4
}
