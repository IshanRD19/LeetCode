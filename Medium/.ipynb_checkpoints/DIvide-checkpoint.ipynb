{
 "cells": [
  {
   "cell_type": "code",
   "execution_count": 5,
   "metadata": {},
   "outputs": [],
   "source": [
    "class Solution:\n",
    "    def divide(self, dividend: int, divisor: int) -> int:\n",
    "        count = 0\n",
    "        is_negative = True if divisor < 0 or dividend < 0 else False\n",
    "        \n",
    "        if is_negative:\n",
    "            is_negative = False if divisor < 0 and dividend < 0 else True\n",
    "            \n",
    "            if divisor < 0:\n",
    "                divisor *= -1\n",
    "            if dividend < 0:\n",
    "                dividend *= -1\n",
    "        \n",
    "        print(dividend)\n",
    "        print(divisor)\n",
    "        print(is_negative)\n",
    "        \n",
    "        while dividend >= divisor:\n",
    "            count += 1\n",
    "            dividend -= divisor\n",
    "            \n",
    "        return -count if is_negative else count"
   ]
  },
  {
   "cell_type": "code",
   "execution_count": 6,
   "metadata": {},
   "outputs": [
    {
     "name": "stdout",
     "output_type": "stream",
     "text": [
      "1\n",
      "1\n",
      "False\n"
     ]
    },
    {
     "data": {
      "text/plain": [
       "1"
      ]
     },
     "execution_count": 6,
     "metadata": {},
     "output_type": "execute_result"
    }
   ],
   "source": [
    "Solution.divide(Solution.divide, -1, -1)"
   ]
  },
  {
   "cell_type": "code",
   "execution_count": 17,
   "metadata": {},
   "outputs": [
    {
     "data": {
      "text/plain": [
       "(20, 1)"
      ]
     },
     "execution_count": 17,
     "metadata": {},
     "output_type": "execute_result"
    }
   ],
   "source": [
    "a = 5\n",
    "b = a << 2\n",
    "c = a >> 2\n",
    "b, c"
   ]
  }
 ],
 "metadata": {
  "kernelspec": {
   "display_name": "Python 3",
   "language": "python",
   "name": "python3"
  },
  "language_info": {
   "codemirror_mode": {
    "name": "ipython",
    "version": 3
   },
   "file_extension": ".py",
   "mimetype": "text/x-python",
   "name": "python",
   "nbconvert_exporter": "python",
   "pygments_lexer": "ipython3",
   "version": "3.8.3"
  }
 },
 "nbformat": 4,
 "nbformat_minor": 4
}
