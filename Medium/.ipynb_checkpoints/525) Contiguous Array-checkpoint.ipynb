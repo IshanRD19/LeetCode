{
 "cells": [
  {
   "cell_type": "markdown",
   "metadata": {},
   "source": [
    "# CONTIGUOUS ARRAY\n",
    "\n",
    "Given a binary array nums, return the maximum length of a contiguous subarray with an equal number of 0 and 1.\n",
    "\n",
    "### Example 1:\n",
    "\n",
    "#### Input:\n",
    "nums = [0,1]\n",
    "#### Output:\n",
    "2\n",
    "#### Explanation:\n",
    "[0, 1] is the longest contiguous subarray with an equal number of 0 and 1.\n",
    "### Example 2:\n",
    "\n",
    "#### Input:\n",
    "nums = [0,1,0]\n",
    "#### Output:\n",
    "2\n",
    "#### Explanation:\n",
    "[0, 1] (or [1, 0]) is a longest contiguous subarray with equal number of 0 and 1.\n",
    "\n",
    "### Constraints:\n",
    "\n",
    "1 <= nums.length <= 10^5\n",
    "\n",
    "nums[i] is either 0 or 1."
   ]
  },
  {
   "cell_type": "code",
   "execution_count": 1,
   "metadata": {},
   "outputs": [],
   "source": [
    "# nums: List[int]\n",
    "# return -> int\n",
    "class Solution:\n",
    "    def findMaxLength(self, nums):\n",
    "        result = 0\n",
    "\n",
    "        for i in range(len(nums)):\n",
    "            if not nums[i]:\n",
    "                nums[i] = -1\n",
    "        \n",
    "        ''' \n",
    "        Insert 0 and nums[0] in hashmap.\n",
    "        The value of each key represents a pair of starting and ending index of that value.\n",
    "        0:[-1,-1] means that 0 occurs on -1 position and ends at -1 position.\n",
    "        '''\n",
    "        \n",
    "        index_map = {0: [-1,-1],\n",
    "                     nums[0]: [0,0]}\n",
    "        \n",
    "        # For each element\n",
    "        for i in range(1, len(nums)):\n",
    "            \n",
    "            if nums[i]:\n",
    "                nums[i] += nums[i-1]\n",
    "            else:\n",
    "                # Use 0s to -1 for convenience\n",
    "                nums[i] -= nums[i-1]\n",
    "            \n",
    "            # If the value is present in hashmap we update the ending position only.\n",
    "            if nums[i] in index_map:\n",
    "                index_map[nums[i]][1] = i\n",
    "            \n",
    "            # If the value is not already present in hashmap make start and end position as [i,i]\n",
    "            else:\n",
    "                index_map[nums[i]] = [i,i]\n",
    "                \n",
    "            if index_map[nums[i]][1] - index_map[nums[i]][0] > result:\n",
    "                result = index_map[nums[i]][1] - index_map[nums[i]][0]\n",
    "                \n",
    "        return result"
   ]
  },
  {
   "cell_type": "code",
   "execution_count": 2,
   "metadata": {},
   "outputs": [
    {
     "data": {
      "text/plain": [
       "8"
      ]
     },
     "execution_count": 2,
     "metadata": {},
     "output_type": "execute_result"
    }
   ],
   "source": [
    "# Solution.findMaxLength(Solution.findMaxLength, [0,1])\n",
    "# Solution.findMaxLength(Solution.findMaxLength, [0,1,0])\n",
    "Solution.findMaxLength(Solution.findMaxLength, [0,0,0,1,0,0,0,1,1,1])\n",
    "# Solution.findMaxLength(Solution.findMaxLength, [1,0,1,0,1,1,0,0,1,0,0,0,1,0,0,0,1,1,0,1,1,0,1,0,0,1,0,0,1,1,0,0,1,1,1,0,0,1,1,0,0,0,1,1,0,1,1,0,1,1,1,0,1,1,1,0,1,0,1,1,0,0,0,1,0,1,1,0,0,1,1,1,0,0,0,0,0,0,1,1,1,0,0,0,1,1,0,0,1,0,0,0,0,1,0,1,0,0,0,0])"
   ]
  }
 ],
 "metadata": {
  "kernelspec": {
   "display_name": "Python 3",
   "language": "python",
   "name": "python3"
  },
  "language_info": {
   "codemirror_mode": {
    "name": "ipython",
    "version": 3
   },
   "file_extension": ".py",
   "mimetype": "text/x-python",
   "name": "python",
   "nbconvert_exporter": "python",
   "pygments_lexer": "ipython3",
   "version": "3.8.3"
  }
 },
 "nbformat": 4,
 "nbformat_minor": 4
}
