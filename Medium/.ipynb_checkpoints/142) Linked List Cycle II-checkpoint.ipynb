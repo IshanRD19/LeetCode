{
 "cells": [
  {
   "cell_type": "markdown",
   "metadata": {},
   "source": [
    "# LINKED LIST CYCLE II\n",
    "\n",
    "Given the head of a linked list, return the node where the cycle begins. If there is no cycle, return null.\n",
    "\n",
    "There is a cycle in a linked list if there is some node in the list that can be reached again by continuously following the next pointer. Internally, pos is used to denote the index of the node that tail's next pointer is connected to (0-indexed). It is -1 if there is no cycle. Note that pos is not passed as a parameter.\n",
    "\n",
    "Do not modify the linked list.\n",
    "\n",
    "### Example 1:\n",
    "#### Input:\n",
    "head = [3,2,0,-4], pos = 1\n",
    "#### Output:\n",
    "tail connects to node index 1\n",
    "#### Explanation:\n",
    "There is a cycle in the linked list, where tail connects to the second node.\n",
    "### Example 2:\n",
    "#### Input:\n",
    "head = [1,2], pos = 0\n",
    "#### Output:\n",
    "tail connects to node index 0\n",
    "#### Explanation:\n",
    "There is a cycle in the linked list, where tail connects to the first node.\n",
    "### Example 3:\n",
    "#### Input:\n",
    "head = [1], pos = -1\n",
    "#### Output:\n",
    "no cycle\n",
    "#### Explanation:\n",
    "There is no cycle in the linked list.\n",
    "### Constraints:\n",
    "The number of the nodes in the list is in the range [0, 104].\n",
    "\n",
    "-10^5 <= Node.val <= 10^5\n",
    "\n",
    "pos is -1 or a valid index in the linked-list."
   ]
  },
  {
   "cell_type": "code",
   "execution_count": 1,
   "metadata": {},
   "outputs": [],
   "source": [
    "class Solution:\n",
    "    def detectCycle(self, head):\n",
    "        seen = set()\n",
    "        \n",
    "        while head:\n",
    "            \n",
    "            if head in seen:\n",
    "                return head\n",
    "            \n",
    "            seen.add(head)\n",
    "            head=head.next\n",
    "        \n",
    "        return"
   ]
  },
  {
   "cell_type": "markdown",
   "metadata": {},
   "source": [
    "**Follow up:** Can you solve it using O(1) (i.e. constant) memory?"
   ]
  },
  {
   "cell_type": "code",
   "execution_count": 2,
   "metadata": {},
   "outputs": [],
   "source": [
    "# Definition for singly-linked list.\n",
    "# class ListNode:\n",
    "#     def __init__(self, x):\n",
    "#         self.val = x\n",
    "#         self.next = None\n",
    "\n",
    "# head: Optional[ListNode]\n",
    "# return -> Optional[ListNode]\n",
    "class Solution:\n",
    "    def detectCycle(self, head):\n",
    "        fast, slow = head, head\n",
    "        \n",
    "        while(fast and fast.next):\n",
    "            fast = fast.next.next\n",
    "            slow = slow.next\n",
    "            \n",
    "            # Once the meeting point of fast and slow is found,\n",
    "            # if we reset any one pointer to head and let it move as much distance\n",
    "            # as the other would move from the meeting point, both pointers will meet at the start of the loop.\n",
    "            \n",
    "            if(fast == slow):\n",
    "                slow = head\n",
    "        \n",
    "                while(slow is not fast):\n",
    "                    fast = fast.next\n",
    "                    slow = slow.next\n",
    "              \n",
    "                return slow\n",
    "        \n",
    "        return"
   ]
  }
 ],
 "metadata": {
  "kernelspec": {
   "display_name": "Python 3",
   "language": "python",
   "name": "python3"
  },
  "language_info": {
   "codemirror_mode": {
    "name": "ipython",
    "version": 3
   },
   "file_extension": ".py",
   "mimetype": "text/x-python",
   "name": "python",
   "nbconvert_exporter": "python",
   "pygments_lexer": "ipython3",
   "version": "3.8.3"
  }
 },
 "nbformat": 4,
 "nbformat_minor": 4
}
