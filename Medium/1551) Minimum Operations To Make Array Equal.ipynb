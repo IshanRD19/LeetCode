{
 "cells": [
  {
   "cell_type": "markdown",
   "metadata": {},
   "source": [
    "# MINIMUM OPERATIONS TO MAKE ARRAY EQUAL\n",
    "\n",
    "You have an array arr of length n where arr[i] = (2 * i) + 1 for all valid values of i (i.e., 0 <= i < n).\n",
    "\n",
    "In one operation, you can select two indices x and y where 0 <= x, y < n and subtract 1 from arr[x] and add 1 to arr[y] (i.e., perform arr[x] -=1 and arr[y] += 1). The goal is to make all the elements of the array equal. It is guaranteed that all the elements of the array can be made equal using some operations.\n",
    "\n",
    "Given an integer n, the length of the array, return the minimum number of operations needed to make all the elements of arr equal.\n",
    "\n",
    "### Example 1:\n",
    "\n",
    "#### Input: \n",
    "n = 3\n",
    "#### Output: \n",
    "2\n",
    "#### Explanation: \n",
    "arr = [1, 3, 5]\n",
    "First operation choose x = 2 and y = 0, this leads arr to be [2, 3, 4]\n",
    "In the second operation choose x = 2 and y = 0 again, thus arr = [3, 3, 3].\n",
    "### Example 2:\n",
    "\n",
    "#### Input: \n",
    "n = 6\n",
    "#### Output: \n",
    "9\n",
    "\n",
    "### Constraints:\n",
    "1 <= n <= 10^4"
   ]
  },
  {
   "cell_type": "code",
   "execution_count": 1,
   "metadata": {},
   "outputs": [],
   "source": [
    "# n: int\n",
    "# return -> int\n",
    "class Solution:\n",
    "    def minOperations(self, n):\n",
    "        return (n * n - 1) // 4 if n % 2 else n * n // 4"
   ]
  },
  {
   "cell_type": "code",
   "execution_count": 2,
   "metadata": {},
   "outputs": [
    {
     "data": {
      "text/plain": [
       "9"
      ]
     },
     "execution_count": 2,
     "metadata": {},
     "output_type": "execute_result"
    }
   ],
   "source": [
    "Solution.minOperations(Solution.minOperations, 6)"
   ]
  }
 ],
 "metadata": {
  "kernelspec": {
   "display_name": "Python 3.10.6 64-bit",
   "language": "python",
   "name": "python3"
  },
  "language_info": {
   "codemirror_mode": {
    "name": "ipython",
    "version": 3
   },
   "file_extension": ".py",
   "mimetype": "text/x-python",
   "name": "python",
   "nbconvert_exporter": "python",
   "pygments_lexer": "ipython3",
   "version": "3.10.6"
  },
  "orig_nbformat": 4,
  "vscode": {
   "interpreter": {
    "hash": "26de051ba29f2982a8de78e945f0abaf191376122a1563185a90213a26c5da77"
   }
  }
 },
 "nbformat": 4,
 "nbformat_minor": 2
}
