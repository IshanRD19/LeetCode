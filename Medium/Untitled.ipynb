{
 "cells": [
  {
   "cell_type": "markdown",
   "metadata": {},
   "source": [
    "# MERGE NODES IN BETWEEN ZEROS\n",
    "\n",
    "You are given the head of a linked list, which contains a series of integers separated by 0's. The beginning and end of the linked list will have Node.val == 0.\n",
    "\n",
    "For every two consecutive 0's, merge all the nodes lying in between them into a single node whose value is the sum of all the merged nodes. The modified list should not contain any 0's.\n",
    "\n",
    "Return the head of the modified linked list.\n",
    "\n",
    "### Example 1:\n",
    "\n",
    "#### Input:\n",
    "head = [0,3,1,0,4,5,2,0]\n",
    "#### Output:\n",
    "[4,11]\n",
    "#### Explanation: \n",
    "The above figure represents the given linked list. The modified list contains\n",
    "\n",
    "- The sum of the nodes marked in green: 3 + 1 = 4.\n",
    "\n",
    "- The sum of the nodes marked in red: 4 + 5 + 2 = 11.\n",
    "### Example 2:\n",
    "\n",
    "\n",
    "#### Input:\n",
    "head = [0,1,0,3,0,2,2,0]\n",
    "#### Output:\n",
    "[1,3,4]\n",
    "#### Explanation: \n",
    "The above figure represents the given linked list. The modified list contains\n",
    "\n",
    "- The sum of the nodes marked in green: 1 = 1.\n",
    "\n",
    "- The sum of the nodes marked in red: 3 = 3.\n",
    "\n",
    "- The sum of the nodes marked in yellow: 2 + 2 = 4.\n",
    " \n",
    "\n",
    "### Constraints:\n",
    "\n",
    "The number of nodes in the list is in the range [3, 2 * 105].\n",
    "\n",
    "0 <= Node.val <= 1000\n",
    "\n",
    "There are no two consecutive nodes with Node.val == 0.\n",
    "\n",
    "The beginning and end of the linked list have Node.val == 0."
   ]
  },
  {
   "cell_type": "code",
   "execution_count": null,
   "metadata": {},
   "outputs": [],
   "source": []
  }
 ],
 "metadata": {
  "kernelspec": {
   "display_name": "Python 3",
   "language": "python",
   "name": "python3"
  },
  "language_info": {
   "codemirror_mode": {
    "name": "ipython",
    "version": 3
   },
   "file_extension": ".py",
   "mimetype": "text/x-python",
   "name": "python",
   "nbconvert_exporter": "python",
   "pygments_lexer": "ipython3",
   "version": "3.8.3"
  }
 },
 "nbformat": 4,
 "nbformat_minor": 4
}
