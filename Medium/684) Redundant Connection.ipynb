{
 "cells": [
  {
   "cell_type": "markdown",
   "metadata": {},
   "source": [
    "# REDUNDANT CONNECTION\n",
    "\n",
    "In this problem, a tree is an undirected graph that is connected and has no cycles.\n",
    "\n",
    "You are given a graph that started as a tree with n nodes labeled from 1 to n, with one additional edge added. The added edge has two different vertices chosen from 1 to n, and was not an edge that already existed. The graph is represented as an array edges of length n where edges[i] = [ai, bi] indicates that there is an edge between nodes ai and bi in the graph.\n",
    "\n",
    "Return an edge that can be removed so that the resulting graph is a tree of n nodes. If there are multiple answers, return the answer that occurs last in the input.\n",
    "\n",
    "### Example 1:\n",
    "#### Input: \n",
    "edges = [[1,2],[1,3],[2,3]]\n",
    "#### Output: \n",
    "[2,3]\n",
    "### Example 2:\n",
    "\n",
    "\n",
    "#### Input: \n",
    "edges = [[1,2],[2,3],[3,4],[1,4],[1,5]]\n",
    "#### Output: \n",
    "[1,4]\n",
    " \n",
    "\n",
    "### Constraints:\n",
    "\n",
    "n == edges.length\n",
    "\n",
    "3 <= n <= 1000\n",
    "\n",
    "edges[i].length == 2\n",
    "\n",
    "1 <= ai < bi <= edges.length\n",
    "\n",
    "ai != bi\n",
    "\n",
    "There are no repeated edges.\n",
    "\n",
    "The given graph is connected.\n",
    "\n",
    "## Approach 1: Trivial Method"
   ]
  },
  {
   "cell_type": "code",
   "execution_count": 1,
   "metadata": {},
   "outputs": [],
   "source": [
    "# edges: List[List[int]]\n",
    "# return -> List[int]\n",
    "class Solution:\n",
    "    def findRedundantConnection(self, edges):\n",
    "        components = [{i} for i in range(1, len(edges) + 1)]\n",
    "        \n",
    "        for edge in edges:\n",
    "            \n",
    "            # Find vertex from\n",
    "            for component in components:\n",
    "                \n",
    "                if edge[0] in component:\n",
    "                    from_component = component\n",
    "                    break\n",
    "        \n",
    "        \n",
    "            # Find vertex to\n",
    "            for component in components:\n",
    "                \n",
    "                if edge[1] in component:\n",
    "                    to_component = component\n",
    "                    \n",
    "                    # Check for a cycle\n",
    "                    if from_component == to_component:\n",
    "                        return edge\n",
    "\n",
    "                    else:\n",
    "                        components.remove(from_component)\n",
    "                        components.remove(to_component)\n",
    "                        components.append(from_component.union(to_component))\n",
    "                    \n",
    "                    break\n",
    "            \n",
    "        return\n",
    "        "
   ]
  },
  {
   "cell_type": "code",
   "execution_count": 2,
   "metadata": {},
   "outputs": [
    {
     "data": {
      "text/plain": [
       "[1, 4]"
      ]
     },
     "execution_count": 2,
     "metadata": {},
     "output_type": "execute_result"
    }
   ],
   "source": [
    "Solution.findRedundantConnection(Solution.findRedundantConnection, [[1,2],[2,3],[3,4],[1,4],[1,5]])"
   ]
  },
  {
   "cell_type": "markdown",
   "metadata": {},
   "source": [
    "## Approach 2: Time Efficient Method"
   ]
  },
  {
   "cell_type": "code",
   "execution_count": 11,
   "metadata": {},
   "outputs": [],
   "source": [
    "class Solution2:\n",
    "    def __init__(self):\n",
    "        self.parents = []\n",
    "\n",
    "    # edges: List[List[int]]\n",
    "    # return -> List[int]\n",
    "    def findRedundantConnection(self, edges):\n",
    "        self.parents = [-1 for i in range(1, len(edges) + 1)]\n",
    "        \n",
    "        def find_parent(node):\n",
    "            # Check if node has no parent\n",
    "            if self.parents[node] == -1:\n",
    "                return node\n",
    "            \n",
    "            # Else return parent of node\n",
    "            return find_parent(self.parents[node])\n",
    "        \n",
    "        \n",
    "        def update_parent(from_node, to_node):\n",
    "            self.parents[to_node] = from_node\n",
    "            return\n",
    "\n",
    "\n",
    "        for edge in edges:\n",
    "            parent_from, parent_to = find_parent(edge[0]-1), find_parent(edge[1]-1)\n",
    "\n",
    "            if parent_from != parent_to:\n",
    "                update_parent(parent_from, parent_to)\n",
    "            else:\n",
    "                return edge\n",
    "            \n",
    "        return "
   ]
  },
  {
   "cell_type": "code",
   "execution_count": 12,
   "metadata": {},
   "outputs": [
    {
     "data": {
      "text/plain": [
       "[1, 4]"
      ]
     },
     "execution_count": 12,
     "metadata": {},
     "output_type": "execute_result"
    }
   ],
   "source": [
    "Solution2.findRedundantConnection(Solution2.findRedundantConnection, [[1,2],[2,3],[3,4],[1,4],[1,5]])"
   ]
  }
 ],
 "metadata": {
  "kernelspec": {
   "display_name": "Python 3.10.6 64-bit",
   "language": "python",
   "name": "python3"
  },
  "language_info": {
   "codemirror_mode": {
    "name": "ipython",
    "version": 3
   },
   "file_extension": ".py",
   "mimetype": "text/x-python",
   "name": "python",
   "nbconvert_exporter": "python",
   "pygments_lexer": "ipython3",
   "version": "3.10.6"
  },
  "orig_nbformat": 4,
  "vscode": {
   "interpreter": {
    "hash": "26de051ba29f2982a8de78e945f0abaf191376122a1563185a90213a26c5da77"
   }
  }
 },
 "nbformat": 4,
 "nbformat_minor": 2
}
