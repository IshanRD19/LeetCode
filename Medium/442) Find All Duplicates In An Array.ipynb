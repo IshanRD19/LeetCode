{
 "cells": [
  {
   "cell_type": "markdown",
   "metadata": {},
   "source": [
    "# FIND ALL DUPLICATES IN AN ARRAY\n",
    "\n",
    "Given an integer array nums of length n where all the integers of nums are in the range [1, n] and each integer appears once or twice, return an array of all the integers that appears twice.\n",
    "\n",
    "You must write an algorithm that runs in O(n) time and uses only constant extra space.\n",
    "\n",
    "### Example 1:\n",
    "\n",
    "#### Input: \n",
    "nums = [4,3,2,7,8,2,3,1]\n",
    "#### Output: \n",
    "[2,3]\n",
    "### Example 2:\n",
    "\n",
    "#### Input: n\n",
    "ums = [1,1,2]\n",
    "#### Output: \n",
    "[1]\n",
    "### Example 3:\n",
    "\n",
    "#### Input: \n",
    "nums = [1]\n",
    "#### Output: \n",
    "[]\n",
    " \n",
    "\n",
    "### Constraints:\n",
    "n == nums.length\n",
    "\n",
    "1 <= n <= 10^5\n",
    "\n",
    "1 <= nums[i] <= n\n",
    "\n",
    "Each element in nums appears once or twice."
   ]
  },
  {
   "cell_type": "code",
   "execution_count": 3,
   "metadata": {},
   "outputs": [],
   "source": [
    "# nums: List[int]\n",
    "# return -> List[int]\n",
    "class Solution:\n",
    "    def findDuplicates(self, nums):\n",
    "        result = []\n",
    "        \n",
    "        # Traverse the list\n",
    "        for i in range(len(nums)):\n",
    "            \n",
    "            # Check if value is negative, i.e. duplicate\n",
    "            if nums[abs(nums[i])-1] < 0:\n",
    "                result.append(abs(nums[i]))\n",
    "\n",
    "            # Negate the value to mark visited\n",
    "            else:\n",
    "                nums[abs(nums[i])-1] *= -1\n",
    "                \n",
    "        return result"
   ]
  },
  {
   "cell_type": "code",
   "execution_count": 4,
   "metadata": {},
   "outputs": [
    {
     "data": {
      "text/plain": [
       "[2, 3]"
      ]
     },
     "execution_count": 4,
     "metadata": {},
     "output_type": "execute_result"
    }
   ],
   "source": [
    "Solution.findDuplicates(Solution.findDuplicates, [4,3,2,7,8,2,3,1])"
   ]
  }
 ],
 "metadata": {
  "kernelspec": {
   "display_name": "Python 3.10.6 64-bit",
   "language": "python",
   "name": "python3"
  },
  "language_info": {
   "codemirror_mode": {
    "name": "ipython",
    "version": 3
   },
   "file_extension": ".py",
   "mimetype": "text/x-python",
   "name": "python",
   "nbconvert_exporter": "python",
   "pygments_lexer": "ipython3",
   "version": "3.10.6"
  },
  "orig_nbformat": 4,
  "vscode": {
   "interpreter": {
    "hash": "26de051ba29f2982a8de78e945f0abaf191376122a1563185a90213a26c5da77"
   }
  }
 },
 "nbformat": 4,
 "nbformat_minor": 2
}
