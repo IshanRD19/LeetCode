{
 "cells": [
  {
   "cell_type": "markdown",
   "metadata": {},
   "source": [
    "# GROUP THE PEOPLE GIVEN THE GROUP SIZE THEY BELONG TO\n",
    "\n",
    "There are n people that are split into some unknown number of groups. Each person is labeled with a unique ID from 0 to n - 1.\n",
    "\n",
    "You are given an integer array groupSizes, where groupSizes[i] is the size of the group that person i is in. For example, if groupSizes[1] = 3, then person 1 must be in a group of size 3.\n",
    "\n",
    "Return a list of groups such that each person i is in a group of size groupSizes[i].\n",
    "\n",
    "Each person should appear in exactly one group, and every person must be in a group. If there are multiple answers, return any of them. It is guaranteed that there will be at least one valid solution for the given input.\n",
    "\n",
    "### Example 1:\n",
    "\n",
    "#### Input:\n",
    "groupSizes = [3,3,3,3,3,1,3]\n",
    "#### Output:\n",
    "[[5],[0,1,2],[3,4,6]]\n",
    "#### Explanation: \n",
    "The first group is [5]. The size is 1, and groupSizes[5] = 1.\n",
    "\n",
    "The second group is [0,1,2]. The size is 3, and groupSizes[0] = groupSizes[1] = groupSizes[2] = 3.\n",
    "\n",
    "The third group is [3,4,6]. The size is 3, and groupSizes[3] = groupSizes[4] = groupSizes[6] = 3.\n",
    "\n",
    "Other possible solutions are [[2,1,6],[5],[0,4,3]] and [[5],[0,6,2],[4,3,1]].\n",
    "### Example 2:\n",
    "\n",
    "#### Input:\n",
    "groupSizes = [2,1,3,3,3,2]\n",
    "#### Output:\n",
    "[[1],[0,5],[2,3,4]]\n",
    " \n",
    "### Constraints:\n",
    "\n",
    "groupSizes.length == n\n",
    "\n",
    "1 <= n <= 500\n",
    "\n",
    "1 <= groupSizes[i] <= n\n",
    "\n",
    "## Approach 1: Direct Method"
   ]
  },
  {
   "cell_type": "code",
   "execution_count": 1,
   "metadata": {},
   "outputs": [],
   "source": [
    "# groupSizes: List[int]\n",
    "# return -> List[List[int]]\n",
    "class Solution:\n",
    "    def groupThePeople(self, groupSizes):\n",
    "        result = []\n",
    "        group_map = {}\n",
    "        \n",
    "        # For all people\n",
    "        for i in range(len(groupSizes)):\n",
    "            \n",
    "            # Check if the group is present or not\n",
    "            if groupSizes[i] in group_map:\n",
    "                \n",
    "                # Add the people in the respective group\n",
    "                group_map[groupSizes[i]].append(i)\n",
    "\n",
    "            # Create the respective group\n",
    "            else:\n",
    "                group_map[groupSizes[i]] = [i]\n",
    "        \n",
    "            # Check if the group is full\n",
    "            if len(group_map[groupSizes[i]]) == groupSizes[i]:\n",
    "                result.append(group_map[groupSizes[i]])\n",
    "                del group_map[groupSizes[i]]\n",
    "\n",
    "        result.extend(group_map.values())\n",
    "        \n",
    "        return result"
   ]
  },
  {
   "cell_type": "code",
   "execution_count": 2,
   "metadata": {},
   "outputs": [
    {
     "data": {
      "text/plain": [
       "[[0, 1, 2], [3, 4, 6], [5]]"
      ]
     },
     "execution_count": 2,
     "metadata": {},
     "output_type": "execute_result"
    }
   ],
   "source": [
    "Solution.groupThePeople(Solution.groupThePeople, [3,3,3,3,3,1,3])"
   ]
  },
  {
   "cell_type": "markdown",
   "metadata": {},
   "source": [
    "## Approach 2: Faster Method"
   ]
  },
  {
   "cell_type": "code",
   "execution_count": 3,
   "metadata": {},
   "outputs": [],
   "source": [
    "# groupSizes: List[int]\n",
    "# return -> List[List[int]]\n",
    "class Solution:\n",
    "    def groupThePeople2(self, groupSizes):\n",
    "        group_map = {}\n",
    "        result = []\n",
    "        \n",
    "        # Segregate people as per their groups\n",
    "        for i in range(len(groupSizes)):\n",
    "            if groupSizes[i] in group_map:\n",
    "                group_map[groupSizes[i]].append(i)\n",
    "            else:\n",
    "                group_map[groupSizes[i]] = [i]\n",
    "                \n",
    "        # Split the groups as per the group size\n",
    "        for k, v in group_map.items():\n",
    "            if len(v) <= k:\n",
    "                result.append(v)\n",
    "            else:\n",
    "                for i in range(0, len(v), k):\n",
    "                    result.append(v[i:i+k])\n",
    "        \n",
    "        return result"
   ]
  },
  {
   "cell_type": "code",
   "execution_count": 4,
   "metadata": {},
   "outputs": [
    {
     "data": {
      "text/plain": [
       "[[0, 1, 2], [3, 4, 6], [5]]"
      ]
     },
     "execution_count": 4,
     "metadata": {},
     "output_type": "execute_result"
    }
   ],
   "source": [
    "Solution.groupThePeople2(Solution.groupThePeople2, [3,3,3,3,3,1,3])"
   ]
  }
 ],
 "metadata": {
  "kernelspec": {
   "display_name": "Python 3",
   "language": "python",
   "name": "python3"
  },
  "language_info": {
   "codemirror_mode": {
    "name": "ipython",
    "version": 3
   },
   "file_extension": ".py",
   "mimetype": "text/x-python",
   "name": "python",
   "nbconvert_exporter": "python",
   "pygments_lexer": "ipython3",
   "version": "3.8.3"
  }
 },
 "nbformat": 4,
 "nbformat_minor": 4
}
