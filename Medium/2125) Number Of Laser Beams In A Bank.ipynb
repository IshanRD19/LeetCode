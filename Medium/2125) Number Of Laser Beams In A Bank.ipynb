{
 "cells": [
  {
   "cell_type": "markdown",
   "metadata": {},
   "source": [
    "# NUMBER OF LASER BEAMS IN A BANK\n",
    "\n",
    "Anti-theft security devices are activated inside a bank. You are given a 0-indexed binary string array bank representing the floor plan of the bank, which is an m x n 2D matrix. bank[i] represents the ith row, consisting of '0's and '1's. '0' means the cell is empty, while'1' means the cell has a security device.\n",
    "\n",
    "There is one laser beam between any two security devices if both conditions are met:\n",
    "\n",
    "The two devices are located on two different rows: r1 and r2, where r1 < r2.\n",
    "For each row i where r1 < i < r2, there are no security devices in the ith row.\n",
    "Laser beams are independent, i.e., one beam does not interfere nor join with another.\n",
    "\n",
    "Return the total number of laser beams in the bank.\n",
    "\n",
    "### Example 1:\n",
    "\n",
    "#### Input: \n",
    "bank = [\"011001\",\"000000\",\"010100\",\"001000\"]\n",
    "#### Output: \n",
    "8\n",
    "#### Explanation: \n",
    "Between each of the following device pairs, there is one beam. In total, there are 8 beams:\n",
    " * bank[0][1] -- bank[2][1]\n",
    " * bank[0][1] -- bank[2][3]\n",
    " * bank[0][2] -- bank[2][1]\n",
    " * bank[0][2] -- bank[2][3]\n",
    " * bank[0][5] -- bank[2][1]\n",
    " * bank[0][5] -- bank[2][3]\n",
    " * bank[2][1] -- bank[3][2]\n",
    " * bank[2][3] -- bank[3][2]\n",
    "Note that there is no beam between any device on the 0th row with any on the 3rd row.\n",
    "This is because the 2nd row contains security devices, which breaks the second condition.\n",
    "### Example 2:\n",
    "\n",
    "\n",
    "#### Input: \n",
    "bank = [\"000\",\"111\",\"000\"]\n",
    "#### Output: \n",
    "0\n",
    "#### Explanation: \n",
    "There does not exist two devices located on two different rows.\n",
    " \n",
    "### Constraints:\n",
    "m == bank.length\n",
    "\n",
    "n == bank[i].length\n",
    "\n",
    "1 <= m, n <= 500\n",
    "\n",
    "bank[i][j] is either '0' or '1'."
   ]
  },
  {
   "cell_type": "code",
   "execution_count": 1,
   "metadata": {},
   "outputs": [],
   "source": [
    "# bank: List[str]\n",
    "# return -> int\n",
    "class Solution:\n",
    "    def numberOfBeams(self, bank):\n",
    "        sum_map = []\n",
    "        beams = 0\n",
    "\n",
    "        for row in range(len(bank)):\n",
    "            row_sum = bank[row].count('1')\n",
    "            \n",
    "            if row_sum:\n",
    "                sum_map.append(row_sum)\n",
    "        \n",
    "        for i in range(1, len(sum_map)):\n",
    "            beams += sum_map[i-1] * sum_map[i]\n",
    "            \n",
    "        return beams"
   ]
  },
  {
   "cell_type": "code",
   "execution_count": 2,
   "metadata": {},
   "outputs": [
    {
     "data": {
      "text/plain": [
       "8"
      ]
     },
     "execution_count": 2,
     "metadata": {},
     "output_type": "execute_result"
    }
   ],
   "source": [
    "Solution.numberOfBeams(Solution.numberOfBeams, [\"011001\",\"000000\",\"010100\",\"001000\"])"
   ]
  }
 ],
 "metadata": {
  "kernelspec": {
   "display_name": "Python 3.10.6 64-bit",
   "language": "python",
   "name": "python3"
  },
  "language_info": {
   "codemirror_mode": {
    "name": "ipython",
    "version": 3
   },
   "file_extension": ".py",
   "mimetype": "text/x-python",
   "name": "python",
   "nbconvert_exporter": "python",
   "pygments_lexer": "ipython3",
   "version": "3.10.6"
  },
  "orig_nbformat": 4,
  "vscode": {
   "interpreter": {
    "hash": "26de051ba29f2982a8de78e945f0abaf191376122a1563185a90213a26c5da77"
   }
  }
 },
 "nbformat": 4,
 "nbformat_minor": 2
}
