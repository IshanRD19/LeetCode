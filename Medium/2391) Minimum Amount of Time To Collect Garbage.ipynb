{
 "cells": [
  {
   "cell_type": "markdown",
   "metadata": {},
   "source": [
    "# MINIMUM AMOUNT OF TIME TO COLLECT GARBAGE\n",
    "\n",
    "You are given a 0-indexed array of strings garbage where garbage[i] represents the assortment of garbage at the ith house. garbage[i] consists only of the characters 'M', 'P' and 'G' representing one unit of metal, paper and glass garbage respectively. Picking up one unit of any type of garbage takes 1 minute.\n",
    "\n",
    "You are also given a 0-indexed integer array travel where travel[i] is the number of minutes needed to go from house i to house i + 1.\n",
    "\n",
    "There are three garbage trucks in the city, each responsible for picking up one type of garbage. Each garbage truck starts at house 0 and must visit each house in order; however, they do not need to visit every house.\n",
    "\n",
    "Only one garbage truck may be used at any given moment. While one truck is driving or picking up garbage, the other two trucks cannot do anything.\n",
    "\n",
    "Return the minimum number of minutes needed to pick up all the garbage.\n",
    "\n",
    "### Example 1:\n",
    "\n",
    "#### Input: \n",
    "garbage = [\"G\",\"P\",\"GP\",\"GG\"], travel = [2,4,3]\n",
    "#### Output: \n",
    "21\n",
    "#### Explanation:\n",
    "The paper garbage truck:\n",
    "1. Travels from house 0 to house 1\n",
    "2. Collects the paper garbage at house 1\n",
    "3. Travels from house 1 to house 2\n",
    "4. Collects the paper garbage at house 2\n",
    "Altogether, it takes 8 minutes to pick up all the paper garbage.\n",
    "The glass garbage truck:\n",
    "1. Collects the glass garbage at house 0\n",
    "2. Travels from house 0 to house 1\n",
    "3. Travels from house 1 to house 2\n",
    "4. Collects the glass garbage at house 2\n",
    "5. Travels from house 2 to house 3\n",
    "6. Collects the glass garbage at house 3\n",
    "Altogether, it takes 13 minutes to pick up all the glass garbage.\n",
    "Since there is no metal garbage, we do not need to consider the metal garbage truck.\n",
    "Therefore, it takes a total of 8 + 13 = 21 minutes to collect all the garbage.\n",
    "### Example 2:\n",
    "\n",
    "#### Input: \n",
    "garbage = [\"MMM\",\"PGM\",\"GP\"], travel = [3,10]\n",
    "#### Output: \n",
    "37\n",
    "#### Explanation:\n",
    "The metal garbage truck takes 7 minutes to pick up all the metal garbage.\n",
    "The paper garbage truck takes 15 minutes to pick up all the paper garbage.\n",
    "The glass garbage truck takes 15 minutes to pick up all the glass garbage.\n",
    "It takes a total of 7 + 15 + 15 = 37 minutes to collect all the garbage.\n",
    " \n",
    "### Constraints:\n",
    "2 <= garbage.length <= 10^5\n",
    "\n",
    "garbage[i] consists of only the letters 'M', 'P', and 'G'.\n",
    "\n",
    "1 <= garbage[i].length <= 10\n",
    "\n",
    "travel.length == garbage.length - 1\n",
    "\n",
    "1 <= travel[i] <= 100"
   ]
  },
  {
   "cell_type": "code",
   "execution_count": 5,
   "metadata": {},
   "outputs": [],
   "source": [
    "# garbage: List[str]\n",
    "# travel: List[int]\n",
    "# return -> int\n",
    "class Solution:\n",
    "    def garbageCollection(self, garbage, travel):\n",
    "        travel.insert(0, 0)\n",
    "        total_mins = 0\n",
    "        m_travel = p_travel = g_travel = 0\n",
    "\n",
    "        # For each house\n",
    "        for i in range(len(garbage)):\n",
    "            # Travel to next house\n",
    "            m_travel += travel[i]\n",
    "            p_travel += travel[i]\n",
    "            g_travel += travel[i]\n",
    "            \n",
    "            # Identify garbage type\n",
    "            m_count = p_count = g_count = 0\n",
    "            for j in range(len(garbage[i])):\n",
    "\n",
    "                if garbage[i][j] == 'M':\n",
    "                    m_count += 1\n",
    "                elif garbage[i][j] == 'P':\n",
    "                    p_count += 1\n",
    "                if garbage[i][j] == 'G':\n",
    "                    g_count += 1\n",
    "\n",
    "            if m_count:\n",
    "                total_mins += m_travel + m_count\n",
    "                m_travel = 0\n",
    "\n",
    "            if p_count:\n",
    "                total_mins += p_travel + p_count\n",
    "                p_travel = 0\n",
    "\n",
    "            if g_count:\n",
    "                total_mins += g_travel + g_count\n",
    "                g_travel = 0\n",
    "        \n",
    "        return total_mins\n",
    "        "
   ]
  },
  {
   "cell_type": "code",
   "execution_count": 6,
   "metadata": {},
   "outputs": [
    {
     "data": {
      "text/plain": [
       "37"
      ]
     },
     "execution_count": 6,
     "metadata": {},
     "output_type": "execute_result"
    }
   ],
   "source": [
    "Solution.garbageCollection(Solution.garbageCollection, [\"MMM\",\"PGM\",\"GP\"], [3,10])"
   ]
  }
 ],
 "metadata": {
  "kernelspec": {
   "display_name": "Python 3.10.6 64-bit",
   "language": "python",
   "name": "python3"
  },
  "language_info": {
   "codemirror_mode": {
    "name": "ipython",
    "version": 3
   },
   "file_extension": ".py",
   "mimetype": "text/x-python",
   "name": "python",
   "nbconvert_exporter": "python",
   "pygments_lexer": "ipython3",
   "version": "3.10.6"
  },
  "orig_nbformat": 4,
  "vscode": {
   "interpreter": {
    "hash": "26de051ba29f2982a8de78e945f0abaf191376122a1563185a90213a26c5da77"
   }
  }
 },
 "nbformat": 4,
 "nbformat_minor": 2
}
