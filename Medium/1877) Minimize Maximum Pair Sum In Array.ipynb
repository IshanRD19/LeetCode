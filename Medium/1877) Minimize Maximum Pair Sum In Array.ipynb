{
 "cells": [
  {
   "cell_type": "markdown",
   "metadata": {},
   "source": [
    "# MINIMIZE MAXIMUM PAIR SUM IN ARRAY\n",
    "\n",
    "The pair sum of a pair (a,b) is equal to a + b. The maximum pair sum is the largest pair sum in a list of pairs.\n",
    "\n",
    "For example, if we have pairs (1,5), (2,3), and (4,4), the maximum pair sum would be max(1+5, 2+3, 4+4) = max(6, 5, 8) = 8.\n",
    "Given an array nums of even length n, pair up the elements of nums into n / 2 pairs such that:\n",
    "\n",
    "Each element of nums is in exactly one pair, and\n",
    "The maximum pair sum is minimized.\n",
    "Return the minimized maximum pair sum after optimally pairing up the elements.\n",
    "\n",
    "### Example 1:\n",
    "\n",
    "#### Input: \n",
    "nums = [3,5,2,3]\n",
    "#### Output: \n",
    "7\n",
    "#### Explanation: \n",
    "The elements can be paired up into pairs (3,3) and (5,2).\n",
    "The maximum pair sum is max(3+3, 5+2) = max(6, 7) = 7.\n",
    "### Example 2:\n",
    "\n",
    "#### Input: \n",
    "nums = [3,5,4,2,4,6]\n",
    "#### Output: \n",
    "8\n",
    "#### Explanation: \n",
    "The elements can be paired up into pairs (3,5), (4,4), and (6,2).\n",
    "The maximum pair sum is max(3+5, 4+4, 6+2) = max(8, 8, 8) = 8.\n",
    "\n",
    "### Constraints:\n",
    "n == nums.length\n",
    "\n",
    "2 <= n <= 10^5\n",
    "\n",
    "n is even.\n",
    "\n",
    "1 <= nums[i] <= 10^5"
   ]
  },
  {
   "cell_type": "code",
   "execution_count": 2,
   "metadata": {},
   "outputs": [],
   "source": [
    "# nums: List[int]\n",
    "# return -> int\n",
    "class Solution:\n",
    "    def minPairSum(self, nums):\n",
    "        nums.sort()\n",
    "        result = -1\n",
    "        \n",
    "        for i in range(len(nums)//2):\n",
    "            if nums[i] + nums[-(i+1)] > result:\n",
    "                result = nums[i] + nums[-(i+1)]\n",
    "            \n",
    "        return result"
   ]
  },
  {
   "cell_type": "code",
   "execution_count": 3,
   "metadata": {},
   "outputs": [
    {
     "data": {
      "text/plain": [
       "8"
      ]
     },
     "execution_count": 3,
     "metadata": {},
     "output_type": "execute_result"
    }
   ],
   "source": [
    "Solution.minPairSum(Solution.minPairSum, nums = [3,5,4,2,4,6])"
   ]
  }
 ],
 "metadata": {
  "kernelspec": {
   "display_name": "Python 3.10.6 64-bit",
   "language": "python",
   "name": "python3"
  },
  "language_info": {
   "codemirror_mode": {
    "name": "ipython",
    "version": 3
   },
   "file_extension": ".py",
   "mimetype": "text/x-python",
   "name": "python",
   "nbconvert_exporter": "python",
   "pygments_lexer": "ipython3",
   "version": "3.10.6"
  },
  "orig_nbformat": 4,
  "vscode": {
   "interpreter": {
    "hash": "26de051ba29f2982a8de78e945f0abaf191376122a1563185a90213a26c5da77"
   }
  }
 },
 "nbformat": 4,
 "nbformat_minor": 2
}
