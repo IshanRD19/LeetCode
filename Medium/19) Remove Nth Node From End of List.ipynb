{
 "cells": [
  {
   "cell_type": "markdown",
   "metadata": {},
   "source": [
    "# REMOVE NTH NODE FROM END OF LIST\n",
    "\n",
    "Given the head of a linked list, remove the nth node from the end of the list and return its head.\n",
    "\n",
    "### Example 1:\n",
    "\n",
    "Input: head = [1,2,3,4,5], n = 2\n",
    "\n",
    "Output: [1,2,3,5]\n",
    "\n",
    "### Example 2:\n",
    "\n",
    "Input: head = [1], n = 1\n",
    "\n",
    "Output: []\n",
    "\n",
    "### Example 3:\n",
    "\n",
    "Input: head = [1,2], n = 1\n",
    "\n",
    "Output: [1]\n",
    "\n",
    "### Constraints:\n",
    "\n",
    "The number of nodes in the list is sz.\n",
    "\n",
    "1 <= sz <= 30\n",
    "\n",
    "0 <= Node.val <= 100\n",
    "\n",
    "1 <= n <= sz\n",
    " \n",
    "## Approach 1: Brute Force\n",
    "\n",
    "Traverse through the linked list and check for Nth node from end at each step."
   ]
  },
  {
   "cell_type": "markdown",
   "metadata": {},
   "source": [
    "## Approach 2: Two-Pass Method"
   ]
  },
  {
   "cell_type": "code",
   "execution_count": null,
   "metadata": {},
   "outputs": [],
   "source": [
    "Definition for singly-linked list.\n",
    "class ListNode:\n",
    "    def __init__(self, val=0, next=None):\n",
    "        self.val = val\n",
    "        self.next = next\n",
    "\n",
    "# head: Optional[ListNode]\n",
    "# n: int\n",
    "# return -> Optional[ListNode]\n",
    "class Solution:\n",
    "    def removeNthFromEnd(self, head: Optional[ListNode], n: int) -> Optional[ListNode]:\n",
    "        count = 0\n",
    "        current_node = head\n",
    "        \n",
    "        # Count the nodes in the linked list\n",
    "        while current_node:\n",
    "            count += 1\n",
    "            current_node = current_node.next\n",
    "        \n",
    "        # Remove first node\n",
    "        if count == n:\n",
    "            return head.next\n",
    "\n",
    "        # Reset the current node for second pass\n",
    "        current_node = head\n",
    "        \n",
    "        # Traverse to the node prior to the nth node from end \n",
    "        for _ in range(count - n - 1):\n",
    "            current_node = current_node.next\n",
    "        \n",
    "        # Remove the nth node from end\n",
    "        current_node.next = current_node.next.next\n",
    "        \n",
    "        return head"
   ]
  },
  {
   "cell_type": "markdown",
   "metadata": {},
   "source": [
    "**Follow up:** Could you do this in one pass?\n",
    "\n",
    "## Approach 3: One-Pass Method"
   ]
  },
  {
   "cell_type": "code",
   "execution_count": 2,
   "metadata": {},
   "outputs": [],
   "source": [
    "# Definition for singly-linked list.\n",
    "class ListNode:\n",
    "    def __init__(self, val=0, next=None):\n",
    "        self.val = val\n",
    "        self.next = next\n",
    "\n",
    "# head: Optional[ListNode]\n",
    "# n: int\n",
    "# return -> Optional[ListNode]\n",
    "class Solution:\n",
    "    def removeNthFromEnd3(self, head, n):\n",
    "        slow = fast = head\n",
    "        \n",
    "        # Send fast pointer ahead by n steps\n",
    "        for i in range(n):\n",
    "            fast = fast.next\n",
    "            \n",
    "        # If fast pointer is pointing at null\n",
    "        if not fast:\n",
    "            # Remove the first node\n",
    "            return head.next\n",
    "        \n",
    "        # Traverse to the last node\n",
    "        while fast.next:\n",
    "            slow = slow.next\n",
    "            fast = fast.next\n",
    "        \n",
    "        # Remove the nth node from end\n",
    "        slow.next = slow.next.next\n",
    "        \n",
    "        return head"
   ]
  }
 ],
 "metadata": {
  "kernelspec": {
   "display_name": "Python 3",
   "language": "python",
   "name": "python3"
  },
  "language_info": {
   "codemirror_mode": {
    "name": "ipython",
    "version": 3
   },
   "file_extension": ".py",
   "mimetype": "text/x-python",
   "name": "python",
   "nbconvert_exporter": "python",
   "pygments_lexer": "ipython3",
   "version": "3.8.3"
  }
 },
 "nbformat": 4,
 "nbformat_minor": 4
}
