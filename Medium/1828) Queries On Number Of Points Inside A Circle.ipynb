{
 "cells": [
  {
   "cell_type": "markdown",
   "metadata": {},
   "source": [
    "# QUERIES ON NUMBER OF POINTS INSIDE A CIRCLE\n",
    "\n",
    "You are given an array points where points[i] = [xi, yi] is the coordinates of the ith point on a 2D plane. Multiple points can have the same coordinates.\n",
    "\n",
    "You are also given an array queries where queries[j] = [xj, yj, rj] describes a circle centered at (xj, yj) with a radius of rj.\n",
    "\n",
    "For each query queries[j], compute the number of points inside the jth circle. Points on the border of the circle are considered inside.\n",
    "\n",
    "Return an array answer, where answer[j] is the answer to the jth query.\n",
    "\n",
    "### Example 1:\n",
    "\n",
    "\n",
    "#### Input:\n",
    "points = [[1,3],[3,3],[5,3],[2,2]], queries = [[2,3,1],[4,3,1],[1,1,2]]\n",
    "#### Output:\n",
    "[3,2,2]\n",
    "#### Explanation:\n",
    "The points and circles are shown above.\n",
    "queries[0] is the green circle, queries[1] is the red circle, and queries[2] is the blue circle.\n",
    "### Example 2:\n",
    "\n",
    "\n",
    "#### Input:\n",
    "points = [[1,1],[2,2],[3,3],[4,4],[5,5]], queries = [[1,2,2],[2,2,2],[4,3,2],[4,3,3]]\n",
    "#### Output:\n",
    "[2,3,2,4]\n",
    "#### Explanation:\n",
    "The points and circles are shown above. queries[0] is green, queries[1] is red, queries[2] is blue, and queries[3] is purple.\n",
    " \n",
    "\n",
    "### Constraints:\n",
    "\n",
    "1 <= points.length <= 500\n",
    "\n",
    "points[i].length == 2\n",
    "\n",
    "0 <= x​​​​​​i, y​​​​​​i <= 500\n",
    "\n",
    "1 <= queries.length <= 500\n",
    "\n",
    "queries[j].length == 3\n",
    "\n",
    "0 <= xj, yj <= 500\n",
    "\n",
    "1 <= rj <= 500\n",
    "\n",
    "All coordinates are integers.\n",
    "\n",
    "## Approach 1: Brute Force Method"
   ]
  },
  {
   "cell_type": "code",
   "execution_count": 1,
   "metadata": {},
   "outputs": [],
   "source": [
    "# points: List[List[int]]\n",
    "# queries: List[List[int]]\n",
    "# return -> List[int] \n",
    "class Solution:\n",
    "    \n",
    "    def countPoints(self, points, queries):\n",
    "        \n",
    "        def euclidean_distance(x1, y1, x2, y2):\n",
    "            return ((x1-x2) ** 2 + (y1-y2) ** 2) ** 0.5\n",
    "\n",
    "        result = []\n",
    "        \n",
    "        # For each query\n",
    "        for query in queries:\n",
    "            count = 0\n",
    "            \n",
    "            # For each point\n",
    "            for point in points:\n",
    "                \n",
    "                # Compare euclidean distance with the radius of the circle\n",
    "                if euclidean_distance(point[0], point[1], query[0], query[1]) <= query[2]:\n",
    "                    count += 1\n",
    "                    \n",
    "            # Store the query result\n",
    "            result.append(count)\n",
    "        \n",
    "        return result"
   ]
  },
  {
   "cell_type": "code",
   "execution_count": 2,
   "metadata": {},
   "outputs": [
    {
     "data": {
      "text/plain": [
       "[3, 2, 2]"
      ]
     },
     "execution_count": 2,
     "metadata": {},
     "output_type": "execute_result"
    }
   ],
   "source": [
    "Solution.countPoints(Solution.countPoints, [[1,3],[3,3],[5,3],[2,2]], [[2,3,1],[4,3,1],[1,1,2]])"
   ]
  },
  {
   "cell_type": "markdown",
   "metadata": {},
   "source": [
    "**Follow up:** Could you find the answer for each query in better complexity than O(n)?\n",
    "\n",
    "## Approach 2: Faster Method"
   ]
  },
  {
   "cell_type": "code",
   "execution_count": 3,
   "metadata": {},
   "outputs": [],
   "source": [
    "# points: List[List[int]]\n",
    "# queries: List[List[int]]\n",
    "# return -> List[int] \n",
    "class Solution:\n",
    "    \n",
    "    def countPoints2(self, points, queries):\n",
    "\n",
    "        def euclidean_distance(x1, y1, x2, y2):\n",
    "            return ((x1-x2) ** 2 + (y1-y2) ** 2) ** 0.5\n",
    "\n",
    "        result = []\n",
    "        \n",
    "        # For each query\n",
    "        for query in queries:\n",
    "            count = 0\n",
    "            \n",
    "            # For each point\n",
    "            for point in points:\n",
    "                \n",
    "                # Skip the process for points already outside reach\n",
    "                if (query[0] - query[2]) <= point[0] <= (query[0] + query[2]) and (query[1] - query[2]) <= point[1] <= (query[1] + query[2]):\n",
    "                \n",
    "                    # Compare euclidean distance with the radius of the circle\n",
    "                    if euclidean_distance(point[0], point[1], query[0], query[1]) <= query[2]:\n",
    "                        count += 1\n",
    "                    \n",
    "            # Store the query result\n",
    "            result.append(count)\n",
    "        \n",
    "        return result"
   ]
  },
  {
   "cell_type": "code",
   "execution_count": 4,
   "metadata": {},
   "outputs": [
    {
     "data": {
      "text/plain": [
       "[3, 2, 2]"
      ]
     },
     "execution_count": 4,
     "metadata": {},
     "output_type": "execute_result"
    }
   ],
   "source": [
    "Solution.countPoints2(Solution.countPoints2, [[1,3],[3,3],[5,3],[2,2]], [[2,3,1],[4,3,1],[1,1,2]])"
   ]
  }
 ],
 "metadata": {
  "kernelspec": {
   "display_name": "Python 3",
   "language": "python",
   "name": "python3"
  },
  "language_info": {
   "codemirror_mode": {
    "name": "ipython",
    "version": 3
   },
   "file_extension": ".py",
   "mimetype": "text/x-python",
   "name": "python",
   "nbconvert_exporter": "python",
   "pygments_lexer": "ipython3",
   "version": "3.8.3"
  }
 },
 "nbformat": 4,
 "nbformat_minor": 4
}
