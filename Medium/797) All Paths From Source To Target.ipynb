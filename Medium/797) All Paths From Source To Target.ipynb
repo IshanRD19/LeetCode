{
 "cells": [
  {
   "cell_type": "markdown",
   "metadata": {},
   "source": [
    "# ALL PATHS FROM SOURCE TO TARGET\n",
    "\n",
    "Given a directed acyclic graph (DAG) of n nodes labeled from 0 to n - 1, find all possible paths from node 0 to node n - 1 and return them in any order.\n",
    "\n",
    "The graph is given as follows: graph[i] is a list of all nodes you can visit from node i (i.e., there is a directed edge from node i to node graph[i][j]).\n",
    "\n",
    "### Example 1:\n",
    "\n",
    "\n",
    "#### Input: \n",
    "graph = [[1,2],[3],[3],[]]\n",
    "#### Output: \n",
    "[[0,1,3],[0,2,3]]\n",
    "#### Explanation: \n",
    "There are two paths: 0 -> 1 -> 3 and 0 -> 2 -> 3.\n",
    "### Example 2:\n",
    "\n",
    "\n",
    "#### Input: \n",
    "graph = [[4,3,1],[3,2,4],[3],[4],[]]\n",
    "#### Output: \n",
    "[[0,4],[0,3,4],[0,1,3,4],[0,1,2,3,4],[0,1,4]]\n",
    " \n",
    "\n",
    "### Constraints:\n",
    "n == graph.length\n",
    "\n",
    "2 <= n <= 15\n",
    "\n",
    "0 <= graph[i][j] < n\n",
    "\n",
    "graph[i][j] != i (i.e., there will be no self-loops).\n",
    "\n",
    "All the elements of graph[i] are unique.\n",
    "\n",
    "The input graph is guaranteed to be a DAG."
   ]
  },
  {
   "cell_type": "code",
   "execution_count": 15,
   "metadata": {},
   "outputs": [],
   "source": [
    "# graph: List[List[int]]\n",
    "# return -> List[List[int]]\n",
    "class Solution:\n",
    "    def allPathsSourceTarget(self, graph):\n",
    "\n",
    "        def dfs(graph, goal, result, explored_path):\n",
    "            # For each neighbor of current node\n",
    "            for node in graph[explored_path[-1]]:\n",
    "                \n",
    "                # Compare with target node\n",
    "                if node == goal:\n",
    "                    result.append(explored_path + [node])\n",
    "                else:\n",
    "                    result = dfs(graph, goal, result, explored_path + [node])\n",
    "            \n",
    "            return result\n",
    "\n",
    "        return dfs(graph, len(graph) - 1, [], [0])"
   ]
  },
  {
   "cell_type": "code",
   "execution_count": 16,
   "metadata": {},
   "outputs": [
    {
     "data": {
      "text/plain": [
       "[[0, 4], [0, 3, 4], [0, 1, 3, 4], [0, 1, 2, 3, 4], [0, 1, 4]]"
      ]
     },
     "execution_count": 16,
     "metadata": {},
     "output_type": "execute_result"
    }
   ],
   "source": [
    "Solution.allPathsSourceTarget(Solution.allPathsSourceTarget, [[4,3,1],[3,2,4],[3],[4],[]])"
   ]
  }
 ],
 "metadata": {
  "kernelspec": {
   "display_name": "Python 3.10.6 64-bit",
   "language": "python",
   "name": "python3"
  },
  "language_info": {
   "codemirror_mode": {
    "name": "ipython",
    "version": 3
   },
   "file_extension": ".py",
   "mimetype": "text/x-python",
   "name": "python",
   "nbconvert_exporter": "python",
   "pygments_lexer": "ipython3",
   "version": "3.10.6"
  },
  "orig_nbformat": 4,
  "vscode": {
   "interpreter": {
    "hash": "26de051ba29f2982a8de78e945f0abaf191376122a1563185a90213a26c5da77"
   }
  }
 },
 "nbformat": 4,
 "nbformat_minor": 2
}
