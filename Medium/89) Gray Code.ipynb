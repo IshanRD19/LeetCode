{
 "cells": [
  {
   "cell_type": "markdown",
   "metadata": {},
   "source": [
    "# GRAY CODE\n",
    "\n",
    "An n-bit gray code sequence is a sequence of 2n integers where:\n",
    "\n",
    "Every integer is in the inclusive range [0, 2n - 1],\n",
    "The first integer is 0,\n",
    "An integer appears no more than once in the sequence,\n",
    "The binary representation of every pair of adjacent integers differs by exactly one bit, and\n",
    "The binary representation of the first and last integers differs by exactly one bit.\n",
    "Given an integer n, return any valid n-bit gray code sequence.\n",
    "\n",
    "### Example 1:\n",
    "\n",
    "#### Input: \n",
    "n = 2\n",
    "#### Output: \n",
    "[0,1,3,2]\n",
    "#### Explanation:\n",
    "The binary representation of [0,1,3,2] is [00,01,11,10].\n",
    "- 00 and 01 differ by one bit\n",
    "- 01 and 11 differ by one bit\n",
    "- 11 and 10 differ by one bit\n",
    "- 10 and 00 differ by one bit\n",
    "[0,2,3,1] is also a valid gray code sequence, whose binary representation is [00,10,11,01].\n",
    "- 00 and 10 differ by one bit\n",
    "- 10 and 11 differ by one bit\n",
    "- 11 and 01 differ by one bit\n",
    "- 01 and 00 differ by one bit\n",
    "### Example 2:\n",
    "\n",
    "#### Input: \n",
    "n = 1\n",
    "#### Output: \n",
    "[0,1]\n",
    "\n",
    "### Constraints:\n",
    "1 <= n <= 16"
   ]
  },
  {
   "cell_type": "code",
   "execution_count": 3,
   "metadata": {},
   "outputs": [],
   "source": [
    "# n: int\n",
    "# return -> List[int]\n",
    "class Solution:\n",
    "    def grayCode(self, n):\n",
    "        result = []\n",
    "        exor = {'00': '0', '01': '1', '10': '1', '11': '0'}\n",
    "\n",
    "        for i in range(2**n):\n",
    "            binary = bin(i)[2:]\n",
    "            binary = '0' * (n - len(binary)) + str(binary)\n",
    "            gray = binary[0]\n",
    "            \n",
    "            for j in range(1,n):\n",
    "                gray += exor[binary[j-1] + binary[j]]\n",
    "            \n",
    "            result.append(int(gray, 2))\n",
    "        \n",
    "        return result"
   ]
  },
  {
   "cell_type": "code",
   "execution_count": 4,
   "metadata": {},
   "outputs": [
    {
     "data": {
      "text/plain": [
       "[0, 1, 3, 2, 6, 7, 5, 4]"
      ]
     },
     "execution_count": 4,
     "metadata": {},
     "output_type": "execute_result"
    }
   ],
   "source": [
    "Solution.grayCode(Solution.grayCode, 3)"
   ]
  },
  {
   "cell_type": "markdown",
   "metadata": {},
   "source": [
    "## Approach 2: Time Efficient Method"
   ]
  },
  {
   "cell_type": "code",
   "execution_count": 1,
   "metadata": {},
   "outputs": [],
   "source": [
    "# n: int\n",
    "# return -> List[int]\n",
    "class Solution2:\n",
    "    def grayCode(self, n):\n",
    "        return [i ^ (i // 2) for i in range(2**n)]"
   ]
  },
  {
   "cell_type": "code",
   "execution_count": 2,
   "metadata": {},
   "outputs": [
    {
     "data": {
      "text/plain": [
       "[0, 1, 3, 2, 6, 7, 5, 4]"
      ]
     },
     "execution_count": 2,
     "metadata": {},
     "output_type": "execute_result"
    }
   ],
   "source": [
    "Solution2.grayCode(Solution2.grayCode, 3)"
   ]
  }
 ],
 "metadata": {
  "kernelspec": {
   "display_name": "Python 3.10.6 64-bit",
   "language": "python",
   "name": "python3"
  },
  "language_info": {
   "codemirror_mode": {
    "name": "ipython",
    "version": 3
   },
   "file_extension": ".py",
   "mimetype": "text/x-python",
   "name": "python",
   "nbconvert_exporter": "python",
   "pygments_lexer": "ipython3",
   "version": "3.10.6"
  },
  "orig_nbformat": 4,
  "vscode": {
   "interpreter": {
    "hash": "26de051ba29f2982a8de78e945f0abaf191376122a1563185a90213a26c5da77"
   }
  }
 },
 "nbformat": 4,
 "nbformat_minor": 2
}
