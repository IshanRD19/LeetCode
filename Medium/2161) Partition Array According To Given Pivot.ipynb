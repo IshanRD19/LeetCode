{
 "cells": [
  {
   "cell_type": "markdown",
   "metadata": {},
   "source": [
    "# PARTITION ARRAY ACCORDING TO GIVEN PIVOT\n",
    "\n",
    "You are given a 0-indexed integer array nums and an integer pivot. Rearrange nums such that the following conditions are satisfied:\n",
    "\n",
    "Every element less than pivot appears before every element greater than pivot.\n",
    "Every element equal to pivot appears in between the elements less than and greater than pivot.\n",
    "The relative order of the elements less than pivot and the elements greater than pivot is maintained.\n",
    "More formally, consider every pi, pj where pi is the new position of the ith element and pj is the new position of the jth element. For elements less than pivot, if i < j and nums[i] < pivot and nums[j] < pivot, then pi < pj. Similarly for elements greater than pivot, if i < j and nums[i] > pivot and nums[j] > pivot, then pi < pj.\n",
    "Return nums after the rearrangement.\n",
    "\n",
    "### Example 1:\n",
    "\n",
    "#### Input: \n",
    "nums = [9,12,5,10,14,3,10], pivot = 10\n",
    "#### Output: \n",
    "[9,5,3,10,10,12,14]\n",
    "#### Explanation: \n",
    "The elements 9, 5, and 3 are less than the pivot so they are on the left side of the array.\n",
    "The elements 12 and 14 are greater than the pivot so they are on the right side of the array.\n",
    "The relative ordering of the elements less than and greater than pivot is also maintained. [9, 5, 3] and [12, 14] are the respective orderings.\n",
    "### Example 2:\n",
    "\n",
    "#### Input: \n",
    "nums = [-3,4,3,2], pivot = 2\n",
    "#### Output: \n",
    "[-3,2,4,3]\n",
    "#### Explanation: \n",
    "The element -3 is less than the pivot so it is on the left side of the array.\n",
    "The elements 4 and 3 are greater than the pivot so they are on the right side of the array.\n",
    "The relative ordering of the elements less than and greater than pivot is also maintained. [-3] and [4, 3] are the respective orderings.\n",
    " \n",
    "\n",
    "### Constraints:\n",
    "\n",
    "1 <= nums.length <= 10^5\n",
    "\n",
    "-10^6 <= nums[i] <= 10^6\n",
    "\n",
    "pivot equals to an element of nums."
   ]
  },
  {
   "cell_type": "code",
   "execution_count": 6,
   "metadata": {},
   "outputs": [],
   "source": [
    "# nums: List[int]\n",
    "# pivot: int\n",
    "# return -> List[int]\n",
    "class Solution:\n",
    "    def pivotArray(self, nums, pivot):\n",
    "        less, equal, more = [], [], []\n",
    "\n",
    "        for i in range(len(nums)):\n",
    "\n",
    "            if nums[i] < pivot:\n",
    "                less.append(nums[i])\n",
    "\n",
    "            elif nums[i] > pivot:\n",
    "                more.append(nums[i])\n",
    "                \n",
    "            else:\n",
    "                equal.append(nums[i])\n",
    "                \n",
    "        return less + equal + more"
   ]
  },
  {
   "cell_type": "code",
   "execution_count": 7,
   "metadata": {},
   "outputs": [
    {
     "data": {
      "text/plain": [
       "[9, 5, 3, 10, 10, 12, 14]"
      ]
     },
     "execution_count": 7,
     "metadata": {},
     "output_type": "execute_result"
    }
   ],
   "source": [
    "Solution.pivotArray(Solution.pivotArray, [9,12,5,10,14,3,10], 10)"
   ]
  }
 ],
 "metadata": {
  "kernelspec": {
   "display_name": "Python 3.10.6 64-bit",
   "language": "python",
   "name": "python3"
  },
  "language_info": {
   "codemirror_mode": {
    "name": "ipython",
    "version": 3
   },
   "file_extension": ".py",
   "mimetype": "text/x-python",
   "name": "python",
   "nbconvert_exporter": "python",
   "pygments_lexer": "ipython3",
   "version": "3.10.6"
  },
  "orig_nbformat": 4,
  "vscode": {
   "interpreter": {
    "hash": "26de051ba29f2982a8de78e945f0abaf191376122a1563185a90213a26c5da77"
   }
  }
 },
 "nbformat": 4,
 "nbformat_minor": 2
}
