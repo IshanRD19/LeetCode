{
 "cells": [
  {
   "cell_type": "markdown",
   "metadata": {},
   "source": [
    "# RECTANGLE AREA\n",
    "\n",
    "Given the coordinates of two rectilinear rectangles in a 2D plane, return the total area covered by the two rectangles.\n",
    "\n",
    "The first rectangle is defined by its bottom-left corner (ax1, ay1) and its top-right corner (ax2, ay2).\n",
    "\n",
    "The second rectangle is defined by its bottom-left corner (bx1, by1) and its top-right corner (bx2, by2).\n",
    "\n",
    "### Example 1:\n",
    "\n",
    "#### Input: \n",
    "ax1 = -3, ay1 = 0, ax2 = 3, ay2 = 4, bx1 = 0, by1 = -1, bx2 = 9, by2 = 2\n",
    "#### Output: \n",
    "45\n",
    "#### Example 2:\n",
    "\n",
    "### Input: \n",
    "ax1 = -2, ay1 = -2, ax2 = 2, ay2 = 2, bx1 = -2, by1 = -2, bx2 = 2, by2 = 2\n",
    "### Output: \n",
    "16\n",
    "\n",
    "### Constraints:\n",
    "-10^4 <= ax1 <= ax2 <= 10^4\n",
    "-10^4 <= ay1 <= ay2 <= 10^4\n",
    "-10^4 <= bx1 <= bx2 <= 10^4\n",
    "-10^4 <= by1 <= by2 <= 10^4"
   ]
  },
  {
   "cell_type": "code",
   "execution_count": 1,
   "metadata": {},
   "outputs": [],
   "source": [
    "# ax1: int\n",
    "# ay1: int\n",
    "# ax2: int\n",
    "# ay2: int\n",
    "# bx1: int\n",
    "# by1: int\n",
    "# bx2: int\n",
    "# by2: int\n",
    "# return -> int\n",
    "class Solution:\n",
    "    def computeArea(self, ax1, ay1, ax2, ay2, bx1, by1, bx2, by2):\n",
    "        x1 = {i for i in range(ax1, ax2)}\n",
    "        y1 = {i for i in range(ay1, ay2)}\n",
    "\n",
    "        x2 = {i for i in range(bx1, bx2)}\n",
    "        y2 = {i for i in range(by1, by2)}\n",
    "        \n",
    "        r1 = len(x1) * len(y1)\n",
    "        r2 = len(x2) * len(y2)\n",
    "        i = len(x1.intersection(x2)) * len(y1.intersection(y2))\n",
    "        \n",
    "        return r1 + r2 - i"
   ]
  },
  {
   "cell_type": "code",
   "execution_count": 2,
   "metadata": {},
   "outputs": [
    {
     "data": {
      "text/plain": [
       "45"
      ]
     },
     "execution_count": 2,
     "metadata": {},
     "output_type": "execute_result"
    }
   ],
   "source": [
    "Solution.computeArea(Solution.computeArea, ax1 = -3, ay1 = 0, ax2 = 3, ay2 = 4, bx1 = 0, by1 = -1, bx2 = 9, by2 = 2)"
   ]
  }
 ],
 "metadata": {
  "kernelspec": {
   "display_name": "Python 3.10.6 64-bit",
   "language": "python",
   "name": "python3"
  },
  "language_info": {
   "codemirror_mode": {
    "name": "ipython",
    "version": 3
   },
   "file_extension": ".py",
   "mimetype": "text/x-python",
   "name": "python",
   "nbconvert_exporter": "python",
   "pygments_lexer": "ipython3",
   "version": "3.10.6"
  },
  "orig_nbformat": 4,
  "vscode": {
   "interpreter": {
    "hash": "26de051ba29f2982a8de78e945f0abaf191376122a1563185a90213a26c5da77"
   }
  }
 },
 "nbformat": 4,
 "nbformat_minor": 2
}
