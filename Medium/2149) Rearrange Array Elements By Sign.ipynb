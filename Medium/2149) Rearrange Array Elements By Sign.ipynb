{
 "cells": [
  {
   "cell_type": "markdown",
   "metadata": {},
   "source": [
    "# REARRANGE ARRAY ELEMENTS BY SIGN\n",
    "\n",
    "You are given a 0-indexed integer array nums of even length consisting of an equal number of positive and negative integers.\n",
    "\n",
    "You should rearrange the elements of nums such that the modified array follows the given conditions:\n",
    "\n",
    "Every consecutive pair of integers have opposite signs.\n",
    "For all integers with the same sign, the order in which they were present in nums is preserved.\n",
    "The rearranged array begins with a positive integer.\n",
    "Return the modified array after rearranging the elements to satisfy the aforementioned conditions.\n",
    "\n",
    "### Example 1:\n",
    "\n",
    "#### Input: \n",
    "nums = [3,1,-2,-5,2,-4]\n",
    "#### Output: \n",
    "[3,-2,1,-5,2,-4]\n",
    "#### Explanation:\n",
    "The positive integers in nums are [3,1,2]. The negative integers are [-2,-5,-4].\n",
    "The only possible way to rearrange them such that they satisfy all conditions is [3,-2,1,-5,2,-4].\n",
    "Other ways such as [1,-2,2,-5,3,-4], [3,1,2,-2,-5,-4], [-2,3,-5,1,-4,2] are incorrect because they do not satisfy one or more conditions.  \n",
    "### Example 2:\n",
    "\n",
    "#### Input: \n",
    "nums = [-1,1]\n",
    "#### Output: \n",
    "[1,-1]\n",
    "#### Explanation:\n",
    "1 is the only positive integer and -1 the only negative integer in nums.\n",
    "So nums is rearranged to [1,-1].\n",
    "\n",
    "### Constraints:\n",
    "2 <= nums.length <= 2 * 10^5\n",
    "\n",
    "nums.length is even\n",
    "\n",
    "1 <= |nums[i]| <= 105\n",
    "\n",
    "nums consists of equal number of positive and negative integers."
   ]
  },
  {
   "cell_type": "code",
   "execution_count": 3,
   "metadata": {},
   "outputs": [],
   "source": [
    "# nums: List[int]\n",
    "# return -> List[int]\n",
    "class Solution:\n",
    "    def rearrangeArray(self, nums):\n",
    "        length = len(nums)\n",
    "        pos, neg = [], []\n",
    "        \n",
    "        for i in range(length):\n",
    "            if nums[i] > 0:\n",
    "                pos.append(nums[i])\n",
    "            else:\n",
    "                neg.append(nums[i])\n",
    "                \n",
    "        for i in range(0, length // 2):\n",
    "            nums[2*i] = pos[i]\n",
    "            nums[2*i+1] = neg[i]\n",
    "            \n",
    "        return nums"
   ]
  },
  {
   "cell_type": "code",
   "execution_count": 4,
   "metadata": {},
   "outputs": [
    {
     "data": {
      "text/plain": [
       "[3, -2, 1, -5, 2, -4]"
      ]
     },
     "execution_count": 4,
     "metadata": {},
     "output_type": "execute_result"
    }
   ],
   "source": [
    "Solution.rearrangeArray(Solution.rearrangeArray, [3,1,-2,-5,2,-4])"
   ]
  }
 ],
 "metadata": {
  "kernelspec": {
   "display_name": "Python 3.10.6 64-bit",
   "language": "python",
   "name": "python3"
  },
  "language_info": {
   "codemirror_mode": {
    "name": "ipython",
    "version": 3
   },
   "file_extension": ".py",
   "mimetype": "text/x-python",
   "name": "python",
   "nbconvert_exporter": "python",
   "pygments_lexer": "ipython3",
   "version": "3.10.6"
  },
  "orig_nbformat": 4,
  "vscode": {
   "interpreter": {
    "hash": "26de051ba29f2982a8de78e945f0abaf191376122a1563185a90213a26c5da77"
   }
  }
 },
 "nbformat": 4,
 "nbformat_minor": 2
}
