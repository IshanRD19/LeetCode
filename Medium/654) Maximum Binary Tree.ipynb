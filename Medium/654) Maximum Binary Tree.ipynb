{
 "cells": [
  {
   "cell_type": "markdown",
   "metadata": {},
   "source": [
    "# MAXIMUM BINARY TREE\n",
    "\n",
    "You are given an integer array nums with no duplicates. A maximum binary tree can be built recursively from nums using the following algorithm:\n",
    "\n",
    "Create a root node whose value is the maximum value in nums.\n",
    "\n",
    "Recursively build the left subtree on the subarray prefix to the left of the maximum value.\n",
    "\n",
    "Recursively build the right subtree on the subarray suffix to the right of the maximum value.\n",
    "\n",
    "Return the maximum binary tree built from nums.\n",
    "\n",
    "### Example 1:\n",
    "\n",
    "\n",
    "#### Input: \n",
    "nums = [3,2,1,6,0,5]\n",
    "#### Output: \n",
    "[6,3,5,null,2,0,null,null,1]\n",
    "#### Explanation: \n",
    "The recursive calls are as follow:\n",
    "- The largest value in [3,2,1,6,0,5] is 6. Left prefix is [3,2,1] and right suffix is [0,5].\n",
    "    - The largest value in [3,2,1] is 3. Left prefix is [] and right suffix is [2,1].\n",
    "        - Empty array, so no child.\n",
    "        - The largest value in [2,1] is 2. Left prefix is [] and right suffix is [1].\n",
    "            - Empty array, so no child.\n",
    "            - Only one element, so child is a node with value 1.\n",
    "    - The largest value in [0,5] is 5. Left prefix is [0] and right suffix is [].\n",
    "        - Only one element, so child is a node with value 0.\n",
    "        - Empty array, so no child.\n",
    "### Example 2:\n",
    "\n",
    "\n",
    "#### Input: \n",
    "nums = [3,2,1]\n",
    "#### Output: \n",
    "[3,null,2,null,1]\n",
    "\n",
    "### Constraints:\n",
    "\n",
    "1 <= nums.length <= 1000\n",
    "\n",
    "0 <= nums[i] <= 1000\n",
    "\n",
    "All integers in nums are unique."
   ]
  },
  {
   "cell_type": "code",
   "execution_count": 2,
   "metadata": {},
   "outputs": [],
   "source": [
    "# Definition for a binary tree node.\n",
    "class TreeNode:\n",
    "    def __init__(self, val=0, left=None, right=None):\n",
    "        self.val = val\n",
    "        self.left = left\n",
    "        self.right = right\n",
    "\n",
    "# nums: List[int]\n",
    "# return -> Optional[TreeNode]\n",
    "class Solution:\n",
    "\n",
    "    def constructMaximumBinaryTree(self, nums):\n",
    "        # Check for non-empty array\n",
    "        if not nums:\n",
    "            return\n",
    "\n",
    "        start, end = 0, len(nums)\n",
    "\n",
    "        # Identify the max value and its the index\n",
    "        max_value = max(nums)\n",
    "        max_index = nums.index(max_value)\n",
    "        \n",
    "        # Recursive call\n",
    "        root = TreeNode(max_value, self.constructMaximumBinaryTree(nums[start:max_index]), self.constructMaximumBinaryTree(nums[max_index+1:end]))\n",
    "\n",
    "        return root\n",
    "                "
   ]
  }
 ],
 "metadata": {
  "kernelspec": {
   "display_name": "Python 3.10.6 64-bit",
   "language": "python",
   "name": "python3"
  },
  "language_info": {
   "codemirror_mode": {
    "name": "ipython",
    "version": 3
   },
   "file_extension": ".py",
   "mimetype": "text/x-python",
   "name": "python",
   "nbconvert_exporter": "python",
   "pygments_lexer": "ipython3",
   "version": "3.10.6"
  },
  "orig_nbformat": 4,
  "vscode": {
   "interpreter": {
    "hash": "26de051ba29f2982a8de78e945f0abaf191376122a1563185a90213a26c5da77"
   }
  }
 },
 "nbformat": 4,
 "nbformat_minor": 2
}
