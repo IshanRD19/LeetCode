{
 "cells": [
  {
   "cell_type": "markdown",
   "metadata": {},
   "source": [
    "# MAXIMUM PRODUCT SUBARRAY\n",
    "\n",
    "Given an integer array nums, find a contiguous non-empty subarray within the array that has the largest product, and return the product.\n",
    "\n",
    "The test cases are generated so that the answer will fit in a 32-bit integer.\n",
    "\n",
    "A subarray is a contiguous subsequence of the array.\n",
    "\n",
    "### Example 1:\n",
    "\n",
    "#### Input:\n",
    "nums = [2,3,-2,4]\n",
    "#### Output:\n",
    "6\n",
    "#### Explanation:\n",
    "[2,3] has the largest product 6.\n",
    "### Example 2:\n",
    "\n",
    "#### Input:\n",
    "nums = [-2,0,-1]\n",
    "#### Output:\n",
    "0\n",
    "#### Explanation:\n",
    "The result cannot be 2, because [-2,-1] is not a subarray.\n",
    "\n",
    "### Constraints:\n",
    "\n",
    "1 <= nums.length <= 2 * 10^4\n",
    "\n",
    "-10 <= nums[i] <= 10\n",
    "\n",
    "The product of any prefix or suffix of nums is guaranteed to fit in a 32-bit integer."
   ]
  },
  {
   "cell_type": "code",
   "execution_count": 1,
   "metadata": {},
   "outputs": [],
   "source": [
    "# nums: List[int]\n",
    "# return -> int\n",
    "class Solution:\n",
    "    def maxProduct(self, nums):\n",
    "        max_product = max(nums)\n",
    "        running_min = running_max = 1\n",
    "        \n",
    "        for num in nums:\n",
    "            \n",
    "            # Create a copy before updating\n",
    "            temp_copy = num * running_min\n",
    "            \n",
    "            # Update the current min and max values\n",
    "            # Note: adding num as an argument will handle the integer 0 in the array\n",
    "            running_min = min(temp_copy, num * running_max, num)\n",
    "            running_max = max(temp_copy, num * running_max, num)\n",
    "            \n",
    "            # Update the result\n",
    "            max_product = max(max_product, running_max)\n",
    "            \n",
    "        return max_product"
   ]
  },
  {
   "cell_type": "code",
   "execution_count": 2,
   "metadata": {},
   "outputs": [
    {
     "data": {
      "text/plain": [
       "6"
      ]
     },
     "execution_count": 2,
     "metadata": {},
     "output_type": "execute_result"
    }
   ],
   "source": [
    "Solution.maxProduct(Solution.maxProduct, [2, 3, -2, 4])"
   ]
  }
 ],
 "metadata": {
  "kernelspec": {
   "display_name": "Python 3",
   "language": "python",
   "name": "python3"
  },
  "language_info": {
   "codemirror_mode": {
    "name": "ipython",
    "version": 3
   },
   "file_extension": ".py",
   "mimetype": "text/x-python",
   "name": "python",
   "nbconvert_exporter": "python",
   "pygments_lexer": "ipython3",
   "version": "3.8.3"
  }
 },
 "nbformat": 4,
 "nbformat_minor": 4
}
