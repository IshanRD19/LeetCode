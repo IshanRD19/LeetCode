{
 "cells": [
  {
   "cell_type": "markdown",
   "metadata": {},
   "source": [
    "# NUMBER OF ISLANDS\n",
    "\n",
    "Given an m x n 2D binary grid grid which represents a map of '1's (land) and '0's (water), return the number of islands.\n",
    "\n",
    "An island is surrounded by water and is formed by connecting adjacent lands horizontally or vertically. You may assume all four edges of the grid are all surrounded by water.\n",
    "\n",
    "### Example 1:\n",
    "\n",
    "#### Input: \n",
    "grid = [\n",
    "  [\"1\",\"1\",\"1\",\"1\",\"0\"],\n",
    "  [\"1\",\"1\",\"0\",\"1\",\"0\"],\n",
    "  [\"1\",\"1\",\"0\",\"0\",\"0\"],\n",
    "  [\"0\",\"0\",\"0\",\"0\",\"0\"]\n",
    "]\n",
    "#### Output: \n",
    "1\n",
    "### Example 2:\n",
    "\n",
    "#### Input: \n",
    "grid = [\n",
    "  [\"1\",\"1\",\"0\",\"0\",\"0\"],\n",
    "  [\"1\",\"1\",\"0\",\"0\",\"0\"],\n",
    "  [\"0\",\"0\",\"1\",\"0\",\"0\"],\n",
    "  [\"0\",\"0\",\"0\",\"1\",\"1\"]\n",
    "]\n",
    "#### Output: \n",
    "3\n",
    " \n",
    "### Constraints:\n",
    "m == grid.length\n",
    "\n",
    "n == grid[i].length\n",
    "\n",
    "1 <= m, n <= 300\n",
    "\n",
    "grid[i][j] is '0' or '1'."
   ]
  },
  {
   "cell_type": "code",
   "execution_count": 1,
   "metadata": {},
   "outputs": [],
   "source": [
    "class Solution:\n",
    "    \n",
    "    def dfs(self, grid, rows, cols, r, c):\n",
    "        # Check for land within bounds\n",
    "        if not (0 <= r < rows) or not (0 <= c < cols) or grid[r][c] == '0':\n",
    "            return grid\n",
    "        \n",
    "        # Mark the land as visited\n",
    "        grid[r][c] = '0'\n",
    "        \n",
    "        # Explore the island\n",
    "        grid = self.dfs(grid, rows, cols, r-1, c)\n",
    "        grid = self.dfs(grid, rows, cols, r+1, c)\n",
    "        grid = self.dfs(grid, rows, cols, r, c-1)\n",
    "        grid = self.dfs(grid, rows, cols, r, c+1)\n",
    "        \n",
    "        return grid\n",
    "\n",
    "    # grid: List[List[str]]\n",
    "    # return -> int\n",
    "    def numIslands(self, grid):\n",
    "        rows = len(grid)\n",
    "        cols = len(grid[0])\n",
    "        count = 0\n",
    "        \n",
    "        # For each row\n",
    "        for r in range(rows):\n",
    "            \n",
    "            # For each column\n",
    "            for c in range(cols):\n",
    "                \n",
    "                # Check if land exists\n",
    "                if grid[r][c] == '1':\n",
    "                    \n",
    "                    # Explore island and update count\n",
    "                    grid = self.dfs(grid, rows, cols, r, c)\n",
    "                    count += 1\n",
    "        \n",
    "        return count"
   ]
  }
 ],
 "metadata": {
  "kernelspec": {
   "display_name": "Python 3.10.6 64-bit",
   "language": "python",
   "name": "python3"
  },
  "language_info": {
   "codemirror_mode": {
    "name": "ipython",
    "version": 3
   },
   "file_extension": ".py",
   "mimetype": "text/x-python",
   "name": "python",
   "nbconvert_exporter": "python",
   "pygments_lexer": "ipython3",
   "version": "3.10.6"
  },
  "orig_nbformat": 4,
  "vscode": {
   "interpreter": {
    "hash": "26de051ba29f2982a8de78e945f0abaf191376122a1563185a90213a26c5da77"
   }
  }
 },
 "nbformat": 4,
 "nbformat_minor": 2
}
