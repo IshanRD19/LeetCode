{
 "cells": [
  {
   "cell_type": "markdown",
   "metadata": {},
   "source": [
    "# UNIQUE PATHS\n",
    "\n",
    "There is a robot on an m x n grid. The robot is initially located at the top-left corner (i.e., grid[0][0]). The robot tries to move to the bottom-right corner (i.e., grid[m - 1][n - 1]). The robot can only move either down or right at any point in time.\n",
    "\n",
    "Given the two integers m and n, return the number of possible unique paths that the robot can take to reach the bottom-right corner.\n",
    "\n",
    "The test cases are generated so that the answer will be less than or equal to 2 * 109.\n",
    "\n",
    "### Example 1:\n",
    "\n",
    "#### Input: \n",
    "m = 3, n = 7\n",
    "#### Output: \n",
    "28\n",
    "### Example 2:\n",
    "\n",
    "#### Input: \n",
    "m = 3, n = 2\n",
    "#### Output: \n",
    "3\n",
    "#### Explanation: \n",
    "From the top-left corner, there are a total of 3 ways to reach the bottom-right corner:\n",
    "\n",
    "1. Right -> Down -> Down\n",
    "\n",
    "2. Down -> Down -> Right\n",
    "\n",
    "3. Down -> Right -> Down\n",
    " \n",
    "\n",
    "### Constraints:\n",
    "\n",
    "1 <= m, n <= 100\n",
    "\n",
    "## Approach 1: Bottom-Up Method"
   ]
  },
  {
   "cell_type": "code",
   "execution_count": 19,
   "metadata": {},
   "outputs": [],
   "source": [
    "class Solution:\n",
    "    def uniquePaths(self, m: int, n: int) -> int:\n",
    "        explored_states = {(1,1): 1}\n",
    "\n",
    "        # For each row\n",
    "        for row in range(m+1):\n",
    "            \n",
    "            # For each column\n",
    "            for col in range(n+1):\n",
    "\n",
    "                # Assign base values:\n",
    "                if row == 0 or col == 0:\n",
    "                    explored_states[(row,col)] = 0\n",
    "\n",
    "                elif row == col == 1:\n",
    "                    explored_states[(row,col)] = 1\n",
    "\n",
    "                else:\n",
    "                    explored_states[(row,col)] = explored_states[(row-1,col)] + explored_states[(row,col-1)]\n",
    "        \n",
    "        return explored_states[(m,n)]\n",
    "                    \n",
    "        "
   ]
  },
  {
   "cell_type": "code",
   "execution_count": 21,
   "metadata": {},
   "outputs": [
    {
     "data": {
      "text/plain": [
       "28"
      ]
     },
     "execution_count": 21,
     "metadata": {},
     "output_type": "execute_result"
    }
   ],
   "source": [
    "Solution.uniquePaths(Solution.uniquePaths, 3,7)"
   ]
  },
  {
   "cell_type": "markdown",
   "metadata": {},
   "source": [
    "## Approach 2: Space Efficient Method"
   ]
  },
  {
   "cell_type": "code",
   "execution_count": 27,
   "metadata": {},
   "outputs": [],
   "source": [
    "class Solution:\n",
    "    def uniquePaths(self, m: int, n: int) -> int:\n",
    "        prev_row = [0 for _ in range(n+1)]\n",
    "        curr_row = [0]\n",
    "\n",
    "        # For each row\n",
    "        for row in range(1, m+1):\n",
    "            \n",
    "            # For each column\n",
    "            for col in range(1, n+1):\n",
    "                \n",
    "                if row == 1 and col == 1:\n",
    "                    curr_row.append(1)\n",
    "                else:\n",
    "                    curr_row.append(prev_row[col] + curr_row[col-1])\n",
    "\n",
    "            prev_row = curr_row\n",
    "            curr_row = [0]\n",
    "        \n",
    "        return prev_row[n]"
   ]
  },
  {
   "cell_type": "code",
   "execution_count": 28,
   "metadata": {},
   "outputs": [
    {
     "data": {
      "text/plain": [
       "28"
      ]
     },
     "execution_count": 28,
     "metadata": {},
     "output_type": "execute_result"
    }
   ],
   "source": [
    "Solution.uniquePaths(Solution.uniquePaths, 3,7)"
   ]
  }
 ],
 "metadata": {
  "kernelspec": {
   "display_name": "Python 3.10.6 64-bit",
   "language": "python",
   "name": "python3"
  },
  "language_info": {
   "codemirror_mode": {
    "name": "ipython",
    "version": 3
   },
   "file_extension": ".py",
   "mimetype": "text/x-python",
   "name": "python",
   "nbconvert_exporter": "python",
   "pygments_lexer": "ipython3",
   "version": "3.10.6"
  },
  "orig_nbformat": 4,
  "vscode": {
   "interpreter": {
    "hash": "26de051ba29f2982a8de78e945f0abaf191376122a1563185a90213a26c5da77"
   }
  }
 },
 "nbformat": 4,
 "nbformat_minor": 2
}
