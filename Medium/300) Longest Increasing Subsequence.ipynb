{
 "cells": [
  {
   "cell_type": "markdown",
   "metadata": {},
   "source": [
    "# LONGEST INCREASING SUBSEQUENCE\n",
    "\n",
    "Given an integer array nums, return the length of the longest strictly increasing subsequence.\n",
    "\n",
    "A subsequence is a sequence that can be derived from an array by deleting some or no elements without changing the order of the remaining elements. For example, [3,6,2,7] is a subsequence of the array [0,3,1,6,2,2,7].\n",
    "\n",
    "### Example 1:\n",
    "\n",
    "#### Input:\n",
    "nums = [10,9,2,5,3,7,101,18]\n",
    "#### Output:\n",
    "4\n",
    "#### Explanation:\n",
    "The longest increasing subsequence is [2,3,7,101], therefore the length is 4.\n",
    "### Example 2:\n",
    "\n",
    "#### Input:\n",
    "nums = [0,1,0,3,2,3]\n",
    "#### Output:\n",
    "4\n",
    "### Example 3:\n",
    "\n",
    "#### Input:\n",
    "nums = [7,7,7,7,7,7,7]\n",
    "#### Output:\n",
    "1\n",
    " \n",
    "\n",
    "### Constraints:\n",
    "\n",
    "1 <= nums.length <= 2500\n",
    "\n",
    "-10^4 <= nums[i] <= 10^4\n",
    " \n",
    "## Approach 1: Longest Increasing Subsequence"
   ]
  },
  {
   "cell_type": "code",
   "execution_count": 23,
   "metadata": {},
   "outputs": [],
   "source": [
    "# nums: List[int]\n",
    "# return -> int\n",
    "class Solution:\n",
    "    \n",
    "    def lengthOfLIS(self, nums):\n",
    "\n",
    "        # Remove duplicates and sort for increasing subsequence\n",
    "        sorted_nums = sorted(list(set(nums)))\n",
    "        \n",
    "        nums_len, sorted_nums_len = len(nums), len(sorted_nums)\n",
    "        explored_states = [[-1 for col in range(len(sorted_nums) + 1)] for row in range(len(nums) + 1)]\n",
    "        \n",
    "        # Traverse each element in nums\n",
    "        for row in range(nums_len + 1):\n",
    "            \n",
    "            # Traverse each element in sorted_nums\n",
    "            for col in range(sorted_nums_len + 1):\n",
    "\n",
    "                # Check for base condition\n",
    "                if not row or not col:\n",
    "                    explored_states[row][col] = 0\n",
    "                \n",
    "                # Check for matching element in both arrays\n",
    "                elif nums[row-1] == sorted_nums[col-1]:\n",
    "                    explored_states[row][col] = 1 + explored_states[row-1][col-1]\n",
    "                \n",
    "                else:\n",
    "                    explored_states[row][col] = max(explored_states[row-1][col], explored_states[row][col-1])\n",
    "\n",
    "        return explored_states[-1][-1]"
   ]
  },
  {
   "cell_type": "code",
   "execution_count": 24,
   "metadata": {},
   "outputs": [
    {
     "data": {
      "text/plain": [
       "4"
      ]
     },
     "execution_count": 24,
     "metadata": {},
     "output_type": "execute_result"
    }
   ],
   "source": [
    "Solution.lengthOfLIS(Solution.lengthOfLIS, [0,1,0,3,2,3])"
   ]
  },
  {
   "cell_type": "markdown",
   "metadata": {},
   "source": [
    "## Approach 2: DP with Memoization (Faster)"
   ]
  },
  {
   "cell_type": "code",
   "execution_count": 25,
   "metadata": {},
   "outputs": [],
   "source": [
    "# nums: List[int]\n",
    "# return -> int\n",
    "class Solution:\n",
    "    def lengthOfLIS2(self, nums):\n",
    "        length = len(nums)\n",
    "        lis_length = [1] * length\n",
    "        \n",
    "        # Traverse right to left and store the longest length for each index as start\n",
    "        for start in range(length - 1, -1, -1):\n",
    "            \n",
    "            # Look for value at right of start index\n",
    "            for end in range(start + 1, length):\n",
    "                \n",
    "                # Check for increasing subsequence\n",
    "                if nums[end] > nums[start]:\n",
    "                    \n",
    "                    # Update the LIS length by comparing with previously known LIS length\n",
    "                    lis_length[start] = max(lis_length[start], 1 + lis_length[end])\n",
    "                    \n",
    "        # Return the LIS length by selecting the best index as start\n",
    "        return max(lis_length)"
   ]
  },
  {
   "cell_type": "code",
   "execution_count": 26,
   "metadata": {},
   "outputs": [
    {
     "data": {
      "text/plain": [
       "4"
      ]
     },
     "execution_count": 26,
     "metadata": {},
     "output_type": "execute_result"
    }
   ],
   "source": [
    "Solution.lengthOfLIS2(Solution.lengthOfLIS2, [10,9,2,5,3,7,101,18])"
   ]
  },
  {
   "cell_type": "markdown",
   "metadata": {},
   "source": [
    "**Follow up:** Can you come up with an algorithm that runs in O(n log(n)) time complexity?"
   ]
  }
 ],
 "metadata": {
  "kernelspec": {
   "display_name": "Python 3",
   "language": "python",
   "name": "python3"
  },
  "language_info": {
   "codemirror_mode": {
    "name": "ipython",
    "version": 3
   },
   "file_extension": ".py",
   "mimetype": "text/x-python",
   "name": "python",
   "nbconvert_exporter": "python",
   "pygments_lexer": "ipython3",
   "version": "3.8.3"
  }
 },
 "nbformat": 4,
 "nbformat_minor": 4
}
