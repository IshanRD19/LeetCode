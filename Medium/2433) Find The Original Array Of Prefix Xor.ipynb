{
 "cells": [
  {
   "cell_type": "markdown",
   "metadata": {},
   "source": [
    "# FIND THE ORIGINAL ARRAY OF PREFIX XOR\n",
    "\n",
    "You are given an integer array pref of size n. Find and return the array arr of size n that satisfies:\n",
    "\n",
    "pref[i] = arr[0] ^ arr[1] ^ ... ^ arr[i].\n",
    "Note that ^ denotes the bitwise-xor operation.\n",
    "\n",
    "It can be proven that the answer is unique.\n",
    "\n",
    "### Example 1:\n",
    "\n",
    "#### Input: \n",
    "pref = [5,2,0,3,1]\n",
    "#### Output: \n",
    "[5,7,2,3,2]\n",
    "#### Explanation: \n",
    "From the array [5,7,2,3,2] we have the following:\n",
    "- pref[0] = 5.\n",
    "- pref[1] = 5 ^ 7 = 2.\n",
    "- pref[2] = 5 ^ 7 ^ 2 = 0.\n",
    "- pref[3] = 5 ^ 7 ^ 2 ^ 3 = 3.\n",
    "- pref[4] = 5 ^ 7 ^ 2 ^ 3 ^ 2 = 1.\n",
    "### Example 2:\n",
    "\n",
    "#### Input: \n",
    "pref = [13]\n",
    "#### Output: \n",
    "[13]\n",
    "#### Explanation: \n",
    "We have pref[0] = arr[0] = 13.\n",
    " \n",
    "\n",
    "### Constraints:\n",
    "1 <= pref.length <= 10^5\n",
    "\n",
    "0 <= pref[i] <= 10^6"
   ]
  },
  {
   "cell_type": "code",
   "execution_count": 1,
   "metadata": {},
   "outputs": [],
   "source": [
    "# pref: List[int]\n",
    "# return -> List[int]\n",
    "class Solution:\n",
    "    def findArray(self, pref):\n",
    "        running_xor = pref[0]\n",
    "        \n",
    "        for i in range(1, len(pref)):\n",
    "            pref[i] = running_xor ^ pref[i]\n",
    "            running_xor ^= pref[i]\n",
    "        \n",
    "        return pref"
   ]
  },
  {
   "cell_type": "code",
   "execution_count": 2,
   "metadata": {},
   "outputs": [
    {
     "data": {
      "text/plain": [
       "[5, 7, 2, 3, 2]"
      ]
     },
     "execution_count": 2,
     "metadata": {},
     "output_type": "execute_result"
    }
   ],
   "source": [
    "Solution.findArray(Solution.findArray, [5,2,0,3,1])"
   ]
  }
 ],
 "metadata": {
  "kernelspec": {
   "display_name": "Python 3.10.6 64-bit",
   "language": "python",
   "name": "python3"
  },
  "language_info": {
   "codemirror_mode": {
    "name": "ipython",
    "version": 3
   },
   "file_extension": ".py",
   "mimetype": "text/x-python",
   "name": "python",
   "nbconvert_exporter": "python",
   "pygments_lexer": "ipython3",
   "version": "3.10.6"
  },
  "orig_nbformat": 4,
  "vscode": {
   "interpreter": {
    "hash": "26de051ba29f2982a8de78e945f0abaf191376122a1563185a90213a26c5da77"
   }
  }
 },
 "nbformat": 4,
 "nbformat_minor": 2
}
