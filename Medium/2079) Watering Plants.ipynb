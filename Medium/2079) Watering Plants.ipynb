{
 "cells": [
  {
   "cell_type": "markdown",
   "metadata": {},
   "source": [
    "# WATERING PLANTS\n",
    "\n",
    "You want to water n plants in your garden with a watering can. The plants are arranged in a row and are labeled from 0 to n - 1 from left to right where the ith plant is located at x = i. There is a river at x = -1 that you can refill your watering can at.\n",
    "\n",
    "Each plant needs a specific amount of water. You will water the plants in the following way:\n",
    "\n",
    "Water the plants in order from left to right.\n",
    "After watering the current plant, if you do not have enough water to completely water the next plant, return to the river to fully refill the watering can.\n",
    "You cannot refill the watering can early.\n",
    "You are initially at the river (i.e., x = -1). It takes one step to move one unit on the x-axis.\n",
    "\n",
    "Given a 0-indexed integer array plants of n integers, where plants[i] is the amount of water the ith plant needs, and an integer capacity representing the watering can capacity, return the number of steps needed to water all the plants.\n",
    "\n",
    "### Example 1:\n",
    "\n",
    "### Input: \n",
    "plants = [2,2,3,3], capacity = 5\n",
    "### Output: \n",
    "14\n",
    "### Explanation: \n",
    "Start at the river with a full watering can:\n",
    "- Walk to plant 0 (1 step) and water it. Watering can has 3 units of water.\n",
    "- Walk to plant 1 (1 step) and water it. Watering can has 1 unit of water.\n",
    "- Since you cannot completely water plant 2, walk back to the river to refill (2 steps).\n",
    "- Walk to plant 2 (3 steps) and water it. Watering can has 2 units of water.\n",
    "- Since you cannot completely water plant 3, walk back to the river to refill (3 steps).\n",
    "- Walk to plant 3 (4 steps) and water it.\n",
    "Steps needed = 1 + 1 + 2 + 3 + 3 + 4 = 14.\n",
    "### Example 2:\n",
    "\n",
    "### Input: \n",
    "plants = [1,1,1,4,2,3], capacity = 4\n",
    "### Output: \n",
    "30\n",
    "### Explanation: \n",
    "Start at the river with a full watering can:\n",
    "- Water plants 0, 1, and 2 (3 steps). Return to river (3 steps).\n",
    "- Water plant 3 (4 steps). Return to river (4 steps).\n",
    "- Water plant 4 (5 steps). Return to river (5 steps).\n",
    "- Water plant 5 (6 steps).\n",
    "Steps needed = 3 + 3 + 4 + 4 + 5 + 5 + 6 = 30.\n",
    "### Example 3:\n",
    "\n",
    "### Input: \n",
    "plants = [7,7,7,7,7,7,7], capacity = 8\n",
    "### Output: \n",
    "49\n",
    "### Explanation: \n",
    "You have to refill before watering each plant.\n",
    "Steps needed = 1 + 1 + 2 + 2 + 3 + 3 + 4 + 4 + 5 + 5 + 6 + 6 + 7 = 49.\n",
    " \n",
    "\n",
    "### Constraints:\n",
    "n == plants.length\n",
    "\n",
    "1 <= n <= 1000\n",
    "\n",
    "1 <= plants[i] <= 10^6\n",
    "\n",
    "max(plants[i]) <= capacity <= 10^9"
   ]
  },
  {
   "cell_type": "code",
   "execution_count": 2,
   "metadata": {},
   "outputs": [],
   "source": [
    "# plants: List[int]\n",
    "# capacity: int\n",
    "# return -> int\n",
    "class Solution:\n",
    "    def wateringPlants(self, plants, capacity):\n",
    "        pos = -1\n",
    "        steps = 0\n",
    "        can = capacity\n",
    "        next_plant = 0\n",
    "        total_plants = len(plants)\n",
    "        \n",
    "        # Until all plants are watered\n",
    "        while next_plant < total_plants:\n",
    "            \n",
    "            # Come to the next plant\n",
    "            steps += 1\n",
    "            pos += 1\n",
    "            \n",
    "            # Water the plant\n",
    "            can -= plants[next_plant]\n",
    "            \n",
    "            # Check if all plants are watered\n",
    "            if pos == total_plants - 1:\n",
    "                break\n",
    "\n",
    "            # Check if water in can is sufficient for next plant\n",
    "            if can < plants[next_plant + 1]:\n",
    "                \n",
    "                # Refill can\n",
    "                steps += 2 * (pos + 1)\n",
    "                can = capacity\n",
    "                \n",
    "            next_plant += 1\n",
    "\n",
    "        return steps"
   ]
  },
  {
   "cell_type": "code",
   "execution_count": 3,
   "metadata": {},
   "outputs": [
    {
     "data": {
      "text/plain": [
       "30"
      ]
     },
     "execution_count": 3,
     "metadata": {},
     "output_type": "execute_result"
    }
   ],
   "source": [
    "Solution.wateringPlants(Solution.wateringPlants, [1,1,1,4,2,3], capacity = 4)"
   ]
  }
 ],
 "metadata": {
  "kernelspec": {
   "display_name": "Python 3.10.6 64-bit",
   "language": "python",
   "name": "python3"
  },
  "language_info": {
   "codemirror_mode": {
    "name": "ipython",
    "version": 3
   },
   "file_extension": ".py",
   "mimetype": "text/x-python",
   "name": "python",
   "nbconvert_exporter": "python",
   "pygments_lexer": "ipython3",
   "version": "3.10.6"
  },
  "orig_nbformat": 4,
  "vscode": {
   "interpreter": {
    "hash": "26de051ba29f2982a8de78e945f0abaf191376122a1563185a90213a26c5da77"
   }
  }
 },
 "nbformat": 4,
 "nbformat_minor": 2
}
