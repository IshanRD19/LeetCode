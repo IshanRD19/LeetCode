{
 "cells": [
  {
   "cell_type": "markdown",
   "metadata": {},
   "source": [
    "# KEYS AND ROOMS\n",
    "\n",
    "There are n rooms labeled from 0 to n - 1 and all the rooms are locked except for room 0. Your goal is to visit all the rooms. However, you cannot enter a locked room without having its key.\n",
    "\n",
    "When you visit a room, you may find a set of distinct keys in it. Each key has a number on it, denoting which room it unlocks, and you can take all of them with you to unlock the other rooms.\n",
    "\n",
    "Given an array rooms where rooms[i] is the set of keys that you can obtain if you visited room i, return true if you can visit all the rooms, or false otherwise.\n",
    "\n",
    "### Example 1:\n",
    "\n",
    "#### Input: \n",
    "rooms = [[1],[2],[3],[]]\n",
    "#### Output: \n",
    "true\n",
    "#### Explanation: \n",
    "We visit room 0 and pick up key 1.\n",
    "\n",
    "We then visit room 1 and pick up key 2.\n",
    "\n",
    "We then visit room 2 and pick up key 3.\n",
    "\n",
    "We then visit room 3.\n",
    "\n",
    "Since we were able to visit every room, we return true.\n",
    "### Example 2:\n",
    "\n",
    "#### Input: \n",
    "rooms = [[1,3],[3,0,1],[2],[0]]\n",
    "#### Output: \n",
    "false\n",
    "#### Explanation: \n",
    "We can not enter room number 2 since the only key that unlocks it is in that room.\n",
    " \n",
    "\n",
    "### Constraints:\n",
    "n == rooms.length\n",
    "\n",
    "2 <= n <= 1000\n",
    "\n",
    "0 <= rooms[i].length <= 1000\n",
    "\n",
    "1 <= sum(rooms[i].length) <= 3000\n",
    "\n",
    "0 <= rooms[i][j] < n\n",
    "\n",
    "All the values of rooms[i] are unique."
   ]
  },
  {
   "cell_type": "code",
   "execution_count": 3,
   "metadata": {},
   "outputs": [],
   "source": [
    "# rooms: List[List[int]]\n",
    "# return -> bool\n",
    "class Solution:\n",
    "    def canVisitAllRooms(self, rooms):\n",
    "        visited = {0}\n",
    "        keys = {0}\n",
    "        \n",
    "        # While there's an unused key (unexplored room)\n",
    "        while keys:\n",
    "            \n",
    "            # Select a key at random\n",
    "            key = keys.pop()\n",
    "            \n",
    "            for next_key in rooms[key]:\n",
    "                \n",
    "                if next_key not in visited:\n",
    "                    keys.add(next_key)\n",
    "                    visited.add(next_key)\n",
    "        \n",
    "        return len(visited) == len(rooms)"
   ]
  },
  {
   "cell_type": "code",
   "execution_count": 4,
   "metadata": {},
   "outputs": [
    {
     "data": {
      "text/plain": [
       "False"
      ]
     },
     "execution_count": 4,
     "metadata": {},
     "output_type": "execute_result"
    }
   ],
   "source": [
    "Solution.canVisitAllRooms(Solution.canVisitAllRooms, [[1,3],[3,0,1],[2],[0]])"
   ]
  }
 ],
 "metadata": {
  "kernelspec": {
   "display_name": "Python 3.10.6 64-bit",
   "language": "python",
   "name": "python3"
  },
  "language_info": {
   "codemirror_mode": {
    "name": "ipython",
    "version": 3
   },
   "file_extension": ".py",
   "mimetype": "text/x-python",
   "name": "python",
   "nbconvert_exporter": "python",
   "pygments_lexer": "ipython3",
   "version": "3.10.6"
  },
  "orig_nbformat": 4,
  "vscode": {
   "interpreter": {
    "hash": "26de051ba29f2982a8de78e945f0abaf191376122a1563185a90213a26c5da77"
   }
  }
 },
 "nbformat": 4,
 "nbformat_minor": 2
}
