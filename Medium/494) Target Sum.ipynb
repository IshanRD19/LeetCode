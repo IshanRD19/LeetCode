{
 "cells": [
  {
   "cell_type": "markdown",
   "metadata": {},
   "source": [
    "# TARGET SUM\n",
    "\n",
    "You are given an integer array nums and an integer target.\n",
    "\n",
    "You want to build an expression out of nums by adding one of the symbols '+' and '-' before each integer in nums and then concatenate all the integers.\n",
    "\n",
    "For example, if nums = [2, 1], you can add a '+' before 2 and a '-' before 1 and concatenate them to build the expression \"+2-1\".\n",
    "Return the number of different expressions that you can build, which evaluates to target.\n",
    "\n",
    "### Example 1:\n",
    "#### Input: \n",
    "nums = [1,1,1,1,1], target = 3\n",
    "#### Output: \n",
    "5\n",
    "#### Explanation: \n",
    "There are 5 ways to assign symbols to make the sum of nums be target 3.\n",
    "\n",
    "-1 + 1 + 1 + 1 + 1 = 3\n",
    "\n",
    "+1 - 1 + 1 + 1 + 1 = 3\n",
    "\n",
    "+1 + 1 - 1 + 1 + 1 = 3\n",
    "\n",
    "+1 + 1 + 1 - 1 + 1 = 3\n",
    "\n",
    "+1 + 1 + 1 + 1 - 1 = 3\n",
    "### Example 2:\n",
    "#### Input: \n",
    "nums = [1], target = 1\n",
    "#### Output: \n",
    "1\n",
    "\n",
    "### Constraints:\n",
    "\n",
    "1 <= nums.length <= 20\n",
    "\n",
    "0 <= nums[i] <= 1000\n",
    "\n",
    "0 <= sum(nums[i]) <= 1000\n",
    "\n",
    "-1000 <= target <= 1000"
   ]
  },
  {
   "cell_type": "code",
   "execution_count": 1,
   "metadata": {},
   "outputs": [],
   "source": [
    "# nums: List[int]\n",
    "# target: int\n",
    "# return -> int\n",
    "class Solution:\n",
    "    \n",
    "    # There can be same total at given index by different expressions (1-1 == -1+1)\n",
    "    # Our goal is to identify this and reduce the following redundant computation\n",
    "    \n",
    "    def findTargetSumWays(self, nums, target):\n",
    "        length = len(nums)\n",
    "\n",
    "        # (index, total): no. of ways it can be reached\n",
    "        explored = {}\n",
    "\n",
    "        def recursive_call(i, total):\n",
    "\n",
    "            # Check if array is traversed\n",
    "            if i == length:\n",
    "\n",
    "                # Compare total with target sum\n",
    "                return 1 if total == target else 0\n",
    "\n",
    "            # Identify the point of redundancy in the subtree\n",
    "            if (i, total) in explored:\n",
    "                return explored[(i, total)]\n",
    "            \n",
    "            # Go further down in the subtree and store the result considering both choices\n",
    "            explored[(i, total)] = recursive_call(i+1, total + nums[i]) + recursive_call(i+1, total - nums[i])\n",
    "\n",
    "            return explored[(i, total)]\n",
    "\n",
    "        return recursive_call(0, 0)"
   ]
  },
  {
   "cell_type": "code",
   "execution_count": 2,
   "metadata": {},
   "outputs": [
    {
     "data": {
      "text/plain": [
       "5"
      ]
     },
     "execution_count": 2,
     "metadata": {},
     "output_type": "execute_result"
    }
   ],
   "source": [
    "Solution.findTargetSumWays(Solution.findTargetSumWays, nums = [1,1,1,1,1], target = 3)"
   ]
  }
 ],
 "metadata": {
  "kernelspec": {
   "display_name": "Python 3.10.6 64-bit",
   "language": "python",
   "name": "python3"
  },
  "language_info": {
   "codemirror_mode": {
    "name": "ipython",
    "version": 3
   },
   "file_extension": ".py",
   "mimetype": "text/x-python",
   "name": "python",
   "nbconvert_exporter": "python",
   "pygments_lexer": "ipython3",
   "version": "3.10.6"
  },
  "orig_nbformat": 4,
  "vscode": {
   "interpreter": {
    "hash": "26de051ba29f2982a8de78e945f0abaf191376122a1563185a90213a26c5da77"
   }
  }
 },
 "nbformat": 4,
 "nbformat_minor": 2
}
