{
 "cells": [
  {
   "cell_type": "markdown",
   "metadata": {},
   "source": [
    "# MINIMUM NUMBER OF VERTICES TO REACH ALL NODES\n",
    "\n",
    "Given a directed acyclic graph, with n vertices numbered from 0 to n-1, and an array edges where edges[i] = [fromi, toi] represents a directed edge from node fromi to node toi.\n",
    "\n",
    "Find the smallest set of vertices from which all nodes in the graph are reachable. It's guaranteed that a unique solution exists.\n",
    "\n",
    "Notice that you can return the vertices in any order.\n",
    "\n",
    "### Example 1:\n",
    "\n",
    "\n",
    "\n",
    "#### Input: \n",
    "n = 6, edges = [[0,1],[0,2],[2,5],[3,4],[4,2]]\n",
    "#### Output: \n",
    "[0,3]\n",
    "#### Explanation: \n",
    "It's not possible to reach all the nodes from a single vertex. From 0 we can reach [0,1,2,5]. From 3 we can reach [3,4,2,5]. So we output [0,3].\n",
    "### Example 2:\n",
    "\n",
    "\n",
    "\n",
    "#### Input: \n",
    "n = 5, edges = [[0,1],[2,1],[3,1],[1,4],[2,4]]\n",
    "#### Output: \n",
    "[0,2,3]\n",
    "#### Explanation: \n",
    "Notice that vertices 0, 3 and 2 are not reachable from any other node, so we must include them. Also any of these vertices can reach nodes 1 and 4.\n",
    " \n",
    "\n",
    "### Constraints:\n",
    "\n",
    "2 <= n <= 10^5\n",
    "\n",
    "1 <= edges.length <= min(10^5, n * (n - 1) / 2)\n",
    "\n",
    "edges[i].length == 2\n",
    "\n",
    "0 <= fromi, toi < n\n",
    "\n",
    "All pairs (fromi, toi) are distinct."
   ]
  },
  {
   "cell_type": "code",
   "execution_count": 3,
   "metadata": {},
   "outputs": [],
   "source": [
    "#  n: int\n",
    "# edges: List[List[int]]\n",
    "# return -> List[int]\n",
    "class Solution:\n",
    "    def findSmallestSetOfVertices(self, n, edges):\n",
    "        # Count the number of nodes with zero incoming edges\n",
    "        result = [True for _ in range(n)]\n",
    "        \n",
    "        for e in edges:\n",
    "            if result[e[1]]:\n",
    "                result[e[1]] = False\n",
    "                \n",
    "        return [i for i in range(len(result)) if result[i]]"
   ]
  },
  {
   "cell_type": "code",
   "execution_count": 4,
   "metadata": {},
   "outputs": [
    {
     "data": {
      "text/plain": [
       "[0, 2, 3]"
      ]
     },
     "execution_count": 4,
     "metadata": {},
     "output_type": "execute_result"
    }
   ],
   "source": [
    "Solution.findSmallestSetOfVertices(Solution.findSmallestSetOfVertices, 5, [[0,1],[2,1],[3,1],[1,4],[2,4]])"
   ]
  }
 ],
 "metadata": {
  "kernelspec": {
   "display_name": "Python 3.10.6 64-bit",
   "language": "python",
   "name": "python3"
  },
  "language_info": {
   "codemirror_mode": {
    "name": "ipython",
    "version": 3
   },
   "file_extension": ".py",
   "mimetype": "text/x-python",
   "name": "python",
   "nbconvert_exporter": "python",
   "pygments_lexer": "ipython3",
   "version": "3.10.6"
  },
  "orig_nbformat": 4,
  "vscode": {
   "interpreter": {
    "hash": "26de051ba29f2982a8de78e945f0abaf191376122a1563185a90213a26c5da77"
   }
  }
 },
 "nbformat": 4,
 "nbformat_minor": 2
}
