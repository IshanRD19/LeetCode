{
 "cells": [
  {
   "cell_type": "markdown",
   "metadata": {},
   "source": [
    "# NUMBER OF PROVINCES\n",
    "\n",
    "There are n cities. Some of them are connected, while some are not. If city a is connected directly with city b, and city b is connected directly with city c, then city a is connected indirectly with city c.\n",
    "\n",
    "A province is a group of directly or indirectly connected cities and no other cities outside of the group.\n",
    "\n",
    "You are given an n x n matrix isConnected where isConnected[i][j] = 1 if the ith city and the jth city are directly connected, and isConnected[i][j] = 0 otherwise.\n",
    "\n",
    "Return the total number of provinces.\n",
    "\n",
    "### Example 1:\n",
    "\n",
    "\n",
    "#### Input: \n",
    "isConnected = [[1,1,0],[1,1,0],[0,0,1]]\n",
    "#### Output: \n",
    "2\n",
    "### Example 2:\n",
    "\n",
    "\n",
    "#### Input: \n",
    "isConnected = [[1,0,0],[0,1,0],[0,0,1]]\n",
    "#### Output: \n",
    "3\n",
    " \n",
    "\n",
    "### Constraints:\n",
    "1 <= n <= 200\n",
    "\n",
    "n == isConnected.length\n",
    "\n",
    "n == isConnected[i].length\n",
    "\n",
    "isConnected[i][j] is 1 or 0.\n",
    "\n",
    "isConnected[i][i] == 1\n",
    "\n",
    "isConnected[i][j] == isConnected[j][i]"
   ]
  },
  {
   "cell_type": "code",
   "execution_count": 7,
   "metadata": {},
   "outputs": [],
   "source": [
    "class Solution:\n",
    "\n",
    "    # isConnected: List[List[int]]\n",
    "    # return -> int\n",
    "    def findCircleNum(self, isConnected):\n",
    "        total_components = 0\n",
    "        total_nodes = len(isConnected)\n",
    "        visited = [False for _ in range(total_nodes)]\n",
    "\n",
    "        def dfs(total_nodes, isConnected, visited, current_node):\n",
    "            visited[current_node] = True\n",
    "            \n",
    "            # For each neighbor of current node\n",
    "            for i in range(total_nodes):\n",
    "                \n",
    "                # If neighbor is connected and unexplored\n",
    "                if current_node != i and isConnected[current_node][i] and not visited[i]:\n",
    "                    \n",
    "                    # Explore the neighbor nodes of current node\n",
    "                    visited = dfs(total_nodes, isConnected, visited, i)\n",
    "            \n",
    "            return visited\n",
    "\n",
    "        \n",
    "        # For each node\n",
    "        for i in range(total_nodes):\n",
    "            \n",
    "            # If node is unvisited\n",
    "            if not visited[i]:\n",
    "                \n",
    "                # Explore the component originating from the node\n",
    "                total_components += 1\n",
    "                visited = dfs(total_nodes, isConnected, visited, i)\n",
    "\n",
    "        return total_components"
   ]
  },
  {
   "cell_type": "code",
   "execution_count": 8,
   "metadata": {},
   "outputs": [
    {
     "data": {
      "text/plain": [
       "2"
      ]
     },
     "execution_count": 8,
     "metadata": {},
     "output_type": "execute_result"
    }
   ],
   "source": [
    "Solution.findCircleNum(Solution.findCircleNum, [[1,1,0],[1,1,0],[0,0,1]])"
   ]
  }
 ],
 "metadata": {
  "kernelspec": {
   "display_name": "Python 3.10.6 64-bit",
   "language": "python",
   "name": "python3"
  },
  "language_info": {
   "codemirror_mode": {
    "name": "ipython",
    "version": 3
   },
   "file_extension": ".py",
   "mimetype": "text/x-python",
   "name": "python",
   "nbconvert_exporter": "python",
   "pygments_lexer": "ipython3",
   "version": "3.10.6"
  },
  "orig_nbformat": 4,
  "vscode": {
   "interpreter": {
    "hash": "26de051ba29f2982a8de78e945f0abaf191376122a1563185a90213a26c5da77"
   }
  }
 },
 "nbformat": 4,
 "nbformat_minor": 2
}
