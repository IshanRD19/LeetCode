{
 "cells": [
  {
   "cell_type": "markdown",
   "metadata": {},
   "source": [
    "# FINDING THE USERS ACTIVE MINUTES\n",
    "\n",
    "You are given the logs for users' actions on LeetCode, and an integer k. The logs are represented by a 2D integer array logs where each logs[i] = [IDi, timei] indicates that the user with IDi performed an action at the minute timei.\n",
    "\n",
    "Multiple users can perform actions simultaneously, and a single user can perform multiple actions in the same minute.\n",
    "\n",
    "The user active minutes (UAM) for a given user is defined as the number of unique minutes in which the user performed an action on LeetCode. A minute can only be counted once, even if multiple actions occur during it.\n",
    "\n",
    "You are to calculate a 1-indexed array answer of size k such that, for each j (1 <= j <= k), answer[j] is the number of users whose UAM equals j.\n",
    "\n",
    "Return the array answer as described above.\n",
    "\n",
    "### Example 1:\n",
    "\n",
    "#### Input: \n",
    "logs = [[0,5],[1,2],[0,2],[0,5],[1,3]], k = 5\n",
    "#### Output: \n",
    "[0,2,0,0,0]\n",
    "#### Explanation:\n",
    "The user with ID=0 performed actions at minutes 5, 2, and 5 again. Hence, they have a UAM of 2 (minute 5 is only counted once).\n",
    "The user with ID=1 performed actions at minutes 2 and 3. Hence, they have a UAM of 2.\n",
    "Since both users have a UAM of 2, answer[2] is 2, and the remaining answer[j] values are 0.\n",
    "### Example 2:\n",
    "\n",
    "#### Input: \n",
    "logs = [[1,1],[2,2],[2,3]], k = 4\n",
    "#### Output: \n",
    "[1,1,0,0]\n",
    "#### Explanation:\n",
    "The user with ID=1 performed a single action at minute 1. Hence, they have a UAM of 1.\n",
    "The user with ID=2 performed actions at minutes 2 and 3. Hence, they have a UAM of 2.\n",
    "There is one user with a UAM of 1 and one with a UAM of 2.\n",
    "Hence, answer[1] = 1, answer[2] = 1, and the remaining values are 0.\n",
    " \n",
    "\n",
    "### Constraints:\n",
    "\n",
    "1 <= logs.length <= 104\n",
    "0 <= IDi <= 109\n",
    "1 <= timei <= 105\n",
    "k is in the range [The maximum UAM for a user, 105]."
   ]
  },
  {
   "cell_type": "code",
   "execution_count": 1,
   "metadata": {},
   "outputs": [],
   "source": [
    "# logs: List[List[int]]\n",
    "# k: int\n",
    "# return -> List[int]\n",
    "class Solution:\n",
    "    def findingUsersActiveMinutes(self, logs, k):\n",
    "        result = [0 for _ in range(k)]\n",
    "        user_mins = {}\n",
    "        \n",
    "        # For each log\n",
    "        for log in logs:\n",
    "            \n",
    "            # Track the distinct minutes per user\n",
    "            if log[0] in user_mins:\n",
    "                user_mins[log[0]].add(log[1])\n",
    "            else:\n",
    "                user_mins[log[0]] = {log[1]}\n",
    "\n",
    "        # Prepare the User Active Minutes Array\n",
    "        for k, v in user_mins.items():\n",
    "            result[len(v)-1] += 1\n",
    "            \n",
    "        return result"
   ]
  },
  {
   "cell_type": "code",
   "execution_count": 3,
   "metadata": {},
   "outputs": [
    {
     "data": {
      "text/plain": [
       "[0, 2, 0, 0, 0]"
      ]
     },
     "execution_count": 3,
     "metadata": {},
     "output_type": "execute_result"
    }
   ],
   "source": [
    "Solution.findingUsersActiveMinutes(Solution.findingUsersActiveMinutes, [[0,5],[1,2],[0,2],[0,5],[1,3]], 5)"
   ]
  }
 ],
 "metadata": {
  "kernelspec": {
   "display_name": "Python 3.10.6 64-bit",
   "language": "python",
   "name": "python3"
  },
  "language_info": {
   "codemirror_mode": {
    "name": "ipython",
    "version": 3
   },
   "file_extension": ".py",
   "mimetype": "text/x-python",
   "name": "python",
   "nbconvert_exporter": "python",
   "pygments_lexer": "ipython3",
   "version": "3.10.6"
  },
  "orig_nbformat": 4,
  "vscode": {
   "interpreter": {
    "hash": "26de051ba29f2982a8de78e945f0abaf191376122a1563185a90213a26c5da77"
   }
  }
 },
 "nbformat": 4,
 "nbformat_minor": 2
}
