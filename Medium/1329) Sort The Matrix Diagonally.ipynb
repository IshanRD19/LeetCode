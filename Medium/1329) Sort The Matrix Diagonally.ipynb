{
 "cells": [
  {
   "cell_type": "markdown",
   "metadata": {},
   "source": [
    "# SORT THE MATRIX DIAGONALLY\n",
    "\n",
    "A matrix diagonal is a diagonal line of cells starting from some cell in either the topmost row or leftmost column and going in the bottom-right direction until reaching the matrix's end. For example, the matrix diagonal starting from mat[2][0], where mat is a 6 x 3 matrix, includes cells mat[2][0], mat[3][1], and mat[4][2].\n",
    "\n",
    "Given an m x n matrix mat of integers, sort each matrix diagonal in ascending order and return the resulting matrix.\n",
    "\n",
    "### Example 1:\n",
    "\n",
    "\n",
    "#### Input: \n",
    "mat = [[3,3,1,1],[2,2,1,2],[1,1,1,2]]\n",
    "#### Output: \n",
    "[[1,1,1,1],[1,2,2,2],[1,2,3,3]]\n",
    "### Example 2:\n",
    "\n",
    "#### Input: \n",
    "mat = [[11,25,66,1,69,7],[23,55,17,45,15,52],[75,31,36,44,58,8],[22,27,33,25,68,4],[84,28,14,11,5,50]]\n",
    "#### Output: \n",
    "[[5,17,4,1,52,7],[11,11,25,45,8,69],[14,23,25,44,58,15],[22,27,31,36,50,66],[84,28,75,33,55,68]]\n",
    " \n",
    "\n",
    "### Constraints:\n",
    "\n",
    "m == mat.length\n",
    "\n",
    "n == mat[i].length\n",
    "\n",
    "1 <= m, n <= 100\n",
    "\n",
    "1 <= mat[i][j] <= 100"
   ]
  },
  {
   "cell_type": "code",
   "execution_count": 6,
   "metadata": {},
   "outputs": [],
   "source": [
    "# mat: List[List[int]]\n",
    "# return -> List[List[int]]\n",
    "class Solution:\n",
    "    def diagonalSort(self, mat):\n",
    "        element_map = {}\n",
    "        row_count, col_count = len(mat), len(mat[0])\n",
    "\n",
    "        # Map the elements in their respective diagonal\n",
    "        for row in range(row_count):\n",
    "            for col in range(col_count):\n",
    "                difference = row - col\n",
    "\n",
    "                if difference in element_map:\n",
    "                    element_map[difference].append(mat[row][col])\n",
    "                else:\n",
    "                    element_map[difference] = [mat[row][col]]\n",
    "        \n",
    "        # Sort the respective diagonal elements\n",
    "        for k, v in element_map.items():\n",
    "            v.sort()\n",
    "            element_map[k] = v\n",
    "        \n",
    "        # Rearrange elements in sorted manner\n",
    "        for row in range(row_count):\n",
    "            for col in range(col_count):\n",
    "                difference = row - col\n",
    "                mat[row][col] = element_map[difference].pop(0)\n",
    "        \n",
    "        return mat\n",
    "        "
   ]
  },
  {
   "cell_type": "code",
   "execution_count": 7,
   "metadata": {},
   "outputs": [
    {
     "data": {
      "text/plain": [
       "[[5, 17, 4, 1, 52, 7],\n",
       " [11, 11, 25, 45, 8, 69],\n",
       " [14, 23, 25, 44, 58, 15],\n",
       " [22, 27, 31, 36, 50, 66],\n",
       " [84, 28, 75, 33, 55, 68]]"
      ]
     },
     "execution_count": 7,
     "metadata": {},
     "output_type": "execute_result"
    }
   ],
   "source": [
    "# Solution.diagonalSort(Solution.diagonalSort, [[3,3,1,1],[2,2,1,2],[1,1,1,2]])\n",
    "Solution.diagonalSort(Solution.diagonalSort, [[11,25,66,1,69,7],[23,55,17,45,15,52],[75,31,36,44,58,8],[22,27,33,25,68,4],[84,28,14,11,5,50]])"
   ]
  }
 ],
 "metadata": {
  "kernelspec": {
   "display_name": "Python 3.10.6 64-bit",
   "language": "python",
   "name": "python3"
  },
  "language_info": {
   "codemirror_mode": {
    "name": "ipython",
    "version": 3
   },
   "file_extension": ".py",
   "mimetype": "text/x-python",
   "name": "python",
   "nbconvert_exporter": "python",
   "pygments_lexer": "ipython3",
   "version": "3.10.6"
  },
  "orig_nbformat": 4,
  "vscode": {
   "interpreter": {
    "hash": "26de051ba29f2982a8de78e945f0abaf191376122a1563185a90213a26c5da77"
   }
  }
 },
 "nbformat": 4,
 "nbformat_minor": 2
}
