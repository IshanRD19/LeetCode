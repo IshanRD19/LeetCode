{
 "cells": [
  {
   "cell_type": "markdown",
   "metadata": {},
   "source": [
    "# WIDEST VERTICAL AREA BETWEEN TWO POINTS CONTAINING NO POINTS\n",
    "\n",
    "Given n points on a 2D plane where points[i] = [xi, yi], Return the widest vertical area between two points such that no points are inside the area.\n",
    "\n",
    "A vertical area is an area of fixed-width extending infinitely along the y-axis (i.e., infinite height). The widest vertical area is the one with the maximum width.\n",
    "\n",
    "Note that points on the edge of a vertical area are not considered included in the area.\n",
    "\n",
    "### Example 1:\n",
    "#### Input: \n",
    "points = [[8,7],[9,9],[7,4],[9,7]]\n",
    "#### Output: \n",
    "1\n",
    "#### Explanation: \n",
    "Both the red and the blue area are optimal.\n",
    "### Example 2:\n",
    "#### Input: \n",
    "points = [[3,1],[9,0],[1,0],[1,4],[5,3],[8,8]]\n",
    "#### Output: \n",
    "3\n",
    " \n",
    "### Constraints:\n",
    "n == points.length\n",
    "\n",
    "2 <= n <= 10^5\n",
    "\n",
    "points[i].length == 2\n",
    "\n",
    "0 <= xi, yi <= 10^9"
   ]
  },
  {
   "cell_type": "code",
   "execution_count": 1,
   "metadata": {},
   "outputs": [],
   "source": [
    "# points: List[List[int]]\n",
    "# return -> int\n",
    "class Solution:\n",
    "    def maxWidthOfVerticalArea(self, points):\n",
    "        # Extract and sort the x values as y is not relevant\n",
    "        x_points = [point[0] for point in points]\n",
    "        x_points.sort()\n",
    "        \n",
    "        max_width = -1\n",
    "        \n",
    "        # Calculate the max width for widest area\n",
    "        for i in range(1, len(x_points)):\n",
    "            max_width = max(max_width, x_points[i] - x_points[i-1])\n",
    "            \n",
    "        return max_width"
   ]
  },
  {
   "cell_type": "code",
   "execution_count": 2,
   "metadata": {},
   "outputs": [
    {
     "data": {
      "text/plain": [
       "3"
      ]
     },
     "execution_count": 2,
     "metadata": {},
     "output_type": "execute_result"
    }
   ],
   "source": [
    "Solution.maxWidthOfVerticalArea(Solution.maxWidthOfVerticalArea, [[3,1],[9,0],[1,0],[1,4],[5,3],[8,8]])"
   ]
  }
 ],
 "metadata": {
  "kernelspec": {
   "display_name": "Python 3.10.6 64-bit",
   "language": "python",
   "name": "python3"
  },
  "language_info": {
   "codemirror_mode": {
    "name": "ipython",
    "version": 3
   },
   "file_extension": ".py",
   "mimetype": "text/x-python",
   "name": "python",
   "nbconvert_exporter": "python",
   "pygments_lexer": "ipython3",
   "version": "3.10.6"
  },
  "orig_nbformat": 4,
  "vscode": {
   "interpreter": {
    "hash": "26de051ba29f2982a8de78e945f0abaf191376122a1563185a90213a26c5da77"
   }
  }
 },
 "nbformat": 4,
 "nbformat_minor": 2
}
