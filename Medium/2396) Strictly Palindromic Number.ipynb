{
 "cells": [
  {
   "cell_type": "markdown",
   "metadata": {},
   "source": [
    "# STRICTLY PALINDROMIC NUMBER\n",
    "\n",
    "An integer n is strictly palindromic if, for every base b between 2 and n - 2 (inclusive), the string representation of the integer n in base b is palindromic.\n",
    "\n",
    "Given an integer n, return true if n is strictly palindromic and false otherwise.\n",
    "\n",
    "A string is palindromic if it reads the same forward and backward.\n",
    "\n",
    "### Example 1:\n",
    "\n",
    "#### Input: \n",
    "n = 9\n",
    "#### Output: \n",
    "false\n",
    "#### Explanation: \n",
    "In base 2: 9 = 1001 (base 2), which is palindromic.\n",
    "In base 3: 9 = 100 (base 3), which is not palindromic.\n",
    "Therefore, 9 is not strictly palindromic so we return false.\n",
    "Note that in bases 4, 5, 6, and 7, n = 9 is also not palindromic.\n",
    "### Example 2:\n",
    "\n",
    "#### Input: \n",
    "n = 4\n",
    "#### Output: \n",
    "false\n",
    "#### Explanation: \n",
    "We only consider base 2: 4 = 100 (base 2), which is not palindromic.\n",
    "Therefore, we return false.\n",
    "\n",
    "### Constraints:\n",
    "4 <= n <= 10^5"
   ]
  },
  {
   "cell_type": "code",
   "execution_count": 1,
   "metadata": {},
   "outputs": [],
   "source": [
    "# n: int\n",
    "# return -> bool\n",
    "class Solution:\n",
    "    def isStrictlyPalindromic(self, n: int) -> bool:\n",
    "        return False"
   ]
  },
  {
   "cell_type": "code",
   "execution_count": 2,
   "metadata": {},
   "outputs": [
    {
     "data": {
      "text/plain": [
       "False"
      ]
     },
     "execution_count": 2,
     "metadata": {},
     "output_type": "execute_result"
    }
   ],
   "source": [
    "Solution.isStrictlyPalindromic(Solution.isStrictlyPalindromic, 9)"
   ]
  }
 ],
 "metadata": {
  "kernelspec": {
   "display_name": "Python 3.10.6 64-bit",
   "language": "python",
   "name": "python3"
  },
  "language_info": {
   "codemirror_mode": {
    "name": "ipython",
    "version": 3
   },
   "file_extension": ".py",
   "mimetype": "text/x-python",
   "name": "python",
   "nbconvert_exporter": "python",
   "pygments_lexer": "ipython3",
   "version": "3.10.6"
  },
  "orig_nbformat": 4,
  "vscode": {
   "interpreter": {
    "hash": "26de051ba29f2982a8de78e945f0abaf191376122a1563185a90213a26c5da77"
   }
  }
 },
 "nbformat": 4,
 "nbformat_minor": 2
}
