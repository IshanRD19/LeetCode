{
 "cells": [
  {
   "cell_type": "markdown",
   "metadata": {},
   "source": [
    "# BEST TIME TO BUY AND SELL STOCK\n",
    "\n",
    "You are given an integer array prices where prices[i] is the price of a given stock on the ith day.\n",
    "\n",
    "On each day, you may decide to buy and/or sell the stock. You can only hold at most one share of the stock at any time. However, you can buy it then immediately sell it on the same day.\n",
    "\n",
    "Find and return the maximum profit you can achieve.\n",
    "\n",
    "### Example 1:\n",
    "\n",
    "#### Input: \n",
    "prices = [7,1,5,3,6,4]\n",
    "#### Output: \n",
    "7\n",
    "#### Explanation: \n",
    "Buy on day 2 (price = 1) and sell on day 3 (price = 5), profit = 5-1 = 4.\n",
    "Then buy on day 4 (price = 3) and sell on day 5 (price = 6), profit = 6-3 = 3.\n",
    "Total profit is 4 + 3 = 7.\n",
    "### Example 2:\n",
    "\n",
    "#### Input: \n",
    "prices = [1,2,3,4,5]\n",
    "#### Output: \n",
    "4\n",
    "#### Explanation: \n",
    "Buy on day 1 (price = 1) and sell on day 5 (price = 5), profit = 5-1 = 4.\n",
    "Total profit is 4.\n",
    "### Example 3:\n",
    "\n",
    "#### Input: \n",
    "prices = [7,6,4,3,1]\n",
    "#### Output: \n",
    "0\n",
    "#### Explanation: \n",
    "There is no way to make a positive profit, so we never buy the stock to achieve the maximum profit of 0.\n",
    " \n",
    "\n",
    "### Constraints:\n",
    "1 <= prices.length <= 3 * 10^4\n",
    "\n",
    "0 <= prices[i] <= 10^4"
   ]
  },
  {
   "cell_type": "code",
   "execution_count": 1,
   "metadata": {},
   "outputs": [],
   "source": [
    "# prices: List[int]\n",
    "# return -> int\n",
    "class Solution:\n",
    "    def maxProfit(self, prices):\n",
    "        profit = 0\n",
    "        \n",
    "        for i in range(1, len(prices)):\n",
    "            if prices[i] > prices[i-1]:\n",
    "                profit += prices[i] - prices[i-1]\n",
    "        \n",
    "        return profit"
   ]
  },
  {
   "cell_type": "code",
   "execution_count": 2,
   "metadata": {},
   "outputs": [
    {
     "data": {
      "text/plain": [
       "7"
      ]
     },
     "execution_count": 2,
     "metadata": {},
     "output_type": "execute_result"
    }
   ],
   "source": [
    "Solution.maxProfit(Solution.maxProfit, [7,1,5,3,6,4])"
   ]
  }
 ],
 "metadata": {
  "kernelspec": {
   "display_name": "Python 3.10.6 64-bit",
   "language": "python",
   "name": "python3"
  },
  "language_info": {
   "codemirror_mode": {
    "name": "ipython",
    "version": 3
   },
   "file_extension": ".py",
   "mimetype": "text/x-python",
   "name": "python",
   "nbconvert_exporter": "python",
   "pygments_lexer": "ipython3",
   "version": "3.10.6"
  },
  "orig_nbformat": 4,
  "vscode": {
   "interpreter": {
    "hash": "26de051ba29f2982a8de78e945f0abaf191376122a1563185a90213a26c5da77"
   }
  }
 },
 "nbformat": 4,
 "nbformat_minor": 2
}
