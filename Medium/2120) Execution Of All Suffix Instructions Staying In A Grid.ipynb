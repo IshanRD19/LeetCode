{
 "cells": [
  {
   "cell_type": "markdown",
   "metadata": {},
   "source": [
    "# EXECUTION OF ALL SUFFIX INSTRUCTIONS STAYING IN A GRID\n",
    "\n",
    "There is an n x n grid, with the top-left cell at (0, 0) and the bottom-right cell at (n - 1, n - 1). You are given the integer n and an integer array startPos where startPos = [startrow, startcol] indicates that a robot is initially at cell (startrow, startcol).\n",
    "\n",
    "You are also given a 0-indexed string s of length m where s[i] is the ith instruction for the robot: 'L' (move left), 'R' (move right), 'U' (move up), and 'D' (move down).\n",
    "\n",
    "The robot can begin executing from any ith instruction in s. It executes the instructions one by one towards the end of s but it stops if either of these conditions is met:\n",
    "\n",
    "The next instruction will move the robot off the grid.\n",
    "There are no more instructions left to execute.\n",
    "Return an array answer of length m where answer[i] is the number of instructions the robot can execute if the robot begins executing from the ith instruction in s.\n",
    "\n",
    "### Example 1:\n",
    "\n",
    "\n",
    "#### Input: \n",
    "n = 3, startPos = [0,1], s = \"RRDDLU\"\n",
    "#### Output: \n",
    "[1,5,4,3,1,0]\n",
    "#### Explanation: \n",
    "Starting from startPos and beginning execution from the ith instruction:\n",
    "- 0th: \"RRDDLU\". Only one instruction \"R\" can be executed before it moves off the grid.\n",
    "- 1st:  \"RDDLU\". All five instructions can be executed while it stays in the grid and ends at (1, 1).\n",
    "- 2nd:   \"DDLU\". All four instructions can be executed while it stays in the grid and ends at (1, 0).\n",
    "- 3rd:    \"DLU\". All three instructions can be executed while it stays in the grid and ends at (0, 0).\n",
    "- 4th:     \"LU\". Only one instruction \"L\" can be executed before it moves off the grid.\n",
    "- 5th:      \"U\". If moving up, it would move off the grid.\n",
    "### Example 2:\n",
    "\n",
    "\n",
    "#### Input: \n",
    "n = 2, startPos = [1,1], s = \"LURD\"\n",
    "#### Output: \n",
    "[4,1,0,0]\n",
    "#### Explanation:\n",
    "- 0th: \"LURD\".\n",
    "- 1st:  \"URD\".\n",
    "- 2nd:   \"RD\".\n",
    "- 3rd:    \"D\".\n",
    "### Example 3:\n",
    "\n",
    "\n",
    "#### Input: \n",
    "n = 1, startPos = [0,0], s = \"LRUD\"\n",
    "#### Output: \n",
    "[0,0,0,0]\n",
    "#### Explanation: \n",
    "No matter which instruction the robot begins execution from, it would move off the grid.\n",
    "\n",
    "### Constraints:\n",
    "\n",
    "m == s.length\n",
    "\n",
    "1 <= n, m <= 500\n",
    "\n",
    "startPos.length == 2\n",
    "\n",
    "0 <= startrow, startcol < n\n",
    "\n",
    "s consists of 'L', 'R', 'U', and 'D'."
   ]
  },
  {
   "cell_type": "code",
   "execution_count": 18,
   "metadata": {},
   "outputs": [],
   "source": [
    "# n: int\n",
    "# startPos: List[int]\n",
    "# s: str\n",
    "# return -> List[int]\n",
    "class Solution:\n",
    "    def executeInstructions(self, n, startPos, s):\n",
    "        result = []\n",
    "        length = len(s)\n",
    "\n",
    "        for start in range(length):\n",
    "            pos = startPos.copy()\n",
    "            count = 0\n",
    "\n",
    "            for end in range(start, length):\n",
    "\n",
    "                if s[end] == 'L':\n",
    "                    pos[1] -= 1\n",
    "\n",
    "                elif s[end] == 'R':\n",
    "                    pos[1] += 1\n",
    "\n",
    "                elif s[end] == 'U':\n",
    "                    pos[0] -= 1\n",
    "\n",
    "                else:\n",
    "                    pos[0] += 1\n",
    "\n",
    "                # Check if robot is in grid\n",
    "                if 0 <= pos[0] <= (n-1) and 0 <= pos[1] <= (n-1):\n",
    "                    count += 1\n",
    "                else:\n",
    "                    break\n",
    "\n",
    "            result.append(count)\n",
    "            \n",
    "        return result"
   ]
  },
  {
   "cell_type": "code",
   "execution_count": 19,
   "metadata": {},
   "outputs": [
    {
     "data": {
      "text/plain": [
       "[1, 5, 4, 3, 1, 0]"
      ]
     },
     "execution_count": 19,
     "metadata": {},
     "output_type": "execute_result"
    }
   ],
   "source": [
    "Solution.executeInstructions(Solution.executeInstructions, 3, [0,1], 'RRDDLU')"
   ]
  }
 ],
 "metadata": {
  "kernelspec": {
   "display_name": "Python 3.10.6 64-bit",
   "language": "python",
   "name": "python3"
  },
  "language_info": {
   "codemirror_mode": {
    "name": "ipython",
    "version": 3
   },
   "file_extension": ".py",
   "mimetype": "text/x-python",
   "name": "python",
   "nbconvert_exporter": "python",
   "pygments_lexer": "ipython3",
   "version": "3.10.6"
  },
  "orig_nbformat": 4,
  "vscode": {
   "interpreter": {
    "hash": "26de051ba29f2982a8de78e945f0abaf191376122a1563185a90213a26c5da77"
   }
  }
 },
 "nbformat": 4,
 "nbformat_minor": 2
}
