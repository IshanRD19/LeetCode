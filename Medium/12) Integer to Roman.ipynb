{
 "cells": [
  {
   "cell_type": "markdown",
   "metadata": {},
   "source": [
    "# Integer to Roman\n",
    "\n",
    "Roman numerals are represented by seven different symbols: I, V, X, L, C, D and M.\n",
    "\n",
    "Symbol       Value\n",
    "\n",
    "- I             1\n",
    "- V             5\n",
    "- X             10\n",
    "- L             50\n",
    "- C             100\n",
    "- D             500\n",
    "- M             1000\n",
    "\n",
    "For example, 2 is written as II in Roman numeral, just two one's added together. 12 is written as XII, which is simply X + II. The number 27 is written as XXVII, which is XX + V + II.\n",
    "\n",
    "Roman numerals are usually written largest to smallest from left to right. However, the numeral for four is not IIII. Instead, the number four is written as IV. Because the one is before the five we subtract it making four. The same principle applies to the number nine, which is written as IX. There are six instances where subtraction is used:\n",
    "\n",
    "- I can be placed before V (5) and X (10) to make 4 and 9. \n",
    "- X can be placed before L (50) and C (100) to make 40 and 90. \n",
    "- C can be placed before D (500) and M (1000) to make 400 and 900.\n",
    "- Given an integer, convert it to a roman numeral.\n",
    "\n",
    " \n",
    "\n",
    "### Example 1:\n",
    "\n",
    "Input: num = 3\n",
    "\n",
    "Output: \"III\"\n",
    "\n",
    "### Example 2:\n",
    "\n",
    "Input: num = 4\n",
    "\n",
    "Output: \"IV\"\n",
    "\n",
    "### Example 3:\n",
    "\n",
    "Input: num = 9\n",
    "\n",
    "Output: \"IX\"\n",
    "\n",
    "### Example 4:\n",
    "\n",
    "Input: num = 58\n",
    "\n",
    "Output: \"LVIII\"\n",
    "\n",
    "Explanation: L = 50, V = 5, III = 3.\n",
    "\n",
    "### Example 5:\n",
    "\n",
    "Input: num = 1994\n",
    "\n",
    "Output: \"MCMXCIV\"\n",
    "\n",
    "Explanation: M = 1000, CM = 900, XC = 90 and IV = 4.\n",
    " \n",
    "### Constraints:\n",
    "\n",
    "1 <= num <= 3999"
   ]
  },
  {
   "cell_type": "markdown",
   "metadata": {},
   "source": [
    "## Trivial Approach"
   ]
  },
  {
   "cell_type": "code",
   "execution_count": 1,
   "metadata": {},
   "outputs": [],
   "source": [
    "# num: str\n",
    "class Solution:\n",
    "    def intToRoman(self, num):\n",
    "        roman = ''\n",
    "        \n",
    "        while(num):\n",
    "            if num // 1000:\n",
    "                roman += 'M'\n",
    "                num -= 1000\n",
    "\n",
    "            elif num // 100 == 9:\n",
    "                roman += 'CM'\n",
    "                num -= 900\n",
    "\n",
    "            elif num // 500:\n",
    "                roman += 'D'\n",
    "                num -= 500\n",
    "\n",
    "            elif num // 100 == 4:\n",
    "                roman += 'CD'\n",
    "                num -= 400\n",
    "            \n",
    "            elif num // 100:\n",
    "                roman += 'C'\n",
    "                num -= 100\n",
    "            \n",
    "            elif num // 10 == 9:\n",
    "                roman += 'XC'\n",
    "                num -= 90\n",
    "                \n",
    "            elif num // 50:\n",
    "                roman += 'L'\n",
    "                num -= 50\n",
    "\n",
    "            elif num // 10 == 4:\n",
    "                roman += 'XL'\n",
    "                num -= 40\n",
    "            \n",
    "            elif num // 10:\n",
    "                roman += 'X'\n",
    "                num -= 10\n",
    "            \n",
    "            elif num // 1 == 9:\n",
    "                roman += 'IX'\n",
    "                num -= 9\n",
    "            \n",
    "            elif num // 5:\n",
    "                roman += 'V'\n",
    "                num -= 5\n",
    "\n",
    "            elif num // 1 == 4:\n",
    "                roman += 'IV'\n",
    "                num -= 4\n",
    "            \n",
    "            elif num // 1:\n",
    "                roman += 'I'\n",
    "                num -= 1\n",
    "            \n",
    "        return roman"
   ]
  },
  {
   "cell_type": "code",
   "execution_count": 2,
   "metadata": {},
   "outputs": [
    {
     "data": {
      "text/plain": [
       "'MCMXCIV'"
      ]
     },
     "execution_count": 2,
     "metadata": {},
     "output_type": "execute_result"
    }
   ],
   "source": [
    "Solution.intToRoman(Solution.intToRoman, 1994)"
   ]
  },
  {
   "cell_type": "markdown",
   "metadata": {},
   "source": [
    "## A Better Approach"
   ]
  },
  {
   "cell_type": "code",
   "execution_count": 3,
   "metadata": {},
   "outputs": [],
   "source": [
    "from collections import OrderedDict\n",
    "\n",
    "# num: str\n",
    "class Solution:\n",
    "    def intToRoman2(self, num):\n",
    "        romanDict = {1 : \"I\",\n",
    "                    4 : \"IV\",\n",
    "                    5 : \"V\",\n",
    "                    9 : \"IX\",\n",
    "                    10: \"X\",\n",
    "                    40: \"XL\",\n",
    "                    50: \"L\",\n",
    "                    90: \"XC\",\n",
    "                    100: \"C\",\n",
    "                    400:\"CD\",\n",
    "                    500:\"D\",\n",
    "                    900:\"CM\",\n",
    "                    1000:\"M\"}\n",
    "        \n",
    "        romanDict  = OrderedDict(sorted(romanDict.items(), key = lambda x: x[0], reverse=True));\n",
    "        roman = ''\n",
    "\n",
    "        for int_key in romanDict:\n",
    "            while(num >= int_key):\n",
    "                roman += romanDict[int_key]\n",
    "                num -= int_key\n",
    "        return roman"
   ]
  },
  {
   "cell_type": "code",
   "execution_count": 4,
   "metadata": {},
   "outputs": [
    {
     "data": {
      "text/plain": [
       "'MMDCCCXLIX'"
      ]
     },
     "execution_count": 4,
     "metadata": {},
     "output_type": "execute_result"
    }
   ],
   "source": [
    "Solution.intToRoman2(Solution.intToRoman2, 2849)"
   ]
  },
  {
   "cell_type": "markdown",
   "metadata": {},
   "source": [
    "### Time Complexity\n",
    "\n",
    "Time Complexity: O(1)\n",
    "\n",
    "Space Complexity: O(1)"
   ]
  }
 ],
 "metadata": {
  "kernelspec": {
   "display_name": "Python 3",
   "language": "python",
   "name": "python3"
  },
  "language_info": {
   "codemirror_mode": {
    "name": "ipython",
    "version": 3
   },
   "file_extension": ".py",
   "mimetype": "text/x-python",
   "name": "python",
   "nbconvert_exporter": "python",
   "pygments_lexer": "ipython3",
   "version": "3.8.3"
  }
 },
 "nbformat": 4,
 "nbformat_minor": 4
}
