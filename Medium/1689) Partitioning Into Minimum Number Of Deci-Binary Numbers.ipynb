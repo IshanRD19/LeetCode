{
 "cells": [
  {
   "cell_type": "markdown",
   "metadata": {},
   "source": [
    "# PARTITIONING INTO MINIMUM NUMBER OF DECI-BINARY NUMBERS\n",
    "\n",
    "A decimal number is called deci-binary if each of its digits is either 0 or 1 without any leading zeros. For example, 101 and 1100 are deci-binary, while 112 and 3001 are not.\n",
    "\n",
    "Given a string n that represents a positive decimal integer, return the minimum number of positive deci-binary numbers needed so that they sum up to n.\n",
    "\n",
    "### Example 1:\n",
    "\n",
    "#### Input:\n",
    "n = \"32\"\n",
    "#### Output:\n",
    "3\n",
    "#### Explanation:\n",
    "10 + 11 + 11 = 32\n",
    "### Example 2:\n",
    "\n",
    "#### Input:\n",
    "n = \"82734\"\n",
    "#### Output:\n",
    "8\n",
    "#### Example 3:\n",
    "\n",
    "#### Input:\n",
    "n = \"27346209830709182346\"\n",
    "#### Output:\n",
    "9\n",
    " \n",
    "### Constraints:\n",
    "\n",
    "1 <= n.length <= 10^5\n",
    "\n",
    "n consists of only digits.\n",
    "\n",
    "n does not contain any leading zeros and represents a positive integer."
   ]
  },
  {
   "cell_type": "code",
   "execution_count": 1,
   "metadata": {},
   "outputs": [],
   "source": [
    "# n: str\n",
    "# return -> int\n",
    "class Solution:\n",
    "    def minPartitions(self, n):\n",
    "        # Think about if the input was only one digit. Then you need to add up as many ones as the value of this digit.\n",
    "        # If the input has multiple digits, then you can solve for each digit independently, and merge the answers to form numbers that add up to that input.\n",
    "        # Thus the answer is equal to the max digit.\n",
    "        return max([int(d) for d in str(n)])"
   ]
  },
  {
   "cell_type": "code",
   "execution_count": 2,
   "metadata": {},
   "outputs": [
    {
     "data": {
      "text/plain": [
       "9"
      ]
     },
     "execution_count": 2,
     "metadata": {},
     "output_type": "execute_result"
    }
   ],
   "source": [
    "Solution.minPartitions(Solution.minPartitions, '27346209830709182346')"
   ]
  },
  {
   "cell_type": "markdown",
   "metadata": {},
   "source": [
    "## Complexity Analysis\n",
    "\n",
    "Time Complexity: O(|n|)\n",
    "\n",
    "Space Complexity: O(1)"
   ]
  }
 ],
 "metadata": {
  "kernelspec": {
   "display_name": "Python 3",
   "language": "python",
   "name": "python3"
  },
  "language_info": {
   "codemirror_mode": {
    "name": "ipython",
    "version": 3
   },
   "file_extension": ".py",
   "mimetype": "text/x-python",
   "name": "python",
   "nbconvert_exporter": "python",
   "pygments_lexer": "ipython3",
   "version": "3.8.3"
  }
 },
 "nbformat": 4,
 "nbformat_minor": 4
}
