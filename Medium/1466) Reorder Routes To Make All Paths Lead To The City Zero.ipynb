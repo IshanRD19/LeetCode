{
 "cells": [
  {
   "cell_type": "markdown",
   "metadata": {},
   "source": [
    "# REORDER ROUTES TO MAKE ALL PATHS LEAD TO THE CITY ZERO\n",
    "\n",
    "There are n cities numbered from 0 to n - 1 and n - 1 roads such that there is only one way to travel between two different cities (this network form a tree). Last year, The ministry of transport decided to orient the roads in one direction because they are too narrow.\n",
    "\n",
    "Roads are represented by connections where connections[i] = [ai, bi] represents a road from city ai to city bi.\n",
    "\n",
    "This year, there will be a big event in the capital (city 0), and many people want to travel to this city.\n",
    "\n",
    "Your task consists of reorienting some roads such that each city can visit the city 0. Return the minimum number of edges changed.\n",
    "\n",
    "It's guaranteed that each city can reach city 0 after reorder.\n",
    "\n",
    "### Example 1:\n",
    "\n",
    "\n",
    "#### Input: \n",
    "n = 6, connections = [[0,1],[1,3],[2,3],[4,0],[4,5]]\n",
    "#### Output: \n",
    "3\n",
    "#### Explanation: \n",
    "Change the direction of edges show in red such that each node can reach the node 0 (capital).\n",
    "### Example 2:\n",
    "\n",
    "\n",
    "#### Input: \n",
    "n = 5, connections = [[1,0],[1,2],[3,2],[3,4]]\n",
    "#### Output: \n",
    "2\n",
    "#### Explanation: \n",
    "Change the direction of edges show in red such that each node can reach the node 0 (capital).\n",
    "### Example 3:\n",
    "\n",
    "### Input: n = 3, connections = [[1,0],[2,0]]\n",
    "### Output: 0\n",
    "\n",
    "### Constraints:\n",
    "2 <= n <= 5 * 10^4\n",
    "\n",
    "connections.length == n - 1\n",
    "\n",
    "connections[i].length == 2\n",
    "\n",
    "0 <= ai, bi <= n - 1\n",
    "\n",
    "ai != bi\n",
    "\n",
    "## Approach 1: Trivial Approach"
   ]
  },
  {
   "cell_type": "code",
   "execution_count": 32,
   "metadata": {},
   "outputs": [],
   "source": [
    "# n: int\n",
    "# connections: List[List[int]]\n",
    "# return -> int\n",
    "class Solution:\n",
    "    def minReorder(self, n, connections):\n",
    "        cities_to_zero = {0}\n",
    "        reorder_count = 0\n",
    "        \n",
    "        while connections:\n",
    "            from_city, to_city = connections.pop(0)\n",
    "\n",
    "            # Check if from_city has route to city zero\n",
    "            if from_city in cities_to_zero:\n",
    "                \n",
    "                # If to_city does not have route to city zero\n",
    "                if to_city not in cities_to_zero:\n",
    "                    reorder_count += 1\n",
    "                    cities_to_zero.add(to_city)\n",
    "\n",
    "            # Check if to_city already has route to city zero\n",
    "            elif to_city in cities_to_zero:\n",
    "                cities_to_zero.add(from_city)\n",
    "\n",
    "            else:\n",
    "                connections.append([from_city, to_city])\n",
    "        \n",
    "        return reorder_count"
   ]
  },
  {
   "cell_type": "code",
   "execution_count": 33,
   "metadata": {},
   "outputs": [
    {
     "data": {
      "text/plain": [
       "3"
      ]
     },
     "execution_count": 33,
     "metadata": {},
     "output_type": "execute_result"
    }
   ],
   "source": [
    "Solution.minReorder(Solution.minReorder, 6, [[0,1],[1,3],[2,3],[4,0],[4,5]])"
   ]
  },
  {
   "cell_type": "markdown",
   "metadata": {},
   "source": [
    "## Approach 2: Time Efficient Approach"
   ]
  },
  {
   "cell_type": "code",
   "execution_count": 34,
   "metadata": {},
   "outputs": [],
   "source": [
    "# n: int\n",
    "# connections: List[List[int]]\n",
    "# return -> int\n",
    "class Solution2:\n",
    "    \n",
    "    def minReorder(self, n, connections):\n",
    "\n",
    "        # Treat the graph as undirected.\n",
    "        # Start a dfs from the root.\n",
    "        # If you come across an edge in the forward direction, you need to reverse the edge.\n",
    "\n",
    "        adj = {i: [] for i in range(n)}\n",
    "        visited = [False for _ in range(n)]\n",
    "        \n",
    "        # For each edge\n",
    "        for connection in connections:\n",
    "            \n",
    "            # Add the adjacent undirected pair\n",
    "            adj[connection[0]].append((connection[1], True))\n",
    "            adj[connection[1]].append((connection[0], False))\n",
    "                \n",
    "\n",
    "        def dfs(current_node, reorder_count):\n",
    "            visited[current_node] = True\n",
    "            \n",
    "            # For each undirected neighbor \n",
    "            for neighbor in adj[current_node]:\n",
    "                \n",
    "                # Check if neighbor is already visited\n",
    "                if not visited[neighbor[0]]:\n",
    "                    \n",
    "                    # Check if edge needs reordering\n",
    "                    if neighbor[1]:\n",
    "                        reorder_count += 1\n",
    "                    \n",
    "                    # Call DFS on neighbor\n",
    "                    reorder_count = dfs(neighbor[0], reorder_count)\n",
    "            \n",
    "            return reorder_count\n",
    "        \n",
    "        return dfs(0, 0)"
   ]
  },
  {
   "cell_type": "code",
   "execution_count": 35,
   "metadata": {},
   "outputs": [
    {
     "data": {
      "text/plain": [
       "3"
      ]
     },
     "execution_count": 35,
     "metadata": {},
     "output_type": "execute_result"
    }
   ],
   "source": [
    "Solution2.minReorder(Solution2.minReorder, 6, [[0,1],[1,3],[2,3],[4,0],[4,5]])"
   ]
  }
 ],
 "metadata": {
  "kernelspec": {
   "display_name": "Python 3.10.6 64-bit",
   "language": "python",
   "name": "python3"
  },
  "language_info": {
   "codemirror_mode": {
    "name": "ipython",
    "version": 3
   },
   "file_extension": ".py",
   "mimetype": "text/x-python",
   "name": "python",
   "nbconvert_exporter": "python",
   "pygments_lexer": "ipython3",
   "version": "3.10.6"
  },
  "orig_nbformat": 4,
  "vscode": {
   "interpreter": {
    "hash": "26de051ba29f2982a8de78e945f0abaf191376122a1563185a90213a26c5da77"
   }
  }
 },
 "nbformat": 4,
 "nbformat_minor": 2
}
