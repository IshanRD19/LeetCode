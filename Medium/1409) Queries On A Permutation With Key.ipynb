{
 "cells": [
  {
   "cell_type": "markdown",
   "metadata": {},
   "source": [
    "# QUERIES ON A PERMUTATION WITH KEY\n",
    "\n",
    "Given the array queries of positive integers between 1 and m, you have to process all queries[i] (from i=0 to i=queries.length-1) according to the following rules:\n",
    "\n",
    "In the beginning, you have the permutation P=[1,2,3,...,m].\n",
    "For the current i, find the position of queries[i] in the permutation P (indexing from 0) and then move this at the beginning of the permutation P. Notice that the position of queries[i] in P is the result for queries[i].\n",
    "Return an array containing the result for the given queries.\n",
    "\n",
    "### Example 1:\n",
    "\n",
    "#### Input: \n",
    "queries = [3,1,2,1], m = 5\n",
    "#### Output: \n",
    "[2,1,2,1] \n",
    "#### Explanation: \n",
    "The queries are processed as follow: \n",
    "For i=0: queries[i]=3, P=[1,2,3,4,5], position of 3 in P is 2, then we move 3 to the beginning of P resulting in P=[3,1,2,4,5]. \n",
    "For i=1: queries[i]=1, P=[3,1,2,4,5], position of 1 in P is 1, then we move 1 to the beginning of P resulting in P=[1,3,2,4,5]. \n",
    "For i=2: queries[i]=2, P=[1,3,2,4,5], position of 2 in P is 2, then we move 2 to the beginning of P resulting in P=[2,1,3,4,5]. \n",
    "For i=3: queries[i]=1, P=[2,1,3,4,5], position of 1 in P is 1, then we move 1 to the beginning of P resulting in P=[1,2,3,4,5]. \n",
    "Therefore, the array containing the result is [2,1,2,1].  \n",
    "### Example 2:\n",
    "\n",
    "#### Input: \n",
    "queries = [4,1,2,2], m = 4\n",
    "#### Output: \n",
    "[3,1,2,0]\n",
    "### Example 3:\n",
    "\n",
    "#### Input: \n",
    "queries = [7,5,5,8,3], m = 8\n",
    "#### Output: \n",
    "[6,5,0,7,5]\n",
    " \n",
    "\n",
    "### Constraints:\n",
    "\n",
    "1 <= m <= 10^3\n",
    "\n",
    "1 <= queries.length <= m\n",
    "\n",
    "1 <= queries[i] <= m"
   ]
  },
  {
   "cell_type": "code",
   "execution_count": 6,
   "metadata": {},
   "outputs": [],
   "source": [
    "# queries: List[int]\n",
    "# m: int\n",
    "# return -> List[int]\n",
    "class Solution:\n",
    "    def processQueries(self, queries, m):\n",
    "        P = [i for i in range(1, m + 1)]\n",
    "        result = []\n",
    "\n",
    "        for i in range(len(queries)):\n",
    "            # Find the position\n",
    "            item = queries[i]\n",
    "            pos = P.index(item)\n",
    "\n",
    "            # Store the position\n",
    "            result.append(pos)\n",
    "\n",
    "            # Update the Permutation\n",
    "            P.pop(pos)\n",
    "            P.insert(0, item)\n",
    "\n",
    "        return result\n",
    "        "
   ]
  },
  {
   "cell_type": "code",
   "execution_count": 10,
   "metadata": {},
   "outputs": [
    {
     "data": {
      "text/plain": [
       "[2, 1, 2, 1]"
      ]
     },
     "execution_count": 10,
     "metadata": {},
     "output_type": "execute_result"
    }
   ],
   "source": [
    "Solution.processQueries(Solution.processQueries, queries = [3,1,2,1], m = 5)\n",
    "# Solution.processQueries(Solution.processQueries, queries = [4,1,2,2], m = 4)\n",
    "# Solution.processQueries(Solution.processQueries, queries = [7,5,5,8,3], m = 8)\n"
   ]
  }
 ],
 "metadata": {
  "kernelspec": {
   "display_name": "Python 3.10.6 64-bit",
   "language": "python",
   "name": "python3"
  },
  "language_info": {
   "codemirror_mode": {
    "name": "ipython",
    "version": 3
   },
   "file_extension": ".py",
   "mimetype": "text/x-python",
   "name": "python",
   "nbconvert_exporter": "python",
   "pygments_lexer": "ipython3",
   "version": "3.10.6"
  },
  "orig_nbformat": 4,
  "vscode": {
   "interpreter": {
    "hash": "26de051ba29f2982a8de78e945f0abaf191376122a1563185a90213a26c5da77"
   }
  }
 },
 "nbformat": 4,
 "nbformat_minor": 2
}
