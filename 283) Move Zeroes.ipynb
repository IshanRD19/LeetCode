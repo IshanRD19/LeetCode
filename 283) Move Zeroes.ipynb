{
 "cells": [
  {
   "cell_type": "markdown",
   "metadata": {},
   "source": [
    "# MOVE ZEROES\n",
    "\n",
    "Given an integer array nums, move all 0's to the end of it while maintaining the relative order of the non-zero elements.\n",
    "\n",
    "Note that you must do this in-place without making a copy of the array.\n",
    "\n",
    " \n",
    "\n",
    "### Example 1:\n",
    "\n",
    "Input: nums = [0,1,0,3,12]\n",
    "\n",
    "Output: [1,3,12,0,0]\n",
    "\n",
    "### Example 2:\n",
    "\n",
    "Input: nums = [0]\n",
    "\n",
    "Output: [0]\n",
    " \n",
    "### Constraints:\n",
    "\n",
    "1 <= nums.length <= 10^4\n",
    "\n",
    "-2^31 <= nums[i] <= 2^31 - 1"
   ]
  },
  {
   "cell_type": "markdown",
   "metadata": {},
   "source": [
    "## Approach: Two-Pointers\n",
    "\n",
    "A two-pointer approach could be helpful here. The idea would be to have one pointer for iterating the array and another pointer that just works on the non-zero elements of the array."
   ]
  },
  {
   "cell_type": "code",
   "execution_count": 1,
   "metadata": {},
   "outputs": [],
   "source": [
    "# nums: List[int]\n",
    "# return -> None\n",
    "class Solution:\n",
    "    def moveZeroes(self, nums):\n",
    "        \"\"\"\n",
    "        Do not return anything, modify nums in-place instead.\n",
    "        \"\"\"\n",
    "#         capacity = len(nums)\n",
    "        \n",
    "#         if capacity == 1:\n",
    "#             return nums\n",
    "        \n",
    "        # Slow index for non-zero elements\n",
    "        non_zero_index = 0\n",
    "        \n",
    "        # Fast index for array traversal\n",
    "        current_index = 0\n",
    "        \n",
    "        # Check each element from left to right\n",
    "        while current_index < len(nums):\n",
    "            print('current_index:', current_index)\n",
    "            \n",
    "            # Copy no-zero elements in-place \n",
    "            if nums[current_index] != 0:\n",
    "                nums[non_zero_index] = nums[current_index]\n",
    "                non_zero_index += 1\n",
    "\n",
    "            current_index += 1\n",
    "            print('nums:', nums)\n",
    "            print('-----')\n",
    "\n",
    "        # Remaining elements on right are all 0s\n",
    "        nums[non_zero_index:] = [0 for _ in range(len(nums[non_zero_index:]))]\n",
    "        print('Result:',nums)\n",
    "        \n",
    "        return"
   ]
  },
  {
   "cell_type": "code",
   "execution_count": 2,
   "metadata": {},
   "outputs": [
    {
     "name": "stdout",
     "output_type": "stream",
     "text": [
      "current_index: 0\n",
      "nums: [0, 1, 0, 3, 12]\n",
      "-----\n",
      "current_index: 1\n",
      "nums: [1, 1, 0, 3, 12]\n",
      "-----\n",
      "current_index: 2\n",
      "nums: [1, 1, 0, 3, 12]\n",
      "-----\n",
      "current_index: 3\n",
      "nums: [1, 3, 0, 3, 12]\n",
      "-----\n",
      "current_index: 4\n",
      "nums: [1, 3, 12, 3, 12]\n",
      "-----\n",
      "Result: [1, 3, 12, 0, 0]\n"
     ]
    }
   ],
   "source": [
    "Solution.moveZeroes(Solution.moveZeroes, [0,1,0,3,12])"
   ]
  },
  {
   "cell_type": "markdown",
   "metadata": {},
   "source": [
    "### Complexity Analysis\n",
    "\n",
    "Space Complexity: O(1). Only constant space is used.\n",
    "\n",
    "Time Complexity: O(n). However, the total number of operations are optimal. The total operations (array writes) that code does is Number of non-0 elements.This gives us a much better best-case (when most of the elements are 0) complexity."
   ]
  }
 ],
 "metadata": {
  "kernelspec": {
   "display_name": "Python 3",
   "language": "python",
   "name": "python3"
  },
  "language_info": {
   "codemirror_mode": {
    "name": "ipython",
    "version": 3
   },
   "file_extension": ".py",
   "mimetype": "text/x-python",
   "name": "python",
   "nbconvert_exporter": "python",
   "pygments_lexer": "ipython3",
   "version": "3.8.3"
  }
 },
 "nbformat": 4,
 "nbformat_minor": 4
}
