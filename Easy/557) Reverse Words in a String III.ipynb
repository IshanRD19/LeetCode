{
 "cells": [
  {
   "cell_type": "markdown",
   "metadata": {},
   "source": [
    "# REVERSE WORDS IN A STRING III\n",
    "\n",
    "Given a string s, reverse the order of characters in each word within a sentence while still preserving whitespace and initial word order.\n",
    "\n",
    "### Example 1:\n",
    "\n",
    "#### Input: \n",
    "s = \"Let's take LeetCode contest\"\n",
    "#### Output: \n",
    "\"s'teL ekat edoCteeL tsetnoc\"\n",
    "### Example 2:\n",
    "\n",
    "#### Input: \n",
    "s = \"God Ding\"\n",
    "#### Output: \n",
    "\"doG gniD\"\n",
    "\n",
    "### Constraints:\n",
    "\n",
    "1 <= s.length <= 5 * 104\n",
    "\n",
    "s contains printable ASCII characters.\n",
    "\n",
    "s does not contain any leading or trailing spaces.\n",
    "\n",
    "There is at least one word in s.\n",
    "\n",
    "All the words in s are separated by a single space."
   ]
  },
  {
   "cell_type": "code",
   "execution_count": 1,
   "metadata": {},
   "outputs": [],
   "source": [
    "# s: str\n",
    "# return -> str\n",
    "class Solution:\n",
    "    def reverseWords(self, s):\n",
    "        result = ''\n",
    "        \n",
    "        for w in s.split():\n",
    "            result += w[::-1] + ' '\n",
    "\n",
    "        return result[:-1]"
   ]
  },
  {
   "cell_type": "code",
   "execution_count": 2,
   "metadata": {},
   "outputs": [
    {
     "data": {
      "text/plain": [
       "\"s'teL ekat edoCteeL tsetnoc\""
      ]
     },
     "execution_count": 2,
     "metadata": {},
     "output_type": "execute_result"
    }
   ],
   "source": [
    "Solution.reverseWords(Solution.reverseWords, s = \"Let's take LeetCode contest\")"
   ]
  }
 ],
 "metadata": {
  "kernelspec": {
   "display_name": "Python 3.10.6 64-bit",
   "language": "python",
   "name": "python3"
  },
  "language_info": {
   "codemirror_mode": {
    "name": "ipython",
    "version": 3
   },
   "file_extension": ".py",
   "mimetype": "text/x-python",
   "name": "python",
   "nbconvert_exporter": "python",
   "pygments_lexer": "ipython3",
   "version": "3.10.6"
  },
  "orig_nbformat": 4,
  "vscode": {
   "interpreter": {
    "hash": "26de051ba29f2982a8de78e945f0abaf191376122a1563185a90213a26c5da77"
   }
  }
 },
 "nbformat": 4,
 "nbformat_minor": 2
}
