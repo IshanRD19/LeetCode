{
 "cells": [
  {
   "cell_type": "markdown",
   "metadata": {},
   "source": [
    "# SHUFFLE THE ARRAY\n",
    "\n",
    "Given the array nums consisting of 2n elements in the form [x1,x2,...,xn,y1,y2,...,yn].\n",
    "\n",
    "Return the array in the form [x1,y1,x2,y2,...,xn,yn].\n",
    "\n",
    "### Example 1:\n",
    "\n",
    "#### Input:\n",
    "nums = [2,5,1,3,4,7], n = 3\n",
    "#### Output:\n",
    "[2,3,5,4,1,7] \n",
    "#### Explanation:\n",
    "Since x1=2, x2=5, x3=1, y1=3, y2=4, y3=7 then the answer is [2,3,5,4,1,7].\n",
    "### Example 2:\n",
    "\n",
    "#### Input:\n",
    "nums = [1,2,3,4,4,3,2,1], n = 4\n",
    "#### Output:\n",
    "[1,4,2,3,3,2,4,1]\n",
    "#### Example 3:\n",
    "\n",
    "#### Input:\n",
    "nums = [1,1,2,2], n = 2\n",
    "#### Output:\n",
    "[1,2,1,2]\n",
    " \n",
    "### Constraints:\n",
    "1 <= n <= 500\n",
    "\n",
    "nums.length == 2n\n",
    "\n",
    "1 <= nums[i] <= 10^3"
   ]
  },
  {
   "cell_type": "code",
   "execution_count": 1,
   "metadata": {},
   "outputs": [],
   "source": [
    "# nums: List[int]\n",
    "# n: int\n",
    "# return -> List[int]\n",
    "class Solution:\n",
    "    def shuffle(self, nums, n):\n",
    "        result = []\n",
    "        \n",
    "        for i in range(n):\n",
    "            result.append(nums[i])\n",
    "            result.append(nums[n+i])\n",
    "            \n",
    "        return result"
   ]
  },
  {
   "cell_type": "code",
   "execution_count": 2,
   "metadata": {},
   "outputs": [
    {
     "data": {
      "text/plain": [
       "[1, 4, 2, 3, 3, 2, 4, 1]"
      ]
     },
     "execution_count": 2,
     "metadata": {},
     "output_type": "execute_result"
    }
   ],
   "source": [
    "Solution.shuffle(Solution.shuffle, [1,2,3,4,4,3,2,1], 4)"
   ]
  }
 ],
 "metadata": {
  "kernelspec": {
   "display_name": "Python 3",
   "language": "python",
   "name": "python3"
  },
  "language_info": {
   "codemirror_mode": {
    "name": "ipython",
    "version": 3
   },
   "file_extension": ".py",
   "mimetype": "text/x-python",
   "name": "python",
   "nbconvert_exporter": "python",
   "pygments_lexer": "ipython3",
   "version": "3.8.3"
  }
 },
 "nbformat": 4,
 "nbformat_minor": 4
}
