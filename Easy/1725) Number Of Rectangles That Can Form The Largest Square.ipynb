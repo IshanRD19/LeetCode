{
 "cells": [
  {
   "cell_type": "markdown",
   "metadata": {},
   "source": [
    "# NUMBER OF RECTANGLES THAT CAN FORM THE LARGEST SQUARE\n",
    "\n",
    "You are given an array rectangles where rectangles[i] = [li, wi] represents the ith rectangle of length li and width wi.\n",
    "\n",
    "You can cut the ith rectangle to form a square with a side length of k if both k <= li and k <= wi. For example, if you have a rectangle [4,6], you can cut it to get a square with a side length of at most 4.\n",
    "\n",
    "Let maxLen be the side length of the largest square you can obtain from any of the given rectangles.\n",
    "\n",
    "Return the number of rectangles that can make a square with a side length of maxLen.\n",
    "\n",
    "### Example 1:\n",
    "\n",
    "#### Input: \n",
    "rectangles = [[5,8],[3,9],[5,12],[16,5]]\n",
    "#### Output: \n",
    "3\n",
    "#### Explanation: \n",
    "The largest squares you can get from each rectangle are of lengths [5,3,5,5].\n",
    "The largest possible square is of length 5, and you can get it out of 3 rectangles.\n",
    "### Example 2:\n",
    "\n",
    "#### Input: \n",
    "rectangles = [[2,3],[3,7],[4,3],[3,7]]\n",
    "#### Output: \n",
    "3\n",
    " \n",
    "### Constraints:\n",
    "1 <= rectangles.length <= 1000\n",
    "\n",
    "rectangles[i].length == 2\n",
    "\n",
    "1 <= li, wi <= 109\n",
    "\n",
    "li != wi"
   ]
  },
  {
   "cell_type": "code",
   "execution_count": 1,
   "metadata": {},
   "outputs": [],
   "source": [
    "# rectangles: List[List[int]]\n",
    "class Solution:\n",
    "    def countGoodRectangles(self, rectangles):\n",
    "        squares = [min(i) for i in rectangles]\n",
    "        max_side = max(squares)\n",
    "        return squares.count(max_side)        "
   ]
  },
  {
   "cell_type": "code",
   "execution_count": 2,
   "metadata": {},
   "outputs": [
    {
     "data": {
      "text/plain": [
       "3"
      ]
     },
     "execution_count": 2,
     "metadata": {},
     "output_type": "execute_result"
    }
   ],
   "source": [
    "Solution.countGoodRectangles(Solution.countGoodRectangles, [[5,8],[3,9],[5,12],[16,5]])"
   ]
  }
 ],
 "metadata": {
  "kernelspec": {
   "display_name": "Python 3.10.6 64-bit",
   "language": "python",
   "name": "python3"
  },
  "language_info": {
   "codemirror_mode": {
    "name": "ipython",
    "version": 3
   },
   "file_extension": ".py",
   "mimetype": "text/x-python",
   "name": "python",
   "nbconvert_exporter": "python",
   "pygments_lexer": "ipython3",
   "version": "3.10.6"
  },
  "orig_nbformat": 4,
  "vscode": {
   "interpreter": {
    "hash": "26de051ba29f2982a8de78e945f0abaf191376122a1563185a90213a26c5da77"
   }
  }
 },
 "nbformat": 4,
 "nbformat_minor": 2
}
