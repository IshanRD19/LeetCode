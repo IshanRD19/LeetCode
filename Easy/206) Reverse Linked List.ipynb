{
 "cells": [
  {
   "cell_type": "markdown",
   "metadata": {},
   "source": [
    "# REVERSE LINKED LIST\n",
    "\n",
    "Given the head of a singly linked list, reverse the list, and return the reversed list.\n",
    "\n",
    "### Example 1:\n",
    "#### Input:\n",
    "head = [1,2,3,4,5]\n",
    "#### Output:\n",
    "[5,4,3,2,1]\n",
    "### Example 2:\n",
    "#### Input:\n",
    "head = [1,2]\n",
    "#### Output:\n",
    "[2,1]\n",
    "### Example 3:\n",
    "#### Input:\n",
    "head = []\n",
    "#### Output:\n",
    "[]\n",
    "\n",
    "### Constraints:\n",
    "The number of nodes in the list is the range [0, 5000].\n",
    "\n",
    "-5000 <= Node.val <= 5000\n",
    "\n",
    "## Approach 1: Iterative Method"
   ]
  },
  {
   "cell_type": "code",
   "execution_count": 1,
   "metadata": {},
   "outputs": [],
   "source": [
    "# Definition for singly-linked list.\n",
    "class ListNode:\n",
    "    def __init__(self, val=0, next=None):\n",
    "        self.val = val\n",
    "        self.next = next\n",
    "\n",
    "# head: ListNode \n",
    "# return -> ListNode \n",
    "class Solution:\n",
    "    def reverseList(self, head):\n",
    "        prev_node, curr_node  = None, head\n",
    "\n",
    "        # While node exists\n",
    "        while curr_node:\n",
    "\n",
    "            # Store the next node\n",
    "            next_node = curr_node.next\n",
    "\n",
    "            # Reverse pointer of current node\n",
    "            curr_node.next = prev_node\n",
    "\n",
    "            # Shift previous node to current node \n",
    "            prev_node = curr_node\n",
    "\n",
    "            # Shift current node to next node \n",
    "            curr_node = next_node\n",
    "\n",
    "        return prev_node"
   ]
  },
  {
   "cell_type": "markdown",
   "metadata": {},
   "source": [
    "**Follow up:** A linked list can be reversed either iteratively or recursively. Could you implement both?\n",
    "\n",
    "## Approach 2: Recursive Method"
   ]
  },
  {
   "cell_type": "code",
   "execution_count": null,
   "metadata": {},
   "outputs": [],
   "source": [
    "# Definition for singly-linked list.\n",
    "# class ListNode:\n",
    "#     def __init__(self, val=0, next=None):\n",
    "#         self.val = val\n",
    "#         self.next = next\n",
    "\n",
    "class Solution:\n",
    "    def __init__(self):\n",
    "        self.last_node = None\n",
    "        \n",
    "    def recursive_call(self, current_node):\n",
    "        \n",
    "        # Check for empty linked list or last node\n",
    "        if not current_node or not current_node.next:\n",
    "            \n",
    "            # Store the last node for later (head)\n",
    "            self.last_node = current_node\n",
    "\n",
    "            return current_node\n",
    "        \n",
    "        # Get next node by recursive call\n",
    "        next_node = self.recursive_call(current_node.next)\n",
    "\n",
    "        # Reverse pointer between current and next node\n",
    "        next_node.next = current_node\n",
    "\n",
    "        # Update pointer of current node to avoid cycle\n",
    "        current_node.next = None\n",
    "        \n",
    "        return current_node\n",
    "\n",
    "    # head: ListNode \n",
    "    # return -> ListNode \n",
    "    def reverseList(self, head):\n",
    "        self.recursive_call(head)\n",
    "        return self.last_node"
   ]
  }
 ],
 "metadata": {
  "kernelspec": {
   "display_name": "Python 3.10.6 64-bit",
   "language": "python",
   "name": "python3"
  },
  "language_info": {
   "codemirror_mode": {
    "name": "ipython",
    "version": 3
   },
   "file_extension": ".py",
   "mimetype": "text/x-python",
   "name": "python",
   "nbconvert_exporter": "python",
   "pygments_lexer": "ipython3",
   "version": "3.10.6"
  },
  "vscode": {
   "interpreter": {
    "hash": "26de051ba29f2982a8de78e945f0abaf191376122a1563185a90213a26c5da77"
   }
  }
 },
 "nbformat": 4,
 "nbformat_minor": 4
}
