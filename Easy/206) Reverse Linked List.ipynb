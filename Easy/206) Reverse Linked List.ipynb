{
 "cells": [
  {
   "cell_type": "markdown",
   "metadata": {},
   "source": [
    "# REVERSE LINKED LIST\n",
    "\n",
    "Given the head of a singly linked list, reverse the list, and return the reversed list.\n",
    "\n",
    "### Example 1:\n",
    "#### Input:\n",
    "head = [1,2,3,4,5]\n",
    "#### Output:\n",
    "[5,4,3,2,1]\n",
    "### Example 2:\n",
    "#### Input:\n",
    "head = [1,2]\n",
    "#### Output:\n",
    "[2,1]\n",
    "### Example 3:\n",
    "#### Input:\n",
    "head = []\n",
    "#### Output:\n",
    "[]\n",
    "\n",
    "### Constraints:\n",
    "The number of nodes in the list is the range [0, 5000].\n",
    "\n",
    "-5000 <= Node.val <= 5000\n",
    "\n",
    "\n",
    "Follow up: A linked list can be reversed either iteratively or recursively. Could you implement both?"
   ]
  },
  {
   "cell_type": "code",
   "execution_count": 1,
   "metadata": {},
   "outputs": [],
   "source": [
    "# Definition for singly-linked list.\n",
    "class ListNode:\n",
    "    def __init__(self, val=0, next=None):\n",
    "        self.val = val\n",
    "        self.next = next\n",
    "\n",
    "# head: ListNode \n",
    "# return -> ListNode \n",
    "class Solution:\n",
    "    def reverseList(self, head):\n",
    "        prev_node, curr_node  = None, head\n",
    "        while curr_node:\n",
    "            temp_node = curr_node.next\n",
    "            curr_node.next = prev_node\n",
    "            prev_node = curr_node\n",
    "            curr_node = temp_node\n",
    "        return prev_node"
   ]
  }
 ],
 "metadata": {
  "kernelspec": {
   "display_name": "Python 3",
   "language": "python",
   "name": "python3"
  },
  "language_info": {
   "codemirror_mode": {
    "name": "ipython",
    "version": 3
   },
   "file_extension": ".py",
   "mimetype": "text/x-python",
   "name": "python",
   "nbconvert_exporter": "python",
   "pygments_lexer": "ipython3",
   "version": "3.8.3"
  }
 },
 "nbformat": 4,
 "nbformat_minor": 4
}
