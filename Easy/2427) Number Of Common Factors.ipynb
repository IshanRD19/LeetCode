{
 "cells": [
  {
   "cell_type": "markdown",
   "metadata": {},
   "source": [
    "# NUMBER OF COMMON FACTORS \n",
    "\n",
    "Given two positive integers a and b, return the number of common factors of a and b.\n",
    "\n",
    "An integer x is a common factor of a and b if x divides both a and b.\n",
    "\n",
    "### Example 1:\n",
    "\n",
    "#### Input: \n",
    "a = 12, b = 6\n",
    "#### Output: \n",
    "4\n",
    "#### Explanation: \n",
    "The common factors of 12 and 6 are 1, 2, 3, 6.\n",
    "### Example 2:\n",
    "\n",
    "### Input: \n",
    "a = 25, b = 30\n",
    "### Output: \n",
    "2\n",
    "### Explanation: \n",
    "The common factors of 25 and 30 are 1, 5.\n",
    "\n",
    "### Constraints:\n",
    "1 <= a, b <= 1000"
   ]
  },
  {
   "cell_type": "code",
   "execution_count": 1,
   "metadata": {},
   "outputs": [],
   "source": [
    "# a: int\n",
    "# b: int\n",
    "# return -> int\n",
    "class Solution:\n",
    "    def commonFactors(self, a, b):\n",
    "        count = 0\n",
    "\n",
    "        if a == b:\n",
    "            numbers = [i for i in range(1, a + 1)]\n",
    "        else:\n",
    "            numbers = [i for i in range(1, min(abs(a-b), min(a,b)) + 1)]\n",
    "        \n",
    "        for n in numbers:\n",
    "            if not a%n and not b%n:\n",
    "                count += 1\n",
    "                \n",
    "        return count"
   ]
  },
  {
   "cell_type": "code",
   "execution_count": 2,
   "metadata": {},
   "outputs": [
    {
     "data": {
      "text/plain": [
       "4"
      ]
     },
     "execution_count": 2,
     "metadata": {},
     "output_type": "execute_result"
    }
   ],
   "source": [
    "Solution.commonFactors(Solution.commonFactors, a = 12, b = 6)"
   ]
  }
 ],
 "metadata": {
  "kernelspec": {
   "display_name": "Python 3.10.6 64-bit",
   "language": "python",
   "name": "python3"
  },
  "language_info": {
   "codemirror_mode": {
    "name": "ipython",
    "version": 3
   },
   "file_extension": ".py",
   "mimetype": "text/x-python",
   "name": "python",
   "nbconvert_exporter": "python",
   "pygments_lexer": "ipython3",
   "version": "3.10.6"
  },
  "orig_nbformat": 4,
  "vscode": {
   "interpreter": {
    "hash": "26de051ba29f2982a8de78e945f0abaf191376122a1563185a90213a26c5da77"
   }
  }
 },
 "nbformat": 4,
 "nbformat_minor": 2
}
