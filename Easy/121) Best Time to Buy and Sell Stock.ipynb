{
 "cells": [
  {
   "cell_type": "markdown",
   "metadata": {},
   "source": [
    "# BEST TIME TO BUY AND SELL STOCK\n",
    "\n",
    "You are given an array prices where prices[i] is the price of a given stock on the ith day.\n",
    "\n",
    "You want to maximize your profit by choosing a single day to buy one stock and choosing a different day in the future to sell that stock.\n",
    "\n",
    "Return the maximum profit you can achieve from this transaction. If you cannot achieve any profit, return 0.\n",
    "\n",
    "### Example 1:\n",
    "\n",
    "Input: prices = [7,1,5,3,6,4]\n",
    "\n",
    "Output: 5\n",
    "\n",
    "Explanation: Buy on day 2 (price = 1) and sell on day 5 (price = 6), profit = 6-1 = 5.\n",
    "\n",
    "Note that buying on day 2 and selling on day 1 is not allowed because you must buy before you sell.\n",
    "\n",
    "### Example 2:\n",
    "\n",
    "Input: prices = [7,6,4,3,1]\n",
    "\n",
    "Output: 0\n",
    "\n",
    "Explanation: In this case, no transactions are done and the max profit = 0.\n",
    " \n",
    "### Constraints:\n",
    "\n",
    "1 <= prices.length <= 10^5\n",
    "\n",
    "0 <= prices[i] <= 10^4\n",
    "\n",
    "## Approach 1: Brute Force"
   ]
  },
  {
   "cell_type": "code",
   "execution_count": 1,
   "metadata": {},
   "outputs": [],
   "source": [
    "# prices: List[int]\n",
    "# return -> int\n",
    "class Solution:\n",
    "    def maxProfit(self, prices):\n",
    "        max_profit = 0\n",
    "\n",
    "        # Iteratively select a day to buy stock\n",
    "        for i in range(0, len(prices)):\n",
    "            buy = prices[i]\n",
    "            sell = -1\n",
    "\n",
    "            # Iteratively select a day to sell stock\n",
    "            for j in range(i+1, len(prices)):\n",
    "                \n",
    "                # Store the maximum selling price\n",
    "                sell = max(sell, prices[j])\n",
    "                \n",
    "            # Check for maximum profit\n",
    "            max_profit = max(max_profit, (sell - buy))\n",
    "            \n",
    "        return max_profit"
   ]
  },
  {
   "cell_type": "code",
   "execution_count": 2,
   "metadata": {},
   "outputs": [
    {
     "data": {
      "text/plain": [
       "5"
      ]
     },
     "execution_count": 2,
     "metadata": {},
     "output_type": "execute_result"
    }
   ],
   "source": [
    "prices = [7,1,5,3,6,4]\n",
    "Solution.maxProfit(Solution.maxProfit, prices)"
   ]
  },
  {
   "cell_type": "markdown",
   "metadata": {},
   "source": [
    "### Complexity Analysis\n",
    "\n",
    "Time Complexity: O(n^2)\n",
    "\n",
    "Space Complexity: O(1)\n",
    "\n",
    "## Approach 2: Two Pointer Method"
   ]
  },
  {
   "cell_type": "code",
   "execution_count": 3,
   "metadata": {},
   "outputs": [],
   "source": [
    "# prices: List[int]\n",
    "# return -> int\n",
    "class Solution:\n",
    "    def maxProfit2(self, prices):\n",
    "        buy_on = max_profit = 0\n",
    "\n",
    "        # Iteratively select a day to sell stock\n",
    "        for sell_on in range(1, len(prices)):\n",
    "            \n",
    "            # Calculate the profit\n",
    "            if prices[buy_on] < prices[sell_on]:\n",
    "                max_profit = max(max_profit, prices[sell_on] - prices[buy_on])\n",
    "            \n",
    "            # Shift the buy date to newfound low \n",
    "            else:\n",
    "                buy_on = sell_on\n",
    "                \n",
    "        return max_profit"
   ]
  },
  {
   "cell_type": "code",
   "execution_count": 4,
   "metadata": {},
   "outputs": [
    {
     "data": {
      "text/plain": [
       "5"
      ]
     },
     "execution_count": 4,
     "metadata": {},
     "output_type": "execute_result"
    }
   ],
   "source": [
    "prices = [7,1,5,3,6,4]\n",
    "Solution.maxProfit2(Solution.maxProfit2, prices)"
   ]
  },
  {
   "cell_type": "markdown",
   "metadata": {},
   "source": [
    "### Complexity Analysis\n",
    "\n",
    "Time Complexity: O(n)\n",
    "\n",
    "Space Complexity: O(1)"
   ]
  }
 ],
 "metadata": {
  "kernelspec": {
   "display_name": "Python 3",
   "language": "python",
   "name": "python3"
  },
  "language_info": {
   "codemirror_mode": {
    "name": "ipython",
    "version": 3
   },
   "file_extension": ".py",
   "mimetype": "text/x-python",
   "name": "python",
   "nbconvert_exporter": "python",
   "pygments_lexer": "ipython3",
   "version": "3.8.3"
  }
 },
 "nbformat": 4,
 "nbformat_minor": 4
}
