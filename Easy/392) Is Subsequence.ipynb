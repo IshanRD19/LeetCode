{
 "cells": [
  {
   "cell_type": "markdown",
   "metadata": {},
   "source": [
    "# IS SUBSEQUENCE\n",
    "\n",
    "Given two strings s and t, return true if s is a subsequence of t, or false otherwise.\n",
    "\n",
    "A subsequence of a string is a new string that is formed from the original string by deleting some (can be none) of the characters without disturbing the relative positions of the remaining characters. (i.e., \"ace\" is a subsequence of \"abcde\" while \"aec\" is not).\n",
    "\n",
    "### Example 1:\n",
    "\n",
    "#### Input:\n",
    "s = \"abc\", t = \"ahbgdc\"\n",
    "#### Output:\n",
    "true\n",
    "### Example 2:\n",
    "\n",
    "#### Input:\n",
    "s = \"axc\", t = \"ahbgdc\"\n",
    "#### Output:\n",
    "false\n",
    "\n",
    "### Constraints:\n",
    "0 <= s.length <= 100\n",
    "\n",
    "0 <= t.length <= 10^4\n",
    "\n",
    "s and t consist only of lowercase English letters.\n",
    " \n",
    "\n",
    "Follow up: Suppose there are lots of incoming s, say s1, s2, ..., sk where k >= 10^9, and you want to check one by one to see if t has its subsequence. In this scenario, how would you change your code?"
   ]
  },
  {
   "cell_type": "code",
   "execution_count": 1,
   "metadata": {},
   "outputs": [],
   "source": [
    "# s: str\n",
    "# t: str\n",
    "# return -> bool\n",
    "class Solution:\n",
    "    def isSubsequence(self, s, t):\n",
    "        s_pointer = 0\n",
    "        \n",
    "        if s_pointer == len(s):\n",
    "            return True\n",
    "\n",
    "        for i in range(len(t)):\n",
    "            \n",
    "            if t[i] == s[s_pointer]:\n",
    "                s_pointer += 1\n",
    "        \n",
    "            if s_pointer == len(s):\n",
    "                return True\n",
    "            \n",
    "        return False"
   ]
  },
  {
   "cell_type": "code",
   "execution_count": 2,
   "metadata": {},
   "outputs": [
    {
     "data": {
      "text/plain": [
       "True"
      ]
     },
     "execution_count": 2,
     "metadata": {},
     "output_type": "execute_result"
    }
   ],
   "source": [
    "Solution.isSubsequence(Solution.isSubsequence, 'abc', 'ahbgdc')"
   ]
  }
 ],
 "metadata": {
  "kernelspec": {
   "display_name": "Python 3",
   "language": "python",
   "name": "python3"
  },
  "language_info": {
   "codemirror_mode": {
    "name": "ipython",
    "version": 3
   },
   "file_extension": ".py",
   "mimetype": "text/x-python",
   "name": "python",
   "nbconvert_exporter": "python",
   "pygments_lexer": "ipython3",
   "version": "3.8.3"
  }
 },
 "nbformat": 4,
 "nbformat_minor": 4
}
