{
 "cells": [
  {
   "cell_type": "markdown",
   "metadata": {},
   "source": [
    "# REPLACE ALL DIGITS WITH CHARACTERS\n",
    "\n",
    "You are given a 0-indexed string s that has lowercase English letters in its even indices and digits in its odd indices.\n",
    "\n",
    "There is a function shift(c, x), where c is a character and x is a digit, that returns the xth character after c.\n",
    "\n",
    "For example, shift('a', 5) = 'f' and shift('x', 0) = 'x'.\n",
    "For every odd index i, you want to replace the digit s[i] with shift(s[i-1], s[i]).\n",
    "\n",
    "Return s after replacing all digits. It is guaranteed that shift(s[i-1], s[i]) will never exceed 'z'.\n",
    "\n",
    "### Example 1:\n",
    "\n",
    "#### Input: \n",
    "s = \"a1c1e1\"\n",
    "#### Output: \n",
    "\"abcdef\"\n",
    "#### Explanation: \n",
    "The digits are replaced as follows:\n",
    "- s[1] -> shift('a',1) = 'b'\n",
    "- s[3] -> shift('c',1) = 'd'\n",
    "- s[5] -> shift('e',1) = 'f'\n",
    "### Example 2:\n",
    "\n",
    "#### Input: \n",
    "s = \"a1b2c3d4e\"\n",
    "#### Output: \n",
    "\"abbdcfdhe\"\n",
    "#### Explanation: \n",
    "The digits are replaced as follows:\n",
    "- s[1] -> shift('a',1) = 'b'\n",
    "- s[3] -> shift('b',2) = 'd'\n",
    "- s[5] -> shift('c',3) = 'f'\n",
    "- s[7] -> shift('d',4) = 'h'\n",
    " \n",
    "### Constraints:\n",
    "1 <= s.length <= 100\n",
    "\n",
    "s consists only of lowercase English letters and digits.\n",
    "\n",
    "shift(s[i-1], s[i]) <= 'z' for all odd indices i."
   ]
  },
  {
   "cell_type": "code",
   "execution_count": 1,
   "metadata": {},
   "outputs": [],
   "source": [
    "# s: str\n",
    "# return -> str\n",
    "class Solution:\n",
    "    def replaceDigits(self, s):\n",
    "        s_list = [c for c in s]\n",
    "        for i in range(1, len(s), 2):\n",
    "            s_list[i] = chr(ord(s_list[i-1]) + int(s_list[i]))\n",
    "            \n",
    "        return ''.join(s_list)"
   ]
  },
  {
   "cell_type": "code",
   "execution_count": 2,
   "metadata": {},
   "outputs": [
    {
     "data": {
      "text/plain": [
       "'abbdcfdhe'"
      ]
     },
     "execution_count": 2,
     "metadata": {},
     "output_type": "execute_result"
    }
   ],
   "source": [
    "Solution.replaceDigits(Solution.replaceDigits, 'a1b2c3d4e')"
   ]
  }
 ],
 "metadata": {
  "kernelspec": {
   "display_name": "Python 3.10.6 64-bit",
   "language": "python",
   "name": "python3"
  },
  "language_info": {
   "codemirror_mode": {
    "name": "ipython",
    "version": 3
   },
   "file_extension": ".py",
   "mimetype": "text/x-python",
   "name": "python",
   "nbconvert_exporter": "python",
   "pygments_lexer": "ipython3",
   "version": "3.10.6"
  },
  "orig_nbformat": 4,
  "vscode": {
   "interpreter": {
    "hash": "26de051ba29f2982a8de78e945f0abaf191376122a1563185a90213a26c5da77"
   }
  }
 },
 "nbformat": 4,
 "nbformat_minor": 2
}
