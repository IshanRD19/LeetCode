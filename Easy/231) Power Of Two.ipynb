{
 "cells": [
  {
   "cell_type": "markdown",
   "metadata": {},
   "source": [
    "# POWER OF TWO\n",
    "\n",
    "Given an integer n, return true if it is a power of two. Otherwise, return false.\n",
    "\n",
    "An integer n is a power of two, if there exists an integer x such that n == 2x.\n",
    "\n",
    "### Example 1:\n",
    "\n",
    "#### Input: \n",
    "n = 1\n",
    "#### Output: \n",
    "true\n",
    "#### Explanation: \n",
    "2^0 = 1\n",
    "### Example 2:\n",
    "\n",
    "#### Input: \n",
    "n = 16\n",
    "#### Output: \n",
    "true\n",
    "#### Explanation: \n",
    "2^4 = 16\n",
    "### Example 3:\n",
    "\n",
    "#### Input: \n",
    "n = 3\n",
    "#### Output: \n",
    "false\n",
    " \n",
    "### Constraints:\n",
    "-2^31 <= n <= 2^31 - 1\n",
    "\n",
    "**Follow up:** Could you solve it without loops/recursion?"
   ]
  },
  {
   "cell_type": "code",
   "execution_count": 3,
   "metadata": {},
   "outputs": [],
   "source": [
    "class Solution:\n",
    "    # n: int\n",
    "    # return -> bool\n",
    "    def isPowerOfTwo(self, n):\n",
    "        if n == 0:\n",
    "            return False\n",
    "        elif n == 1:\n",
    "            return True\n",
    "        \n",
    "        return False if int(bin(n)[3:]) else True"
   ]
  },
  {
   "cell_type": "code",
   "execution_count": 4,
   "metadata": {},
   "outputs": [
    {
     "data": {
      "text/plain": [
       "True"
      ]
     },
     "execution_count": 4,
     "metadata": {},
     "output_type": "execute_result"
    }
   ],
   "source": [
    "Solution.isPowerOfTwo(Solution.isPowerOfTwo, 1)"
   ]
  }
 ],
 "metadata": {
  "kernelspec": {
   "display_name": "Python 3.10.6 64-bit",
   "language": "python",
   "name": "python3"
  },
  "language_info": {
   "codemirror_mode": {
    "name": "ipython",
    "version": 3
   },
   "file_extension": ".py",
   "mimetype": "text/x-python",
   "name": "python",
   "nbconvert_exporter": "python",
   "pygments_lexer": "ipython3",
   "version": "3.10.6"
  },
  "orig_nbformat": 4,
  "vscode": {
   "interpreter": {
    "hash": "26de051ba29f2982a8de78e945f0abaf191376122a1563185a90213a26c5da77"
   }
  }
 },
 "nbformat": 4,
 "nbformat_minor": 2
}
