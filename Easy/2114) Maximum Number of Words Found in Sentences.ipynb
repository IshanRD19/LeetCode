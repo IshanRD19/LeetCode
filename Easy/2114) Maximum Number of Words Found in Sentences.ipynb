{
 "cells": [
  {
   "cell_type": "markdown",
   "metadata": {},
   "source": [
    "# MAXIMUM NUMBER OF WORDS FOUND IN SENTENCES\n",
    "\n",
    "A sentence is a list of words that are separated by a single space with no leading or trailing spaces.\n",
    "\n",
    "You are given an array of strings sentences, where each sentences[i] represents a single sentence.\n",
    "\n",
    "Return the maximum number of words that appear in a single sentence.\n",
    "\n",
    "### Example 1:\n",
    "\n",
    "#### Input:\n",
    "sentences = [\"alice and bob love leetcode\", \"i think so too\", \"this is great thanks very much\"]\n",
    "#### Output:\n",
    "6\n",
    "#### Explanation: \n",
    "- The first sentence, \"alice and bob love leetcode\", has 5 words in total.\n",
    "- The second sentence, \"i think so too\", has 4 words in total.\n",
    "- The third sentence, \"this is great thanks very much\", has 6 words in total.\n",
    "\n",
    "Thus, the maximum number of words in a single sentence comes from the third sentence, which has 6 words.\n",
    "\n",
    "### Example 2:\n",
    "\n",
    "#### Input:\n",
    "sentences = [\"please wait\", \"continue to fight\", \"continue to win\"]\n",
    "#### Output:\n",
    "3\n",
    "#### Explanation:\n",
    "It is possible that multiple sentences contain the same number of words. \n",
    "In this example, the second and third sentences (underlined) have the same number of words.\n",
    " \n",
    "### Constraints:\n",
    "\n",
    "1 <= sentences.length <= 100\n",
    "\n",
    "1 <= sentences[i].length <= 100\n",
    "\n",
    "sentences[i] consists only of lowercase English letters and ' ' only.\n",
    "\n",
    "sentences[i] does not have leading or trailing spaces.\n",
    "\n",
    "All the words in sentences[i] are separated by a single space."
   ]
  },
  {
   "cell_type": "code",
   "execution_count": 1,
   "metadata": {},
   "outputs": [],
   "source": [
    "# sentences: List[str]\n",
    "# return -> int\n",
    "class Solution:\n",
    "    def mostWordsFound(self, sentences):\n",
    "        result = -1\n",
    "        for sentence in sentences:\n",
    "            word_count = len(sentence.split(' '))\n",
    "            result = max(result, word_count)\n",
    "        return result\n"
   ]
  },
  {
   "cell_type": "code",
   "execution_count": 2,
   "metadata": {},
   "outputs": [
    {
     "data": {
      "text/plain": [
       "6"
      ]
     },
     "execution_count": 2,
     "metadata": {},
     "output_type": "execute_result"
    }
   ],
   "source": [
    "Solution.mostWordsFound(Solution.mostWordsFound, [\"alice and bob love leetcode\", \"i think so too\", \"this is great thanks very much\"])"
   ]
  },
  {
   "cell_type": "markdown",
   "metadata": {},
   "source": [
    "## Complexity Analysis\n",
    "\n",
    "Time Complexity: O(|sentences| * |sentence|)\n",
    "\n",
    "Space Complexity: O(1)\n"
   ]
  }
 ],
 "metadata": {
  "kernelspec": {
   "display_name": "Python 3",
   "language": "python",
   "name": "python3"
  },
  "language_info": {
   "codemirror_mode": {
    "name": "ipython",
    "version": 3
   },
   "file_extension": ".py",
   "mimetype": "text/x-python",
   "name": "python",
   "nbconvert_exporter": "python",
   "pygments_lexer": "ipython3",
   "version": "3.8.3"
  }
 },
 "nbformat": 4,
 "nbformat_minor": 4
}
