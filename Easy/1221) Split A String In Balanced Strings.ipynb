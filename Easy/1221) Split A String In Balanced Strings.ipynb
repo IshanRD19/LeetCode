{
 "cells": [
  {
   "cell_type": "markdown",
   "metadata": {},
   "source": [
    "# SPLIT A STRING IN BALANCED STRINGS\n",
    "\n",
    "Balanced strings are those that have an equal quantity of 'L' and 'R' characters.\n",
    "\n",
    "Given a balanced string s, split it in the maximum amount of balanced strings.\n",
    "\n",
    "Return the maximum amount of split balanced strings.\n",
    "\n",
    "### Example 1:\n",
    "\n",
    "#### Input:\n",
    "s = \"RLRRLLRLRL\"\n",
    "#### Output:\n",
    "4\n",
    "#### Explanation:\n",
    "s can be split into \"RL\", \"RRLL\", \"RL\", \"RL\", each substring contains same number of 'L' and 'R'.\n",
    "### Example 2:\n",
    "\n",
    "#### Input:\n",
    "s = \"RLLLLRRRLR\"\n",
    "#### Output:\n",
    "3\n",
    "#### Explanation:\n",
    "s can be split into \"RL\", \"LLLRRR\", \"LR\", each substring contains same number of 'L' and 'R'.\n",
    "### Example 3:\n",
    "\n",
    "#### Input:\n",
    "s = \"LLLLRRRR\"\n",
    "#### Output:\n",
    "1\n",
    "#### Explanation:\n",
    "s can be split into \"LLLLRRRR\".\n",
    "\n",
    "### Constraints:\n",
    "1 <= s.length <= 1000\n",
    "\n",
    "s[i] is either 'L' or 'R'.\n",
    "\n",
    "s is a balanced string."
   ]
  },
  {
   "cell_type": "code",
   "execution_count": 1,
   "metadata": {},
   "outputs": [],
   "source": [
    "# s: str\n",
    "# return -> int\n",
    "class Solution:\n",
    "    def balancedStringSplit(self, s):\n",
    "        balance = 0\n",
    "        result = 0\n",
    "        \n",
    "        for c in s:\n",
    "            if c == 'L':\n",
    "                balance += 1\n",
    "            else:\n",
    "                balance -= 1\n",
    "            \n",
    "            if not balance:\n",
    "                result += 1\n",
    "                \n",
    "        return result"
   ]
  },
  {
   "cell_type": "code",
   "execution_count": 2,
   "metadata": {},
   "outputs": [
    {
     "data": {
      "text/plain": [
       "4"
      ]
     },
     "execution_count": 2,
     "metadata": {},
     "output_type": "execute_result"
    }
   ],
   "source": [
    "Solution.balancedStringSplit(Solution.balancedStringSplit, 'RLRRLLRLRL')"
   ]
  }
 ],
 "metadata": {
  "kernelspec": {
   "display_name": "Python 3",
   "language": "python",
   "name": "python3"
  },
  "language_info": {
   "codemirror_mode": {
    "name": "ipython",
    "version": 3
   },
   "file_extension": ".py",
   "mimetype": "text/x-python",
   "name": "python",
   "nbconvert_exporter": "python",
   "pygments_lexer": "ipython3",
   "version": "3.8.3"
  }
 },
 "nbformat": 4,
 "nbformat_minor": 4
}
