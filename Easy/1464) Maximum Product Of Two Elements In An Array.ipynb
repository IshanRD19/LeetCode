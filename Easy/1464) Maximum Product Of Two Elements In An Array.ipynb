{
 "cells": [
  {
   "cell_type": "markdown",
   "metadata": {},
   "source": [
    "# MAXIMUM PRODUCT OF TWO ELEMENTS IN AN ARRAY\n",
    "\n",
    "Given the array of integers nums, you will choose two different indices i and j of that array. Return the maximum value of (nums[i]-1)*(nums[j]-1).\n",
    "\n",
    "### Example 1:\n",
    "\n",
    "#### Input: \n",
    "nums = [3,4,5,2]\n",
    "#### Output: \n",
    "12 \n",
    "#### Explanation: \n",
    "If you choose the indices i=1 and j=2 (indexed from 0), you will get the maximum value, that is, (nums[1]-1)*(nums[2]-1) = (4-1)*(5-1) = 3*4 = 12. \n",
    "### Example 2:\n",
    "\n",
    "#### Input: \n",
    "nums = [1,5,4,5]\n",
    "#### Output: \n",
    "16\n",
    "#### Explanation: \n",
    "Choosing the indices i=1 and j=3 (indexed from 0), you will get the maximum value of (5-1)*(5-1) = 16.\n",
    "### Example 3:\n",
    "\n",
    "#### Input: \n",
    "nums = [3,7]\n",
    "#### Output: \n",
    "12\n",
    "\n",
    "### Constraints:\n",
    "2 <= nums.length <= 500\n",
    "\n",
    "1 <= nums[i] <= 10^3"
   ]
  },
  {
   "cell_type": "code",
   "execution_count": 1,
   "metadata": {},
   "outputs": [],
   "source": [
    "# nums: List[int]\n",
    "# return -> int\n",
    "class Solution:\n",
    "    def maxProduct(self, nums):\n",
    "        nums.sort()\n",
    "        return (nums[-1] - 1) * (nums[-2] - 1)"
   ]
  },
  {
   "cell_type": "code",
   "execution_count": 2,
   "metadata": {},
   "outputs": [
    {
     "data": {
      "text/plain": [
       "16"
      ]
     },
     "execution_count": 2,
     "metadata": {},
     "output_type": "execute_result"
    }
   ],
   "source": [
    "Solution.maxProduct(Solution.maxProduct, [1,5,4,5])"
   ]
  }
 ],
 "metadata": {
  "kernelspec": {
   "display_name": "Python 3.10.6 64-bit",
   "language": "python",
   "name": "python3"
  },
  "language_info": {
   "codemirror_mode": {
    "name": "ipython",
    "version": 3
   },
   "file_extension": ".py",
   "mimetype": "text/x-python",
   "name": "python",
   "nbconvert_exporter": "python",
   "pygments_lexer": "ipython3",
   "version": "3.10.6"
  },
  "orig_nbformat": 4,
  "vscode": {
   "interpreter": {
    "hash": "26de051ba29f2982a8de78e945f0abaf191376122a1563185a90213a26c5da77"
   }
  }
 },
 "nbformat": 4,
 "nbformat_minor": 2
}
