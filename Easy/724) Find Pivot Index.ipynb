{
 "cells": [
  {
   "cell_type": "markdown",
   "metadata": {},
   "source": [
    "# FIND PIVOT INDEX\n",
    "\n",
    "Given an array of integers nums, calculate the pivot index of this array.\n",
    "\n",
    "The pivot index is the index where the sum of all the numbers strictly to the left of the index is equal to the sum of all the numbers strictly to the index's right.\n",
    "\n",
    "If the index is on the left edge of the array, then the left sum is 0 because there are no elements to the left. This also applies to the right edge of the array.\n",
    "\n",
    "Return the leftmost pivot index. If no such index exists, return -1.\n",
    "\n",
    "### Example 1:\n",
    "\n",
    "#### Input:\n",
    "nums = [1,7,3,6,5,6]\n",
    "#### Output:\n",
    "3\n",
    "#### Explanation:\n",
    "The pivot index is 3.\n",
    "\n",
    "Left sum = nums[0] + nums[1] + nums[2] = 1 + 7 + 3 = 11\n",
    "\n",
    "Right sum = nums[4] + nums[5] = 5 + 6 = 11\n",
    "### Example 2:\n",
    "\n",
    "#### Input:\n",
    "nums = [1,2,3]\n",
    "#### Output:\n",
    "-1\n",
    "#### Explanation:\n",
    "There is no index that satisfies the conditions in the problem statement.\n",
    "### Example 3:\n",
    "\n",
    "#### Input:\n",
    "nums = [2,1,-1]\n",
    "#### Output:\n",
    "0\n",
    "#### Explanation:\n",
    "The pivot index is 0.\n",
    "\n",
    "Left sum = 0 (no elements to the left of index 0)\n",
    "\n",
    "Right sum = nums[1] + nums[2] = 1 + -1 = 0\n",
    " \n",
    "### Constraints:\n",
    "\n",
    "1 <= nums.length <= 104\n",
    "\n",
    "-1000 <= nums[i] <= 1000\n",
    "\n",
    "**Note:** This question is the same as 1991: https://leetcode.com/problems/find-the-middle-index-in-array/\n",
    "\n",
    "## Approach 1: Space Efficient Method"
   ]
  },
  {
   "cell_type": "code",
   "execution_count": 1,
   "metadata": {},
   "outputs": [],
   "source": [
    "# nums: List[int]\n",
    "# return -> int\n",
    "class Solution:\n",
    "    def pivotIndex(self, nums):\n",
    "        for i in range(len(nums)):\n",
    "            if sum(nums[:i]) == sum(nums[i+1:]):\n",
    "                return i\n",
    "        return -1"
   ]
  },
  {
   "cell_type": "code",
   "execution_count": 2,
   "metadata": {},
   "outputs": [
    {
     "data": {
      "text/plain": [
       "3"
      ]
     },
     "execution_count": 2,
     "metadata": {},
     "output_type": "execute_result"
    }
   ],
   "source": [
    "Solution.pivotIndex(Solution.pivotIndex, [1,7,3,6,5,6])"
   ]
  },
  {
   "cell_type": "markdown",
   "metadata": {},
   "source": [
    "### Complexity Analysis\n",
    "\n",
    "Time complexity: O(n^2)\n",
    "\n",
    "Space complexity: O(1)\n",
    "\n",
    "## Approach 2: Time Efficient Method"
   ]
  },
  {
   "cell_type": "code",
   "execution_count": 3,
   "metadata": {},
   "outputs": [],
   "source": [
    "# nums: List[int]\n",
    "# return -> int\n",
    "class Solution:\n",
    "    def pivotIndex2(self, nums):\n",
    "        left_sum = 0\n",
    "        total = sum(nums)\n",
    "\n",
    "        # For each index from left to right\n",
    "        for i in range(len(nums)):\n",
    "\n",
    "            # Compare the sums at left and right of the index\n",
    "            if left_sum == (total - left_sum - nums[i]):\n",
    "                return i\n",
    "            \n",
    "            # Update the sum at left of index\n",
    "            left_sum += nums[i]\n",
    "        \n",
    "        return -1"
   ]
  },
  {
   "cell_type": "code",
   "execution_count": 4,
   "metadata": {},
   "outputs": [
    {
     "data": {
      "text/plain": [
       "0"
      ]
     },
     "execution_count": 4,
     "metadata": {},
     "output_type": "execute_result"
    }
   ],
   "source": [
    "Solution.pivotIndex2(Solution.pivotIndex2, [2, 1, -1])"
   ]
  },
  {
   "cell_type": "markdown",
   "metadata": {},
   "source": [
    "### Complexity Analysis\n",
    "\n",
    "Time complexity: O(n)\n",
    "\n",
    "Space complexity: O(1)"
   ]
  }
 ],
 "metadata": {
  "kernelspec": {
   "display_name": "Python 3",
   "language": "python",
   "name": "python3"
  },
  "language_info": {
   "codemirror_mode": {
    "name": "ipython",
    "version": 3
   },
   "file_extension": ".py",
   "mimetype": "text/x-python",
   "name": "python",
   "nbconvert_exporter": "python",
   "pygments_lexer": "ipython3",
   "version": "3.8.3"
  }
 },
 "nbformat": 4,
 "nbformat_minor": 4
}
