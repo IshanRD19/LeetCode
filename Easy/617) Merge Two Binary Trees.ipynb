{
 "cells": [
  {
   "cell_type": "markdown",
   "metadata": {},
   "source": [
    "# MERGE TWO BINARY TREES\n",
    "\n",
    "You are given two binary trees root1 and root2.\n",
    "\n",
    "Imagine that when you put one of them to cover the other, some nodes of the two trees are overlapped while the others are not. You need to merge the two trees into a new binary tree. The merge rule is that if two nodes overlap, then sum node values up as the new value of the merged node. Otherwise, the NOT null node will be used as the node of the new tree.\n",
    "\n",
    "Return the merged tree.\n",
    "\n",
    "**Note:** The merging process must start from the root nodes of both trees.\n",
    "\n",
    "### Example 1:\n",
    "\n",
    "\n",
    "#### Input: \n",
    "root1 = [1,3,2,5], root2 = [2,1,3,null,4,null,7]\n",
    "#### Output: \n",
    "[3,4,5,5,4,null,7]\n",
    "### Example 2:\n",
    "#### Input: \n",
    "root1 = [1], root2 = [1,2]\n",
    "#### Output: \n",
    "[2,2]\n",
    " \n",
    "\n",
    "### Constraints:\n",
    "The number of nodes in both trees is in the range [0, 2000].\n",
    "\n",
    "-10^4 <= Node.val <= 10^4"
   ]
  },
  {
   "cell_type": "code",
   "execution_count": null,
   "metadata": {},
   "outputs": [],
   "source": [
    "# Definition for a binary tree node.\n",
    "class TreeNode:\n",
    "    def __init__(self, val=0, left=None, right=None):\n",
    "        self.val = val\n",
    "        self.left = left\n",
    "        self.right = right\n",
    "\n",
    "# root1: Optional[TreeNode]\n",
    "# root2: Optional[TreeNode]\n",
    "# return -> Optional[TreeNode]\n",
    "class Solution:\n",
    "    \n",
    "    def preorder(self, root1, root2):\n",
    "        if not root2:\n",
    "            return\n",
    "        \n",
    "        # Update root with sum\n",
    "        if root1 and root2:\n",
    "            root1.val += root2.val\n",
    "            \n",
    "        # Create left child if necessary\n",
    "        if not root1.left and root2.left:\n",
    "            root1.left = TreeNode(0)\n",
    "\n",
    "        # Create right child if necessary\n",
    "        if not root1.right and root2.right:\n",
    "            root1.right = TreeNode(0)\n",
    "            \n",
    "        self.preorder(root1.left, root2.left)\n",
    "        self.preorder(root1.right, root2.right)\n",
    "        \n",
    "        return root1\n",
    "    \n",
    "    def mergeTrees(self, root1, root2):\n",
    "        if not root1:\n",
    "            return root2 \n",
    "        elif not root2:\n",
    "            return root1\n",
    "        \n",
    "        self.preorder(root1, root2)\n",
    "        \n",
    "        return root1\n",
    "        \n",
    "        \n",
    "        "
   ]
  }
 ],
 "metadata": {
  "kernelspec": {
   "display_name": "Python 3.10.6 64-bit",
   "language": "python",
   "name": "python3"
  },
  "language_info": {
   "name": "python",
   "version": "3.10.6"
  },
  "orig_nbformat": 4,
  "vscode": {
   "interpreter": {
    "hash": "26de051ba29f2982a8de78e945f0abaf191376122a1563185a90213a26c5da77"
   }
  }
 },
 "nbformat": 4,
 "nbformat_minor": 2
}
