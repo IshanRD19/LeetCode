{
 "cells": [
  {
   "cell_type": "markdown",
   "metadata": {},
   "source": [
    "# LARGEST LOCAL VALUES IN A MATRIX\n",
    "\n",
    "You are given an n x n integer matrix grid.\n",
    "\n",
    "Generate an integer matrix maxLocal of size (n - 2) x (n - 2) such that:\n",
    "\n",
    "maxLocal[i][j] is equal to the largest value of the 3 x 3 matrix in grid centered around row i + 1 and column j + 1.\n",
    "In other words, we want to find the largest value in every contiguous 3 x 3 matrix in grid.\n",
    "\n",
    "Return the generated matrix.\n",
    "\n",
    "### Example 1:\n",
    "#### Input: \n",
    "grid = [[9,9,8,1],[5,6,2,6],[8,2,6,4],[6,2,2,2]]\n",
    "#### Output: \n",
    "[[9,9],[8,6]]\n",
    "#### Explanation: \n",
    "The diagram above shows the original matrix and the generated matrix.\n",
    "Notice that each value in the generated matrix corresponds to the largest value of a contiguous 3 x 3 matrix in grid.\n",
    "#### Example 2:\n",
    "\n",
    "\n",
    "#### Input: \n",
    "grid = [[1,1,1,1,1],[1,1,1,1,1],[1,1,2,1,1],[1,1,1,1,1],[1,1,1,1,1]]\n",
    "#### Output: \n",
    "[[2,2,2],[2,2,2],[2,2,2]]\n",
    "#### Explanation: \n",
    "Notice that the 2 is contained within every contiguous 3 x 3 matrix in grid.\n",
    " \n",
    "\n",
    "### Constraints:\n",
    "n == grid.length == grid[i].length\n",
    "\n",
    "3 <= n <= 100\n",
    "\n",
    "1 <= grid[i][j] <= 100"
   ]
  },
  {
   "cell_type": "code",
   "execution_count": 1,
   "metadata": {},
   "outputs": [],
   "source": [
    "# grid: List[List[int]]\n",
    "# return -> List[List[int]]\n",
    "from operator import le\n",
    "\n",
    "class Solution:\n",
    "    def largestLocal(self, grid):\n",
    "        length = len(grid)\n",
    "\n",
    "        row, matrix, result = [], [], []\n",
    "\n",
    "        # Perform column reduction\n",
    "        for row in range(length):\n",
    "            data = []\n",
    "            \n",
    "            for col in range(length - 2):\n",
    "                data.append(max(grid[row][col:col+3]))\n",
    "            \n",
    "            matrix.append(data)\n",
    "        \n",
    "        # Perform Row reduction\n",
    "        for row in range(length - 2):\n",
    "            data = []\n",
    "\n",
    "            for col in range(length - 2):\n",
    "                data.append(max(matrix[row][col], matrix[row+1][col], matrix[row+2][col]))\n",
    "\n",
    "            result.append(data)\n",
    "\n",
    "        return result"
   ]
  },
  {
   "cell_type": "code",
   "execution_count": 2,
   "metadata": {},
   "outputs": [
    {
     "data": {
      "text/plain": [
       "[[9, 9], [8, 6]]"
      ]
     },
     "execution_count": 2,
     "metadata": {},
     "output_type": "execute_result"
    }
   ],
   "source": [
    "Solution.largestLocal(Solution.largestLocal, [[9,9,8,1],[5,6,2,6],[8,2,6,4],[6,2,2,2]])"
   ]
  },
  {
   "cell_type": "code",
   "execution_count": 3,
   "metadata": {},
   "outputs": [
    {
     "data": {
      "text/plain": [
       "[[2, 2, 2], [2, 2, 2], [2, 2, 2]]"
      ]
     },
     "execution_count": 3,
     "metadata": {},
     "output_type": "execute_result"
    }
   ],
   "source": [
    "Solution.largestLocal(Solution.largestLocal, [[1,1,1,1,1],[1,1,1,1,1],[1,1,2,1,1],[1,1,1,1,1],[1,1,1,1,1]])"
   ]
  }
 ],
 "metadata": {
  "kernelspec": {
   "display_name": "Python 3.10.6 64-bit",
   "language": "python",
   "name": "python3"
  },
  "language_info": {
   "codemirror_mode": {
    "name": "ipython",
    "version": 3
   },
   "file_extension": ".py",
   "mimetype": "text/x-python",
   "name": "python",
   "nbconvert_exporter": "python",
   "pygments_lexer": "ipython3",
   "version": "3.10.6"
  },
  "orig_nbformat": 4,
  "vscode": {
   "interpreter": {
    "hash": "26de051ba29f2982a8de78e945f0abaf191376122a1563185a90213a26c5da77"
   }
  }
 },
 "nbformat": 4,
 "nbformat_minor": 2
}
