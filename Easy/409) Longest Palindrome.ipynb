{
 "cells": [
  {
   "cell_type": "markdown",
   "metadata": {},
   "source": [
    "# LONGEST PALINDROME\n",
    "\n",
    "Given a string s which consists of lowercase or uppercase letters, return the length of the longest palindrome that can be built with those letters.\n",
    "\n",
    "Letters are case sensitive, for example, \"Aa\" is not considered a palindrome here.\n",
    "\n",
    "### Example 1:\n",
    "\n",
    "#### Input: \n",
    "s = \"abccccdd\"\n",
    "#### Output: \n",
    "7\n",
    "#### Explanation: \n",
    "One longest palindrome that can be built is \"dccaccd\", whose length is 7.\n",
    "### Example 2:\n",
    "\n",
    "#### Input: \n",
    "s = \"a\"\n",
    "#### Output: \n",
    "1\n",
    "#### Explanation: \n",
    "The longest palindrome that can be built is \"a\", whose length is 1.\n",
    " \n",
    "\n",
    "### Constraints:\n",
    "\n",
    "1 <= s.length <= 2000\n",
    "s consists of lowercase and/or uppercase English letters only."
   ]
  },
  {
   "cell_type": "code",
   "execution_count": 1,
   "metadata": {},
   "outputs": [],
   "source": [
    "class Solution:\n",
    "    def longestPalindrome(self, s: str) -> int:\n",
    "        length = len(s)\n",
    "        char_freq = {}\n",
    "        result = 0\n",
    "        found_odd = False\n",
    "        \n",
    "        # Store the character frequency\n",
    "        for i in range(length):\n",
    "            \n",
    "            if s[i] in char_freq:\n",
    "                char_freq[s[i]] += 1\n",
    "            else:\n",
    "                char_freq[s[i]] = 1\n",
    "                \n",
    "        # Take all even counts and at most 1 odd count\n",
    "        for k, v in char_freq.items():\n",
    "            \n",
    "            if v % 2:\n",
    "                found_odd = True\n",
    "                result += v - 1\n",
    "            else:\n",
    "                result += v\n",
    "        \n",
    "        return result + 1 if found_odd else result\n",
    "    "
   ]
  },
  {
   "cell_type": "code",
   "execution_count": 2,
   "metadata": {},
   "outputs": [
    {
     "data": {
      "text/plain": [
       "7"
      ]
     },
     "execution_count": 2,
     "metadata": {},
     "output_type": "execute_result"
    }
   ],
   "source": [
    "Solution.longestPalindrome(Solution.longestPalindrome, 'abccccdd')"
   ]
  }
 ],
 "metadata": {
  "kernelspec": {
   "display_name": "Python 3.10.6 64-bit",
   "language": "python",
   "name": "python3"
  },
  "language_info": {
   "codemirror_mode": {
    "name": "ipython",
    "version": 3
   },
   "file_extension": ".py",
   "mimetype": "text/x-python",
   "name": "python",
   "nbconvert_exporter": "python",
   "pygments_lexer": "ipython3",
   "version": "3.10.6"
  },
  "orig_nbformat": 4,
  "vscode": {
   "interpreter": {
    "hash": "26de051ba29f2982a8de78e945f0abaf191376122a1563185a90213a26c5da77"
   }
  }
 },
 "nbformat": 4,
 "nbformat_minor": 2
}
