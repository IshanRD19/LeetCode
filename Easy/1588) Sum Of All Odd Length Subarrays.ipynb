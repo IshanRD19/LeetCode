{
 "cells": [
  {
   "cell_type": "markdown",
   "metadata": {},
   "source": [
    "# SUM OF ALL ODD LENGTH SUBARRAYS\n",
    "\n",
    "Given an array of positive integers arr, return the sum of all possible odd-length subarrays of arr.\n",
    "\n",
    "A subarray is a contiguous subsequence of the array.\n",
    "\n",
    "### Example 1:\n",
    "\n",
    "#### Input: \n",
    "arr = [1,4,2,5,3]\n",
    "#### Output: \n",
    "58\n",
    "#### Explanation: \n",
    "The odd-length subarrays of arr and their sums are:\n",
    "\n",
    "[1] = 1\n",
    "\n",
    "[4] = 4\n",
    "\n",
    "[2] = 2\n",
    "\n",
    "[5] = 5\n",
    "\n",
    "[3] = 3\n",
    "\n",
    "[1,4,2] = 7\n",
    "\n",
    "[4,2,5] = 11\n",
    "\n",
    "[2,5,3] = 10\n",
    "\n",
    "[1,4,2,5,3] = 15\n",
    "\n",
    "If we add all these together we get 1 + 4 + 2 + 5 + 3 + 7 + 11 + 10 + 15 = 58\n",
    "### Example 2:\n",
    "\n",
    "#### Input: \n",
    "arr = [1,2]\n",
    "#### Output: \n",
    "3\n",
    "#### Explanation: \n",
    "There are only 2 subarrays of odd length, [1] and [2]. Their sum is 3.\n",
    "### Example 3:\n",
    "\n",
    "#### Input: \n",
    "arr = [10,11,12]\n",
    "### Output: \n",
    "66\n",
    " \n",
    "\n",
    "### Constraints:\n",
    "\n",
    "1 <= arr.length <= 100\n",
    "\n",
    "1 <= arr[i] <= 1000\n",
    "\n",
    "## Approach 1: Brute Force Method"
   ]
  },
  {
   "cell_type": "code",
   "execution_count": 19,
   "metadata": {},
   "outputs": [],
   "source": [
    "# arr: List[int]\n",
    "# return -> int\n",
    "class Solution:\n",
    "    def sumOddLengthSubarrays(self, arr):\n",
    "        length = len(arr)\n",
    "        total = 0\n",
    "\n",
    "        for start in range(length):\n",
    "            temp = 0\n",
    "\n",
    "            for end in range(start, length):\n",
    "                temp += arr[end]\n",
    "                \n",
    "                if not (end - start) % 2:\n",
    "                    total += temp\n",
    "        \n",
    "        return total"
   ]
  },
  {
   "cell_type": "code",
   "execution_count": 20,
   "metadata": {},
   "outputs": [
    {
     "name": "stdout",
     "output_type": "stream",
     "text": [
      "[1] 1\n",
      "[1, 4, 2] 8\n",
      "[1, 4, 2, 5, 3] 23\n",
      "[4] 27\n",
      "[4, 2, 5] 38\n",
      "[2] 40\n",
      "[2, 5, 3] 50\n",
      "[5] 55\n",
      "[3] 58\n"
     ]
    },
    {
     "data": {
      "text/plain": [
       "58"
      ]
     },
     "execution_count": 20,
     "metadata": {},
     "output_type": "execute_result"
    }
   ],
   "source": [
    "Solution.sumOddLengthSubarrays(Solution.sumOddLengthSubarrays, [1,4,2,5,3])"
   ]
  },
  {
   "cell_type": "markdown",
   "metadata": {},
   "source": [
    "**Follow up:** Could you solve this problem in O(n) time complexity?\n",
    "\n",
    "## Approach 2: Efficient Method"
   ]
  },
  {
   "cell_type": "code",
   "execution_count": 33,
   "metadata": {},
   "outputs": [],
   "source": [
    "# arr: List[int]\n",
    "# return -> int\n",
    "class Solution:\n",
    "    def sumOddLengthSubarrays(self, arr):\n",
    "        length = len(arr)\n",
    "        total = 0\n",
    "\n",
    "        for i in range(length):\n",
    "            total += arr[i] * ((((length - i) * (i + 1)) + 1) // 2)\n",
    "\n",
    "        return total"
   ]
  },
  {
   "cell_type": "code",
   "execution_count": 34,
   "metadata": {},
   "outputs": [
    {
     "data": {
      "text/plain": [
       "58"
      ]
     },
     "execution_count": 34,
     "metadata": {},
     "output_type": "execute_result"
    }
   ],
   "source": [
    "Solution.sumOddLengthSubarrays(Solution.sumOddLengthSubarrays, [1,4,2,5,3])"
   ]
  }
 ],
 "metadata": {
  "kernelspec": {
   "display_name": "Python 3.10.6 64-bit",
   "language": "python",
   "name": "python3"
  },
  "language_info": {
   "codemirror_mode": {
    "name": "ipython",
    "version": 3
   },
   "file_extension": ".py",
   "mimetype": "text/x-python",
   "name": "python",
   "nbconvert_exporter": "python",
   "pygments_lexer": "ipython3",
   "version": "3.10.6"
  },
  "orig_nbformat": 4,
  "vscode": {
   "interpreter": {
    "hash": "26de051ba29f2982a8de78e945f0abaf191376122a1563185a90213a26c5da77"
   }
  }
 },
 "nbformat": 4,
 "nbformat_minor": 2
}
