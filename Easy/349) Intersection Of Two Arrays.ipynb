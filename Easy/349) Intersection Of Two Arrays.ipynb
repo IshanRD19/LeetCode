{
 "cells": [
  {
   "cell_type": "markdown",
   "metadata": {},
   "source": [
    "# INTERSECTION OF TWO ARRAYS\n",
    "\n",
    "Given two integer arrays nums1 and nums2, return an array of their intersection. Each element in the result must be unique and you may return the result in any order.\n",
    "\n",
    "### Example 1:\n",
    "\n",
    "#### Input: \n",
    "nums1 = [1,2,2,1], nums2 = [2,2]\n",
    "#### Output: \n",
    "[2]\n",
    "### Example 2:\n",
    "#### Input: \n",
    "nums1 = [4,9,5], nums2 = [9,4,9,8,4]\n",
    "#### Output: \n",
    "[9,4]\n",
    "### Explanation: \n",
    "[4,9] is also accepted.\n",
    "### Constraints:\n",
    "1 <= nums1.length, nums2.length <= 1000\n",
    "\n",
    "0 <= nums1[i], nums2[i] <= 1000"
   ]
  },
  {
   "cell_type": "code",
   "execution_count": 1,
   "metadata": {},
   "outputs": [],
   "source": [
    "class Solution:\n",
    "    # nums1: List[int]\n",
    "    # nums2: List[int]\n",
    "    # return -> List[int]\n",
    "    def intersection(self, nums1, nums2):\n",
    "        return list(set(nums1).intersection(set(nums2)))"
   ]
  },
  {
   "cell_type": "code",
   "execution_count": 2,
   "metadata": {},
   "outputs": [
    {
     "data": {
      "text/plain": [
       "[9, 4]"
      ]
     },
     "execution_count": 2,
     "metadata": {},
     "output_type": "execute_result"
    }
   ],
   "source": [
    "Solution.intersection(Solution.intersection, nums1 = [4,9,5], nums2 = [9,4,9,8,4])"
   ]
  }
 ],
 "metadata": {
  "kernelspec": {
   "display_name": "Python 3.10.6 64-bit",
   "language": "python",
   "name": "python3"
  },
  "language_info": {
   "codemirror_mode": {
    "name": "ipython",
    "version": 3
   },
   "file_extension": ".py",
   "mimetype": "text/x-python",
   "name": "python",
   "nbconvert_exporter": "python",
   "pygments_lexer": "ipython3",
   "version": "3.10.6"
  },
  "orig_nbformat": 4,
  "vscode": {
   "interpreter": {
    "hash": "26de051ba29f2982a8de78e945f0abaf191376122a1563185a90213a26c5da77"
   }
  }
 },
 "nbformat": 4,
 "nbformat_minor": 2
}
