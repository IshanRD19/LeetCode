{
 "cells": [
  {
   "cell_type": "markdown",
   "metadata": {},
   "source": [
    "# FLIPPING AN IMAGE\n",
    "\n",
    "Given an n x n binary matrix image, flip the image horizontally, then invert it, and return the resulting image.\n",
    "\n",
    "To flip an image horizontally means that each row of the image is reversed.\n",
    "\n",
    "For example, flipping [1,1,0] horizontally results in [0,1,1].\n",
    "To invert an image means that each 0 is replaced by 1, and each 1 is replaced by 0.\n",
    "\n",
    "For example, inverting [0,1,1] results in [1,0,0].\n",
    " \n",
    "### Example 1:\n",
    "\n",
    "#### Input: \n",
    "image = [[1,1,0],[1,0,1],[0,0,0]]\n",
    "#### Output: \n",
    "[[1,0,0],[0,1,0],[1,1,1]]\n",
    "#### Explanation: \n",
    "First reverse each row: [[0,1,1],[1,0,1],[0,0,0]].\n",
    "Then, invert the image: [[1,0,0],[0,1,0],[1,1,1]]\n",
    "### Example 2:\n",
    "\n",
    "#### Input: \n",
    "image = [[1,1,0,0],[1,0,0,1],[0,1,1,1],[1,0,1,0]]\n",
    "#### Output: \n",
    "[[1,1,0,0],[0,1,1,0],[0,0,0,1],[1,0,1,0]]\n",
    "#### Explanation: \n",
    "First reverse each row: [[0,0,1,1],[1,0,0,1],[1,1,1,0],[0,1,0,1]].\n",
    "Then invert the image: [[1,1,0,0],[0,1,1,0],[0,0,0,1],[1,0,1,0]]\n",
    " \n",
    "\n",
    "### Constraints:\n",
    "\n",
    "n == image.length\n",
    "\n",
    "n == image[i].length\n",
    "\n",
    "1 <= n <= 20\n",
    "\n",
    "images[i][j] is either 0 or 1."
   ]
  },
  {
   "cell_type": "code",
   "execution_count": 1,
   "metadata": {},
   "outputs": [],
   "source": [
    "# image: List[List[int]]\n",
    "# return -> List[List[int]]\n",
    "class Solution:\n",
    "    def flipAndInvertImage(self, image):\n",
    "        length = len(image)\n",
    "        \n",
    "        # Flip the image\n",
    "        for i in range(length):\n",
    "            row = image[i]\n",
    "            row.reverse()\n",
    "            image[i] = row\n",
    "            \n",
    "        # Invert the image\n",
    "        for i in range(length):\n",
    "            for j in range(length):\n",
    "                image[i][j] = 0 if image[i][j] else 1\n",
    "                \n",
    "        return image"
   ]
  },
  {
   "cell_type": "code",
   "execution_count": 2,
   "metadata": {},
   "outputs": [
    {
     "data": {
      "text/plain": [
       "[[1, 1, 0, 0], [0, 1, 1, 0], [0, 0, 0, 1], [1, 0, 1, 0]]"
      ]
     },
     "execution_count": 2,
     "metadata": {},
     "output_type": "execute_result"
    }
   ],
   "source": [
    "Solution.flipAndInvertImage(Solution.flipAndInvertImage, [[1,1,0,0],[1,0,0,1],[0,1,1,1],[1,0,1,0]])"
   ]
  }
 ],
 "metadata": {
  "kernelspec": {
   "display_name": "Python 3.10.6 64-bit",
   "language": "python",
   "name": "python3"
  },
  "language_info": {
   "codemirror_mode": {
    "name": "ipython",
    "version": 3
   },
   "file_extension": ".py",
   "mimetype": "text/x-python",
   "name": "python",
   "nbconvert_exporter": "python",
   "pygments_lexer": "ipython3",
   "version": "3.10.6"
  },
  "orig_nbformat": 4,
  "vscode": {
   "interpreter": {
    "hash": "26de051ba29f2982a8de78e945f0abaf191376122a1563185a90213a26c5da77"
   }
  }
 },
 "nbformat": 4,
 "nbformat_minor": 2
}
