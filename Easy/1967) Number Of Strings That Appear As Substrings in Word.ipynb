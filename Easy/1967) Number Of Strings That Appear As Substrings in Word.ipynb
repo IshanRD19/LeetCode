{
 "cells": [
  {
   "cell_type": "markdown",
   "metadata": {},
   "source": [
    "# NUMBER OF STRINGS THAT APPEAR AS SUBSTRINGS IN WORD\n",
    "\n",
    "Given an array of strings patterns and a string word, return the number of strings in patterns that exist as a substring in word.\n",
    "\n",
    "A substring is a contiguous sequence of characters within a string.\n",
    "\n",
    "### Example 1:\n",
    "\n",
    "#### Input: \n",
    "patterns = [\"a\",\"abc\",\"bc\",\"d\"], word = \"abc\"\n",
    "#### Output: \n",
    "3\n",
    "#### Explanation:\n",
    "- \"a\" appears as a substring in \"abc\".\n",
    "- \"abc\" appears as a substring in \"abc\".\n",
    "- \"bc\" appears as a substring in \"abc\".\n",
    "- \"d\" does not appear as a substring in \"abc\".\n",
    "3 of the strings in patterns appear as a substring in word.\n",
    "### Example 2:\n",
    "\n",
    "#### Input: \n",
    "patterns = [\"a\",\"b\",\"c\"], word = \"aaaaabbbbb\"\n",
    "#### Output: \n",
    "2\n",
    "#### Explanation:\n",
    "- \"a\" appears as a substring in \"aaaaabbbbb\".\n",
    "- \"b\" appears as a substring in \"aaaaabbbbb\".\n",
    "- \"c\" does not appear as a substring in \"aaaaabbbbb\".\n",
    "2 of the strings in patterns appear as a substring in word.\n",
    "### Example 3:\n",
    "\n",
    "#### Input: \n",
    "patterns = [\"a\",\"a\",\"a\"], word = \"ab\"\n",
    "#### Output: \n",
    "3\n",
    "#### Explanation: Each of the patterns appears as a substring in word \"ab\".\n",
    " \n",
    "### Constraints:\n",
    "\n",
    "1 <= patterns.length <= 100\n",
    "\n",
    "1 <= patterns[i].length <= 100\n",
    "\n",
    "1 <= word.length <= 100\n",
    "\n",
    "patterns[i] and word consist of lowercase English letters."
   ]
  },
  {
   "cell_type": "code",
   "execution_count": 1,
   "metadata": {},
   "outputs": [],
   "source": [
    "# patterns: List[str]\n",
    "# word: str\n",
    "# return -> int\n",
    "class Solution:\n",
    "    def numOfStrings(self, patterns, word):\n",
    "        count = 0\n",
    "        \n",
    "        for p in patterns:\n",
    "            \n",
    "            if p in word:\n",
    "                count += 1\n",
    "                \n",
    "        return count"
   ]
  },
  {
   "cell_type": "code",
   "execution_count": 2,
   "metadata": {},
   "outputs": [
    {
     "data": {
      "text/plain": [
       "3"
      ]
     },
     "execution_count": 2,
     "metadata": {},
     "output_type": "execute_result"
    }
   ],
   "source": [
    "Solution.numOfStrings(Solution.numOfStrings, patterns = [\"a\",\"abc\",\"bc\",\"d\"], word = \"abc\")"
   ]
  }
 ],
 "metadata": {
  "kernelspec": {
   "display_name": "Python 3.10.6 64-bit",
   "language": "python",
   "name": "python3"
  },
  "language_info": {
   "codemirror_mode": {
    "name": "ipython",
    "version": 3
   },
   "file_extension": ".py",
   "mimetype": "text/x-python",
   "name": "python",
   "nbconvert_exporter": "python",
   "pygments_lexer": "ipython3",
   "version": "3.10.6"
  },
  "orig_nbformat": 4,
  "vscode": {
   "interpreter": {
    "hash": "26de051ba29f2982a8de78e945f0abaf191376122a1563185a90213a26c5da77"
   }
  }
 },
 "nbformat": 4,
 "nbformat_minor": 2
}
