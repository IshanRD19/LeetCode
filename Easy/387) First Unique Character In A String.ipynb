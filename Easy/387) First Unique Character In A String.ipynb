{
 "cells": [
  {
   "cell_type": "markdown",
   "metadata": {},
   "source": [
    "# FIRST UNIQUE CHARACTER IN A STRING\n",
    "\n",
    "Given a string s, find the first non-repeating character in it and return its index. If it does not exist, return -1.\n",
    "\n",
    "### Example 1:\n",
    "\n",
    "#### Input: \n",
    "s = \"leetcode\"\n",
    "#### Output: \n",
    "0\n",
    "#### Example 2:\n",
    "\n",
    "#### Input: \n",
    "s = \"loveleetcode\"\n",
    "#### Output: \n",
    "2\n",
    "#### Example 3:\n",
    "\n",
    "#### Input: \n",
    "s = \"aabb\"\n",
    "#### Output: \n",
    "-1\n",
    "\n",
    "### Constraints:\n",
    "1 <= s.length <= 10^5\n",
    "\n",
    "s consists of only lowercase English letters."
   ]
  },
  {
   "cell_type": "code",
   "execution_count": 1,
   "metadata": {},
   "outputs": [],
   "source": [
    "class Solution:\n",
    "    # s: str\n",
    "    # return -> int\n",
    "    def firstUniqChar(self, s):\n",
    "        seen = {}\n",
    "        for i in range(len(s)):\n",
    "            if s[i] in seen:\n",
    "                seen[s[i]] = -1\n",
    "            else:\n",
    "                seen[s[i]] = i\n",
    "        \n",
    "        result = 10**6\n",
    "        for v in seen.values():\n",
    "            if -1 < v < result:\n",
    "                result = v\n",
    "        \n",
    "        return result if result < 10**6 else -1"
   ]
  },
  {
   "cell_type": "code",
   "execution_count": 2,
   "metadata": {},
   "outputs": [
    {
     "data": {
      "text/plain": [
       "2"
      ]
     },
     "execution_count": 2,
     "metadata": {},
     "output_type": "execute_result"
    }
   ],
   "source": [
    "Solution.firstUniqChar(Solution.firstUniqChar, 'loveleetcode')"
   ]
  },
  {
   "cell_type": "code",
   "execution_count": 3,
   "metadata": {},
   "outputs": [
    {
     "data": {
      "text/plain": [
       "-1"
      ]
     },
     "execution_count": 3,
     "metadata": {},
     "output_type": "execute_result"
    }
   ],
   "source": [
    "Solution.firstUniqChar(Solution.firstUniqChar, 'aabb')"
   ]
  }
 ],
 "metadata": {
  "kernelspec": {
   "display_name": "Python 3.10.6 64-bit",
   "language": "python",
   "name": "python3"
  },
  "language_info": {
   "codemirror_mode": {
    "name": "ipython",
    "version": 3
   },
   "file_extension": ".py",
   "mimetype": "text/x-python",
   "name": "python",
   "nbconvert_exporter": "python",
   "pygments_lexer": "ipython3",
   "version": "3.10.6"
  },
  "orig_nbformat": 4,
  "vscode": {
   "interpreter": {
    "hash": "26de051ba29f2982a8de78e945f0abaf191376122a1563185a90213a26c5da77"
   }
  }
 },
 "nbformat": 4,
 "nbformat_minor": 2
}
