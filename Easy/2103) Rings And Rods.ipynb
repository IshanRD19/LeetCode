{
 "cells": [
  {
   "cell_type": "markdown",
   "metadata": {},
   "source": [
    "# RINGS AND RODS\n",
    "\n",
    "There are n rings and each ring is either red, green, or blue. The rings are distributed across ten rods labeled from 0 to 9.\n",
    "\n",
    "You are given a string rings of length 2n that describes the n rings that are placed onto the rods. Every two characters in rings forms a color-position pair that is used to describe each ring where:\n",
    "\n",
    "The first character of the ith pair denotes the ith ring's color ('R', 'G', 'B').\n",
    "The second character of the ith pair denotes the rod that the ith ring is placed on ('0' to '9').\n",
    "For example, \"R3G2B1\" describes n == 3 rings: a red ring placed onto the rod labeled 3, a green ring placed onto the rod labeled 2, and a blue ring placed onto the rod labeled 1.\n",
    "\n",
    "Return the number of rods that have all three colors of rings on them.\n",
    "\n",
    "### Example 1:\n",
    "\n",
    "\n",
    "#### Input: \n",
    "rings = \"B0B6G0R6R0R6G9\"\n",
    "#### Output: \n",
    "1\n",
    "#### Explanation: \n",
    "- The rod labeled 0 holds 3 rings with all colors: red, green, and blue.\n",
    "- The rod labeled 6 holds 3 rings, but it only has red and blue.\n",
    "- The rod labeled 9 holds only a green ring.\n",
    "Thus, the number of rods with all three colors is 1.\n",
    "### Example 2:\n",
    "\n",
    "\n",
    "#### Input: \n",
    "rings = \"B0R0G0R9R0B0G0\"\n",
    "#### Output: \n",
    "1\n",
    "#### Explanation: \n",
    "- The rod labeled 0 holds 6 rings with all colors: red, green, and blue.\n",
    "- The rod labeled 9 holds only a red ring.\n",
    "Thus, the number of rods with all three colors is 1.\n",
    "### Example 3:\n",
    "\n",
    "#### Input: \n",
    "rings = \"G4\"\n",
    "#### Output: \n",
    "0\n",
    "#### Explanation: \n",
    "Only one ring is given. Thus, no rods have all three colors.\n",
    " \n",
    "\n",
    "### Constraints:\n",
    "rings.length == 2 * n\n",
    "\n",
    "1 <= n <= 100\n",
    "\n",
    "rings[i] where i is even is either 'R', 'G', or 'B' (0-indexed).\n",
    "\n",
    "rings[i] where i is odd is a digit from '0' to '9' (0-indexed)."
   ]
  },
  {
   "cell_type": "code",
   "execution_count": 1,
   "metadata": {},
   "outputs": [],
   "source": [
    "# rings: str\n",
    "# return -> int\n",
    "class Solution:\n",
    "    def countPoints(self, rings):\n",
    "        rods = {}\n",
    "        count = 0\n",
    "\n",
    "        for i in range(0, len(rings), 2):\n",
    "            \n",
    "            if rings[i+1] in rods:\n",
    "                rods[rings[i+1]].add(rings[i])\n",
    "            else:\n",
    "                rods[rings[i+1]] = set(rings[i])\n",
    "        \n",
    "        for k, v in rods.items():\n",
    "            \n",
    "            if 'R' in v and 'G' in v and 'B' in v:\n",
    "                count += 1\n",
    "                \n",
    "        return count"
   ]
  },
  {
   "cell_type": "code",
   "execution_count": 2,
   "metadata": {},
   "outputs": [
    {
     "data": {
      "text/plain": [
       "1"
      ]
     },
     "execution_count": 2,
     "metadata": {},
     "output_type": "execute_result"
    }
   ],
   "source": [
    "Solution.countPoints(Solution.countPoints, 'B0R0G0R9R0B0G0')"
   ]
  }
 ],
 "metadata": {
  "kernelspec": {
   "display_name": "Python 3.10.6 64-bit",
   "language": "python",
   "name": "python3"
  },
  "language_info": {
   "codemirror_mode": {
    "name": "ipython",
    "version": 3
   },
   "file_extension": ".py",
   "mimetype": "text/x-python",
   "name": "python",
   "nbconvert_exporter": "python",
   "pygments_lexer": "ipython3",
   "version": "3.10.6"
  },
  "orig_nbformat": 4,
  "vscode": {
   "interpreter": {
    "hash": "26de051ba29f2982a8de78e945f0abaf191376122a1563185a90213a26c5da77"
   }
  }
 },
 "nbformat": 4,
 "nbformat_minor": 2
}
