{
 "cells": [
  {
   "cell_type": "markdown",
   "metadata": {},
   "source": [
    "# RUNNING SUM OF 1D ARRAY\n",
    "\n",
    "Given an array nums. We define a running sum of an array as runningSum[i] = sum(nums[0]…nums[i]).\n",
    "\n",
    "Return the running sum of nums.\n",
    "\n",
    " \n",
    "\n",
    "### Example 1:\n",
    "\n",
    "Input: nums = [1,2,3,4]\n",
    "\n",
    "Output: [1,3,6,10]\n",
    "\n",
    "Explanation: Running sum is obtained as follows: [1, 1+2, 1+2+3, 1+2+3+4].\n",
    "\n",
    "### Example 2:\n",
    "\n",
    "Input: nums = [1,1,1,1,1]\n",
    "\n",
    "Output: [1,2,3,4,5]\n",
    "\n",
    "Explanation: Running sum is obtained as follows: [1, 1+1, 1+1+1, 1+1+1+1, 1+1+1+1+1].\n",
    "\n",
    "### Example 3:\n",
    "\n",
    "Input: nums = [3,1,2,10,1]\n",
    "\n",
    "Output: [3,4,6,16,17]\n",
    " \n",
    "\n",
    "### Constraints:\n",
    "\n",
    "1 <= nums.length <= 1000\n",
    "\n",
    "-10^6 <= nums[i] <= 10^6"
   ]
  },
  {
   "cell_type": "markdown",
   "metadata": {},
   "source": [
    "## Approach 1: Using Separate Space"
   ]
  },
  {
   "cell_type": "code",
   "execution_count": 1,
   "metadata": {},
   "outputs": [],
   "source": [
    "# nums: List[int]\n",
    "# return -> List[int]\n",
    "class Solution:\n",
    "    def runningSum(self, nums):\n",
    "        result = []\n",
    "        sum = 0\n",
    "        \n",
    "        for i in range(len(nums)):\n",
    "            sum += nums[i]\n",
    "            result.append(sum)\n",
    "        \n",
    "        return result"
   ]
  },
  {
   "cell_type": "code",
   "execution_count": 2,
   "metadata": {},
   "outputs": [
    {
     "data": {
      "text/plain": [
       "[1, 3, 6, 10]"
      ]
     },
     "execution_count": 2,
     "metadata": {},
     "output_type": "execute_result"
    }
   ],
   "source": [
    "Solution.runningSum(Solution.runningSum, [1,2,3,4])"
   ]
  },
  {
   "cell_type": "markdown",
   "metadata": {},
   "source": [
    "## Complexity Analysis\n",
    "\n",
    "Time complexity: O(n) where n is the length of the input array. This is because we use a single loop that iterates over the entire array to calculate the running sum.\n",
    "\n",
    "Space complexity: O(1) since we don't use any additional space to find the running sum. Note that we do not take into consideration the space occupied by the output array."
   ]
  },
  {
   "cell_type": "markdown",
   "metadata": {},
   "source": [
    "## Approach 2: Using Input Array for Output"
   ]
  },
  {
   "cell_type": "code",
   "execution_count": 3,
   "metadata": {},
   "outputs": [],
   "source": [
    "# nums: List[int]\n",
    "# return -> List[int]\n",
    "class Solution:\n",
    "    def runningSum2(self, nums):\n",
    "        for i in range(1, len(nums)):\n",
    "            nums[i] += nums[i-1]\n",
    "        return nums"
   ]
  },
  {
   "cell_type": "code",
   "execution_count": 4,
   "metadata": {},
   "outputs": [
    {
     "data": {
      "text/plain": [
       "[3, 4, 6, 16, 17]"
      ]
     },
     "execution_count": 4,
     "metadata": {},
     "output_type": "execute_result"
    }
   ],
   "source": [
    "Solution.runningSum2(Solution.runningSum2, [3,1,2,10,1])"
   ]
  },
  {
   "cell_type": "markdown",
   "metadata": {},
   "source": [
    "## Complexity Analysis\n",
    "\n",
    "Time complexity: O(n) where nn is the length of input array.\n",
    "\n",
    "Space complexity: O(1) since we don't use any additional space to find the running sum. Note that we do not take into consideration the space occupied by the output array."
   ]
  }
 ],
 "metadata": {
  "kernelspec": {
   "display_name": "Python 3",
   "language": "python",
   "name": "python3"
  },
  "language_info": {
   "codemirror_mode": {
    "name": "ipython",
    "version": 3
   },
   "file_extension": ".py",
   "mimetype": "text/x-python",
   "name": "python",
   "nbconvert_exporter": "python",
   "pygments_lexer": "ipython3",
   "version": "3.8.3"
  }
 },
 "nbformat": 4,
 "nbformat_minor": 4
}
