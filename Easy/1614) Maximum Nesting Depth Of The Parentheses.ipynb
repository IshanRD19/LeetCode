{
 "cells": [
  {
   "cell_type": "markdown",
   "metadata": {},
   "source": [
    "# MAXIMUM NESTING DEPTH OF THE PARATHESIS\n",
    "\n",
    "A string is a valid parentheses string (denoted VPS) if it meets one of the following:\n",
    "\n",
    "- It is an empty string \"\", or a single character not equal to \"(\" or \")\",\n",
    "- It can be written as AB (A concatenated with B), where A and B are VPS's, or\n",
    "- It can be written as (A), where A is a VPS.\n",
    "\n",
    "We can similarly define the nesting depth depth(S) of any VPS S as follows:\n",
    "\n",
    "- depth(\"\") = 0\n",
    "- depth(C) = 0, where C is a string with a single character not equal to \"(\" or \")\".\n",
    "- depth(A + B) = max(depth(A), depth(B)), where A and B are VPS's.\n",
    "- depth(\"(\" + A + \")\") = 1 + depth(A), where A is a VPS.\n",
    "\n",
    "For example, \"\", \"()()\", and \"()(()())\" are VPS's (with nesting depths 0, 1, and 2), and \")(\" and \"(()\" are not VPS's.\n",
    "\n",
    "Given a VPS represented as string s, return the nesting depth of s.\n",
    "\n",
    "### Example 1:\n",
    "\n",
    "#### Input: \n",
    "s = \"(1+(2*3)+((8)/4))+1\"\n",
    "#### Output: \n",
    "3\n",
    "#### Explanation: \n",
    "Digit 8 is inside of 3 nested parentheses in the string.\n",
    "### Example 2:\n",
    "\n",
    "#### Input: \n",
    "s = \"(1)+((2))+(((3)))\"\n",
    "#### Output: \n",
    "3\n",
    " \n",
    "\n",
    "### Constraints:\n",
    "1 <= s.length <= 100\n",
    "\n",
    "s consists of digits 0-9 and characters '+', '-', '*', '/', '(', and ')'.\n",
    "\n",
    "It is guaranteed that parentheses expression s is a VPS."
   ]
  },
  {
   "cell_type": "code",
   "execution_count": 2,
   "metadata": {},
   "outputs": [],
   "source": [
    "# s: str\n",
    "# return -> int\n",
    "class Solution:\n",
    "    def maxDepth(self, s):\n",
    "        count = 0\n",
    "        result = 0\n",
    "        \n",
    "        for i in range(len(s)):\n",
    "            if s[i] == '(':\n",
    "                count += 1\n",
    "\n",
    "                if count > result:\n",
    "                    result = count\n",
    "\n",
    "            elif s[i] == ')':\n",
    "                count -= 1\n",
    "                \n",
    "        return result"
   ]
  },
  {
   "cell_type": "code",
   "execution_count": 3,
   "metadata": {},
   "outputs": [
    {
     "data": {
      "text/plain": [
       "3"
      ]
     },
     "execution_count": 3,
     "metadata": {},
     "output_type": "execute_result"
    }
   ],
   "source": [
    "Solution.maxDepth(Solution.maxDepth, '(1+(2*3)+((8)/4))+1')"
   ]
  }
 ],
 "metadata": {
  "kernelspec": {
   "display_name": "Python 3.10.6 64-bit",
   "language": "python",
   "name": "python3"
  },
  "language_info": {
   "codemirror_mode": {
    "name": "ipython",
    "version": 3
   },
   "file_extension": ".py",
   "mimetype": "text/x-python",
   "name": "python",
   "nbconvert_exporter": "python",
   "pygments_lexer": "ipython3",
   "version": "3.10.6"
  },
  "orig_nbformat": 4,
  "vscode": {
   "interpreter": {
    "hash": "26de051ba29f2982a8de78e945f0abaf191376122a1563185a90213a26c5da77"
   }
  }
 },
 "nbformat": 4,
 "nbformat_minor": 2
}
