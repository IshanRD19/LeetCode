{
 "cells": [
  {
   "cell_type": "markdown",
   "metadata": {},
   "source": [
    "# FIZZ BUZZ\n",
    "\n",
    "Given an integer n, return a string array answer (1-indexed) where:\n",
    "\n",
    "answer[i] == \"FizzBuzz\" if i is divisible by 3 and 5.\n",
    "answer[i] == \"Fizz\" if i is divisible by 3.\n",
    "answer[i] == \"Buzz\" if i is divisible by 5.\n",
    "answer[i] == i (as a string) if none of the above conditions are true.\n",
    " \n",
    "### Example 1:\n",
    "\n",
    "#### Input: \n",
    "n = 3\n",
    "#### Output: \n",
    "[\"1\",\"2\",\"Fizz\"]\n",
    "#### Example 2:\n",
    "\n",
    "#### Input: \n",
    "n = 5\n",
    "#### Output: \n",
    "[\"1\",\"2\",\"Fizz\",\"4\",\"Buzz\"]\n",
    "### Example 3:\n",
    "\n",
    "#### Input: \n",
    "n = 15\n",
    "#### Output: \n",
    "[\"1\",\"2\",\"Fizz\",\"4\",\"Buzz\",\"Fizz\",\"7\",\"8\",\"Fizz\",\"Buzz\",\"11\",\"Fizz\",\"13\",\"14\",\"FizzBuzz\"]\n",
    " \n",
    "\n",
    "#### Constraints:\n",
    "\n",
    "1 <= n <= 10^4"
   ]
  },
  {
   "cell_type": "code",
   "execution_count": 1,
   "metadata": {},
   "outputs": [],
   "source": [
    "class Solution:\n",
    "\n",
    "    # n: int\n",
    "    # return -> List[str]\n",
    "    def fizzBuzz(self, n):\n",
    "        result = []\n",
    "\n",
    "        for i in range(1, n+1):\n",
    "\n",
    "            if i % 3 and i % 5:\n",
    "                result.append(str(i))\n",
    "            \n",
    "            elif not i % 3 and i % 5:\n",
    "                result.append('Fizz')\n",
    "\n",
    "            elif i % 3 and not i % 5:\n",
    "                result.append('Buzz')\n",
    "            \n",
    "            else:\n",
    "                result.append('FizzBuzz')\n",
    "        \n",
    "        return result"
   ]
  },
  {
   "cell_type": "code",
   "execution_count": 2,
   "metadata": {},
   "outputs": [
    {
     "data": {
      "text/plain": [
       "['1',\n",
       " '2',\n",
       " 'Fizz',\n",
       " '4',\n",
       " 'Buzz',\n",
       " 'Fizz',\n",
       " '7',\n",
       " '8',\n",
       " 'Fizz',\n",
       " 'Buzz',\n",
       " '11',\n",
       " 'Fizz',\n",
       " '13',\n",
       " '14',\n",
       " 'FizzBuzz']"
      ]
     },
     "execution_count": 2,
     "metadata": {},
     "output_type": "execute_result"
    }
   ],
   "source": [
    "Solution.fizzBuzz(Solution.fizzBuzz, 15)"
   ]
  }
 ],
 "metadata": {
  "kernelspec": {
   "display_name": "Python 3.10.6 64-bit",
   "language": "python",
   "name": "python3"
  },
  "language_info": {
   "codemirror_mode": {
    "name": "ipython",
    "version": 3
   },
   "file_extension": ".py",
   "mimetype": "text/x-python",
   "name": "python",
   "nbconvert_exporter": "python",
   "pygments_lexer": "ipython3",
   "version": "3.10.6"
  },
  "orig_nbformat": 4,
  "vscode": {
   "interpreter": {
    "hash": "26de051ba29f2982a8de78e945f0abaf191376122a1563185a90213a26c5da77"
   }
  }
 },
 "nbformat": 4,
 "nbformat_minor": 2
}
