{
 "cells": [
  {
   "cell_type": "markdown",
   "metadata": {},
   "source": [
    "# DIVIDE ARRAY INTO EQUAL PAIRS\n",
    "\n",
    "You are given an integer array nums consisting of 2 * n integers.\n",
    "\n",
    "You need to divide nums into n pairs such that:\n",
    "\n",
    "Each element belongs to exactly one pair.\n",
    "The elements present in a pair are equal.\n",
    "Return true if nums can be divided into n pairs, otherwise return false.\n",
    "\n",
    "### Example 1:\n",
    "\n",
    "#### Input: \n",
    "nums = [3,2,3,2,2,2]\n",
    "#### Output: \n",
    "true\n",
    "#### Explanation: \n",
    "There are 6 elements in nums, so they should be divided into 6 / 2 = 3 pairs.\n",
    "If nums is divided into the pairs (2, 2), (3, 3), and (2, 2), it will satisfy all the conditions.\n",
    "### Example 2:\n",
    "\n",
    "#### Input: \n",
    "nums = [1,2,3,4]\n",
    "#### Output: \n",
    "false\n",
    "#### Explanation: \n",
    "There is no way to divide nums into 4 / 2 = 2 pairs such that the pairs satisfy every condition.\n",
    "\n",
    "### Constraints:\n",
    "nums.length == 2 * n\n",
    "\n",
    "1 <= n <= 500\n",
    "\n",
    "1 <= nums[i] <= 500"
   ]
  },
  {
   "cell_type": "code",
   "execution_count": 1,
   "metadata": {},
   "outputs": [],
   "source": [
    "# nums: List[int]\n",
    "# return -> bool\n",
    "class Solution:\n",
    "    def divideArray(self, nums):\n",
    "        freq = {}\n",
    "        length = len(nums)\n",
    "\n",
    "        # Store the frequency\n",
    "        for i in range(length):\n",
    "            if nums[i] in freq:\n",
    "                freq[nums[i]] += 1\n",
    "            else:\n",
    "                freq[nums[i]] = 1\n",
    "\n",
    "        # Check if pairs of equals can be formed\n",
    "        for k,v in freq.items():\n",
    "            if v % 2:\n",
    "                return False\n",
    "        \n",
    "        return True"
   ]
  },
  {
   "cell_type": "code",
   "execution_count": 2,
   "metadata": {},
   "outputs": [
    {
     "data": {
      "text/plain": [
       "True"
      ]
     },
     "execution_count": 2,
     "metadata": {},
     "output_type": "execute_result"
    }
   ],
   "source": [
    "Solution.divideArray(Solution.divideArray, nums = [3,2,3,2,2,2])"
   ]
  }
 ],
 "metadata": {
  "kernelspec": {
   "display_name": "Python 3.10.6 64-bit",
   "language": "python",
   "name": "python3"
  },
  "language_info": {
   "codemirror_mode": {
    "name": "ipython",
    "version": 3
   },
   "file_extension": ".py",
   "mimetype": "text/x-python",
   "name": "python",
   "nbconvert_exporter": "python",
   "pygments_lexer": "ipython3",
   "version": "3.10.6"
  },
  "orig_nbformat": 4,
  "vscode": {
   "interpreter": {
    "hash": "26de051ba29f2982a8de78e945f0abaf191376122a1563185a90213a26c5da77"
   }
  }
 },
 "nbformat": 4,
 "nbformat_minor": 2
}
