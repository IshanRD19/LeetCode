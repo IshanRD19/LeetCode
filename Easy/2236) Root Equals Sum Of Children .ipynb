{
 "cells": [
  {
   "cell_type": "markdown",
   "metadata": {},
   "source": [
    "# ROOT EQUALS SUM OF CHILDREN\n",
    "\n",
    "You are given the root of a binary tree that consists of exactly 3 nodes: the root, its left child, and its right child.\n",
    "\n",
    "Return true if the value of the root is equal to the sum of the values of its two children, or false otherwise.\n",
    "\n",
    "### Example 1:\n",
    "\n",
    "\n",
    "#### Input:\n",
    "root = [10,4,6]\n",
    "#### Output:\n",
    "true\n",
    "#### Explanation:\n",
    "The values of the root, its left child, and its right child are 10, 4, and 6, respectively. 10 is equal to 4 + 6, so we return true.\n",
    "### Example 2:\n",
    "\n",
    "\n",
    "#### Input:\n",
    "root = [5,3,1]\n",
    "#### Output:\n",
    "false\n",
    "#### Explanation:\n",
    "The values of the root, its left child, and its right child are 5, 3, and 1, respectively. 5 is not equal to 3 + 1, so we return false.\n",
    " \n",
    "\n",
    "### Constraints:\n",
    "The tree consists only of the root, its left child, and its right child.\n",
    "\n",
    "-100 <= Node.val <= 100"
   ]
  },
  {
   "cell_type": "code",
   "execution_count": null,
   "metadata": {},
   "outputs": [],
   "source": [
    "# Definition for a binary tree node.\n",
    "# class TreeNode:\n",
    "#     def __init__(self, val=0, left=None, right=None):\n",
    "#         self.val = val\n",
    "#         self.left = left\n",
    "#         self.right = right\n",
    "class Solution:\n",
    "    def checkTree(self, root: Optional[TreeNode]) -> bool:\n",
    "        return root.val == (root.left.val + root.right.val)"
   ]
  }
 ],
 "metadata": {
  "kernelspec": {
   "display_name": "Python 3",
   "language": "python",
   "name": "python3"
  },
  "language_info": {
   "codemirror_mode": {
    "name": "ipython",
    "version": 3
   },
   "file_extension": ".py",
   "mimetype": "text/x-python",
   "name": "python",
   "nbconvert_exporter": "python",
   "pygments_lexer": "ipython3",
   "version": "3.8.3"
  }
 },
 "nbformat": 4,
 "nbformat_minor": 4
}
