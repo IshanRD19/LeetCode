{
 "cells": [
  {
   "cell_type": "markdown",
   "metadata": {},
   "source": [
    "# COUNT THE NUMBER OF CONSISTENT STRINGS\n",
    "\n",
    "You are given a string allowed consisting of distinct characters and an array of strings words. A string is consistent if all characters in the string appear in the string allowed.\n",
    "\n",
    "Return the number of consistent strings in the array words.\n",
    "\n",
    "### Example 1:\n",
    "\n",
    "#### Input: \n",
    "allowed = \"ab\", words = [\"ad\",\"bd\",\"aaab\",\"baa\",\"badab\"]\n",
    "#### Output: \n",
    "2\n",
    "#### Explanation: \n",
    "Strings \"aaab\" and \"baa\" are consistent since they only contain characters 'a' and 'b'.\n",
    "### Example 2:\n",
    "\n",
    "#### Input: \n",
    "allowed = \"abc\", words = [\"a\",\"b\",\"c\",\"ab\",\"ac\",\"bc\",\"abc\"]\n",
    "#### Output: \n",
    "7\n",
    "#### Explanation: \n",
    "All strings are consistent.\n",
    "### Example 3:\n",
    "\n",
    "#### Input: \n",
    "allowed = \"cad\", words = [\"cc\",\"acd\",\"b\",\"ba\",\"bac\",\"bad\",\"ac\",\"d\"]\n",
    "#### Output: \n",
    "4\n",
    "#### Explanation: \n",
    "Strings \"cc\", \"acd\", \"ac\", and \"d\" are consistent.\n",
    " \n",
    "\n",
    "### Constraints:\n",
    "1 <= words.length <= 10^4\n",
    "\n",
    "1 <= allowed.length <= 26\n",
    "\n",
    "1 <= words[i].length <= 10\n",
    "\n",
    "The characters in allowed are distinct.\n",
    "\n",
    "words[i] and allowed contain only lowercase English letters."
   ]
  },
  {
   "cell_type": "code",
   "execution_count": 2,
   "metadata": {},
   "outputs": [],
   "source": [
    "# allowed: str\n",
    "# words: List[str]\n",
    "# return -> int\n",
    "class Solution:\n",
    "    def countConsistentStrings(self, allowed, words):\n",
    "        count = 0\n",
    "        allowed_set = set([c for c in allowed])\n",
    "        \n",
    "        # For each word\n",
    "        for w in words:\n",
    "            is_allowed = True\n",
    "    \n",
    "            # For each character\n",
    "            for c in w:\n",
    "                \n",
    "                # Check if character is allowed\n",
    "                if c not in allowed_set:\n",
    "                    is_allowed = False\n",
    "                    break\n",
    "                    \n",
    "            # Update the count of consistent strings\n",
    "            if is_allowed:\n",
    "                count += 1\n",
    "                \n",
    "        return count"
   ]
  },
  {
   "cell_type": "code",
   "execution_count": 4,
   "metadata": {},
   "outputs": [
    {
     "data": {
      "text/plain": [
       "4"
      ]
     },
     "execution_count": 4,
     "metadata": {},
     "output_type": "execute_result"
    }
   ],
   "source": [
    "Solution.countConsistentStrings(Solution.countConsistentStrings, allowed = \"cad\", words = [\"cc\",\"acd\",\"b\",\"ba\",\"bac\",\"bad\",\"ac\",\"d\"])"
   ]
  }
 ],
 "metadata": {
  "kernelspec": {
   "display_name": "Python 3.10.6 64-bit",
   "language": "python",
   "name": "python3"
  },
  "language_info": {
   "codemirror_mode": {
    "name": "ipython",
    "version": 3
   },
   "file_extension": ".py",
   "mimetype": "text/x-python",
   "name": "python",
   "nbconvert_exporter": "python",
   "pygments_lexer": "ipython3",
   "version": "3.10.6"
  },
  "orig_nbformat": 4,
  "vscode": {
   "interpreter": {
    "hash": "26de051ba29f2982a8de78e945f0abaf191376122a1563185a90213a26c5da77"
   }
  }
 },
 "nbformat": 4,
 "nbformat_minor": 2
}
