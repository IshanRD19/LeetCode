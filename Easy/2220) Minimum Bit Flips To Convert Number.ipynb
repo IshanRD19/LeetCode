{
 "cells": [
  {
   "cell_type": "markdown",
   "metadata": {},
   "source": [
    "# MINIMUM BIT FLIPS TO CONVERT NUMBER\n",
    "\n",
    "A bit flip of a number x is choosing a bit in the binary representation of x and flipping it from either 0 to 1 or 1 to 0.\n",
    "\n",
    "For example, for x = 7, the binary representation is 111 and we may choose any bit (including any leading zeros not shown) and flip it. We can flip the first bit from the right to get 110, flip the second bit from the right to get 101, flip the fifth bit from the right (a leading zero) to get 10111, etc.\n",
    "Given two integers start and goal, return the minimum number of bit flips to convert start to goal.\n",
    "\n",
    "### Example 1:\n",
    "\n",
    "#### Input: \n",
    "start = 10, goal = 7\n",
    "#### Output: \n",
    "3\n",
    "#### Explanation: \n",
    "The binary representation of 10 and 7 are 1010 and 0111 respectively. We can convert 10 to 7 in 3 steps:\n",
    "- Flip the first bit from the right: 1010 -> 1011.\n",
    "- Flip the third bit from the right: 1011 -> 1111.\n",
    "- Flip the fourth bit from the right: 1111 -> 0111.\n",
    "It can be shown we cannot convert 10 to 7 in less than 3 steps. Hence, we return 3.\n",
    "### Example 2:\n",
    "\n",
    "#### Input: \n",
    "start = 3, goal = 4\n",
    "#### Output: \n",
    "3\n",
    "#### Explanation: \n",
    "The binary representation of 3 and 4 are 011 and 100 respectively. We can convert 3 to 4 in 3 steps:\n",
    "- Flip the first bit from the right: 011 -> 010.\n",
    "- Flip the second bit from the right: 010 -> 000.\n",
    "- Flip the third bit from the right: 000 -> 100.\n",
    "It can be shown we cannot convert 3 to 4 in less than 3 steps. Hence, we return 3.\n",
    " \n",
    "### Constraints:\n",
    "0 <= start, goal <= 10^9"
   ]
  },
  {
   "cell_type": "code",
   "execution_count": 3,
   "metadata": {},
   "outputs": [],
   "source": [
    "# start: int\n",
    "# goal: int\n",
    "# return -> int\n",
    "class Solution:\n",
    "    def minBitFlips(self, start, goal):\n",
    "        return bin(start ^ goal)[2:].count('1')"
   ]
  },
  {
   "cell_type": "code",
   "execution_count": 4,
   "metadata": {},
   "outputs": [
    {
     "data": {
      "text/plain": [
       "3"
      ]
     },
     "execution_count": 4,
     "metadata": {},
     "output_type": "execute_result"
    }
   ],
   "source": [
    "Solution.minBitFlips(Solution.minBitFlips, 10, 7)"
   ]
  }
 ],
 "metadata": {
  "kernelspec": {
   "display_name": "Python 3.10.6 64-bit",
   "language": "python",
   "name": "python3"
  },
  "language_info": {
   "codemirror_mode": {
    "name": "ipython",
    "version": 3
   },
   "file_extension": ".py",
   "mimetype": "text/x-python",
   "name": "python",
   "nbconvert_exporter": "python",
   "pygments_lexer": "ipython3",
   "version": "3.10.6"
  },
  "orig_nbformat": 4,
  "vscode": {
   "interpreter": {
    "hash": "26de051ba29f2982a8de78e945f0abaf191376122a1563185a90213a26c5da77"
   }
  }
 },
 "nbformat": 4,
 "nbformat_minor": 2
}
