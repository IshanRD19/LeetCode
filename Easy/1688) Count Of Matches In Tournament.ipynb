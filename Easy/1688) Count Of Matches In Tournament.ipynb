{
 "cells": [
  {
   "cell_type": "markdown",
   "metadata": {},
   "source": [
    "# COUNT OF MATCHES IN TOURNAMENT\n",
    "\n",
    "You are given an integer n, the number of teams in a tournament that has strange rules:\n",
    "\n",
    "If the current number of teams is even, each team gets paired with another team. A total of n / 2 matches are played, and n / 2 teams advance to the next round.\n",
    "If the current number of teams is odd, one team randomly advances in the tournament, and the rest gets paired. A total of (n - 1) / 2 matches are played, and (n - 1) / 2 + 1 teams advance to the next round.\n",
    "Return the number of matches played in the tournament until a winner is decided.\n",
    "\n",
    "### Example 1:\n",
    "\n",
    "#### Input: \n",
    "n = 7\n",
    "#### Output: \n",
    "6\n",
    "#### Explanation: \n",
    "Details of the tournament: \n",
    "- 1st Round: Teams = 7, Matches = 3, and 4 teams advance.\n",
    "- 2nd Round: Teams = 4, Matches = 2, and 2 teams advance.\n",
    "- 3rd Round: Teams = 2, Matches = 1, and 1 team is declared the winner.\n",
    "Total number of matches = 3 + 2 + 1 = 6.\n",
    "### Example 2:\n",
    "\n",
    "#### Input: \n",
    "n = 14\n",
    "#### Output: \n",
    "13\n",
    "#### Explanation: \n",
    "Details of the tournament:\n",
    "- 1st Round: Teams = 14, Matches = 7, and 7 teams advance.\n",
    "- 2nd Round: Teams = 7, Matches = 3, and 4 teams advance.\n",
    "- 3rd Round: Teams = 4, Matches = 2, and 2 teams advance.\n",
    "- 4th Round: Teams = 2, Matches = 1, and 1 team is declared the winner.\n",
    "Total number of matches = 7 + 3 + 2 + 1 = 13.\n",
    "\n",
    "### Constraints:\n",
    "\n",
    "1 <= n <= 200"
   ]
  },
  {
   "cell_type": "code",
   "execution_count": 7,
   "metadata": {},
   "outputs": [],
   "source": [
    "# n: int\n",
    "# return -> int\n",
    "class Solution:\n",
    "    def numberOfMatches(self, n):\n",
    "        count = 0\n",
    "\n",
    "        # Until only one team remains\n",
    "        while n > 1:\n",
    "            \n",
    "            # For odd teams\n",
    "            if n % 2:\n",
    "                count += (n-1) // 2\n",
    "                n = (n-1) // 2 + 1\n",
    "\n",
    "            # For even teams\n",
    "            else:\n",
    "                count += n // 2\n",
    "                n = n // 2\n",
    "                \n",
    "        return count"
   ]
  },
  {
   "cell_type": "code",
   "execution_count": 8,
   "metadata": {},
   "outputs": [
    {
     "data": {
      "text/plain": [
       "6"
      ]
     },
     "execution_count": 8,
     "metadata": {},
     "output_type": "execute_result"
    }
   ],
   "source": [
    "Solution.numberOfMatches(Solution.numberOfMatches, 7)"
   ]
  }
 ],
 "metadata": {
  "kernelspec": {
   "display_name": "Python 3.10.6 64-bit",
   "language": "python",
   "name": "python3"
  },
  "language_info": {
   "codemirror_mode": {
    "name": "ipython",
    "version": 3
   },
   "file_extension": ".py",
   "mimetype": "text/x-python",
   "name": "python",
   "nbconvert_exporter": "python",
   "pygments_lexer": "ipython3",
   "version": "3.10.6"
  },
  "orig_nbformat": 4,
  "vscode": {
   "interpreter": {
    "hash": "26de051ba29f2982a8de78e945f0abaf191376122a1563185a90213a26c5da77"
   }
  }
 },
 "nbformat": 4,
 "nbformat_minor": 2
}
