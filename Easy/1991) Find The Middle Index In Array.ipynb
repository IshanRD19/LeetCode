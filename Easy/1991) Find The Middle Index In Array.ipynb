{
 "cells": [
  {
   "cell_type": "markdown",
   "metadata": {},
   "source": [
    "# FIND THE MIDDLE INDEX IN ARRAY\n",
    "\n",
    "Given a 0-indexed integer array nums, find the leftmost middleIndex (i.e., the smallest amongst all the possible ones).\n",
    "\n",
    "A middleIndex is an index where nums[0] + nums[1] + ... + nums[middleIndex-1] == nums[middleIndex+1] + nums[middleIndex+2] + ... + nums[nums.length-1].\n",
    "\n",
    "If middleIndex == 0, the left side sum is considered to be 0. Similarly, if middleIndex == nums.length - 1, the right side sum is considered to be 0.\n",
    "\n",
    "Return the leftmost middleIndex that satisfies the condition, or -1 if there is no such index.\n",
    "\n",
    "### Example 1:\n",
    "\n",
    "#### Input:\n",
    "nums = [2,3,-1,8,4]\n",
    "#### Output:\n",
    "3\n",
    "#### Explanation:\n",
    "The sum of the numbers before index 3 is: 2 + 3 + -1 = 4. The sum of the numbers after index 3 is: 4 = 4\n",
    "### Example 2:\n",
    "\n",
    "#### Input:\n",
    "nums = [1,-1,4]\n",
    "#### Output:\n",
    "2\n",
    "#### Explanation:\n",
    "The sum of the numbers before index 2 is: 1 + -1 = 0. The sum of the numbers after index 2 is: 0\n",
    "### Example 3:\n",
    "\n",
    "#### Input:\n",
    "nums = [2,5]\n",
    "#### Output:\n",
    "-1\n",
    "#### Explanation:\n",
    "There is no valid middleIndex.\n",
    " \n",
    "\n",
    "### Constraints:\n",
    "\n",
    "1 <= nums.length <= 100\n",
    "\n",
    "-1000 <= nums[i] <= 1000"
   ]
  },
  {
   "cell_type": "code",
   "execution_count": 1,
   "metadata": {},
   "outputs": [],
   "source": [
    "# nums: List[int]\n",
    "# return -> int\n",
    "class Solution:\n",
    "    def findMiddleIndex(self, nums):\n",
    "        # Traverse through list\n",
    "        for i in range(len(nums)):\n",
    "\n",
    "            # Update the values\n",
    "            if i:\n",
    "                left_sum += nums[i-1]\n",
    "                right_sum -= nums[i]\n",
    "\n",
    "            # Check for base case\n",
    "            else:\n",
    "                left_sum = 0\n",
    "                right_sum = sum(nums[1:])\n",
    "            \n",
    "            # Check for exit condition\n",
    "            if left_sum == right_sum:\n",
    "                return i\n",
    "        \n",
    "        return -1"
   ]
  },
  {
   "cell_type": "code",
   "execution_count": 2,
   "metadata": {},
   "outputs": [
    {
     "data": {
      "text/plain": [
       "3"
      ]
     },
     "execution_count": 2,
     "metadata": {},
     "output_type": "execute_result"
    }
   ],
   "source": [
    "Solution.findMiddleIndex(Solution.findMiddleIndex, [2,3,-1,8,4])"
   ]
  }
 ],
 "metadata": {
  "kernelspec": {
   "display_name": "Python 3",
   "language": "python",
   "name": "python3"
  },
  "language_info": {
   "codemirror_mode": {
    "name": "ipython",
    "version": 3
   },
   "file_extension": ".py",
   "mimetype": "text/x-python",
   "name": "python",
   "nbconvert_exporter": "python",
   "pygments_lexer": "ipython3",
   "version": "3.8.3"
  }
 },
 "nbformat": 4,
 "nbformat_minor": 4
}
