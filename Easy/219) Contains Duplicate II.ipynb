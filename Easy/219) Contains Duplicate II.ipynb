{
 "cells": [
  {
   "cell_type": "markdown",
   "metadata": {},
   "source": [
    "# CONTAINS DUPLICATE II\n",
    "\n",
    "Given an integer array nums and an integer k, return true if there are two distinct indices i and j in the array such that nums[i] == nums[j] and abs(i - j) <= k.\n",
    "\n",
    "### Example 1:\n",
    "\n",
    "#### Input: \n",
    "nums = [1,2,3,1], k = 3\n",
    "#### Output: \n",
    "true\n",
    "### Example 2:\n",
    "#### Input: \n",
    "nums = [1,0,1,1], k = 1\n",
    "#### Output: \n",
    "true\n",
    "### Example 3:\n",
    "#### Input: \n",
    "nums = [1,2,3,1,2,3], k = 2\n",
    "#### Output: \n",
    "false\n",
    " \n",
    "### Constraints:\n",
    "1 <= nums.length <= 10^5\n",
    "\n",
    "-10^9 <= nums[i] <= 10^9\n",
    "\n",
    "0 <= k <= 10^5"
   ]
  },
  {
   "cell_type": "code",
   "execution_count": 1,
   "metadata": {},
   "outputs": [],
   "source": [
    "class Solution:\n",
    "    # nums: List[int]\n",
    "    # k: int\n",
    "    # return -> bool\n",
    "    def containsNearbyDuplicate(self, nums, k):\n",
    "        seen = {}\n",
    "        \n",
    "        for i in range(len(nums)):\n",
    "            \n",
    "            if nums[i] in seen and i - seen[nums[i]] <= k:\n",
    "                return True\n",
    "        \n",
    "            seen[nums[i]] = i\n",
    "            \n",
    "        return False"
   ]
  },
  {
   "cell_type": "code",
   "execution_count": 3,
   "metadata": {},
   "outputs": [
    {
     "data": {
      "text/plain": [
       "True"
      ]
     },
     "execution_count": 3,
     "metadata": {},
     "output_type": "execute_result"
    }
   ],
   "source": [
    "Solution.containsNearbyDuplicate(Solution.containsNearbyDuplicate, [1,0,1,1], 1)"
   ]
  }
 ],
 "metadata": {
  "kernelspec": {
   "display_name": "Python 3.10.6 64-bit",
   "language": "python",
   "name": "python3"
  },
  "language_info": {
   "codemirror_mode": {
    "name": "ipython",
    "version": 3
   },
   "file_extension": ".py",
   "mimetype": "text/x-python",
   "name": "python",
   "nbconvert_exporter": "python",
   "pygments_lexer": "ipython3",
   "version": "3.10.6"
  },
  "orig_nbformat": 4,
  "vscode": {
   "interpreter": {
    "hash": "26de051ba29f2982a8de78e945f0abaf191376122a1563185a90213a26c5da77"
   }
  }
 },
 "nbformat": 4,
 "nbformat_minor": 2
}
