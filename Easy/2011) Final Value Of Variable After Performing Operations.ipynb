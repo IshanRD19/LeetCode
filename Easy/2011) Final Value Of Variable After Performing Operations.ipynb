{
 "cells": [
  {
   "cell_type": "markdown",
   "metadata": {},
   "source": [
    "# FINAL VALUE OF A VARIABLE AFTER PERFORMING OPERATIONS\n",
    "\n",
    "There is a programming language with only four operations and one variable X:\n",
    "\n",
    "++X and X++ increments the value of the variable X by 1.\n",
    "\n",
    "--X and X-- decrements the value of the variable X by 1.\n",
    "\n",
    "Initially, the value of X is 0.\n",
    "\n",
    "Given an array of strings operations containing a list of operations, return the final value of X after performing all the operations.\n",
    "\n",
    "### Example 1:\n",
    "\n",
    "#### Input:\n",
    "operations = [\"--X\",\"X++\",\"X++\"]\n",
    "#### Output:\n",
    "1\n",
    "#### Explanation:\n",
    "The operations are performed as follows:\n",
    "\n",
    "Initially, X = 0.\n",
    "\n",
    "--X: X is decremented by 1, X =  0 - 1 = -1.\n",
    "\n",
    "X++: X is incremented by 1, X = -1 + 1 =  0.\n",
    "\n",
    "X++: X is incremented by 1, X =  0 + 1 =  1.\n",
    "\n",
    "### Example 2:\n",
    "\n",
    "#### Input:\n",
    "operations = [\"++X\",\"++X\",\"X++\"]\n",
    "#### Output:\n",
    "3\n",
    "#### Explanation:\n",
    "The operations are performed as follows:\n",
    "\n",
    "Initially, X = 0.\n",
    "\n",
    "++X: X is incremented by 1, X = 0 + 1 = 1.\n",
    "\n",
    "++X: X is incremented by 1, X = 1 + 1 = 2.\n",
    "\n",
    "X++: X is incremented by 1, X = 2 + 1 = 3.\n",
    "\n",
    "### Example 3:\n",
    "\n",
    "#### Input:\n",
    "operations = [\"X++\",\"++X\",\"--X\",\"X--\"]\n",
    "#### Output:\n",
    "0\n",
    "#### Explanation:\n",
    "The operations are performed as follows:\n",
    "\n",
    "Initially, X = 0.\n",
    "\n",
    "X++: X is incremented by 1, X = 0 + 1 = 1.\n",
    "\n",
    "++X: X is incremented by 1, X = 1 + 1 = 2.\n",
    "\n",
    "--X: X is decremented by 1, X = 2 - 1 = 1.\n",
    "\n",
    "X--: X is decremented by 1, X = 1 - 1 = 0.\n",
    "\n",
    "### Constraints:\n",
    "\n",
    "1 <= operations.length <= 100\n",
    "\n",
    "operations[i] will be either \"++X\", \"X++\", \"--X\", or \"X--\"."
   ]
  },
  {
   "cell_type": "code",
   "execution_count": 4,
   "metadata": {},
   "outputs": [],
   "source": [
    "# operations: List[str]\n",
    "# return -> int\n",
    "class Solution:\n",
    "    def finalValueAfterOperations(self, operations):\n",
    "        result = 0\n",
    "        for s in operations:\n",
    "            result = result + 1 if '++' in s else result - 1\n",
    "        return result"
   ]
  },
  {
   "cell_type": "code",
   "execution_count": 5,
   "metadata": {},
   "outputs": [
    {
     "data": {
      "text/plain": [
       "1"
      ]
     },
     "execution_count": 5,
     "metadata": {},
     "output_type": "execute_result"
    }
   ],
   "source": [
    "Solution.finalValueAfterOperations(Solution.finalValueAfterOperations, [\"--X\",\"X++\",\"X++\"])"
   ]
  },
  {
   "cell_type": "markdown",
   "metadata": {},
   "source": [
    "## Complexity Analysis\n",
    "\n",
    "Time Complexity : O(n)\n",
    "\n",
    "Space Complexity: O(1)"
   ]
  }
 ],
 "metadata": {
  "kernelspec": {
   "display_name": "Python 3",
   "language": "python",
   "name": "python3"
  },
  "language_info": {
   "codemirror_mode": {
    "name": "ipython",
    "version": 3
   },
   "file_extension": ".py",
   "mimetype": "text/x-python",
   "name": "python",
   "nbconvert_exporter": "python",
   "pygments_lexer": "ipython3",
   "version": "3.8.3"
  }
 },
 "nbformat": 4,
 "nbformat_minor": 4
}
