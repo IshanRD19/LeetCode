{
 "cells": [
  {
   "cell_type": "markdown",
   "metadata": {},
   "source": [
    "# BUILD ARRAY FROM PERMUTATION\n",
    "\n",
    "Given a zero-based permutation nums (0-indexed), build an array ans of the same length where ans[i] = nums[nums[i]] for each 0 <= i < nums.length and return it.\n",
    "\n",
    "A zero-based permutation nums is an array of distinct integers from 0 to nums.length - 1 (inclusive).\n",
    "\n",
    "### Example 1:\n",
    "\n",
    "#### Input:\n",
    "nums = [0,2,1,5,3,4]\n",
    "#### Output:\n",
    "[0,1,2,4,5,3]\n",
    "#### Explanation:\n",
    "The array ans is built as follows: \n",
    "ans = [nums[nums[0]], nums[nums[1]], nums[nums[2]], nums[nums[3]], nums[nums[4]], nums[nums[5]]]\n",
    "    = [nums[0], nums[2], nums[1], nums[5], nums[3], nums[4]]\n",
    "    = [0,1,2,4,5,3]\n",
    "### Example 2:\n",
    "\n",
    "#### Input:\n",
    "nums = [5,0,1,2,3,4]\n",
    "#### Output:\n",
    "[4,5,0,1,2,3]\n",
    "#### Explanation:\n",
    "The array ans is built as follows:\n",
    "\n",
    "ans = [nums[nums[0]], nums[nums[1]], nums[nums[2]], nums[nums[3]], nums[nums[4]], nums[nums[5]]]\n",
    "\n",
    "= [nums[5], nums[0], nums[1], nums[2], nums[3], nums[4]]\n",
    "\n",
    "= [4,5,0,1,2,3]\n",
    " \n",
    "\n",
    "### Constraints:\n",
    "\n",
    "1 <= nums.length <= 1000\n",
    "\n",
    "0 <= nums[i] < nums.length\n",
    "\n",
    "The elements in nums are distinct.\n",
    "\n",
    "## Approach 1: Direct Method"
   ]
  },
  {
   "cell_type": "code",
   "execution_count": 1,
   "metadata": {},
   "outputs": [],
   "source": [
    "# nums: List[int]\n",
    "# return -> List[int]\n",
    "class Solution:\n",
    "    def buildArray(self, nums):\n",
    "        length = len(nums)\n",
    "        result = [-1] * length\n",
    "        \n",
    "        for i in range(length):\n",
    "            result[i] = nums[nums[i]]\n",
    "        \n",
    "        return result"
   ]
  },
  {
   "cell_type": "code",
   "execution_count": 2,
   "metadata": {},
   "outputs": [
    {
     "data": {
      "text/plain": [
       "[0, 1, 2, 4, 5, 3]"
      ]
     },
     "execution_count": 2,
     "metadata": {},
     "output_type": "execute_result"
    }
   ],
   "source": [
    "Solution.buildArray(Solution.buildArray, [0,2,1,5,3,4])"
   ]
  },
  {
   "cell_type": "markdown",
   "metadata": {},
   "source": [
    "**Follow-up:** Can you solve it without using an extra space (i.e., O(1) memory)?\n",
    "\n",
    "## Approach 2: Space Efficient Method"
   ]
  },
  {
   "cell_type": "code",
   "execution_count": 3,
   "metadata": {},
   "outputs": [],
   "source": [
    "# nums: List[int]\n",
    "# return -> List[int]\n",
    "class Solution:\n",
    "    def buildArray2(self, nums):\n",
    "        '''\n",
    "        Given:\n",
    "        0 <= nums[i] < nums.length\n",
    "        The elements in nums are distinct.\n",
    "        '''\n",
    "        length = len(nums)\n",
    "        # length = 6\n",
    "        \n",
    "        # Input: [0,2,1,5,3,4]\n",
    "        # Intermediate: [0 + 6*0, 2 + 6*1, 1 + 6*2, 5 + 6*4, 3 + 6*5, 4 + 6*3] => [0,8,13,29,33,22]\n",
    "        # Output: [0,1,2,4,5,3]\n",
    "        \n",
    "        # Make each element in the form a = length * x + y\n",
    "        for i in range(length):\n",
    "            nums[i] += length * (nums[nums[i]] % length)\n",
    "        \n",
    "        # Extract the required values by dividing with the length\n",
    "        for i in range(length):\n",
    "            nums[i] //= length\n",
    "            \n",
    "        return nums"
   ]
  },
  {
   "cell_type": "code",
   "execution_count": 4,
   "metadata": {},
   "outputs": [
    {
     "data": {
      "text/plain": [
       "[0, 1, 2, 4, 5, 3]"
      ]
     },
     "execution_count": 4,
     "metadata": {},
     "output_type": "execute_result"
    }
   ],
   "source": [
    "Solution.buildArray2(Solution.buildArray2, [0,2,1,5,3,4])"
   ]
  }
 ],
 "metadata": {
  "kernelspec": {
   "display_name": "Python 3",
   "language": "python",
   "name": "python3"
  },
  "language_info": {
   "codemirror_mode": {
    "name": "ipython",
    "version": 3
   },
   "file_extension": ".py",
   "mimetype": "text/x-python",
   "name": "python",
   "nbconvert_exporter": "python",
   "pygments_lexer": "ipython3",
   "version": "3.8.3"
  }
 },
 "nbformat": 4,
 "nbformat_minor": 4
}
