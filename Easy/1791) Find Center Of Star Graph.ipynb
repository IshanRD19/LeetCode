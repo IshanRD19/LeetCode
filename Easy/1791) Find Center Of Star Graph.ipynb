{
 "cells": [
  {
   "cell_type": "markdown",
   "metadata": {},
   "source": [
    "# FIND CENTER OF STAR GRAPH\n",
    "\n",
    "There is an undirected star graph consisting of n nodes labeled from 1 to n. A star graph is a graph where there is one center node and exactly n - 1 edges that connect the center node with every other node.\n",
    "\n",
    "You are given a 2D integer array edges where each edges[i] = [ui, vi] indicates that there is an edge between the nodes ui and vi. Return the center of the given star graph.\n",
    " \n",
    "### Example 1:\n",
    "#### Input: \n",
    "edges = [[1,2],[2,3],[4,2]]\n",
    "#### Output: \n",
    "2\n",
    "#### Explanation: \n",
    "As shown in the figure above, node 2 is connected to every other node, so 2 is the center.\n",
    "### Example 2:\n",
    "\n",
    "#### Input: \n",
    "edges = [[1,2],[5,1],[1,3],[1,4]]\n",
    "#### Output: \n",
    "1\n",
    " \n",
    "\n",
    "### Constraints:\n",
    "\n",
    "3 <= n <= 10^5\n",
    "\n",
    "edges.length == n - 1\n",
    "\n",
    "edges[i].length == 2\n",
    "\n",
    "1 <= ui, vi <= n\n",
    "\n",
    "ui != vi\n",
    "\n",
    "The given edges represent a valid star graph."
   ]
  },
  {
   "cell_type": "code",
   "execution_count": 1,
   "metadata": {},
   "outputs": [],
   "source": [
    "# edges: List[List[int]]\n",
    "# return -> int\n",
    "class Solution:\n",
    "    def findCenter(self, edges):\n",
    "        # Check for recurring node\n",
    "        if edges[1][0] == edges[0][0]:\n",
    "            return edges[1][0]\n",
    "        \n",
    "        elif edges[1][0] == edges[0][1]:\n",
    "            return edges[1][0]\n",
    "\n",
    "        return edges[1][1]"
   ]
  },
  {
   "cell_type": "code",
   "execution_count": 2,
   "metadata": {},
   "outputs": [
    {
     "data": {
      "text/plain": [
       "1"
      ]
     },
     "execution_count": 2,
     "metadata": {},
     "output_type": "execute_result"
    }
   ],
   "source": [
    "Solution.findCenter(Solution.findCenter, [[1,2],[5,1],[1,3],[1,4]])"
   ]
  }
 ],
 "metadata": {
  "kernelspec": {
   "display_name": "Python 3.10.6 64-bit",
   "language": "python",
   "name": "python3"
  },
  "language_info": {
   "codemirror_mode": {
    "name": "ipython",
    "version": 3
   },
   "file_extension": ".py",
   "mimetype": "text/x-python",
   "name": "python",
   "nbconvert_exporter": "python",
   "pygments_lexer": "ipython3",
   "version": "3.10.6"
  },
  "orig_nbformat": 4,
  "vscode": {
   "interpreter": {
    "hash": "26de051ba29f2982a8de78e945f0abaf191376122a1563185a90213a26c5da77"
   }
  }
 },
 "nbformat": 4,
 "nbformat_minor": 2
}
