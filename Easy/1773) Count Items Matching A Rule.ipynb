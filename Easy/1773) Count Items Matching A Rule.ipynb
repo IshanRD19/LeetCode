{
 "cells": [
  {
   "cell_type": "markdown",
   "metadata": {},
   "source": [
    "# COUNT ITEMS MATCHING A RULE\n",
    "\n",
    "You are given an array items, where each items[i] = [typei, colori, namei] describes the type, color, and name of the ith item. You are also given a rule represented by two strings, ruleKey and ruleValue.\n",
    "\n",
    "The ith item is said to match the rule if one of the following is true:\n",
    "\n",
    "ruleKey == \"type\" and ruleValue == typei.\n",
    "\n",
    "ruleKey == \"color\" and ruleValue == colori.\n",
    "\n",
    "ruleKey == \"name\" and ruleValue == namei.\n",
    "\n",
    "Return the number of items that match the given rule.\n",
    "\n",
    "### Example 1:\n",
    "\n",
    "#### Input:\n",
    "items = [[\"phone\",\"blue\",\"pixel\"],[\"computer\",\"silver\",\"lenovo\"],[\"phone\",\"gold\",\"iphone\"]], ruleKey = \"color\", ruleValue = \"silver\"\n",
    "#### Output:\n",
    "1\n",
    "#### Explanation:\n",
    "There is only one item matching the given rule, which is [\"computer\",\"silver\",\"lenovo\"].\n",
    "### Example 2:\n",
    "\n",
    "#### Input:\n",
    "items = [[\"phone\",\"blue\",\"pixel\"],[\"computer\",\"silver\",\"phone\"],[\"phone\",\"gold\",\"iphone\"]], ruleKey = \"type\", ruleValue = \"phone\"\n",
    "#### Output:\n",
    "2\n",
    "#### Explanation:\n",
    "There are only two items matching the given rule, which are [\"phone\",\"blue\",\"pixel\"] and [\"phone\",\"gold\",\"iphone\"]. Note that the item [\"computer\",\"silver\",\"phone\"] does not match.\n",
    " \n",
    "### Constraints:\n",
    "\n",
    "1 <= items.length <= 10^4\n",
    "\n",
    "1 <= typei.length, colori.length, namei.length, ruleValue.length <= 10\n",
    "\n",
    "ruleKey is equal to either \"type\", \"color\", or \"name\".\n",
    "\n",
    "All strings consist only of lowercase letters."
   ]
  },
  {
   "cell_type": "code",
   "execution_count": 1,
   "metadata": {},
   "outputs": [],
   "source": [
    "# items: List[List[str]]\n",
    "# ruleKey: str\n",
    "# ruleValue: str\n",
    "# return -> int\n",
    "class Solution:\n",
    "    def countMatches(self, items, ruleKey, ruleValue):\n",
    "        result = 0\n",
    "        index_to_check = {'type': 0, 'color': 1, 'name': 2}.get(ruleKey)\n",
    "        for i in range(len(items)):\n",
    "            if items[i][index_to_check] == ruleValue:\n",
    "                result += 1\n",
    "        return result"
   ]
  },
  {
   "cell_type": "code",
   "execution_count": 2,
   "metadata": {},
   "outputs": [
    {
     "data": {
      "text/plain": [
       "2"
      ]
     },
     "execution_count": 2,
     "metadata": {},
     "output_type": "execute_result"
    }
   ],
   "source": [
    "Solution.countMatches(Solution.countMatches, [[\"phone\",\"blue\",\"pixel\"],[\"computer\",\"silver\",\"phone\"],[\"phone\",\"gold\",\"iphone\"]], 'type', 'phone')"
   ]
  }
 ],
 "metadata": {
  "kernelspec": {
   "display_name": "Python 3",
   "language": "python",
   "name": "python3"
  },
  "language_info": {
   "codemirror_mode": {
    "name": "ipython",
    "version": 3
   },
   "file_extension": ".py",
   "mimetype": "text/x-python",
   "name": "python",
   "nbconvert_exporter": "python",
   "pygments_lexer": "ipython3",
   "version": "3.8.3"
  }
 },
 "nbformat": 4,
 "nbformat_minor": 4
}
