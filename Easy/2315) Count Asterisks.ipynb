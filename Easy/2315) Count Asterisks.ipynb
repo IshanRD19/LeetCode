{
 "cells": [
  {
   "cell_type": "markdown",
   "metadata": {},
   "source": [
    "# COUNT ASTERISKS\n",
    "\n",
    "You are given a string s, where every two consecutive vertical bars '|' are grouped into a pair. In other words, the 1st and 2nd '|' make a pair, the 3rd and 4th '|' make a pair, and so forth.\n",
    "\n",
    "Return the number of '*' in s, excluding the '*' between each pair of '|'.\n",
    "\n",
    "Note that each '|' will belong to exactly one pair.\n",
    "\n",
    "### Example 1:\n",
    "#### Input: \n",
    "s = \"l|*e*et|c**o|*de|\"\n",
    "#### Output: \n",
    "2\n",
    "#### Explanation: \n",
    "The considered characters are underlined: \"l|*e*et|c**o|*de|\".\n",
    "The characters between the first and second '|' are excluded from the answer.\n",
    "Also, the characters between the third and fourth '|' are excluded from the answer.\n",
    "There are 2 asterisks considered. Therefore, we return 2.\n",
    "### Example 2:\n",
    "\n",
    "#### Input: \n",
    "s = \"iamprogrammer\"\n",
    "#### Output: \n",
    "0\n",
    "#### Explanation: \n",
    "In this example, there are no asterisks in s. Therefore, we return 0.\n",
    "### Example 3:\n",
    "\n",
    "#### Input: \n",
    "s = \"yo|uar|e**|b|e***au|tifu|l\"\n",
    "#### Output: \n",
    "5\n",
    "#### Explanation: \n",
    "The considered characters are underlined: \"yo|uar|e**|b|e***au|tifu|l\". There are 5 asterisks considered. Therefore, we return 5.\n",
    "\n",
    "### Constraints:\n",
    "1 <= s.length <= 1000\n",
    "\n",
    "s consists of lowercase English letters, vertical bars '|', and asterisks '*'.\n",
    "\n",
    "s contains an even number of vertical bars '|'."
   ]
  },
  {
   "cell_type": "code",
   "execution_count": 3,
   "metadata": {},
   "outputs": [],
   "source": [
    "# s: str\n",
    "# return -> int\n",
    "class Solution:\n",
    "    def countAsterisks(self, s):\n",
    "        to_count = True\n",
    "        count = 0\n",
    "        \n",
    "        # For each character\n",
    "        for i in range(len(s)):\n",
    "            \n",
    "            # Keep track of pairs\n",
    "            if s[i] == '|':\n",
    "                if to_count:\n",
    "                    to_count = False\n",
    "                else:\n",
    "                    to_count = True\n",
    "            \n",
    "            # Update count of asterisks\n",
    "            elif to_count and s[i] == '*':\n",
    "                count += 1\n",
    "        \n",
    "        return count"
   ]
  },
  {
   "cell_type": "code",
   "execution_count": 4,
   "metadata": {},
   "outputs": [
    {
     "data": {
      "text/plain": [
       "2"
      ]
     },
     "execution_count": 4,
     "metadata": {},
     "output_type": "execute_result"
    }
   ],
   "source": [
    "Solution.countAsterisks(Solution.countAsterisks, 'l|*e*et|c**o|*de|')"
   ]
  }
 ],
 "metadata": {
  "kernelspec": {
   "display_name": "Python 3.10.6 64-bit",
   "language": "python",
   "name": "python3"
  },
  "language_info": {
   "codemirror_mode": {
    "name": "ipython",
    "version": 3
   },
   "file_extension": ".py",
   "mimetype": "text/x-python",
   "name": "python",
   "nbconvert_exporter": "python",
   "pygments_lexer": "ipython3",
   "version": "3.10.6"
  },
  "orig_nbformat": 4,
  "vscode": {
   "interpreter": {
    "hash": "26de051ba29f2982a8de78e945f0abaf191376122a1563185a90213a26c5da77"
   }
  }
 },
 "nbformat": 4,
 "nbformat_minor": 2
}
