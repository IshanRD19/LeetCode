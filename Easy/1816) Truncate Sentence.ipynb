{
 "cells": [
  {
   "cell_type": "markdown",
   "metadata": {},
   "source": [
    "# TRUNCATE SENTENCE\n",
    "\n",
    "A sentence is a list of words that are separated by a single space with no leading or trailing spaces. Each of the words consists of only uppercase and lowercase English letters (no punctuation).\n",
    "\n",
    "For example, \"Hello World\", \"HELLO\", and \"hello world hello world\" are all sentences.\n",
    "You are given a sentence s​​​​​​ and an integer k​​​​​​. You want to truncate s​​​​​​ such that it contains only the first k​​​​​​ words. Return s​​​​​​ after truncating it.\n",
    "\n",
    "### Example 1:\n",
    "\n",
    "#### Input: \n",
    "s = \"Hello how are you Contestant\", k = 4\n",
    "#### Output: \n",
    "\"Hello how are you\"\n",
    "#### Explanation:\n",
    "The words in s are [\"Hello\", \"how\" \"are\", \"you\", \"Contestant\"].\n",
    "The first 4 words are [\"Hello\", \"how\", \"are\", \"you\"].\n",
    "Hence, you should return \"Hello how are you\".\n",
    "### Example 2:\n",
    "\n",
    "#### Input: \n",
    "s = \"What is the solution to this problem\", k = 4\n",
    "#### Output: \n",
    "\"What is the solution\"\n",
    "#### Explanation:\n",
    "The words in s are [\"What\", \"is\" \"the\", \"solution\", \"to\", \"this\", \"problem\"].\n",
    "The first 4 words are [\"What\", \"is\", \"the\", \"solution\"].\n",
    "Hence, you should return \"What is the solution\".\n",
    "### Example 3:\n",
    "\n",
    "#### Input: \n",
    "s = \"chopper is not a tanuki\", k = 5\n",
    "#### Output: \n",
    "\"chopper is not a tanuki\"\n",
    " \n",
    "\n",
    "### Constraints:\n",
    "1 <= s.length <= 500\n",
    "\n",
    "k is in the range [1, the number of words in s].\n",
    "\n",
    "s consist of only lowercase and uppercase English letters and spaces.\n",
    "\n",
    "The words in s are separated by a single space.\n",
    "\n",
    "There are no leading or trailing spaces."
   ]
  },
  {
   "cell_type": "code",
   "execution_count": 2,
   "metadata": {},
   "outputs": [],
   "source": [
    "# s: str\n",
    "# k: int\n",
    "# return -> str\n",
    "class Solution:\n",
    "    def truncateSentence(self, s, k):\n",
    "        return ' '.join(s.split()[:k])"
   ]
  },
  {
   "cell_type": "code",
   "execution_count": 3,
   "metadata": {},
   "outputs": [
    {
     "data": {
      "text/plain": [
       "'What is the solution'"
      ]
     },
     "execution_count": 3,
     "metadata": {},
     "output_type": "execute_result"
    }
   ],
   "source": [
    "Solution.truncateSentence(Solution.truncateSentence, s = \"What is the solution to this problem\", k = 4)"
   ]
  }
 ],
 "metadata": {
  "kernelspec": {
   "display_name": "Python 3.10.6 64-bit",
   "language": "python",
   "name": "python3"
  },
  "language_info": {
   "codemirror_mode": {
    "name": "ipython",
    "version": 3
   },
   "file_extension": ".py",
   "mimetype": "text/x-python",
   "name": "python",
   "nbconvert_exporter": "python",
   "pygments_lexer": "ipython3",
   "version": "3.10.6"
  },
  "orig_nbformat": 4,
  "vscode": {
   "interpreter": {
    "hash": "26de051ba29f2982a8de78e945f0abaf191376122a1563185a90213a26c5da77"
   }
  }
 },
 "nbformat": 4,
 "nbformat_minor": 2
}
