{
 "cells": [
  {
   "cell_type": "markdown",
   "metadata": {},
   "source": [
    "# CHECK IF TWO STRING ARRAYS ARE EQUIVALENT\n",
    "\n",
    "Given two string arrays word1 and word2, return true if the two arrays represent the same string, and false otherwise.\n",
    "\n",
    "A string is represented by an array if the array elements concatenated in order forms the string.\n",
    "\n",
    "### Example 1:\n",
    "\n",
    "#### Input: \n",
    "word1 = [\"ab\", \"c\"], word2 = [\"a\", \"bc\"]\n",
    "#### Output: \n",
    "true\n",
    "#### Explanation:\n",
    "word1 represents string \"ab\" + \"c\" -> \"abc\"\n",
    "word2 represents string \"a\" + \"bc\" -> \"abc\"\n",
    "The strings are the same, so return true.\n",
    "### Example 2:\n",
    "\n",
    "#### Input: \n",
    "word1 = [\"a\", \"cb\"], word2 = [\"ab\", \"c\"]\n",
    "#### Output: \n",
    "false\n",
    "### Example 3:\n",
    "\n",
    "#### Input: \n",
    "word1  = [\"abc\", \"d\", \"defg\"], word2 = [\"abcddefg\"]\n",
    "#### Output: \n",
    "true\n",
    " \n",
    "\n",
    "### Constraints:\n",
    "1 <= word1.length, word2.length <= 10^3\n",
    "\n",
    "1 <= word1[i].length, word2[i].length <= 10^3\n",
    "\n",
    "1 <= sum(word1[i].length), sum(word2[i].length) <= 10^3\n",
    "\n",
    "word1[i] and word2[i] consist of lowercase letters."
   ]
  },
  {
   "cell_type": "code",
   "execution_count": 1,
   "metadata": {},
   "outputs": [],
   "source": [
    "# word1: List[str]\n",
    "# word2: List[str]\n",
    "# reutrn -> bool\n",
    "class Solution:\n",
    "    def arrayStringsAreEqual(self, word1, word2):\n",
    "        return ''.join(word1) == ''.join(word2)"
   ]
  },
  {
   "cell_type": "code",
   "execution_count": 2,
   "metadata": {},
   "outputs": [
    {
     "data": {
      "text/plain": [
       "True"
      ]
     },
     "execution_count": 2,
     "metadata": {},
     "output_type": "execute_result"
    }
   ],
   "source": [
    "Solution.arrayStringsAreEqual(Solution.arrayStringsAreEqual, [\"ab\", \"c\"], [\"a\", \"bc\"])"
   ]
  }
 ],
 "metadata": {
  "kernelspec": {
   "display_name": "Python 3.10.6 64-bit",
   "language": "python",
   "name": "python3"
  },
  "language_info": {
   "codemirror_mode": {
    "name": "ipython",
    "version": 3
   },
   "file_extension": ".py",
   "mimetype": "text/x-python",
   "name": "python",
   "nbconvert_exporter": "python",
   "pygments_lexer": "ipython3",
   "version": "3.10.6"
  },
  "orig_nbformat": 4,
  "vscode": {
   "interpreter": {
    "hash": "26de051ba29f2982a8de78e945f0abaf191376122a1563185a90213a26c5da77"
   }
  }
 },
 "nbformat": 4,
 "nbformat_minor": 2
}
