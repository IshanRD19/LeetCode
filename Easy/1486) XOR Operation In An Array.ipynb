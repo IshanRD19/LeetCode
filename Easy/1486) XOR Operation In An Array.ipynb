{
 "cells": [
  {
   "cell_type": "markdown",
   "metadata": {},
   "source": [
    "# XOR OPERATION IN AN ARRAY\n",
    "\n",
    "You are given an integer n and an integer start.\n",
    "\n",
    "Define an array nums where nums[i] = start + 2 * i (0-indexed) and n == nums.length.\n",
    "\n",
    "Return the bitwise XOR of all elements of nums.\n",
    "\n",
    "### Example 1:\n",
    "\n",
    "#### Input: \n",
    "n = 5, start = 0\n",
    "#### Output: \n",
    "8\n",
    "#### Explanation: \n",
    "Array nums is equal to [0, 2, 4, 6, 8] where (0 ^ 2 ^ 4 ^ 6 ^ 8) = 8. Where \"^\" corresponds to bitwise XOR operator.\n",
    "### Example 2:\n",
    "\n",
    "#### Input: \n",
    "n = 4, start = 3\n",
    "#### Output: \n",
    "8\n",
    "#### Explanation: \n",
    "Array nums is equal to [3, 5, 7, 9] where (3 ^ 5 ^ 7 ^ 9) = 8.\n",
    " \n",
    "\n",
    "### Constraints:\n",
    "1 <= n <= 1000\n",
    "\n",
    "0 <= start <= 1000\n",
    "\n",
    "n == nums.length"
   ]
  },
  {
   "cell_type": "code",
   "execution_count": 1,
   "metadata": {},
   "outputs": [],
   "source": [
    "# n: int\n",
    "# start: int\n",
    "# return -> int\n",
    "class Solution:\n",
    "    def xorOperation(self, n, start):\n",
    "        a = [start + (2 * i) for i in range(n)]\n",
    "        result = start\n",
    "\n",
    "        for i in a[1:]:\n",
    "            result ^= i\n",
    "\n",
    "        return result"
   ]
  },
  {
   "cell_type": "code",
   "execution_count": 3,
   "metadata": {},
   "outputs": [
    {
     "data": {
      "text/plain": [
       "8"
      ]
     },
     "execution_count": 3,
     "metadata": {},
     "output_type": "execute_result"
    }
   ],
   "source": [
    "Solution.xorOperation(Solution.xorOperation, 4, 3)"
   ]
  }
 ],
 "metadata": {
  "kernelspec": {
   "display_name": "Python 3.10.6 64-bit",
   "language": "python",
   "name": "python3"
  },
  "language_info": {
   "codemirror_mode": {
    "name": "ipython",
    "version": 3
   },
   "file_extension": ".py",
   "mimetype": "text/x-python",
   "name": "python",
   "nbconvert_exporter": "python",
   "pygments_lexer": "ipython3",
   "version": "3.10.6"
  },
  "orig_nbformat": 4,
  "vscode": {
   "interpreter": {
    "hash": "26de051ba29f2982a8de78e945f0abaf191376122a1563185a90213a26c5da77"
   }
  }
 },
 "nbformat": 4,
 "nbformat_minor": 2
}
