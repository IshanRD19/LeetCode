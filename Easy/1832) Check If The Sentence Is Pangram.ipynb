{
 "cells": [
  {
   "cell_type": "markdown",
   "metadata": {},
   "source": [
    "# CHECK IF THE SENTENCE IS PANGRAM\n",
    "\n",
    "A pangram is a sentence where every letter of the English alphabet appears at least once.\n",
    "\n",
    "Given a string sentence containing only lowercase English letters, return true if sentence is a pangram, or false otherwise.\n",
    "\n",
    "### Example 1:\n",
    "\n",
    "#### Input: \n",
    "sentence = \"thequickbrownfoxjumpsoverthelazydog\"\n",
    "#### Output: \n",
    "true\n",
    "#### Explanation: \n",
    "sentence contains at least one of every letter of the English alphabet.\n",
    "### Example 2:\n",
    "\n",
    "#### Input: \n",
    "sentence = \"leetcode\"\n",
    "#### Output: \n",
    "false\n",
    "\n",
    "### Constraints:\n",
    "\n",
    "1 <= sentence.length <= 1000\n",
    "\n",
    "sentence consists of lowercase English letters."
   ]
  },
  {
   "cell_type": "code",
   "execution_count": 1,
   "metadata": {},
   "outputs": [],
   "source": [
    "# sentence: str\n",
    "# return -> bool\n",
    "class Solution:\n",
    "    def checkIfPangram(self, sentence):\n",
    "        return len(set([c for c in sentence])) == 26"
   ]
  },
  {
   "cell_type": "code",
   "execution_count": 2,
   "metadata": {},
   "outputs": [
    {
     "data": {
      "text/plain": [
       "True"
      ]
     },
     "execution_count": 2,
     "metadata": {},
     "output_type": "execute_result"
    }
   ],
   "source": [
    "Solution.checkIfPangram(Solution.checkIfPangram, 'thequickbrownfoxjumpsoverthelazydog')"
   ]
  }
 ],
 "metadata": {
  "kernelspec": {
   "display_name": "Python 3.10.6 64-bit",
   "language": "python",
   "name": "python3"
  },
  "language_info": {
   "codemirror_mode": {
    "name": "ipython",
    "version": 3
   },
   "file_extension": ".py",
   "mimetype": "text/x-python",
   "name": "python",
   "nbconvert_exporter": "python",
   "pygments_lexer": "ipython3",
   "version": "3.10.6"
  },
  "orig_nbformat": 4,
  "vscode": {
   "interpreter": {
    "hash": "26de051ba29f2982a8de78e945f0abaf191376122a1563185a90213a26c5da77"
   }
  }
 },
 "nbformat": 4,
 "nbformat_minor": 2
}
