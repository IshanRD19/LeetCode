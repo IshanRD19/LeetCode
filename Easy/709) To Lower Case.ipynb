{
 "cells": [
  {
   "cell_type": "markdown",
   "metadata": {},
   "source": [
    "# TO LOWER CASE\n",
    "\n",
    "Given a string s, return the string after replacing every uppercase letter with the same lowercase letter.\n",
    "\n",
    "### Example 1:\n",
    "\n",
    "#### Input: \n",
    "s = \"Hello\"\n",
    "#### Output: \n",
    "\"hello\"\n",
    "### Example 2:\n",
    "#### Input: \n",
    "s = \"here\"\n",
    "#### Output: \n",
    "\"here\"\n",
    "### Example 3:\n",
    "\n",
    "#### Input: \n",
    "s = \"LOVELY\"\n",
    "#### Output: \n",
    "\"lovely\"\n",
    " \n",
    "### Constraints:\n",
    "1 <= s.length <= 100\n",
    "\n",
    "s consists of printable ASCII characters."
   ]
  },
  {
   "cell_type": "code",
   "execution_count": 1,
   "metadata": {},
   "outputs": [],
   "source": [
    "# s: str\n",
    "# return -> str\n",
    "class Solution:\n",
    "    def toLowerCase(self, s):\n",
    "        return s.lower()"
   ]
  },
  {
   "cell_type": "code",
   "execution_count": 2,
   "metadata": {},
   "outputs": [
    {
     "data": {
      "text/plain": [
       "'hello'"
      ]
     },
     "execution_count": 2,
     "metadata": {},
     "output_type": "execute_result"
    }
   ],
   "source": [
    "Solution.toLowerCase(Solution.toLowerCase, 'Hello')"
   ]
  }
 ],
 "metadata": {
  "kernelspec": {
   "display_name": "Python 3.10.6 64-bit",
   "language": "python",
   "name": "python3"
  },
  "language_info": {
   "codemirror_mode": {
    "name": "ipython",
    "version": 3
   },
   "file_extension": ".py",
   "mimetype": "text/x-python",
   "name": "python",
   "nbconvert_exporter": "python",
   "pygments_lexer": "ipython3",
   "version": "3.10.6"
  },
  "orig_nbformat": 4,
  "vscode": {
   "interpreter": {
    "hash": "26de051ba29f2982a8de78e945f0abaf191376122a1563185a90213a26c5da77"
   }
  }
 },
 "nbformat": 4,
 "nbformat_minor": 2
}
