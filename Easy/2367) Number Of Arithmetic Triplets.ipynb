{
 "cells": [
  {
   "cell_type": "markdown",
   "metadata": {},
   "source": [
    "# NUMBER OF ARITHMETIC TRIPLETS\n",
    "\n",
    "You are given a 0-indexed, strictly increasing integer array nums and a positive integer diff. A triplet (i, j, k) is an arithmetic triplet if the following conditions are met:\n",
    "\n",
    "i < j < k,\n",
    "\n",
    "nums[j] - nums[i] == diff, and\n",
    "\n",
    "nums[k] - nums[j] == diff.\n",
    "\n",
    "Return the number of unique arithmetic triplets.\n",
    "\n",
    " \n",
    "\n",
    "### Example 1:\n",
    "\n",
    "#### Input: \n",
    "nums = [0,1,4,6,7,10], diff = 3\n",
    "#### Output: \n",
    "2\n",
    "#### Explanation:\n",
    "(1, 2, 4) is an arithmetic triplet because both 7 - 4 == 3 and 4 - 1 == 3.\n",
    "\n",
    "(2, 4, 5) is an arithmetic triplet because both 10 - 7 == 3 and 7 - 4 == 3. \n",
    "\n",
    "### Example 2:\n",
    "\n",
    "#### Input: \n",
    "nums = [4,5,6,7,8,9], diff = 2\n",
    "#### Output: \n",
    "2\n",
    "#### Explanation:\n",
    "(0, 2, 4) is an arithmetic triplet because both 8 - 6 == 2 and 6 - 4 == 2.\n",
    "\n",
    "(1, 3, 5) is an arithmetic triplet because both 9 - 7 == 2 and 7 - 5 == 2.\n",
    " \n",
    "### Constraints:\n",
    "\n",
    "3 <= nums.length <= 200\n",
    "\n",
    "0 <= nums[i] <= 200\n",
    "\n",
    "1 <= diff <= 50\n",
    "\n",
    "nums is strictly increasing."
   ]
  },
  {
   "cell_type": "code",
   "execution_count": 3,
   "metadata": {},
   "outputs": [],
   "source": [
    "# nums: List[int]\n",
    "# diff: int\n",
    "# return -> int\n",
    "class Solution:\n",
    "\n",
    "    def arithmeticTriplets(self, nums, diff):\n",
    "        result = 0\n",
    "\n",
    "        # Implement Binary Search\n",
    "        def search_element(arr, key):\n",
    "            length = len(arr)\n",
    "            left, right = 0, length\n",
    "\n",
    "            while left <= right:\n",
    "                middle = left + (right - left) // 2\n",
    "                \n",
    "                if arr[middle] == key:\n",
    "                    return True\n",
    "\n",
    "                elif arr[middle] > key:\n",
    "                    right = middle - 1\n",
    "\n",
    "                else:\n",
    "                    left = middle + 1\n",
    "\n",
    "                if left >= length or right < 0:\n",
    "                    break\n",
    "\n",
    "            return False\n",
    "\n",
    "        # Consider each element as middle element in triplet\n",
    "        for i in range(1, len(nums) - 1):\n",
    "\n",
    "            # Serch for first element in triplet\n",
    "            if search_element(nums[:i], nums[i] - diff):\n",
    "\n",
    "                # Serch for third element in triplet\n",
    "                if search_element(nums[i+1:], nums[i] + diff):\n",
    "                    result += 1\n",
    "        \n",
    "        return result"
   ]
  },
  {
   "cell_type": "code",
   "execution_count": 4,
   "metadata": {},
   "outputs": [
    {
     "data": {
      "text/plain": [
       "2"
      ]
     },
     "execution_count": 4,
     "metadata": {},
     "output_type": "execute_result"
    }
   ],
   "source": [
    "Solution.arithmeticTriplets(Solution.arithmeticTriplets, [0,1,4,6,7,10], 3)\n",
    "# Solution.arithmeticTriplets(Solution.arithmeticTriplets, [4,5,6,7,8,9], 2)"
   ]
  }
 ],
 "metadata": {
  "kernelspec": {
   "display_name": "Python 3.10.6 64-bit",
   "language": "python",
   "name": "python3"
  },
  "language_info": {
   "codemirror_mode": {
    "name": "ipython",
    "version": 3
   },
   "file_extension": ".py",
   "mimetype": "text/x-python",
   "name": "python",
   "nbconvert_exporter": "python",
   "pygments_lexer": "ipython3",
   "version": "3.10.6"
  },
  "orig_nbformat": 4,
  "vscode": {
   "interpreter": {
    "hash": "26de051ba29f2982a8de78e945f0abaf191376122a1563185a90213a26c5da77"
   }
  }
 },
 "nbformat": 4,
 "nbformat_minor": 2
}
