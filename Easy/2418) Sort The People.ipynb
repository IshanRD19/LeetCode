{
 "cells": [
  {
   "cell_type": "markdown",
   "metadata": {},
   "source": [
    "# SORT THE PEOPLE\n",
    "\n",
    "You are given an array of strings names, and an array heights that consists of distinct positive integers. Both arrays are of length n.\n",
    "\n",
    "For each index i, names[i] and heights[i] denote the name and height of the ith person.\n",
    "\n",
    "Return names sorted in descending order by the people's heights.\n",
    "\n",
    "### Example 1:\n",
    "\n",
    "#### Input: \n",
    "names = [\"Mary\",\"John\",\"Emma\"], heights = [180,165,170]\n",
    "#### Output: \n",
    "[\"Mary\",\"Emma\",\"John\"]\n",
    "#### Explanation: \n",
    "Mary is the tallest, followed by Emma and John.\n",
    "### Example 2:\n",
    "\n",
    "#### Input: \n",
    "names = [\"Alice\",\"Bob\",\"Bob\"], heights = [155,185,150]\n",
    "#### Output: \n",
    "[\"Bob\",\"Alice\",\"Bob\"]\n",
    "#### Explanation: \n",
    "The first Bob is the tallest, followed by Alice and the second Bob.\n",
    "\n",
    "### Constraints:\n",
    "n == names.length == heights.length\n",
    "\n",
    "1 <= n <= 10^3\n",
    "\n",
    "1 <= names[i].length <= 20\n",
    "\n",
    "1 <= heights[i] <= 10^5\n",
    "\n",
    "names[i] consists of lower and upper case English letters.\n",
    "\n",
    "All the values of heights are distinct."
   ]
  },
  {
   "cell_type": "code",
   "execution_count": 1,
   "metadata": {},
   "outputs": [],
   "source": [
    "# names: List[str]\n",
    "# heights: List[str]\n",
    "# return -> List[str]\n",
    "class Solution:\n",
    "    def sortPeople(self, names, heights):\n",
    "        return [i[0] for i in sorted([(names[i], heights[i]) for i in range(len(names))], key=lambda x: x[1], reverse=True)]"
   ]
  },
  {
   "cell_type": "code",
   "execution_count": 2,
   "metadata": {},
   "outputs": [
    {
     "data": {
      "text/plain": [
       "['Bob', 'Alice', 'Bob']"
      ]
     },
     "execution_count": 2,
     "metadata": {},
     "output_type": "execute_result"
    }
   ],
   "source": [
    "Solution.sortPeople(Solution.sortPeople, names = [\"Alice\",\"Bob\",\"Bob\"], heights = [155,185,150])"
   ]
  }
 ],
 "metadata": {
  "kernelspec": {
   "display_name": "Python 3.10.6 64-bit",
   "language": "python",
   "name": "python3"
  },
  "language_info": {
   "codemirror_mode": {
    "name": "ipython",
    "version": 3
   },
   "file_extension": ".py",
   "mimetype": "text/x-python",
   "name": "python",
   "nbconvert_exporter": "python",
   "pygments_lexer": "ipython3",
   "version": "3.10.6"
  },
  "orig_nbformat": 4,
  "vscode": {
   "interpreter": {
    "hash": "26de051ba29f2982a8de78e945f0abaf191376122a1563185a90213a26c5da77"
   }
  }
 },
 "nbformat": 4,
 "nbformat_minor": 2
}
