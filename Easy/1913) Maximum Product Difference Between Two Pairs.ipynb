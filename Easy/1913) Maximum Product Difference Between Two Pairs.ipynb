{
 "cells": [
  {
   "cell_type": "markdown",
   "metadata": {},
   "source": [
    "# MAXIMUM PRODUCT DIFFERENCE BETWEEN TWO PAIRS\n",
    "\n",
    "The product difference between two pairs (a, b) and (c, d) is defined as (a * b) - (c * d).\n",
    "\n",
    "For example, the product difference between (5, 6) and (2, 7) is (5 * 6) - (2 * 7) = 16.\n",
    "Given an integer array nums, choose four distinct indices w, x, y, and z such that the product difference between pairs (nums[w], nums[x]) and (nums[y], nums[z]) is maximized.\n",
    "\n",
    "Return the maximum such product difference.\n",
    "\n",
    "### Example 1:\n",
    "\n",
    "#### Input: \n",
    "nums = [5,6,2,7,4]\n",
    "#### Output: \n",
    "34\n",
    "#### Explanation: \n",
    "We can choose indices 1 and 3 for the first pair (6, 7) and indices 2 and 4 for the second pair (2, 4).\n",
    "The product difference is (6 * 7) - (2 * 4) = 34.\n",
    "### Example 2:\n",
    "\n",
    "#### Input: \n",
    "nums = [4,2,5,9,7,4,8]\n",
    "#### Output: \n",
    "64\n",
    "#### Explanation: \n",
    "We can choose indices 3 and 6 for the first pair (9, 8) and indices 1 and 5 for the second pair (2, 4).\n",
    "The product difference is (9 * 8) - (2 * 4) = 64.\n",
    " \n",
    "### Constraints:\n",
    "4 <= nums.length <= 10^4\n",
    "\n",
    "1 <= nums[i] <= 10^4\n",
    "\n",
    "## Approach 1: Space Efficient Method"
   ]
  },
  {
   "cell_type": "code",
   "execution_count": 1,
   "metadata": {},
   "outputs": [],
   "source": [
    "# nums: List[int]\n",
    "# return -> int\n",
    "class Solution:\n",
    "    def maxProductDifference(self, nums):\n",
    "        nums.sort()\n",
    "        return nums[-1] * nums[-2] - nums[0] * nums[1]"
   ]
  },
  {
   "cell_type": "code",
   "execution_count": 2,
   "metadata": {},
   "outputs": [
    {
     "data": {
      "text/plain": [
       "64"
      ]
     },
     "execution_count": 2,
     "metadata": {},
     "output_type": "execute_result"
    }
   ],
   "source": [
    "Solution.maxProductDifference(Solution.maxProductDifference, [4,2,5,9,7,4,8])"
   ]
  },
  {
   "cell_type": "markdown",
   "metadata": {},
   "source": [
    "## Approach 2: Time Efficient Method"
   ]
  },
  {
   "cell_type": "code",
   "execution_count": 3,
   "metadata": {},
   "outputs": [],
   "source": [
    "# nums: List[int]\n",
    "# return -> int\n",
    "class Solution:\n",
    "    def maxProductDifference(self, nums):\n",
    "        max_1 = max_2 = -1\n",
    "        min_1 = min_2 = 10 ** 4\n",
    "\n",
    "        for n in nums:\n",
    "\n",
    "            # Compare with max numbers\n",
    "            if n > max_1:\n",
    "                max_2 = max_1\n",
    "                max_1 = n\n",
    "            elif n > max_2:\n",
    "                max_2 = n\n",
    "\n",
    "            # Compare with min numbers\n",
    "            if n < min_1:\n",
    "                min_2 = min_1\n",
    "                min_1 = n\n",
    "            elif n < min_2:\n",
    "                min_2 = n\n",
    "\n",
    "        return max_1 * max_2 - min_1 * min_2\n"
   ]
  },
  {
   "cell_type": "code",
   "execution_count": 6,
   "metadata": {},
   "outputs": [
    {
     "data": {
      "text/plain": [
       "64"
      ]
     },
     "execution_count": 6,
     "metadata": {},
     "output_type": "execute_result"
    }
   ],
   "source": [
    "Solution.maxProductDifference(Solution.maxProductDifference, [4,2,5,9,7,4,8])"
   ]
  }
 ],
 "metadata": {
  "kernelspec": {
   "display_name": "Python 3.10.6 64-bit",
   "language": "python",
   "name": "python3"
  },
  "language_info": {
   "codemirror_mode": {
    "name": "ipython",
    "version": 3
   },
   "file_extension": ".py",
   "mimetype": "text/x-python",
   "name": "python",
   "nbconvert_exporter": "python",
   "pygments_lexer": "ipython3",
   "version": "3.10.6"
  },
  "orig_nbformat": 4,
  "vscode": {
   "interpreter": {
    "hash": "26de051ba29f2982a8de78e945f0abaf191376122a1563185a90213a26c5da77"
   }
  }
 },
 "nbformat": 4,
 "nbformat_minor": 2
}
