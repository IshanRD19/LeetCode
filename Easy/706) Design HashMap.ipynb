{
 "cells": [
  {
   "cell_type": "markdown",
   "metadata": {},
   "source": [
    "# DESIGN HASHMAP\n",
    "\n",
    "Design a HashMap without using any built-in hash table libraries.\n",
    "\n",
    "Implement the MyHashMap class:\n",
    "\n",
    "MyHashMap() initializes the object with an empty map.\n",
    "void put(int key, int value) inserts a (key, value) pair into the HashMap. If the key already exists in the map, update the corresponding value.\n",
    "int get(int key) returns the value to which the specified key is mapped, or -1 if this map contains no mapping for the key.\n",
    "void remove(key) removes the key and its corresponding value if the map contains the mapping for the key.\n",
    " \n",
    "### Example 1:\n",
    "\n",
    "#### Input\n",
    "[\"MyHashMap\", \"put\", \"put\", \"get\", \"get\", \"put\", \"get\", \"remove\", \"get\"]\n",
    "\n",
    "[[], [1, 1], [2, 2], [1], [3], [2, 1], [2], [2], [2]]\n",
    "#### Output\n",
    "[null, null, null, 1, -1, null, 1, null, -1]\n",
    "\n",
    "#### Explanation\n",
    "MyHashMap myHashMap = new MyHashMap();\n",
    "myHashMap.put(1, 1); // The map is now [[1,1]]\n",
    "myHashMap.put(2, 2); // The map is now [[1,1], [2,2]]\n",
    "myHashMap.get(1);    // return 1, The map is now [[1,1], [2,2]]\n",
    "myHashMap.get(3);    // return -1 (i.e., not found), The map is now [[1,1], [2,2]]\n",
    "myHashMap.put(2, 1); // The map is now [[1,1], [2,1]] (i.e., update the existing value)\n",
    "myHashMap.get(2);    // return 1, The map is now [[1,1], [2,1]]\n",
    "myHashMap.remove(2); // remove the mapping for 2, The map is now [[1,1]]\n",
    "myHashMap.get(2);    // return -1 (i.e., not found), The map is now [[1,1]]\n",
    " \n",
    "\n",
    "### Constraints:\n",
    "0 <= key, value <= 10^6\n",
    "\n",
    "At most 10^4 calls will be made to put, get, and remove."
   ]
  },
  {
   "cell_type": "code",
   "execution_count": null,
   "metadata": {},
   "outputs": [],
   "source": [
    "class MyHashMap:\n",
    "\n",
    "    def __init__(self):\n",
    "        self.hashmap = {}\n",
    "\n",
    "    def put(self, key: int, value: int) -> None:\n",
    "        self.hashmap[key] = value\n",
    "        return\n",
    "\n",
    "    def get(self, key: int) -> int:\n",
    "        return self.hashmap[key] if key in self.hashmap else -1\n",
    "\n",
    "    def remove(self, key: int) -> None:\n",
    "        if key in self.hashmap:\n",
    "            del self.hashmap[key]\n",
    "        return\n",
    "\n",
    "# Your MyHashMap object will be instantiated and called as such:\n",
    "# obj = MyHashMap()\n",
    "# obj.put(key,value)\n",
    "# param_2 = obj.get(key)\n",
    "# obj.remove(key)"
   ]
  }
 ],
 "metadata": {
  "kernelspec": {
   "display_name": "Python 3.10.6 64-bit",
   "language": "python",
   "name": "python3"
  },
  "language_info": {
   "name": "python",
   "version": "3.10.6"
  },
  "orig_nbformat": 4,
  "vscode": {
   "interpreter": {
    "hash": "26de051ba29f2982a8de78e945f0abaf191376122a1563185a90213a26c5da77"
   }
  }
 },
 "nbformat": 4,
 "nbformat_minor": 2
}
