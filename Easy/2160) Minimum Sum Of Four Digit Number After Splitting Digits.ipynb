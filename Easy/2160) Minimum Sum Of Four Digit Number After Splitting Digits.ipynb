{
 "cells": [
  {
   "cell_type": "markdown",
   "metadata": {},
   "source": [
    "# MINIMUM SUM OF FOUR DIGIT NUMBER AFTER SPLITTING DIGITS\n",
    "\n",
    "You are given a positive integer num consisting of exactly four digits. Split num into two new integers new1 and new2 by using the digits found in num. Leading zeros are allowed in new1 and new2, and all the digits found in num must be used.\n",
    "\n",
    "For example, given num = 2932, you have the following digits: two 2's, one 9 and one 3. Some of the possible pairs [new1, new2] are [22, 93], [23, 92], [223, 9] and [2, 329].\n",
    "Return the minimum possible sum of new1 and new2.\n",
    "\n",
    "### Example 1:\n",
    "\n",
    "#### Input:\n",
    "num = 2932\n",
    "#### Output:\n",
    "52\n",
    "#### Explanation:\n",
    "Some possible pairs [new1, new2] are [29, 23], [223, 9], etc. The minimum sum can be obtained by the pair [29, 23]: 29 + 23 = 52.\n",
    "### Example 2:\n",
    "\n",
    "#### Input:\n",
    "num = 4009\n",
    "#### Output:\n",
    "13\n",
    "#### Explanation:\n",
    "Some possible pairs [new1, new2] are [0, 49], [490, 0], etc. The minimum sum can be obtained by the pair [4, 9]: 4 + 9 = 13.\n",
    " \n",
    "### Constraints:\n",
    "\n",
    "1000 <= num <= 9999"
   ]
  },
  {
   "cell_type": "code",
   "execution_count": 1,
   "metadata": {},
   "outputs": [],
   "source": [
    "# num: int\n",
    "# return -> int\n",
    "class Solution:\n",
    "    def minimumSum(self, num):\n",
    "        digits = [d for d in str(num)]\n",
    "        digits.sort()\n",
    "        return int(digits[0]+digits[3]) + int(digits[1]+digits[2])"
   ]
  },
  {
   "cell_type": "code",
   "execution_count": 2,
   "metadata": {},
   "outputs": [
    {
     "data": {
      "text/plain": [
       "13"
      ]
     },
     "execution_count": 2,
     "metadata": {},
     "output_type": "execute_result"
    }
   ],
   "source": [
    "Solution.minimumSum(Solution.minimumSum, 4009)"
   ]
  }
 ],
 "metadata": {
  "kernelspec": {
   "display_name": "Python 3",
   "language": "python",
   "name": "python3"
  },
  "language_info": {
   "codemirror_mode": {
    "name": "ipython",
    "version": 3
   },
   "file_extension": ".py",
   "mimetype": "text/x-python",
   "name": "python",
   "nbconvert_exporter": "python",
   "pygments_lexer": "ipython3",
   "version": "3.8.3"
  }
 },
 "nbformat": 4,
 "nbformat_minor": 4
}
