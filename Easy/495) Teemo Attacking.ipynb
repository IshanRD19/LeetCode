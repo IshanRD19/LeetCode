{
 "cells": [
  {
   "cell_type": "markdown",
   "metadata": {},
   "source": [
    "# TEEMO ATTACKING\n",
    "\n",
    "Our hero Teemo is attacking an enemy Ashe with poison attacks! When Teemo attacks Ashe, Ashe gets poisoned for a exactly duration seconds. More formally, an attack at second t will mean Ashe is poisoned during the inclusive time interval [t, t + duration - 1]. If Teemo attacks again before the poison effect ends, the timer for it is reset, and the poison effect will end duration seconds after the new attack.\n",
    "\n",
    "You are given a non-decreasing integer array timeSeries, where timeSeries[i] denotes that Teemo attacks Ashe at second timeSeries[i], and an integer duration.\n",
    "\n",
    "Return the total number of seconds that Ashe is poisoned.\n",
    "\n",
    "### Example 1:\n",
    "\n",
    "Input: timeSeries = [1,4], duration = 2\n",
    "\n",
    "Output: 4\n",
    "\n",
    "Explanation: Teemo's attacks on Ashe go as follows:\n",
    "- At second 1, Teemo attacks, and Ashe is poisoned for seconds 1 and 2.\n",
    "- At second 4, Teemo attacks, and Ashe is poisoned for seconds 4 and 5.\n",
    "\n",
    "Ashe is poisoned for seconds 1, 2, 4, and 5, which is 4 seconds in total.\n",
    "\n",
    "### Example 2:\n",
    "\n",
    "Input: timeSeries = [1,2], duration = 2\n",
    "\n",
    "Output: 3\n",
    "\n",
    "Explanation: Teemo's attacks on Ashe go as follows:\n",
    "- At second 1, Teemo attacks, and Ashe is poisoned for seconds 1 and 2.\n",
    "- At second 2 however, Teemo attacks again and resets the poison timer. Ashe is poisoned for seconds 2 and 3.\n",
    "\n",
    "Ashe is poisoned for seconds 1, 2, and 3, which is 3 seconds in total.\n",
    " \n",
    "\n",
    "### Constraints:\n",
    "\n",
    "1 <= timeSeries.length <= 10^4\n",
    "\n",
    "0 <= timeSeries[i], duration <= 10^7\n",
    "\n",
    "timeSeries is sorted in non-decreasing order."
   ]
  },
  {
   "cell_type": "markdown",
   "metadata": {},
   "source": [
    "## Approach: One-Pass"
   ]
  },
  {
   "cell_type": "code",
   "execution_count": 1,
   "metadata": {},
   "outputs": [],
   "source": [
    "# timeSeries: List[int]\n",
    "# duration: int\n",
    "# return -> int\n",
    "class Solution:\n",
    "    def findPoisonedDuration(self, timeSeries, duration):\n",
    "        last_cured_at, poisoned = 0, 0\n",
    "        \n",
    "        for poison_at in timeSeries:\n",
    "            \n",
    "            new_cured_at = poison_at + duration\n",
    "            \n",
    "            # Calcualate total poison seconds based on current poison second and last cure second\n",
    "            poisoned += (new_cured_at - last_cured_at) if poison_at < last_cured_at else (new_cured_at - poison_at)\n",
    "\n",
    "            # Store the cured timestamp\n",
    "            last_cured_at = new_cured_at\n",
    "            \n",
    "        return poisoned"
   ]
  },
  {
   "cell_type": "code",
   "execution_count": 2,
   "metadata": {},
   "outputs": [
    {
     "data": {
      "text/plain": [
       "4"
      ]
     },
     "execution_count": 2,
     "metadata": {},
     "output_type": "execute_result"
    }
   ],
   "source": [
    "Solution.findPoisonedDuration(Solution.findPoisonedDuration, [1,4], 2)"
   ]
  },
  {
   "cell_type": "markdown",
   "metadata": {},
   "source": [
    "Consider only the interval between two attacks. Ashe spends in a poisoned condition the whole time interval if this interval is shorter than the poisoning time duration duration, and duration otherwise."
   ]
  },
  {
   "cell_type": "code",
   "execution_count": 3,
   "metadata": {},
   "outputs": [],
   "source": [
    "# timeSeries: List[int]\n",
    "# duration: int\n",
    "# return -> int\n",
    "class Solution:\n",
    "    def findPoisonedDuration2(self, timeSeries, duration):\n",
    "        poisoned = 0\n",
    "        for i in range(len(timeSeries) - 1):\n",
    "            # Calcualate total poison seconds based on current poison second and last cure second\n",
    "            poisoned = min(timeSeries[i+1] - timeSeries[i], duration)\n",
    "\n",
    "        # Add duration seconds as the last poison will always be affective for complete duration\n",
    "        return poisoned + duration"
   ]
  },
  {
   "cell_type": "code",
   "execution_count": 4,
   "metadata": {},
   "outputs": [
    {
     "data": {
      "text/plain": [
       "3"
      ]
     },
     "execution_count": 4,
     "metadata": {},
     "output_type": "execute_result"
    }
   ],
   "source": [
    "Solution.findPoisonedDuration2(Solution.findPoisonedDuration2, [1,2], 2)"
   ]
  },
  {
   "cell_type": "markdown",
   "metadata": {},
   "source": [
    "### Complexity Analysis\n",
    "\n",
    "Time complexity : O(N), where N is the length of the input list, since we iterate the entire list.\n",
    "\n",
    "Space complexity : O(1), it's a constant space solution."
   ]
  }
 ],
 "metadata": {
  "kernelspec": {
   "display_name": "Python 3",
   "language": "python",
   "name": "python3"
  },
  "language_info": {
   "codemirror_mode": {
    "name": "ipython",
    "version": 3
   },
   "file_extension": ".py",
   "mimetype": "text/x-python",
   "name": "python",
   "nbconvert_exporter": "python",
   "pygments_lexer": "ipython3",
   "version": "3.8.3"
  }
 },
 "nbformat": 4,
 "nbformat_minor": 4
}
