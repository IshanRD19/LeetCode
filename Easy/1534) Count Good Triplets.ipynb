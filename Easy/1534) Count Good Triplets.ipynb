{
 "cells": [
  {
   "cell_type": "markdown",
   "metadata": {},
   "source": [
    "# COUNT GOOD TRIPLETS\n",
    "\n",
    "Given an array of integers arr, and three integers a, b and c. You need to find the number of good triplets.\n",
    "\n",
    "A triplet (arr[i], arr[j], arr[k]) is good if the following conditions are true:\n",
    "\n",
    "0 <= i < j < k < arr.length\n",
    "|arr[i] - arr[j]| <= a\n",
    "|arr[j] - arr[k]| <= b\n",
    "|arr[i] - arr[k]| <= c\n",
    "Where |x| denotes the absolute value of x.\n",
    "\n",
    "Return the number of good triplets.\n",
    "\n",
    "### Example 1:\n",
    "\n",
    "#### Input: \n",
    "arr = [3,0,1,1,9,7], a = 7, b = 2, c = 3\n",
    "#### Output: \n",
    "4\n",
    "#### Explanation: \n",
    "There are 4 good triplets: [(3,0,1), (3,0,1), (3,1,1), (0,1,1)].\n",
    "### Example 2:\n",
    "\n",
    "#### Input: \n",
    "arr = [1,1,2,2,3], a = 0, b = 0, c = 1\n",
    "#### Output: \n",
    "0\n",
    "#### Explanation: \n",
    "No triplet satisfies all conditions.\n",
    " \n",
    "### Constraints:\n",
    "3 <= arr.length <= 100\n",
    "\n",
    "0 <= arr[i] <= 1000\n",
    "\n",
    "0 <= a, b, c <= 1000"
   ]
  },
  {
   "cell_type": "code",
   "execution_count": 1,
   "metadata": {},
   "outputs": [],
   "source": [
    "# arr: List[int]\n",
    "# a: int\n",
    "# b: int\n",
    "# c: int\n",
    "# return -> int\n",
    "class Solution:\n",
    "    def countGoodTriplets(self, arr, a, b, c):\n",
    "        count = 0\n",
    "        length = len(arr)\n",
    "\n",
    "        for i in range(length-2):\n",
    "            for j in range(i+1, length-1):\n",
    "                for k in range(j+1, length):\n",
    "            \n",
    "                    if abs(arr[i] - arr[j]) <= a and abs(arr[j] - arr[k]) <= b and abs(arr[i] - arr[k]) <= c:\n",
    "                        count += 1\n",
    "                \n",
    "        return count"
   ]
  },
  {
   "cell_type": "code",
   "execution_count": 2,
   "metadata": {},
   "outputs": [
    {
     "data": {
      "text/plain": [
       "4"
      ]
     },
     "execution_count": 2,
     "metadata": {},
     "output_type": "execute_result"
    }
   ],
   "source": [
    "Solution.countGoodTriplets(Solution.countGoodTriplets, arr = [3,0,1,1,9,7], a = 7, b = 2, c = 3)"
   ]
  }
 ],
 "metadata": {
  "kernelspec": {
   "display_name": "Python 3.10.6 64-bit",
   "language": "python",
   "name": "python3"
  },
  "language_info": {
   "codemirror_mode": {
    "name": "ipython",
    "version": 3
   },
   "file_extension": ".py",
   "mimetype": "text/x-python",
   "name": "python",
   "nbconvert_exporter": "python",
   "pygments_lexer": "ipython3",
   "version": "3.10.6"
  },
  "orig_nbformat": 4,
  "vscode": {
   "interpreter": {
    "hash": "26de051ba29f2982a8de78e945f0abaf191376122a1563185a90213a26c5da77"
   }
  }
 },
 "nbformat": 4,
 "nbformat_minor": 2
}
