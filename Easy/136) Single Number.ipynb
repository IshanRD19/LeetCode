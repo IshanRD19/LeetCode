{
 "cells": [
  {
   "cell_type": "markdown",
   "metadata": {},
   "source": [
    "# SINGLE NUMBER\n",
    "\n",
    "Given a non-empty array of integers nums, every element appears twice except for one. Find that single one.\n",
    "\n",
    "You must implement a solution with a linear runtime complexity and use only constant extra space.\n",
    "\n",
    "### Example 1:\n",
    "\n",
    "#### Input: \n",
    "nums = [2,2,1]\n",
    "#### Output: \n",
    "1\n",
    "#### Example 2:\n",
    "\n",
    "#### Input: \n",
    "nums = [4,1,2,1,2]\n",
    "#### Output: \n",
    "4\n",
    "#### Example 3:\n",
    "\n",
    "#### Input: \n",
    "nums = [1]\n",
    "#### Output: \n",
    "1\n",
    "\n",
    "### Constraints:\n",
    "1 <= nums.length <= 3 * 10^4\n",
    "\n",
    "-3 * 10^4 <= nums[i] <= 3 * 10^4\n",
    "\n",
    "Each element in the array appears twice except for one element which appears only once."
   ]
  },
  {
   "cell_type": "code",
   "execution_count": 1,
   "metadata": {},
   "outputs": [],
   "source": [
    "class Solution:\n",
    "    # nums: List[int]\n",
    "    # return -> int\n",
    "    def singleNumber(self, nums):\n",
    "        seen = set()\n",
    "        \n",
    "        for i in range(len(nums)):\n",
    "            \n",
    "            if nums[i] in seen:\n",
    "                seen.remove(nums[i])\n",
    "            else:\n",
    "                seen.add(nums[i])\n",
    "        \n",
    "        return seen.pop()"
   ]
  },
  {
   "cell_type": "code",
   "execution_count": 2,
   "metadata": {},
   "outputs": [
    {
     "data": {
      "text/plain": [
       "4"
      ]
     },
     "execution_count": 2,
     "metadata": {},
     "output_type": "execute_result"
    }
   ],
   "source": [
    "Solution.singleNumber(Solution.singleNumber, [4,1,2,1,2])"
   ]
  }
 ],
 "metadata": {
  "kernelspec": {
   "display_name": "Python 3.10.6 64-bit",
   "language": "python",
   "name": "python3"
  },
  "language_info": {
   "codemirror_mode": {
    "name": "ipython",
    "version": 3
   },
   "file_extension": ".py",
   "mimetype": "text/x-python",
   "name": "python",
   "nbconvert_exporter": "python",
   "pygments_lexer": "ipython3",
   "version": "3.10.6"
  },
  "orig_nbformat": 4,
  "vscode": {
   "interpreter": {
    "hash": "26de051ba29f2982a8de78e945f0abaf191376122a1563185a90213a26c5da77"
   }
  }
 },
 "nbformat": 4,
 "nbformat_minor": 2
}
