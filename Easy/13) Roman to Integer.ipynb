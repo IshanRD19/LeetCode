{
 "cells": [
  {
   "cell_type": "markdown",
   "metadata": {},
   "source": [
    "# ROMAN TO INTEGER"
   ]
  },
  {
   "cell_type": "markdown",
   "metadata": {},
   "source": [
    "Roman numerals are represented by seven different symbols: I, V, X, L, C, D and M.\n",
    "\n",
    "Symbol - Value\n",
    "\n",
    "I - 1\n",
    "\n",
    "V - 5\n",
    "\n",
    "X - 10\n",
    "\n",
    "L - 50\n",
    "\n",
    "C - 100\n",
    "\n",
    "D - 500\n",
    "\n",
    "M - 1000\n",
    "\n",
    "For example, 2 is written as II in Roman numeral, just two one's added together. 12 is written as XII, which is simply X + II. The number 27 is written as XXVII, which is XX + V + II.\n",
    "\n",
    "Roman numerals are usually written largest to smallest from left to right. However, the numeral for four is not IIII. Instead, the number four is written as IV. Because the one is before the five we subtract it making four. The same principle applies to the number nine, which is written as IX. There are six instances where subtraction is used:\n",
    "\n",
    "- I can be placed before V (5) and X (10) to make 4 and 9. \n",
    "- X can be placed before L (50) and C (100) to make 40 and 90. \n",
    "- C can be placed before D (500) and M (1000) to make 400 and 900.\n",
    "\n",
    "Given a roman numeral, convert it to an integer.\n",
    "\n"
   ]
  },
  {
   "cell_type": "markdown",
   "metadata": {},
   "source": [
    "### Example 1:\n",
    "\n",
    "Input: s = \"III\"\n",
    "\n",
    "Output: 3\n",
    "\n",
    "### Example 2:\n",
    "\n",
    "Input: s = \"IV\"\n",
    "\n",
    "Output: 4\n",
    "\n",
    "### Example 3:\n",
    "\n",
    "Input: s = \"IX\"\n",
    "\n",
    "Output: 9\n",
    "\n",
    "### Example 4:\n",
    "\n",
    "Input: s = \"LVIII\"\n",
    "\n",
    "Output: 58\n",
    "\n",
    "Explanation: L = 50, V= 5, III = 3.\n",
    "\n",
    "### Example 5:\n",
    "\n",
    "Input: s = \"MCMXCIV\"\n",
    "\n",
    "Output: 1994\n",
    "\n",
    "Explanation: M = 1000, CM = 900, XC = 90 and IV = 4."
   ]
  },
  {
   "cell_type": "markdown",
   "metadata": {},
   "source": [
    "### Constraints:\n",
    "\n",
    "- 1 <= s.length <= 15\n",
    "- s contains only the characters ('I', 'V', 'X', 'L', 'C', 'D', 'M').\n",
    "- It is guaranteed that s is a valid roman numeral in the range [1, 3999]."
   ]
  },
  {
   "cell_type": "markdown",
   "metadata": {},
   "source": [
    "## Trivial Approach: If-Else"
   ]
  },
  {
   "cell_type": "code",
   "execution_count": 1,
   "metadata": {},
   "outputs": [],
   "source": [
    "# s: str\n",
    "# -> int\n",
    "class Solution:\n",
    "    def romanToInt(self, s):\n",
    "        s_len = len(s)\n",
    "        roman_dict = {'I': 1, 'V': 5, 'X': 10, 'L': 50, 'C': 100, 'D': 500, 'M': 1000}\n",
    "        sum = 0\n",
    "        i = 0\n",
    "        \n",
    "        while(i < s_len):\n",
    "            if (s_len - i > 2):\n",
    "                if(roman_dict[s[i]] >= roman_dict[s[i+1]]):\n",
    "                    if (roman_dict[s[i+1]] >= roman_dict[s[i+2]]):\n",
    "                        sum += roman_dict[s[i]] + roman_dict[s[i+1]]\n",
    "                        i += 2\n",
    "                    else:\n",
    "                        sum += roman_dict[s[i]]\n",
    "                        i += 1\n",
    "                else:\n",
    "                    sum += roman_dict[s[i+1]] - roman_dict[s[i]]\n",
    "                    i += 2\n",
    "            else:\n",
    "                if (i == s_len - 1):\n",
    "                    sum += roman_dict[s[i]]\n",
    "                elif (roman_dict[s[i]] >= roman_dict[s[i+1]]):\n",
    "                    sum += roman_dict[s[i]] + roman_dict[s[i+1]]\n",
    "                else:\n",
    "                    sum += roman_dict[s[i+1]] - roman_dict[s[i]]\n",
    "                break\n",
    "        return sum"
   ]
  },
  {
   "cell_type": "code",
   "execution_count": 2,
   "metadata": {},
   "outputs": [
    {
     "data": {
      "text/plain": [
       "59"
      ]
     },
     "execution_count": 2,
     "metadata": {},
     "output_type": "execute_result"
    }
   ],
   "source": [
    "Solution.romanToInt(Solution.romanToInt, 'LIX')"
   ]
  },
  {
   "cell_type": "markdown",
   "metadata": {},
   "source": [
    "## Smart Approach"
   ]
  },
  {
   "cell_type": "code",
   "execution_count": 3,
   "metadata": {},
   "outputs": [],
   "source": [
    "# s: str\n",
    "# -> int\n",
    "class Solution:\n",
    "    def romanToInt2(self, s):\n",
    "        roman_dict = {'I': 1, 'V': 5, 'X': 10, 'L': 50, 'C': 100, 'D': 500, 'M': 1000}\n",
    "        raw_list = [roman_dict.get(s[i]) for i in range(len(s))]\n",
    "        for i in range(len(raw_list)-1):\n",
    "            if raw_list[i] < raw_list[i+1]:\n",
    "                raw_list[i] = -raw_list[i]\n",
    "        return(sum(raw_list))"
   ]
  },
  {
   "cell_type": "code",
   "execution_count": 4,
   "metadata": {},
   "outputs": [
    {
     "data": {
      "text/plain": [
       "59"
      ]
     },
     "execution_count": 4,
     "metadata": {},
     "output_type": "execute_result"
    }
   ],
   "source": [
    "Solution.romanToInt2(Solution.romanToInt2, 'LIX')"
   ]
  }
 ],
 "metadata": {
  "kernelspec": {
   "display_name": "Python 3",
   "language": "python",
   "name": "python3"
  },
  "language_info": {
   "codemirror_mode": {
    "name": "ipython",
    "version": 3
   },
   "file_extension": ".py",
   "mimetype": "text/x-python",
   "name": "python",
   "nbconvert_exporter": "python",
   "pygments_lexer": "ipython3",
   "version": "3.8.3"
  }
 },
 "nbformat": 4,
 "nbformat_minor": 4
}
