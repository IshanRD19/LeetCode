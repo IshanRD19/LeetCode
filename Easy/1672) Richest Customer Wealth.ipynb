{
 "cells": [
  {
   "cell_type": "markdown",
   "metadata": {},
   "source": [
    "# RICHEST CUSTOMER WEALTH\n",
    "\n",
    "You are given an m x n integer grid accounts where accounts[i][j] is the amount of money the i​​​​​​​​​​th​​​​ customer has in the j​​​​​​​​​​​th​​​​ bank. Return the wealth that the richest customer has.\n",
    "\n",
    "A customer's wealth is the amount of money they have in all their bank accounts. The richest customer is the customer that has the maximum wealth.\n",
    "\n",
    "### Example 1:\n",
    "\n",
    "#### Input:\n",
    "accounts = [[1,2,3],[3,2,1]]\n",
    "#### Output:\n",
    "6\n",
    "#### Explanation:\n",
    "1st customer has wealth = 1 + 2 + 3 = 6\n",
    "\n",
    "2nd customer has wealth = 3 + 2 + 1 = 6\n",
    "\n",
    "Both customers are considered the richest with a wealth of 6 each, so return 6.\n",
    "### Example 2:\n",
    "\n",
    "#### Input:\n",
    "accounts = [[1,5],[7,3],[3,5]]\n",
    "#### Output:\n",
    "10\n",
    "#### Explanation: \n",
    "1st customer has wealth = 6\n",
    "\n",
    "2nd customer has wealth = 10 \n",
    "\n",
    "3rd customer has wealth = 8\n",
    "\n",
    "The 2nd customer is the richest with a wealth of 10.\n",
    "### Example 3:\n",
    "\n",
    "#### Input:\n",
    "accounts = [[2,8,7],[7,1,3],[1,9,5]]\n",
    "#### Output:\n",
    "17\n",
    " \n",
    "\n",
    "### Constraints:\n",
    "\n",
    "m == accounts.length\n",
    "\n",
    "n == accounts[i].length\n",
    "\n",
    "1 <= m, n <= 50\n",
    "\n",
    "1 <= accounts[i][j] <= 100"
   ]
  },
  {
   "cell_type": "code",
   "execution_count": 1,
   "metadata": {},
   "outputs": [],
   "source": [
    "# accounts: List[List[int]]\n",
    "# return -> int\n",
    "class Solution:\n",
    "    def maximumWealth(self, accounts):\n",
    "        max_wealth = -1\n",
    "        \n",
    "        for customer_index in range(len(accounts)):\n",
    "            max_wealth = max(max_wealth, sum(accounts[customer_index]))\n",
    "            \n",
    "        return max_wealth"
   ]
  },
  {
   "cell_type": "code",
   "execution_count": 2,
   "metadata": {},
   "outputs": [
    {
     "data": {
      "text/plain": [
       "17"
      ]
     },
     "execution_count": 2,
     "metadata": {},
     "output_type": "execute_result"
    }
   ],
   "source": [
    "Solution.maximumWealth(Solution.maximumWealth, [[2,8,7],[7,1,3],[1,9,5]])"
   ]
  }
 ],
 "metadata": {
  "kernelspec": {
   "display_name": "Python 3",
   "language": "python",
   "name": "python3"
  },
  "language_info": {
   "codemirror_mode": {
    "name": "ipython",
    "version": 3
   },
   "file_extension": ".py",
   "mimetype": "text/x-python",
   "name": "python",
   "nbconvert_exporter": "python",
   "pygments_lexer": "ipython3",
   "version": "3.8.3"
  }
 },
 "nbformat": 4,
 "nbformat_minor": 4
}
