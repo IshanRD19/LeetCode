{
 "cells": [
  {
   "cell_type": "markdown",
   "metadata": {},
   "source": [
    "# HEIGHT CHECKER\n",
    "\n",
    "A school is trying to take an annual photo of all the students. The students are asked to stand in a single file line in non-decreasing order by height. Let this ordering be represented by the integer array expected where expected[i] is the expected height of the ith student in line.\n",
    "\n",
    "You are given an integer array heights representing the current order that the students are standing in. Each heights[i] is the height of the ith student in line (0-indexed).\n",
    "\n",
    "Return the number of indices where heights[i] != expected[i].\n",
    "\n",
    "### Example 1:\n",
    "\n",
    "Input: heights = [1,1,4,2,1,3]\n",
    "\n",
    "Output: 3\n",
    "\n",
    "Explanation: \n",
    "\n",
    "heights:  [1,1,4,2,1,3]\n",
    "\n",
    "expected: [1,1,1,2,3,4]\n",
    "\n",
    "Indices 2, 4, and 5 do not match.\n",
    "\n",
    "### Example 2:\n",
    "\n",
    "Input: heights = [5,1,2,3,4]\n",
    "\n",
    "Output: 5\n",
    "\n",
    "Explanation:\n",
    "\n",
    "heights:  [5,1,2,3,4]\n",
    "\n",
    "expected: [1,2,3,4,5]\n",
    "\n",
    "All indices do not match.\n",
    "\n",
    "### Example 3:\n",
    "\n",
    "Input: heights = [1,2,3,4,5]\n",
    "\n",
    "Output: 0\n",
    "\n",
    "Explanation:\n",
    "\n",
    "heights:  [1,2,3,4,5]\n",
    "\n",
    "expected: [1,2,3,4,5]\n",
    "\n",
    "All indices match.\n",
    " \n",
    "### Constraints:\n",
    "\n",
    "1 <= heights.length <= 100\n",
    "\n",
    "1 <= heights[i] <= 100"
   ]
  },
  {
   "cell_type": "markdown",
   "metadata": {},
   "source": [
    "## Approach: Sort and Compare"
   ]
  },
  {
   "cell_type": "code",
   "execution_count": 1,
   "metadata": {},
   "outputs": [],
   "source": [
    "# heights: List[int]\n",
    "# return -> int\n",
    "class Solution:\n",
    "    def heightChecker(self, heights):\n",
    "        original = heights.copy()\n",
    "        heights.sort()\n",
    "        count = 0\n",
    "        \n",
    "        # Check each array index\n",
    "        for i in range(len(heights)):\n",
    "\n",
    "            # Increment count if order is unexpected\n",
    "            if heights[i] != original[i]:\n",
    "                count += 1\n",
    "        \n",
    "        return count"
   ]
  },
  {
   "cell_type": "code",
   "execution_count": 2,
   "metadata": {},
   "outputs": [
    {
     "data": {
      "text/plain": [
       "5"
      ]
     },
     "execution_count": 2,
     "metadata": {},
     "output_type": "execute_result"
    }
   ],
   "source": [
    "Solution.heightChecker(Solution.heightChecker, [5,1,2,3,4])"
   ]
  },
  {
   "cell_type": "markdown",
   "metadata": {},
   "source": [
    "### Complexity Analysis\n",
    "\n",
    "Time Complexity: O(n log n)\n",
    "\n",
    "Space Complexity: O(n)"
   ]
  }
 ],
 "metadata": {
  "kernelspec": {
   "display_name": "Python 3",
   "language": "python",
   "name": "python3"
  },
  "language_info": {
   "codemirror_mode": {
    "name": "ipython",
    "version": 3
   },
   "file_extension": ".py",
   "mimetype": "text/x-python",
   "name": "python",
   "nbconvert_exporter": "python",
   "pygments_lexer": "ipython3",
   "version": "3.8.3"
  }
 },
 "nbformat": 4,
 "nbformat_minor": 4
}
