{
 "cells": [
  {
   "cell_type": "markdown",
   "metadata": {},
   "source": [
    "# MINIMUM NUMBER OF MOVES TO SEAT EVERYONE\n",
    "\n",
    "There are n seats and n students in a room. You are given an array seats of length n, where seats[i] is the position of the ith seat. You are also given the array students of length n, where students[j] is the position of the jth student.\n",
    "\n",
    "You may perform the following move any number of times:\n",
    "\n",
    "Increase or decrease the position of the ith student by 1 (i.e., moving the ith student from position x to x + 1 or x - 1)\n",
    "Return the minimum number of moves required to move each student to a seat such that no two students are in the same seat.\n",
    "\n",
    "Note that there may be multiple seats or students in the same position at the beginning.\n",
    "\n",
    "### Example 1:\n",
    "\n",
    "#### Input: \n",
    "seats = [3,1,5], students = [2,7,4]\n",
    "#### Output: \n",
    "4\n",
    "#### Explanation: \n",
    "The students are moved as follows:\n",
    "- The first student is moved from from position 2 to position 1 using 1 move.\n",
    "- The second student is moved from from position 7 to position 5 using 2 moves.\n",
    "- The third student is moved from from position 4 to position 3 using 1 move.\n",
    "In total, 1 + 2 + 1 = 4 moves were used.\n",
    "### Example 2:\n",
    "\n",
    "#### Input: \n",
    "seats = [4,1,5,9], students = [1,3,2,6]\n",
    "#### Output: \n",
    "7\n",
    "#### Explanation: \n",
    "The students are moved as follows:\n",
    "- The first student is not moved.\n",
    "- The second student is moved from from position 3 to position 4 using 1 move.\n",
    "- The third student is moved from from position 2 to position 5 using 3 moves.\n",
    "- The fourth student is moved from from position 6 to position 9 using 3 moves.\n",
    "In total, 0 + 1 + 3 + 3 = 7 moves were used.\n",
    "### Example 3:\n",
    "\n",
    "#### Input: \n",
    "seats = [2,2,6,6], students = [1,3,2,6]\n",
    "#### Output: \n",
    "4\n",
    "#### Explanation: \n",
    "Note that there are two seats at position 2 and two seats at position 6.\n",
    "The students are moved as follows:\n",
    "- The first student is moved from from position 1 to position 2 using 1 move.\n",
    "- The second student is moved from from position 3 to position 6 using 3 moves.\n",
    "- The third student is not moved.\n",
    "- The fourth student is not moved.\n",
    "In total, 1 + 3 + 0 + 0 = 4 moves were used.\n",
    "\n",
    "### Constraints:\n",
    "n == seats.length == students.length\n",
    "\n",
    "1 <= n <= 100\n",
    "\n",
    "1 <= seats[i], students[j] <= 100"
   ]
  },
  {
   "cell_type": "code",
   "execution_count": 1,
   "metadata": {},
   "outputs": [],
   "source": [
    "# seats: List[int]\n",
    "# students: List[int]\n",
    "# return -> int\n",
    "class Solution:\n",
    "    def minMovesToSeat(self, seats, students):\n",
    "        n = len(seats)\n",
    "        result = 0\n",
    "        \n",
    "        # Sort the lists\n",
    "        seats.sort()\n",
    "        students.sort()\n",
    "        \n",
    "        # Form pairs with minimum shifts\n",
    "        for i in range(n):\n",
    "            result += abs(seats[i] - students[i])\n",
    "        \n",
    "        return result"
   ]
  },
  {
   "cell_type": "code",
   "execution_count": 2,
   "metadata": {},
   "outputs": [
    {
     "data": {
      "text/plain": [
       "7"
      ]
     },
     "execution_count": 2,
     "metadata": {},
     "output_type": "execute_result"
    }
   ],
   "source": [
    "Solution.minMovesToSeat(Solution.minMovesToSeat, seats = [4,1,5,9], students = [1,3,2,6])"
   ]
  }
 ],
 "metadata": {
  "kernelspec": {
   "display_name": "Python 3.10.6 64-bit",
   "language": "python",
   "name": "python3"
  },
  "language_info": {
   "codemirror_mode": {
    "name": "ipython",
    "version": 3
   },
   "file_extension": ".py",
   "mimetype": "text/x-python",
   "name": "python",
   "nbconvert_exporter": "python",
   "pygments_lexer": "ipython3",
   "version": "3.10.6"
  },
  "orig_nbformat": 4,
  "vscode": {
   "interpreter": {
    "hash": "26de051ba29f2982a8de78e945f0abaf191376122a1563185a90213a26c5da77"
   }
  }
 },
 "nbformat": 4,
 "nbformat_minor": 2
}
