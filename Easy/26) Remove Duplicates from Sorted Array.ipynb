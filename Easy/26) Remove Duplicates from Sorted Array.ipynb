{
 "cells": [
  {
   "cell_type": "markdown",
   "metadata": {},
   "source": [
    "# REMOVE DUPLICATES FROM SORTED ARRAY"
   ]
  },
  {
   "cell_type": "markdown",
   "metadata": {},
   "source": [
    "Given a sorted array nums, remove the duplicates in-place such that each element appears only once and returns the new length.\n",
    "\n",
    "Do not allocate extra space for another array, you must do this by modifying the input array in-place with O(1) extra memory."
   ]
  },
  {
   "cell_type": "markdown",
   "metadata": {},
   "source": [
    "### Clarification:\n",
    "\n",
    "Confused why the returned value is an integer but your answer is an array?\n",
    "\n",
    "Note that the input array is passed in by reference, which means a modification to the input array will be known to the caller as well.\n",
    "\n",
    "Internally you can think of this:"
   ]
  },
  {
   "cell_type": "markdown",
   "metadata": {},
   "source": [
    "// nums is passed in by reference. (i.e., without making a copy)\n",
    "\n",
    "int len = removeDuplicates(nums);\n",
    "\n",
    "// any modification to nums in your function would be known by the caller.\n",
    "\n",
    "// using the length returned by your function, it prints the first len elements.\n",
    "\n",
    "for (int i = 0; i < len; i++) \n",
    "{\n",
    "\n",
    "    print(nums[i]);\n",
    "}"
   ]
  },
  {
   "cell_type": "markdown",
   "metadata": {},
   "source": [
    "### Example 1:\n",
    "\n",
    "Input: nums = [1,1,2]\n",
    "\n",
    "Output: 2, nums = [1,2]\n",
    "\n",
    "Explanation: Your function should return length = 2, with the first two elements of nums being 1 and 2 respectively. It doesn't matter what you leave beyond the returned length.\n",
    "\n",
    "### Example 2:\n",
    "\n",
    "Input: nums = [0,0,1,1,1,2,2,3,3,4]\n",
    "\n",
    "Output: 5, nums = [0,1,2,3,4]\n",
    "\n",
    "Explanation: Your function should return length = 5, with the first five elements of nums being modified to 0, 1, 2, 3, and 4 respectively. It doesn't matter what values are set beyond the returned length."
   ]
  },
  {
   "cell_type": "markdown",
   "metadata": {},
   "source": [
    "### Constraints:\n",
    "\n",
    "0 <= nums.length <= 3 * 10^4\n",
    "\n",
    "-10^4 <= nums[i] <= 10^4\n",
    "\n",
    "nums is sorted in ascending order."
   ]
  },
  {
   "cell_type": "markdown",
   "metadata": {},
   "source": [
    "## Approach 1: Update Array"
   ]
  },
  {
   "cell_type": "code",
   "execution_count": 1,
   "metadata": {},
   "outputs": [],
   "source": [
    "# nums: List[int]\n",
    "# return -> int\n",
    "class Solution:\n",
    "    def removeDuplicates(self, nums):\n",
    "        nums_len = len(nums)\n",
    "        print('nums_len:', nums_len)\n",
    "\n",
    "        i=0\n",
    "        unique = 0\n",
    "        \n",
    "        while (i+1 < nums_len):\n",
    "            print('i:', i)\n",
    "            print('nums[i]:', nums[i])\n",
    "            print('nums[i+1]:', nums[i+1])\n",
    "\n",
    "            if nums[i] == nums[i+1]:\n",
    "                nums.remove(nums[i+1])\n",
    "                nums_len -= 1\n",
    "                print('removed:', nums[i])\n",
    "                print('nums:', nums)\n",
    "                print('nums_len:', nums_len)\n",
    "            \n",
    "            else:\n",
    "                unique += 1\n",
    "                i += 1\n",
    "                print('unique:', unique)\n",
    "                print('i:', i)\n",
    "            print('********')\n",
    "        return nums "
   ]
  },
  {
   "cell_type": "code",
   "execution_count": 2,
   "metadata": {},
   "outputs": [
    {
     "name": "stdout",
     "output_type": "stream",
     "text": [
      "nums_len: 10\n",
      "i: 0\n",
      "nums[i]: 0\n",
      "nums[i+1]: 0\n",
      "removed: 0\n",
      "nums: [0, 1, 1, 1, 2, 2, 3, 3, 4]\n",
      "nums_len: 9\n",
      "********\n",
      "i: 0\n",
      "nums[i]: 0\n",
      "nums[i+1]: 1\n",
      "unique: 1\n",
      "i: 1\n",
      "********\n",
      "i: 1\n",
      "nums[i]: 1\n",
      "nums[i+1]: 1\n",
      "removed: 1\n",
      "nums: [0, 1, 1, 2, 2, 3, 3, 4]\n",
      "nums_len: 8\n",
      "********\n",
      "i: 1\n",
      "nums[i]: 1\n",
      "nums[i+1]: 1\n",
      "removed: 1\n",
      "nums: [0, 1, 2, 2, 3, 3, 4]\n",
      "nums_len: 7\n",
      "********\n",
      "i: 1\n",
      "nums[i]: 1\n",
      "nums[i+1]: 2\n",
      "unique: 2\n",
      "i: 2\n",
      "********\n",
      "i: 2\n",
      "nums[i]: 2\n",
      "nums[i+1]: 2\n",
      "removed: 2\n",
      "nums: [0, 1, 2, 3, 3, 4]\n",
      "nums_len: 6\n",
      "********\n",
      "i: 2\n",
      "nums[i]: 2\n",
      "nums[i+1]: 3\n",
      "unique: 3\n",
      "i: 3\n",
      "********\n",
      "i: 3\n",
      "nums[i]: 3\n",
      "nums[i+1]: 3\n",
      "removed: 3\n",
      "nums: [0, 1, 2, 3, 4]\n",
      "nums_len: 5\n",
      "********\n",
      "i: 3\n",
      "nums[i]: 3\n",
      "nums[i+1]: 4\n",
      "unique: 4\n",
      "i: 4\n",
      "********\n"
     ]
    },
    {
     "data": {
      "text/plain": [
       "[0, 1, 2, 3, 4]"
      ]
     },
     "execution_count": 2,
     "metadata": {},
     "output_type": "execute_result"
    }
   ],
   "source": [
    "Solution.removeDuplicates(Solution.removeDuplicates, [0,0,1,1,1,2,2,3,3,4])"
   ]
  },
  {
   "cell_type": "markdown",
   "metadata": {},
   "source": [
    "## Approach 2: Two Pointers"
   ]
  },
  {
   "cell_type": "code",
   "execution_count": 3,
   "metadata": {},
   "outputs": [],
   "source": [
    "# nums: List[int]\n",
    "# return -> int\n",
    "class Solution:\n",
    "    def removeDuplicates2(self, nums):\n",
    "        if not len(nums): \n",
    "            return 0\n",
    "        \n",
    "        # Slow runner for counting distinct numbers \n",
    "        i = 0\n",
    "        # For array traversal \n",
    "        j = 1\n",
    "        \n",
    "        while(j < len(nums)):\n",
    "            if(nums[i] != nums[j]):\n",
    "                i += 1\n",
    "                nums[i] = nums[j]\n",
    "            j += 1\n",
    "        return i+1 "
   ]
  },
  {
   "cell_type": "code",
   "execution_count": 4,
   "metadata": {},
   "outputs": [
    {
     "data": {
      "text/plain": [
       "5"
      ]
     },
     "execution_count": 4,
     "metadata": {},
     "output_type": "execute_result"
    }
   ],
   "source": [
    "Solution.removeDuplicates2(Solution.removeDuplicates2, [0,0,1,1,1,2,2,3,3,4])"
   ]
  },
  {
   "cell_type": "markdown",
   "metadata": {},
   "source": [
    "### Complexity analysis\n",
    "\n",
    "Time complextiy : O(n). Assume that n is the length of array. Each of i and j traverses at most n steps.\n",
    "\n",
    "Space complexity : O(1)."
   ]
  }
 ],
 "metadata": {
  "kernelspec": {
   "display_name": "Python 3",
   "language": "python",
   "name": "python3"
  },
  "language_info": {
   "codemirror_mode": {
    "name": "ipython",
    "version": 3
   },
   "file_extension": ".py",
   "mimetype": "text/x-python",
   "name": "python",
   "nbconvert_exporter": "python",
   "pygments_lexer": "ipython3",
   "version": "3.8.3"
  }
 },
 "nbformat": 4,
 "nbformat_minor": 4
}
