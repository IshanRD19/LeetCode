{
 "cells": [
  {
   "cell_type": "markdown",
   "metadata": {},
   "source": [
    "# KIDS WITH THE GREATEST NUMBER OF CANDIES\n",
    "\n",
    "There are n kids with candies. You are given an integer array candies, where each candies[i] represents the number of candies the ith kid has, and an integer extraCandies, denoting the number of extra candies that you have.\n",
    "\n",
    "Return a boolean array result of length n, where result[i] is true if, after giving the ith kid all the extraCandies, they will have the greatest number of candies among all the kids, or false otherwise.\n",
    "\n",
    "**Note that multiple kids can have the greatest number of candies.**\n",
    "\n",
    "### Example 1:\n",
    "\n",
    "#### Input:\n",
    "candies = [2,3,5,1,3], extraCandies = 3\n",
    "#### Output:\n",
    "[true,true,true,false,true] \n",
    "#### Explanation:\n",
    "If you give all extraCandies to:\n",
    "\n",
    "- Kid 1, they will have 2 + 3 = 5 candies, which is the greatest among the kids.\n",
    "\n",
    "- Kid 2, they will have 3 + 3 = 6 candies, which is the greatest among the kids.\n",
    "\n",
    "- Kid 3, they will have 5 + 3 = 8 candies, which is the greatest among the kids.\n",
    "\n",
    "- Kid 4, they will have 1 + 3 = 4 candies, which is not the greatest among the kids.\n",
    "\n",
    "- Kid 5, they will have 3 + 3 = 6 candies, which is the greatest among the kids.\n",
    "### Example 2:\n",
    "\n",
    "#### Input:\n",
    "candies = [4,2,1,1,2], extraCandies = 1\n",
    "#### Output:\n",
    "[true,false,false,false,false] \n",
    "#### Explanation:\n",
    "There is only 1 extra candy.\n",
    "Kid 1 will always have the greatest number of candies, even if a different kid is given the extra candy.\n",
    "### Example 3:\n",
    "\n",
    "#### Input:\n",
    "candies = [12,1,12], extraCandies = 10\n",
    "#### Output:\n",
    "[true,false,true]\n",
    " \n",
    "\n",
    "### Constraints:\n",
    "n == candies.length\n",
    "\n",
    "2 <= n <= 100\n",
    "\n",
    "1 <= candies[i] <= 100\n",
    "\n",
    "1 <= extraCandies <= 50"
   ]
  },
  {
   "cell_type": "code",
   "execution_count": 1,
   "metadata": {},
   "outputs": [],
   "source": [
    "# candies: List[int]\n",
    "# extraCandies: int\n",
    "# return -> List[bool]\n",
    "class Solution:\n",
    "    def kidsWithCandies(self, candies, extraCandies):\n",
    "        max_candies = max(candies)\n",
    "        result = []\n",
    "        \n",
    "        for i in range(len(candies)):\n",
    "            if (candies[i] + extraCandies) >= max_candies:\n",
    "                result.append(True)\n",
    "            else:\n",
    "                result.append(False)\n",
    "\n",
    "        return result"
   ]
  },
  {
   "cell_type": "code",
   "execution_count": 2,
   "metadata": {},
   "outputs": [
    {
     "data": {
      "text/plain": [
       "[True, True, True, False, True]"
      ]
     },
     "execution_count": 2,
     "metadata": {},
     "output_type": "execute_result"
    }
   ],
   "source": [
    "Solution.kidsWithCandies(Solution.kidsWithCandies, [2,3,5,1,3], 3)"
   ]
  }
 ],
 "metadata": {
  "kernelspec": {
   "display_name": "Python 3",
   "language": "python",
   "name": "python3"
  },
  "language_info": {
   "codemirror_mode": {
    "name": "ipython",
    "version": 3
   },
   "file_extension": ".py",
   "mimetype": "text/x-python",
   "name": "python",
   "nbconvert_exporter": "python",
   "pygments_lexer": "ipython3",
   "version": "3.8.3"
  }
 },
 "nbformat": 4,
 "nbformat_minor": 4
}
