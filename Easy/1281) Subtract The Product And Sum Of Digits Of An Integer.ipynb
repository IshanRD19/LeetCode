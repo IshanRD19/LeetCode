{
 "cells": [
  {
   "cell_type": "markdown",
   "metadata": {},
   "source": [
    "# SUBTRACT THE PRODUCT AND SUM OF DIGITS OF AN INTEGER\n",
    "\n",
    "Given an integer number n, return the difference between the product of its digits and the sum of its digits.\n",
    " \n",
    "### Example 1:\n",
    "\n",
    "#### Input:\n",
    "n = 234\n",
    "#### Output:\n",
    "15 \n",
    "#### Explanation: \n",
    "Product of digits = 2 * 3 * 4 = 24. Sum of digits = 2 + 3 + 4 = 9. Result = 24 - 9 = 15\n",
    "### Example 2:\n",
    "\n",
    "#### Input:\n",
    "n = 4421\n",
    "#### Output:\n",
    "21\n",
    "#### Explanation: \n",
    "Product of digits = 4 * 4 * 2 * 1 = 32. Sum of digits = 4 + 4 + 2 + 1 = 11. Result = 32 - 11 = 21\n",
    "\n",
    "### Constraints:\n",
    "1 <= n <= 10^5"
   ]
  },
  {
   "cell_type": "code",
   "execution_count": 1,
   "metadata": {},
   "outputs": [],
   "source": [
    "# n: int\n",
    "# return -> int\n",
    "class Solution:\n",
    "    def subtractProductAndSum(self, n):\n",
    "        string_n = str(n)\n",
    "        digit_sum, product = 0, 1\n",
    "\n",
    "        for i in range(len(string_n)):\n",
    "            digit = int(string_n[i])\n",
    "            digit_sum += digit\n",
    "            product *= digit\n",
    "        \n",
    "        return product - digit_sum"
   ]
  },
  {
   "cell_type": "code",
   "execution_count": 2,
   "metadata": {},
   "outputs": [
    {
     "data": {
      "text/plain": [
       "21"
      ]
     },
     "execution_count": 2,
     "metadata": {},
     "output_type": "execute_result"
    }
   ],
   "source": [
    "Solution.subtractProductAndSum(Solution.subtractProductAndSum, 4421)"
   ]
  }
 ],
 "metadata": {
  "kernelspec": {
   "display_name": "Python 3",
   "language": "python",
   "name": "python3"
  },
  "language_info": {
   "codemirror_mode": {
    "name": "ipython",
    "version": 3
   },
   "file_extension": ".py",
   "mimetype": "text/x-python",
   "name": "python",
   "nbconvert_exporter": "python",
   "pygments_lexer": "ipython3",
   "version": "3.8.3"
  }
 },
 "nbformat": 4,
 "nbformat_minor": 4
}
