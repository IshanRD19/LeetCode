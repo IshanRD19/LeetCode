{
 "cells": [
  {
   "cell_type": "markdown",
   "metadata": {},
   "source": [
    "# RANGE SUM OF BST\n",
    "\n",
    "Given the root node of a binary search tree and two integers low and high, return the sum of values of all nodes with a value in the inclusive range [low, high].\n",
    "\n",
    "### Example 1:\n",
    "\n",
    "\n",
    "#### Input:\n",
    "root = [10,5,15,3,7,null,18], low = 7, high = 15\n",
    "#### Output:\n",
    "32\n",
    "#### Explanation:\n",
    "Nodes 7, 10, and 15 are in the range [7, 15]. 7 + 10 + 15 = 32.\n",
    "### Example 2:\n",
    "\n",
    "#### Input:\n",
    "root = [10,5,15,3,7,13,18,1,null,6], low = 6, high = 10\n",
    "#### Output:\n",
    "23\n",
    "#### Explanation:\n",
    "Nodes 6, 7, and 10 are in the range [6, 10]. 6 + 7 + 10 = 23.\n",
    " \n",
    "### Constraints:\n",
    "The number of nodes in the tree is in the range [1, 2 * 10^4].\n",
    "\n",
    "1 <= Node.val <= 10^5\n",
    "\n",
    "1 <= low <= high <= 10^5\n",
    "\n",
    "All Node.val are unique.\n",
    "\n",
    "## Approach 1: DFS"
   ]
  },
  {
   "cell_type": "code",
   "execution_count": 1,
   "metadata": {},
   "outputs": [],
   "source": [
    "# Definition for a binary tree node.\n",
    "# class TreeNode:\n",
    "#     def __init__(self, val=0, left=None, right=None):\n",
    "#         self.val = val\n",
    "#         self.left = left\n",
    "#         self.right = right\n",
    "\n",
    "# root: Optional[TreeNode]\n",
    "# low: int\n",
    "# high: int\n",
    "# return -> int\n",
    "class Solution:\n",
    "    \n",
    "    def dfs(self, root, low, high):\n",
    "\n",
    "        # Check if node exists\n",
    "        if not root:\n",
    "            return 0\n",
    "        \n",
    "        # Check if root value lies in range\n",
    "        bfs_sum = root.val if low <= root.val <= high else 0\n",
    "\n",
    "        # Check in left subtree\n",
    "        if root.left:\n",
    "            bfs_sum += self.dfs(root.left, low, high)\n",
    "\n",
    "        # Check in right subtree\n",
    "        if root.right:\n",
    "            bfs_sum += self.dfs(root.right, low, high)\n",
    "\n",
    "        return bfs_sum\n",
    "\n",
    "    def rangeSumBST(self, root, low, high):\n",
    "        return self.dfs(root, low, high)"
   ]
  },
  {
   "cell_type": "markdown",
   "metadata": {},
   "source": [
    "## Approach 2: Faster Method"
   ]
  },
  {
   "cell_type": "code",
   "execution_count": 2,
   "metadata": {},
   "outputs": [],
   "source": [
    "# Definition for a binary tree node.\n",
    "# class TreeNode:\n",
    "#     def __init__(self, val=0, left=None, right=None):\n",
    "#         self.val = val\n",
    "#         self.left = left\n",
    "#         self.right = right\n",
    "\n",
    "# root: Optional[TreeNode]\n",
    "# low: int\n",
    "# high: int\n",
    "# return -> int\n",
    "class Solution:\n",
    "\n",
    "    def rangeSumBST2(self, root, low, high):\n",
    "        # Check if root exists\n",
    "        if not root:\n",
    "            return 0\n",
    "        \n",
    "        # Check in right subtree if value is less than low\n",
    "        if root.val < low:\n",
    "            return self.rangeSumBST(root.right, low, high)\n",
    "\n",
    "        # Check in left subtree if value is more than high\n",
    "        if root.val > high:\n",
    "            return self.rangeSumBST(root.left, low, high)\n",
    "        \n",
    "        # Root and both children lie in range\n",
    "        return root.val + self.rangeSumBST(root.left, low, high) + self.rangeSumBST(root.right, low, high)"
   ]
  }
 ],
 "metadata": {
  "kernelspec": {
   "display_name": "Python 3",
   "language": "python",
   "name": "python3"
  },
  "language_info": {
   "codemirror_mode": {
    "name": "ipython",
    "version": 3
   },
   "file_extension": ".py",
   "mimetype": "text/x-python",
   "name": "python",
   "nbconvert_exporter": "python",
   "pygments_lexer": "ipython3",
   "version": "3.8.3"
  }
 },
 "nbformat": 4,
 "nbformat_minor": 4
}
