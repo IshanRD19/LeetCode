{
 "cells": [
  {
   "cell_type": "markdown",
   "metadata": {},
   "source": [
    "# CELLS WITH ODD VALUES\n",
    "\n",
    "There is an m x n matrix that is initialized to all 0's. There is also a 2D array indices where each indices[i] = [ri, ci] represents a 0-indexed location to perform some increment operations on the matrix.\n",
    "\n",
    "For each location indices[i], do both of the following:\n",
    "\n",
    "Increment all the cells on row ri.\n",
    "Increment all the cells on column ci.\n",
    "Given m, n, and indices, return the number of odd-valued cells in the matrix after applying the increment to all locations in indices.\n",
    "\n",
    "### Example 1:\n",
    "\n",
    "\n",
    "#### Input: \n",
    "m = 2, n = 3, indices = [[0,1],[1,1]]\n",
    "#### Output: \n",
    "6\n",
    "#### Explanation: \n",
    "Initial matrix = [[0,0,0],[0,0,0]].\n",
    "After applying first increment it becomes [[1,2,1],[0,1,0]].\n",
    "The final matrix is [[1,3,1],[1,3,1]], which contains 6 odd numbers.\n",
    "### Example 2:\n",
    "\n",
    "\n",
    "#### Input: \n",
    "m = 2, n = 2, indices = [[1,1],[0,0]]\n",
    "#### Output: \n",
    "0\n",
    "#### Explanation: \n",
    "Final matrix = [[2,2],[2,2]]. There are no odd numbers in the final matrix.\n",
    " \n",
    "\n",
    "### Constraints:\n",
    "\n",
    "1 <= m, n <= 50\n",
    "1 <= indices.length <= 100\n",
    "0 <= ri < m\n",
    "0 <= ci < n\n",
    " \n",
    "\n",
    "Follow up: Could you solve this in O(n + m + indices.length) time with only O(n + m) extra space?"
   ]
  },
  {
   "cell_type": "code",
   "execution_count": 1,
   "metadata": {},
   "outputs": [],
   "source": [
    "# m: int\n",
    "# n: int\n",
    "# indices: List[List[int]]\n",
    "# return -> int\n",
    "class Solution:\n",
    "    def oddCells(self, m, n, indices):\n",
    "        rows, cols = {i:0 for i in range(m)}, {i:0 for i in range(n)}\n",
    "        result = 0\n",
    "        \n",
    "        # Scan all the indices\n",
    "        for i in range(len(indices)):\n",
    "            rows[indices[i][0]] += 1\n",
    "            cols[indices[i][1]] += 1\n",
    "            \n",
    "        # For each row\n",
    "        for r in range(m):\n",
    "            \n",
    "            # For each column\n",
    "            for c in range(n):\n",
    "\n",
    "                # Update count of odd valued cells\n",
    "                if (rows[r] + cols[c]) % 2:\n",
    "                    result += 1\n",
    "                \n",
    "        return result"
   ]
  },
  {
   "cell_type": "code",
   "execution_count": 3,
   "metadata": {},
   "outputs": [
    {
     "data": {
      "text/plain": [
       "6"
      ]
     },
     "execution_count": 3,
     "metadata": {},
     "output_type": "execute_result"
    }
   ],
   "source": [
    "Solution.oddCells(Solution.oddCells, 2, 3, [[0,1],[1,1]])"
   ]
  }
 ],
 "metadata": {
  "kernelspec": {
   "display_name": "Python 3.10.6 64-bit",
   "language": "python",
   "name": "python3"
  },
  "language_info": {
   "codemirror_mode": {
    "name": "ipython",
    "version": 3
   },
   "file_extension": ".py",
   "mimetype": "text/x-python",
   "name": "python",
   "nbconvert_exporter": "python",
   "pygments_lexer": "ipython3",
   "version": "3.10.6"
  },
  "orig_nbformat": 4,
  "vscode": {
   "interpreter": {
    "hash": "26de051ba29f2982a8de78e945f0abaf191376122a1563185a90213a26c5da77"
   }
  }
 },
 "nbformat": 4,
 "nbformat_minor": 2
}
