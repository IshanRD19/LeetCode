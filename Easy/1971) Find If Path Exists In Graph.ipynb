{
 "cells": [
  {
   "cell_type": "markdown",
   "metadata": {},
   "source": [
    "# FIND IF PATH EXISTS IN GRAPH\n",
    "\n",
    "There is a bi-directional graph with n vertices, where each vertex is labeled from 0 to n - 1 (inclusive). The edges in the graph are represented as a 2D integer array edges, where each edges[i] = [ui, vi] denotes a bi-directional edge between vertex ui and vertex vi. Every vertex pair is connected by at most one edge, and no vertex has an edge to itself.\n",
    "\n",
    "You want to determine if there is a valid path that exists from vertex source to vertex destination.\n",
    "\n",
    "Given edges and the integers n, source, and destination, return true if there is a valid path from source to destination, or false otherwise.\n",
    "\n",
    "### Example 1:\n",
    "\n",
    "\n",
    "\n",
    "### Input: \n",
    "n = 3, edges = [[0,1],[1,2],[2,0]], source = 0, destination = 2\n",
    "### Output: \n",
    "true\n",
    "### Explanation: \n",
    "There are two paths from vertex 0 to vertex 2:\n",
    "- 0 → 1 → 2\n",
    "- 0 → 2\n",
    "### Example 2:\n",
    "\n",
    "\n",
    "#### Input: \n",
    "n = 6, edges = [[0,1],[0,2],[3,5],[5,4],[4,3]], source = 0, destination = 5\n",
    "#### Output: \n",
    "false\n",
    "#### Explanation: \n",
    "There is no path from vertex 0 to vertex 5.\n",
    " \n",
    "\n",
    "### Constraints:\n",
    "1 <= n <= 2 * 105\n",
    "\n",
    "0 <= edges.length <= 2 * 105\n",
    "\n",
    "edges[i].length == 2\n",
    "\n",
    "0 <= ui, vi <= n - 1\n",
    "\n",
    "ui != vi\n",
    "\n",
    "0 <= source, destination <= n - 1\n",
    "\n",
    "There are no duplicate edges.\n",
    "\n",
    "There are no self edges."
   ]
  },
  {
   "cell_type": "code",
   "execution_count": 6,
   "metadata": {},
   "outputs": [],
   "source": [
    "class Solution:\n",
    "    \n",
    "    def __init__(self):\n",
    "        self.adj = {}\n",
    "        self.visited = []\n",
    "    \n",
    "    \n",
    "                \n",
    "    # n:int\n",
    "    # edges: List[List[int]]\n",
    "    # source: int\n",
    "    # destination: int\n",
    "    # return -> bool\n",
    "    def validPath(self, n, edges, source, destination):\n",
    "        self.adj = {i: [] for i in range(n)}\n",
    "        self.visited = [False for i in range(n)]\n",
    "\n",
    "        # Add the bidirectional edges\n",
    "        for edge in edges:\n",
    "            self.adj[edge[0]].append(edge[1])\n",
    "            self.adj[edge[1]].append(edge[0])\n",
    "\n",
    "\n",
    "        def dfs(node, destination):\n",
    "            self.visited[node] = True\n",
    "            \n",
    "            if node == destination:\n",
    "                return True\n",
    "\n",
    "            # For each adjacent node\n",
    "            for neighbor in self.adj[node]:\n",
    "                if not self.visited[neighbor]:\n",
    "                    if dfs(neighbor, destination):\n",
    "                        return True\n",
    "            \n",
    "            return False\n",
    "\n",
    "        return dfs(source, destination)\n"
   ]
  },
  {
   "cell_type": "code",
   "execution_count": 7,
   "metadata": {},
   "outputs": [
    {
     "data": {
      "text/plain": [
       "False"
      ]
     },
     "execution_count": 7,
     "metadata": {},
     "output_type": "execute_result"
    }
   ],
   "source": [
    "Solution.validPath(Solution.validPath, n = 6, edges = [[0,1],[0,2],[3,5],[5,4],[4,3]], source = 0, destination = 5)"
   ]
  }
 ],
 "metadata": {
  "kernelspec": {
   "display_name": "Python 3.10.6 64-bit",
   "language": "python",
   "name": "python3"
  },
  "language_info": {
   "codemirror_mode": {
    "name": "ipython",
    "version": 3
   },
   "file_extension": ".py",
   "mimetype": "text/x-python",
   "name": "python",
   "nbconvert_exporter": "python",
   "pygments_lexer": "ipython3",
   "version": "3.10.6"
  },
  "orig_nbformat": 4,
  "vscode": {
   "interpreter": {
    "hash": "26de051ba29f2982a8de78e945f0abaf191376122a1563185a90213a26c5da77"
   }
  }
 },
 "nbformat": 4,
 "nbformat_minor": 2
}
