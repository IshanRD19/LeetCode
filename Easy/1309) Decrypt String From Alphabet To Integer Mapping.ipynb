{
 "cells": [
  {
   "cell_type": "markdown",
   "metadata": {},
   "source": [
    "# DECRYPT STRING FROM ALPHABET TO INTEGER MAPPING\n",
    "\n",
    "You are given a string s formed by digits and '#'. We want to map s to English lowercase characters as follows:\n",
    "\n",
    "Characters ('a' to 'i') are represented by ('1' to '9') respectively.\n",
    "Characters ('j' to 'z') are represented by ('10#' to '26#') respectively.\n",
    "Return the string formed after mapping.\n",
    "\n",
    "The test cases are generated so that a unique mapping will always exist.\n",
    "\n",
    "### Example 1:\n",
    "\n",
    "#### Input: \n",
    "s = \"10#11#12\"\n",
    "#### Output: \n",
    "\"jkab\"\n",
    "#### Explanation: \n",
    "\"j\" -> \"10#\" , \"k\" -> \"11#\" , \"a\" -> \"1\" , \"b\" -> \"2\".\n",
    "### Example 2:\n",
    "\n",
    "#### Input: \n",
    "s = \"1326#\"\n",
    "#### Output: \n",
    "\"acz\"\n",
    "### Constraints:\n",
    "1 <= s.length <= 1000\n",
    "\n",
    "s consists of digits and the '#' letter.\n",
    "\n",
    "s will be a valid string such that mapping is always possible."
   ]
  },
  {
   "cell_type": "code",
   "execution_count": 1,
   "metadata": {},
   "outputs": [],
   "source": [
    "# s: str\n",
    "# return -> str\n",
    "class Solution:\n",
    "    def freqAlphabets(self, s):\n",
    "        i = 0\n",
    "        result = ''\n",
    "        length = len(s)\n",
    "\n",
    "        # Traverse the string\n",
    "        while i < length:\n",
    "\n",
    "            # Check for hash\n",
    "            if i+2 < length and s[i+2] == '#':\n",
    "                result += chr(ord('a') + int(s[i:i+2]) - 1)\n",
    "                i += 3\n",
    "\n",
    "            else:\n",
    "                result += chr(ord('a') + int(s[i]) - 1)\n",
    "                i += 1\n",
    "                \n",
    "        return result"
   ]
  },
  {
   "cell_type": "code",
   "execution_count": 2,
   "metadata": {},
   "outputs": [
    {
     "data": {
      "text/plain": [
       "'jkab'"
      ]
     },
     "execution_count": 2,
     "metadata": {},
     "output_type": "execute_result"
    }
   ],
   "source": [
    "Solution.freqAlphabets(Solution.freqAlphabets, \"10#11#12\")"
   ]
  },
  {
   "cell_type": "code",
   "execution_count": 3,
   "metadata": {},
   "outputs": [
    {
     "data": {
      "text/plain": [
       "'acz'"
      ]
     },
     "execution_count": 3,
     "metadata": {},
     "output_type": "execute_result"
    }
   ],
   "source": [
    "Solution.freqAlphabets(Solution.freqAlphabets, \"1326#\")"
   ]
  }
 ],
 "metadata": {
  "kernelspec": {
   "display_name": "Python 3.10.6 64-bit",
   "language": "python",
   "name": "python3"
  },
  "language_info": {
   "codemirror_mode": {
    "name": "ipython",
    "version": 3
   },
   "file_extension": ".py",
   "mimetype": "text/x-python",
   "name": "python",
   "nbconvert_exporter": "python",
   "pygments_lexer": "ipython3",
   "version": "3.10.6"
  },
  "orig_nbformat": 4,
  "vscode": {
   "interpreter": {
    "hash": "26de051ba29f2982a8de78e945f0abaf191376122a1563185a90213a26c5da77"
   }
  }
 },
 "nbformat": 4,
 "nbformat_minor": 2
}
