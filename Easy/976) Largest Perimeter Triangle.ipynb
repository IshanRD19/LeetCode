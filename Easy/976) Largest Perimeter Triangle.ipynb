{
 "cells": [
  {
   "cell_type": "markdown",
   "metadata": {},
   "source": [
    "# LARGEST PERIMETER TRIANGLE\n",
    "\n",
    "Given an integer array nums, return the largest perimeter of a triangle with a non-zero area, formed from three of these lengths. If it is impossible to form any triangle of a non-zero area, return 0.\n",
    "\n",
    "### Example 1:\n",
    "\n",
    "#### Input: \n",
    "nums = [2,1,2]\n",
    "#### Output: \n",
    "5\n",
    "### Example 2:\n",
    "\n",
    "#### Input: \n",
    "nums = [1,2,1]\n",
    "#### Output: \n",
    "0\n",
    " \n",
    "### Constraints:\n",
    "3 <= nums.length <= 10^4\n",
    "\n",
    "1 <= nums[i] <= 10^6"
   ]
  },
  {
   "cell_type": "code",
   "execution_count": 1,
   "metadata": {},
   "outputs": [],
   "source": [
    "# nums: List[int]\n",
    "# return -> int\n",
    "class Solution:\n",
    "    def largestPerimeter(self, nums):\n",
    "        length = len(nums)\n",
    "        nums.sort()\n",
    "        i = length - 1\n",
    "        while i > 1:\n",
    "            if (nums[i-2] + nums[i-1]) > nums[i]:\n",
    "                return nums[i-2] + nums[i-1] + nums[i]\n",
    "            i -= 1\n",
    "        return 0"
   ]
  },
  {
   "cell_type": "code",
   "execution_count": 2,
   "metadata": {},
   "outputs": [
    {
     "data": {
      "text/plain": [
       "5"
      ]
     },
     "execution_count": 2,
     "metadata": {},
     "output_type": "execute_result"
    }
   ],
   "source": [
    "Solution.largestPerimeter(Solution.largestPerimeter, [2,1,2])"
   ]
  }
 ],
 "metadata": {
  "kernelspec": {
   "display_name": "Python 3.10.6 64-bit",
   "language": "python",
   "name": "python3"
  },
  "language_info": {
   "codemirror_mode": {
    "name": "ipython",
    "version": 3
   },
   "file_extension": ".py",
   "mimetype": "text/x-python",
   "name": "python",
   "nbconvert_exporter": "python",
   "pygments_lexer": "ipython3",
   "version": "3.10.6"
  },
  "orig_nbformat": 4,
  "vscode": {
   "interpreter": {
    "hash": "26de051ba29f2982a8de78e945f0abaf191376122a1563185a90213a26c5da77"
   }
  }
 },
 "nbformat": 4,
 "nbformat_minor": 2
}
