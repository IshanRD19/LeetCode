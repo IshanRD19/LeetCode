{
 "cells": [
  {
   "cell_type": "markdown",
   "metadata": {},
   "source": [
    "# GOAL PARSER INTERPRETATION\n",
    "\n",
    "You own a Goal Parser that can interpret a string command. The command consists of an alphabet of \"G\", \"()\" and/or \"(al)\" in some order. The Goal Parser will interpret \"G\" as the string \"G\", \"()\" as the string \"o\", and \"(al)\" as the string \"al\". The interpreted strings are then concatenated in the original order.\n",
    "\n",
    "Given the string command, return the Goal Parser's interpretation of command.\n",
    "\n",
    "### Example 1:\n",
    "\n",
    "#### Input:\n",
    "command = \"G()(al)\"\n",
    "#### Output:\n",
    "\"Goal\"\n",
    "#### Explanation:\n",
    "The Goal Parser interprets the command as follows:\n",
    "\n",
    "G -> G\n",
    "\n",
    "() -> o\n",
    "\n",
    "(al) -> al\n",
    "\n",
    "The final concatenated result is \"Goal\".\n",
    "#### Example 2:\n",
    "\n",
    "#### Input:\n",
    "command = \"G()()()()(al)\"\n",
    "#### Output:\n",
    "\"Gooooal\"\n",
    "### Example 3:\n",
    "\n",
    "#### Input:\n",
    "command = \"(al)G(al)()()G\"\n",
    "#### Output:\n",
    "\"alGalooG\"\n",
    "\n",
    "### Constraints:\n",
    "\n",
    "1 <= command.length <= 100\n",
    "\n",
    "command consists of \"G\", \"()\", and/or \"(al)\" in some order."
   ]
  },
  {
   "cell_type": "code",
   "execution_count": 1,
   "metadata": {},
   "outputs": [],
   "source": [
    "# command: str\n",
    "# return -> str\n",
    "class Solution:\n",
    "    def interpret(self, command):\n",
    "        command = command.replace('()', 'o')\n",
    "        command = command.replace('(al)', 'al')\n",
    "        return command"
   ]
  },
  {
   "cell_type": "code",
   "execution_count": 2,
   "metadata": {},
   "outputs": [
    {
     "data": {
      "text/plain": [
       "'alGalooG'"
      ]
     },
     "execution_count": 2,
     "metadata": {},
     "output_type": "execute_result"
    }
   ],
   "source": [
    "Solution.interpret(Solution.interpret, '(al)G(al)()()G')"
   ]
  },
  {
   "cell_type": "markdown",
   "metadata": {},
   "source": [
    "## Complexity Analysis\n",
    "\n",
    "Time Complexity: O(|command|)\n",
    "\n",
    "Space Complexity: O(1)"
   ]
  }
 ],
 "metadata": {
  "kernelspec": {
   "display_name": "Python 3",
   "language": "python",
   "name": "python3"
  },
  "language_info": {
   "codemirror_mode": {
    "name": "ipython",
    "version": 3
   },
   "file_extension": ".py",
   "mimetype": "text/x-python",
   "name": "python",
   "nbconvert_exporter": "python",
   "pygments_lexer": "ipython3",
   "version": "3.8.3"
  }
 },
 "nbformat": 4,
 "nbformat_minor": 4
}
