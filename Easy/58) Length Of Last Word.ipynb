{
 "cells": [
  {
   "cell_type": "markdown",
   "metadata": {},
   "source": [
    "# LENGTH OF LAST WORD\n",
    "\n",
    "Given a string s consisting of words and spaces, return the length of the last word in the string.\n",
    "\n",
    "A word is a maximal substring consisting of non-space characters only.\n",
    "\n",
    "### Example 1:\n",
    "\n",
    "#### Input: \n",
    "s = \"Hello World\"\n",
    "#### Output: \n",
    "5\n",
    "#### Explanation: \n",
    "The last word is \"World\" with length 5.\n",
    "### Example 2:\n",
    "\n",
    "#### Input: \n",
    "s = \"   fly me   to   the moon  \"\n",
    "#### Output: \n",
    "4\n",
    "#### Explanation: \n",
    "The last word is \"moon\" with length 4.\n",
    "### Example 3:\n",
    "\n",
    "#### Input: \n",
    "s = \"luffy is still joyboy\"\n",
    "#### Output: \n",
    "6\n",
    "#### Explanation: \n",
    "The last word is \"joyboy\" with length 6.\n",
    " \n",
    "### Constraints:\n",
    "1 <= s.length <= 10^4\n",
    "\n",
    "s consists of only English letters and spaces ' '.\n",
    "\n",
    "There will be at least one word in s."
   ]
  },
  {
   "cell_type": "code",
   "execution_count": 1,
   "metadata": {},
   "outputs": [],
   "source": [
    "# s: str\n",
    "# return -> int\n",
    "class Solution:\n",
    "    def lengthOfLastWord(self, s):\n",
    "        return len(s.split()[-1])"
   ]
  },
  {
   "cell_type": "code",
   "execution_count": 2,
   "metadata": {},
   "outputs": [
    {
     "data": {
      "text/plain": [
       "4"
      ]
     },
     "execution_count": 2,
     "metadata": {},
     "output_type": "execute_result"
    }
   ],
   "source": [
    "Solution.lengthOfLastWord(Solution.lengthOfLastWord, '   fly me   to   the moon  ')"
   ]
  }
 ],
 "metadata": {
  "kernelspec": {
   "display_name": "Python 3.10.6 64-bit",
   "language": "python",
   "name": "python3"
  },
  "language_info": {
   "codemirror_mode": {
    "name": "ipython",
    "version": 3
   },
   "file_extension": ".py",
   "mimetype": "text/x-python",
   "name": "python",
   "nbconvert_exporter": "python",
   "pygments_lexer": "ipython3",
   "version": "3.10.6"
  },
  "orig_nbformat": 4,
  "vscode": {
   "interpreter": {
    "hash": "26de051ba29f2982a8de78e945f0abaf191376122a1563185a90213a26c5da77"
   }
  }
 },
 "nbformat": 4,
 "nbformat_minor": 2
}
