{
 "cells": [
  {
   "cell_type": "markdown",
   "metadata": {},
   "source": [
    "# CONVERT BINARY NUMBER IN A LINKED LIST TO INTEGER\n",
    "\n",
    "Given head which is a reference node to a singly-linked list. The value of each node in the linked list is either 0 or 1. The linked list holds the binary representation of a number.\n",
    "\n",
    "Return the decimal value of the number in the linked list.\n",
    "\n",
    "The most significant bit is at the head of the linked list.\n",
    "\n",
    "### Example 1:\n",
    "\n",
    "#### Input: \n",
    "head = [1,0,1]\n",
    "#### Output: \n",
    "5\n",
    "#### Explanation: \n",
    "(101) in base 2 = (5) in base 10\n",
    "### Example 2:\n",
    "\n",
    "#### Input: \n",
    "head = [0]\n",
    "#### Output: \n",
    "0\n",
    "\n",
    "### Constraints:\n",
    "\n",
    "The Linked List is not empty.\n",
    "Number of nodes will not exceed 30.\n",
    "Each node's value is either 0 or 1."
   ]
  },
  {
   "cell_type": "code",
   "execution_count": 1,
   "metadata": {},
   "outputs": [],
   "source": [
    "# Definition for singly-linked list.\n",
    "# class ListNode:\n",
    "#     def __init__(self, val=0, next=None):\n",
    "#         self.val = val\n",
    "#         self.next = next\n",
    "\n",
    "# head: ListNode\n",
    "# return -> int\n",
    "class Solution:\n",
    "    def getDecimalValue(self, head):\n",
    "        binary = ''\n",
    "        \n",
    "        while head:\n",
    "            binary += str(head.val)\n",
    "            head = head.next\n",
    "            \n",
    "        return int(binary, 2)"
   ]
  }
 ],
 "metadata": {
  "kernelspec": {
   "display_name": "Python 3.10.6 64-bit",
   "language": "python",
   "name": "python3"
  },
  "language_info": {
   "codemirror_mode": {
    "name": "ipython",
    "version": 3
   },
   "file_extension": ".py",
   "mimetype": "text/x-python",
   "name": "python",
   "nbconvert_exporter": "python",
   "pygments_lexer": "ipython3",
   "version": "3.10.6"
  },
  "orig_nbformat": 4,
  "vscode": {
   "interpreter": {
    "hash": "26de051ba29f2982a8de78e945f0abaf191376122a1563185a90213a26c5da77"
   }
  }
 },
 "nbformat": 4,
 "nbformat_minor": 2
}
