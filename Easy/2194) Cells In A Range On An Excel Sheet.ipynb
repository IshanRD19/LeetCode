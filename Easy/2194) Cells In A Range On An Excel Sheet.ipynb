{
 "cells": [
  {
   "cell_type": "markdown",
   "metadata": {},
   "source": [
    "# CELLS IN A RANGE ON AN EXCEL SHEET\n",
    "\n",
    "A cell (r, c) of an excel sheet is represented as a string \"<col><row>\" where:\n",
    "\n",
    "- col denotes the column number c of the cell. It is represented by alphabetical letters. For example, the 1st column is denoted by 'A', the 2nd by 'B', the 3rd by 'C', and so on.\n",
    "- row is the row number r of the cell. The rth row is represented by the integer r.\n",
    "\n",
    "You are given a string s in the format \"col1 row1:col2 row2\", where col1 represents the column c1, row1 represents the row r1, col2 represents the column c2, and row2 represents the row r2, such that r1 <= r2 and c1 <= c2.\n",
    "\n",
    "Return the list of cells (x, y) such that r1 <= x <= r2 and c1 <= y <= c2. The cells should be represented as strings in the format mentioned above and be sorted in non-decreasing order first by columns and then by rows.\n",
    "\n",
    "### Example 1:\n",
    "\n",
    "#### Input:\n",
    "s = \"K1:L2\"\n",
    "#### Output:\n",
    "[\"K1\",\"K2\",\"L1\",\"L2\"]\n",
    "#### Explanation:\n",
    "The above diagram shows the cells which should be present in the list.\n",
    "\n",
    "The red arrows denote the order in which the cells should be presented.\n",
    "### Example 2:\n",
    "\n",
    "\n",
    "#### Input:\n",
    "s = \"A1:F1\"\n",
    "#### Output:\n",
    "[\"A1\",\"B1\",\"C1\",\"D1\",\"E1\",\"F1\"]\n",
    "#### Explanation:\n",
    "The above diagram shows the cells which should be present in the list.\n",
    "\n",
    "The red arrow denotes the order in which the cells should be presented.\n",
    " \n",
    "### Constraints:\n",
    "s.length == 5\n",
    "\n",
    "'A' <= s[0] <= s[3] <= 'Z'\n",
    "\n",
    "'1' <= s[1] <= s[4] <= '9'\n",
    "\n",
    "s consists of uppercase English letters, digits and ':'."
   ]
  },
  {
   "cell_type": "code",
   "execution_count": 1,
   "metadata": {},
   "outputs": [],
   "source": [
    "# s: str\n",
    "# return -> List[str]\n",
    "class Solution:\n",
    "    def cellsInRange(self, s):\n",
    "        row_start = ord(s[0])\n",
    "        row_end = ord(s[3])\n",
    "        col_end = ord(s[4])\n",
    "        result = []\n",
    "        \n",
    "        # For each row\n",
    "        while row_start <= row_end:\n",
    "            col_start = ord(s[1])\n",
    "            \n",
    "            # For each column\n",
    "            while col_start <= col_end:\n",
    "                \n",
    "                # Add the excel cell\n",
    "                result.append(chr(row_start) + chr(col_start))\n",
    "\n",
    "                col_start += 1\n",
    "\n",
    "            row_start += 1\n",
    "        \n",
    "        return result"
   ]
  },
  {
   "cell_type": "code",
   "execution_count": 2,
   "metadata": {},
   "outputs": [
    {
     "data": {
      "text/plain": [
       "['K1', 'K2', 'L1', 'L2']"
      ]
     },
     "execution_count": 2,
     "metadata": {},
     "output_type": "execute_result"
    }
   ],
   "source": [
    "Solution.cellsInRange(Solution.cellsInRange, 'K1:L2')"
   ]
  },
  {
   "cell_type": "markdown",
   "metadata": {},
   "source": [
    "## Complexity Analysis\n",
    "\n",
    "Time Complexity: O(m * n)\n",
    "\n",
    "Space Complexity: O(m * n)"
   ]
  }
 ],
 "metadata": {
  "kernelspec": {
   "display_name": "Python 3",
   "language": "python",
   "name": "python3"
  },
  "language_info": {
   "codemirror_mode": {
    "name": "ipython",
    "version": 3
   },
   "file_extension": ".py",
   "mimetype": "text/x-python",
   "name": "python",
   "nbconvert_exporter": "python",
   "pygments_lexer": "ipython3",
   "version": "3.8.3"
  }
 },
 "nbformat": 4,
 "nbformat_minor": 4
}
