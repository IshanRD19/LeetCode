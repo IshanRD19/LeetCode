{
 "cells": [
  {
   "cell_type": "markdown",
   "metadata": {},
   "source": [
    "# DECODE THE MESSAGE\n",
    "\n",
    "You are given the strings key and message, which represent a cipher key and a secret message, respectively. The steps to decode message are as follows:\n",
    "\n",
    "Use the first appearance of all 26 lowercase English letters in key as the order of the substitution table.\n",
    "Align the substitution table with the regular English alphabet.\n",
    "Each letter in message is then substituted using the table.\n",
    "Spaces ' ' are transformed to themselves.\n",
    "For example, given key = \"happy boy\" (actual key would have at least one instance of each letter in the alphabet), we have the partial substitution table of ('h' -> 'a', 'a' -> 'b', 'p' -> 'c', 'y' -> 'd', 'b' -> 'e', 'o' -> 'f').\n",
    "Return the decoded message.\n",
    "\n",
    "### Example 1:\n",
    "\n",
    "\n",
    "#### Input: \n",
    "key = \"the quick brown fox jumps over the lazy dog\", message = \"vkbs bs t suepuv\"\n",
    "#### Output: \n",
    "\"this is a secret\"\n",
    "#### Explanation: \n",
    "The diagram above shows the substitution table.\n",
    "It is obtained by taking the first appearance of each letter in \"the quick brown fox jumps over the lazy dog\".\n",
    "### Example 2:\n",
    "\n",
    "\n",
    "#### Input: \n",
    "key = \"eljuxhpwnyrdgtqkviszcfmabo\", message = \"zwx hnfx lqantp mnoeius ycgk vcnjrdb\"\n",
    "#### Output: \n",
    "\"the five boxing wizards jump quickly\"\n",
    "#### Explanation: \n",
    "The diagram above shows the substitution table.\n",
    "It is obtained by taking the first appearance of each letter in \"eljuxhpwnyrdgtqkviszcfmabo\".\n",
    "\n",
    "### Constraints:\n",
    "\n",
    "26 <= key.length <= 2000\n",
    "\n",
    "key consists of lowercase English letters and ' '.\n",
    "\n",
    "key contains every letter in the English alphabet ('a' to 'z') at least once.\n",
    "\n",
    "1 <= message.length <= 2000\n",
    "\n",
    "message consists of lowercase English letters and ' '."
   ]
  },
  {
   "cell_type": "code",
   "execution_count": 1,
   "metadata": {},
   "outputs": [],
   "source": [
    "# key: str\n",
    "# message: str\n",
    "# return -> str\n",
    "class Solution:\n",
    "    def decodeMessage(self, key: str, message: str) -> str:\n",
    "        result = []\n",
    "        key_chars = []\n",
    "        key_vals = [chr(i) for i in range(97, 123)]\n",
    "\n",
    "        # Remove whitespaces from key\n",
    "        key = key.replace(' ', '')\n",
    "\n",
    "        # Store each unique character in key \n",
    "        for i in range(len(key)):\n",
    "            if key[i] not in key_chars:\n",
    "                key_chars.append(key[i])\n",
    "        \n",
    "        # Create the complete mapping of key with lowercase values\n",
    "        mapping = dict(zip(key_chars, key_vals))\n",
    "\n",
    "        # Decode the message\n",
    "        for i in range(len(message)):\n",
    "            if message[i] != ' ':\n",
    "                result.append(mapping[message[i]])\n",
    "            else:\n",
    "                result.append(' ')\n",
    "\n",
    "        return ''.join(result)"
   ]
  },
  {
   "cell_type": "code",
   "execution_count": 2,
   "metadata": {},
   "outputs": [
    {
     "data": {
      "text/plain": [
       "'this is a secret'"
      ]
     },
     "execution_count": 2,
     "metadata": {},
     "output_type": "execute_result"
    }
   ],
   "source": [
    "Solution.decodeMessage(Solution.decodeMessage, 'the quick brown fox jumps over the lazy dog', 'vkbs bs t suepuv')"
   ]
  }
 ],
 "metadata": {
  "kernelspec": {
   "display_name": "Python 3.10.6 64-bit",
   "language": "python",
   "name": "python3"
  },
  "language_info": {
   "codemirror_mode": {
    "name": "ipython",
    "version": 3
   },
   "file_extension": ".py",
   "mimetype": "text/x-python",
   "name": "python",
   "nbconvert_exporter": "python",
   "pygments_lexer": "ipython3",
   "version": "3.10.6"
  },
  "orig_nbformat": 4,
  "vscode": {
   "interpreter": {
    "hash": "26de051ba29f2982a8de78e945f0abaf191376122a1563185a90213a26c5da77"
   }
  }
 },
 "nbformat": 4,
 "nbformat_minor": 2
}
