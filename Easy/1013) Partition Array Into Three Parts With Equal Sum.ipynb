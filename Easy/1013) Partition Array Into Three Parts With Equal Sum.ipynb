{
 "cells": [
  {
   "cell_type": "markdown",
   "metadata": {},
   "source": [
    "# PARTITION ARRAY INTO THREE PARTS WITH EQUAL SUM\n",
    "\n",
    "Given an array of integers arr, return true if we can partition the array into three non-empty parts with equal sums.\n",
    "\n",
    "Formally, we can partition the array if we can find indexes i + 1 < j with (arr[0] + arr[1] + ... + arr[i] == arr[i + 1] + arr[i + 2] + ... + arr[j - 1] == arr[j] + arr[j + 1] + ... + arr[arr.length - 1])\n",
    "\n",
    "### Example 1:\n",
    "\n",
    "#### Input:\n",
    "arr = [0,2,1,-6,6,-7,9,1,2,0,1]\n",
    "#### Output:\n",
    "true\n",
    "#### Explanation:\n",
    "0 + 2 + 1 = -6 + 6 - 7 + 9 + 1 = 2 + 0 + 1\n",
    "### Example 2:\n",
    "\n",
    "#### Input:\n",
    "arr = [0,2,1,-6,6,7,9,-1,2,0,1]\n",
    "#### Output:\n",
    "false\n",
    "### Example 3:\n",
    "\n",
    "#### Input:\n",
    "arr = [3,3,6,5,-2,2,5,1,-9,4]\n",
    "#### Output:\n",
    "true\n",
    "#### Explanation:\n",
    "3 + 3 = 6 = 5 - 2 + 2 + 5 + 1 - 9 + 4\n",
    "\n",
    "### Constraints:\n",
    "\n",
    "3 <= arr.length <= 5 * 10^4\n",
    "\n",
    "-10^4 <= arr[i] <= 10^4"
   ]
  },
  {
   "cell_type": "code",
   "execution_count": 1,
   "metadata": {},
   "outputs": [],
   "source": [
    "# arr: List[int]\n",
    "# return -> bool\n",
    "class Solution:\n",
    "    def canThreePartsEqualSum(self, arr):\n",
    "        total_sum = sum(arr)\n",
    "        \n",
    "        # Check for trivial condition\n",
    "        if total_sum % 3:\n",
    "            return False\n",
    "        \n",
    "        left_sum = 0\n",
    "        \n",
    "        # Traverse through the list\n",
    "        for i in range(len(arr) - 2):\n",
    "            left_sum += arr[i]\n",
    "            \n",
    "            # Check for first split \n",
    "            if total_sum == 3 * left_sum:\n",
    "                middle_sum = 0\n",
    "                \n",
    "                # Traverse through remaining list\n",
    "                for j in range(i+1, len(arr) - 1):\n",
    "                    middle_sum += arr[j]\n",
    "                        \n",
    "                    # Check for second split \n",
    "                    if left_sum == middle_sum:\n",
    "                        return True\n",
    "\n",
    "        return False"
   ]
  },
  {
   "cell_type": "code",
   "execution_count": 2,
   "metadata": {},
   "outputs": [
    {
     "data": {
      "text/plain": [
       "True"
      ]
     },
     "execution_count": 2,
     "metadata": {},
     "output_type": "execute_result"
    }
   ],
   "source": [
    "Solution.canThreePartsEqualSum(Solution.canThreePartsEqualSum,[3,3,6,5,-2,2,5,1,-9,4])"
   ]
  }
 ],
 "metadata": {
  "kernelspec": {
   "display_name": "Python 3",
   "language": "python",
   "name": "python3"
  },
  "language_info": {
   "codemirror_mode": {
    "name": "ipython",
    "version": 3
   },
   "file_extension": ".py",
   "mimetype": "text/x-python",
   "name": "python",
   "nbconvert_exporter": "python",
   "pygments_lexer": "ipython3",
   "version": "3.8.3"
  }
 },
 "nbformat": 4,
 "nbformat_minor": 4
}
