{
 "cells": [
  {
   "cell_type": "markdown",
   "metadata": {},
   "source": [
    "# REPALCE ELEMENTS WITH GREATEST ELEMENT ON RIGHT SIDE\n",
    "\n",
    "Given an array arr, replace every element in that array with the greatest element among the elements to its right, and replace the last element with -1.\n",
    "\n",
    "After doing so, return the array.\n",
    "\n",
    " \n",
    "\n",
    "### Example 1:\n",
    "\n",
    "Input: arr = [17,18,5,4,6,1]\n",
    "\n",
    "Output: [18,6,6,6,1,-1]\n",
    "\n",
    "Explanation: \n",
    "- index 0 --> the greatest element to the right of index 0 is index 1 (18).\n",
    "- index 1 --> the greatest element to the right of index 1 is index 4 (6).\n",
    "- index 2 --> the greatest element to the right of index 2 is index 4 (6).\n",
    "- index 3 --> the greatest element to the right of index 3 is index 4 (6).\n",
    "- index 4 --> the greatest element to the right of index 4 is index 5 (1).\n",
    "- index 5 --> there are no elements to the right of index 5, so we put -1.\n",
    "\n",
    "### Example 2:\n",
    "\n",
    "Input: arr = [400]\n",
    "\n",
    "Output: [-1]\n",
    "\n",
    "Explanation: There are no elements to the right of index 0.\n",
    " \n",
    "### Constraints:\n",
    "\n",
    "1 <= arr.length <= 104\n",
    "\n",
    "1 <= arr[i] <= 105"
   ]
  },
  {
   "cell_type": "markdown",
   "metadata": {},
   "source": [
    "## Approach: One Pass\n",
    "\n",
    "Loop through the array starting from the end. Keep the maximum value seen so far."
   ]
  },
  {
   "cell_type": "code",
   "execution_count": 1,
   "metadata": {},
   "outputs": [],
   "source": [
    "# arr: List[int]\n",
    "# return -> List[int]\n",
    "class Solution:\n",
    "    def replaceElements(self, arr):\n",
    "        i = len(arr) - 2\n",
    "        max_item = arr[-1]\n",
    "        \n",
    "        # Loop through the array starting from the end\n",
    "        while i >= 0:\n",
    "            print('i:', i)\n",
    "            print('arr[i]:', arr[i])\n",
    "            print('max_item:', max_item)\n",
    "\n",
    "            # Temporary variable to store the greatest element to be used as replacement\n",
    "            temp = max_item\n",
    "            \n",
    "            # Keep the maximum value seen so far\n",
    "            max_item = arr[i] if (arr[i] > max_item) else max_item\n",
    "            \n",
    "            # Overwrite element with greatest element on right side\n",
    "            arr[i] = temp\n",
    "            print(arr)\n",
    "\n",
    "            i -= 1\n",
    "\n",
    "            print('-----')\n",
    "\n",
    "            \n",
    "        arr[-1] = -1\n",
    "            \n",
    "        return arr"
   ]
  },
  {
   "cell_type": "code",
   "execution_count": 2,
   "metadata": {},
   "outputs": [
    {
     "name": "stdout",
     "output_type": "stream",
     "text": [
      "i: 4\n",
      "arr[i]: 6\n",
      "max_item: 1\n",
      "[17, 18, 5, 4, 1, 1]\n",
      "-----\n",
      "i: 3\n",
      "arr[i]: 4\n",
      "max_item: 6\n",
      "[17, 18, 5, 6, 1, 1]\n",
      "-----\n",
      "i: 2\n",
      "arr[i]: 5\n",
      "max_item: 6\n",
      "[17, 18, 6, 6, 1, 1]\n",
      "-----\n",
      "i: 1\n",
      "arr[i]: 18\n",
      "max_item: 6\n",
      "[17, 6, 6, 6, 1, 1]\n",
      "-----\n",
      "i: 0\n",
      "arr[i]: 17\n",
      "max_item: 18\n",
      "[18, 6, 6, 6, 1, 1]\n",
      "-----\n"
     ]
    },
    {
     "data": {
      "text/plain": [
       "[18, 6, 6, 6, 1, -1]"
      ]
     },
     "execution_count": 2,
     "metadata": {},
     "output_type": "execute_result"
    }
   ],
   "source": [
    "Solution.replaceElements(Solution.replaceElements, [17,18,5,4,6,1])"
   ]
  },
  {
   "cell_type": "markdown",
   "metadata": {},
   "source": [
    "### Alternate\n",
    "\n",
    "The above approach can be further simplified as given below."
   ]
  },
  {
   "cell_type": "code",
   "execution_count": 3,
   "metadata": {},
   "outputs": [],
   "source": [
    "# arr: List[int]\n",
    "# return -> List[int]\n",
    "class Solution:\n",
    "    def replaceElements2(self, arr):\n",
    "        maximum = -1\n",
    "        \n",
    "        # Starting from end, traverse right to left\n",
    "        for i in range(len(arr)-1, -1, -1):\n",
    "            arr[i], maximum = maximum, max(maximum, arr[i])\n",
    "        \n",
    "        return arr"
   ]
  },
  {
   "cell_type": "code",
   "execution_count": 4,
   "metadata": {},
   "outputs": [
    {
     "data": {
      "text/plain": [
       "[18, 6, 6, 6, 1, -1]"
      ]
     },
     "execution_count": 4,
     "metadata": {},
     "output_type": "execute_result"
    }
   ],
   "source": [
    "Solution.replaceElements2(Solution.replaceElements2, [17,18,5,4,6,1])"
   ]
  },
  {
   "cell_type": "markdown",
   "metadata": {},
   "source": [
    "### Complexity Analysis\n",
    "\n",
    "Time Complexity: O(n)\n",
    "\n",
    "Space Complexity: O(1)"
   ]
  }
 ],
 "metadata": {
  "kernelspec": {
   "display_name": "Python 3",
   "language": "python",
   "name": "python3"
  },
  "language_info": {
   "codemirror_mode": {
    "name": "ipython",
    "version": 3
   },
   "file_extension": ".py",
   "mimetype": "text/x-python",
   "name": "python",
   "nbconvert_exporter": "python",
   "pygments_lexer": "ipython3",
   "version": "3.8.3"
  }
 },
 "nbformat": 4,
 "nbformat_minor": 4
}
