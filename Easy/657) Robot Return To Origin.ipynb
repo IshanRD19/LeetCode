{
 "cells": [
  {
   "cell_type": "markdown",
   "metadata": {},
   "source": [
    "# ROBOT RETURN TO ORIGIN\n",
    "\n",
    "There is a robot starting at the position (0, 0), the origin, on a 2D plane. Given a sequence of its moves, judge if this robot ends up at (0, 0) after it completes its moves.\n",
    "\n",
    "You are given a string moves that represents the move sequence of the robot where moves[i] represents its ith move. Valid moves are 'R' (right), 'L' (left), 'U' (up), and 'D' (down).\n",
    "\n",
    "Return true if the robot returns to the origin after it finishes all of its moves, or false otherwise.\n",
    "\n",
    "**Note:** The way that the robot is \"facing\" is irrelevant. 'R' will always make the robot move to the right once, 'L' will always make it move left, etc. Also, assume that the magnitude of the robot's movement is the same for each move.\n",
    "\n",
    "### Example 1:\n",
    "\n",
    "#### Input: \n",
    "moves = \"UD\"\n",
    "#### Output: \n",
    "true\n",
    "#### Explanation: \n",
    "The robot moves up once, and then down once. All moves have the same magnitude, so it ended up at the origin where it started. Therefore, we return true.\n",
    "### Example 2:\n",
    "#### Input: \n",
    "moves = \"LL\"\n",
    "#### Output: \n",
    "false\n",
    "#### Explanation: \n",
    "The robot moves left twice. It ends up two \"moves\" to the left of the origin. We return false because it is not at the origin at the end of its moves.\n",
    " \n",
    "### Constraints:\n",
    "1 <= moves.length <= 2 * 10^4\n",
    "\n",
    "moves only contains the characters 'U', 'D', 'L' and 'R'."
   ]
  },
  {
   "cell_type": "code",
   "execution_count": 1,
   "metadata": {},
   "outputs": [],
   "source": [
    "class Solution:\n",
    "    # moves: str\n",
    "    # return -> bool\n",
    "    def judgeCircle(self, moves):\n",
    "        ud = lr = 0\n",
    "        \n",
    "        for move in moves:\n",
    "            \n",
    "            if move == 'U':\n",
    "                ud += 1\n",
    "            elif move == 'D':\n",
    "                ud -= 1\n",
    "            elif move == 'L':\n",
    "                lr += 1\n",
    "            elif move == 'R':\n",
    "                lr -= 1\n",
    "        \n",
    "        return ud == lr == 0"
   ]
  },
  {
   "cell_type": "code",
   "execution_count": 2,
   "metadata": {},
   "outputs": [
    {
     "data": {
      "text/plain": [
       "True"
      ]
     },
     "execution_count": 2,
     "metadata": {},
     "output_type": "execute_result"
    }
   ],
   "source": [
    "Solution.judgeCircle(Solution.judgeCircle, 'LR')"
   ]
  }
 ],
 "metadata": {
  "kernelspec": {
   "display_name": "Python 3.10.6 64-bit",
   "language": "python",
   "name": "python3"
  },
  "language_info": {
   "codemirror_mode": {
    "name": "ipython",
    "version": 3
   },
   "file_extension": ".py",
   "mimetype": "text/x-python",
   "name": "python",
   "nbconvert_exporter": "python",
   "pygments_lexer": "ipython3",
   "version": "3.10.6"
  },
  "orig_nbformat": 4,
  "vscode": {
   "interpreter": {
    "hash": "26de051ba29f2982a8de78e945f0abaf191376122a1563185a90213a26c5da77"
   }
  }
 },
 "nbformat": 4,
 "nbformat_minor": 2
}
