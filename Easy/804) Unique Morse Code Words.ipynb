{
 "cells": [
  {
   "cell_type": "markdown",
   "metadata": {},
   "source": [
    "# UNIQUE MORSE CODE WORKS\n",
    "\n",
    "International Morse Code defines a standard encoding where each letter is mapped to a series of dots and dashes, as follows:\n",
    "\n",
    "- 'a' maps to \".-\",\n",
    "- 'b' maps to \"-...\",\n",
    "- 'c' maps to \"-.-.\", and so on.\n",
    "\n",
    "For convenience, the full table for the 26 letters of the English alphabet is given below:\n",
    "\n",
    "[\".-\",\"-...\",\"-.-.\",\"-..\",\".\",\"..-.\",\"--.\",\"....\",\"..\",\".---\",\"-.-\",\".-..\",\"--\",\"-.\",\"---\",\".--.\",\"--.-\",\".-.\",\"...\",\"-\",\"..-\",\"...-\",\".--\",\"-..-\",\"-.--\",\"--..\"]\n",
    "\n",
    "Given an array of strings words where each word can be written as a concatenation of the Morse code of each letter.\n",
    "\n",
    "For example, \"cab\" can be written as \"-.-..--...\", which is the concatenation of \"-.-.\", \".-\", and \"-...\". We will call such a concatenation the transformation of a word.\n",
    "Return the number of different transformations among all words we have.\n",
    "\n",
    "### Example 1:\n",
    "\n",
    "#### Input: \n",
    "words = [\"gin\",\"zen\",\"gig\",\"msg\"]\n",
    "#### Output: \n",
    "2\n",
    "#### Explanation: \n",
    "The transformation of each word is:\n",
    "- \"gin\" -> \"--...-.\"\n",
    "- \"zen\" -> \"--...-.\"\n",
    "- \"gig\" -> \"--...--.\"\n",
    "- \"msg\" -> \"--...--.\"\n",
    "\n",
    "There are 2 different transformations: \"--...-.\" and \"--...--.\".\n",
    "### Example 2:\n",
    "\n",
    "#### Input: \n",
    "words = [\"a\"]\n",
    "#### Output: \n",
    "1\n",
    " \n",
    "\n",
    "### Constraints:\n",
    "1 <= words.length <= 100\n",
    "\n",
    "1 <= words[i].length <= 12\n",
    "\n",
    "words[i] consists of lowercase English letters."
   ]
  },
  {
   "cell_type": "code",
   "execution_count": 1,
   "metadata": {},
   "outputs": [],
   "source": [
    "# words: List[str]\n",
    "# return -> int\n",
    "class Solution:\n",
    "    def uniqueMorseRepresentations(self, words):\n",
    "        morse_map = dict(zip([chr(i) for i in range(97, 123)], [\".-\",\"-...\",\"-.-.\",\"-..\",\".\",\"..-.\",\"--.\",\"....\",\"..\",\".---\",\"-.-\",\".-..\",\"--\",\"-.\",\"---\",\".--.\",\"--.-\",\".-.\",\"...\",\"-\",\"..-\",\"...-\",\".--\",\"-..-\",\"-.--\",\"--..\"]))\n",
    "        result = set()\n",
    "        \n",
    "        # For each word\n",
    "        for w in words:\n",
    "            transformation = ''\n",
    "            \n",
    "            # For each character\n",
    "            for c in w:\n",
    "                transformation += morse_map[c]\n",
    "                \n",
    "            result.add(transformation)\n",
    "            \n",
    "        return len(result)"
   ]
  },
  {
   "cell_type": "code",
   "execution_count": 2,
   "metadata": {},
   "outputs": [
    {
     "data": {
      "text/plain": [
       "2"
      ]
     },
     "execution_count": 2,
     "metadata": {},
     "output_type": "execute_result"
    }
   ],
   "source": [
    "Solution.uniqueMorseRepresentations(Solution.uniqueMorseRepresentations, [\"gin\",\"zen\",\"gig\",\"msg\"])"
   ]
  }
 ],
 "metadata": {
  "kernelspec": {
   "display_name": "Python 3.10.6 64-bit",
   "language": "python",
   "name": "python3"
  },
  "language_info": {
   "codemirror_mode": {
    "name": "ipython",
    "version": 3
   },
   "file_extension": ".py",
   "mimetype": "text/x-python",
   "name": "python",
   "nbconvert_exporter": "python",
   "pygments_lexer": "ipython3",
   "version": "3.10.6"
  },
  "orig_nbformat": 4,
  "vscode": {
   "interpreter": {
    "hash": "26de051ba29f2982a8de78e945f0abaf191376122a1563185a90213a26c5da77"
   }
  }
 },
 "nbformat": 4,
 "nbformat_minor": 2
}
