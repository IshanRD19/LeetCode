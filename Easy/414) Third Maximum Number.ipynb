{
 "cells": [
  {
   "cell_type": "markdown",
   "metadata": {},
   "source": [
    "# THIRD MAXIMUM NUMBER\n",
    "\n",
    "Given integer array nums, return the third maximum number in this array. If the third maximum does not exist, return the maximum number.\n",
    "\n",
    "\n",
    "### Example 1:\n",
    "\n",
    "Input: nums = [3,2,1]\n",
    "\n",
    "Output: 1\n",
    "\n",
    "Explanation: The third maximum is 1.\n",
    "\n",
    "### Example 2:\n",
    "\n",
    "Input: nums = [1,2]\n",
    "\n",
    "Output: 2\n",
    "\n",
    "Explanation: The third maximum does not exist, so the maximum (2) is returned instead.\n",
    "\n",
    "### Example 3:\n",
    "\n",
    "Input: nums = [2,2,3,1]\n",
    "\n",
    "Output: 1\n",
    "\n",
    "Explanation: Note that the third maximum here means the third maximum distinct number.\n",
    "\n",
    "Both numbers with value 2 are both considered as second maximum.\n",
    " \n",
    "### Constraints:\n",
    "\n",
    "1 <= nums.length <= 10^4\n",
    "\n",
    "-2^31 <= nums[i] <= 2^31 - 1\n",
    " \n",
    "Follow up: Can you find an O(n) solution?"
   ]
  },
  {
   "cell_type": "markdown",
   "metadata": {},
   "source": [
    "## Approach: Linear Traversal"
   ]
  },
  {
   "cell_type": "code",
   "execution_count": 1,
   "metadata": {},
   "outputs": [],
   "source": [
    "# nums: List[int]\n",
    "# return -> int\n",
    "class Solution:\n",
    "    def thirdMax(self, nums):\n",
    "        # Keep list of distinct numbers\n",
    "        unique_nums = list(set(nums))\n",
    "        size = len(unique_nums)\n",
    "\n",
    "        # If 3 distinct numbers don't exist, return max number\n",
    "        if size < 3:\n",
    "            return max(nums)\n",
    "        \n",
    "        else:\n",
    "            max_1, max_2, max_3 = -2**31, -2**31, -2**31\n",
    "\n",
    "            for i in range(size):\n",
    "                if unique_nums[i] > max_1:\n",
    "                    max_3, max_2, max_1 = max_2, max_1, unique_nums[i]\n",
    "                    \n",
    "                elif unique_nums[i] > max_2:\n",
    "                    max_3, max_2 = max_2, unique_nums[i]\n",
    "                    \n",
    "                elif unique_nums[i] > max_3:\n",
    "                    max_3 = unique_nums[i]\n",
    "                    \n",
    "        return max_3"
   ]
  },
  {
   "cell_type": "code",
   "execution_count": 2,
   "metadata": {},
   "outputs": [
    {
     "data": {
      "text/plain": [
       "1"
      ]
     },
     "execution_count": 2,
     "metadata": {},
     "output_type": "execute_result"
    }
   ],
   "source": [
    "Solution.thirdMax(Solution.thirdMax, [2,2,3,1])"
   ]
  },
  {
   "cell_type": "markdown",
   "metadata": {},
   "source": [
    "### Complexity Analysis\n",
    "\n",
    "Time Complexity: O(n)\n",
    "\n",
    "Space Complexity: O(n)"
   ]
  }
 ],
 "metadata": {
  "kernelspec": {
   "display_name": "Python 3",
   "language": "python",
   "name": "python3"
  },
  "language_info": {
   "codemirror_mode": {
    "name": "ipython",
    "version": 3
   },
   "file_extension": ".py",
   "mimetype": "text/x-python",
   "name": "python",
   "nbconvert_exporter": "python",
   "pygments_lexer": "ipython3",
   "version": "3.8.3"
  }
 },
 "nbformat": 4,
 "nbformat_minor": 4
}
