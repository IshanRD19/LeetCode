{
 "cells": [
  {
   "cell_type": "markdown",
   "metadata": {},
   "source": [
    "# VALID ANAGRAM\n",
    "\n",
    "Given two strings s and t, return true if t is an anagram of s, and false otherwise.\n",
    "\n",
    "An Anagram is a word or phrase formed by rearranging the letters of a different word or phrase, typically using all the original letters exactly once.\n",
    "\n",
    "### Example 1:\n",
    "\n",
    "#### Input: \n",
    "s = \"anagram\", t = \"nagaram\"\n",
    "#### Output: \n",
    "true\n",
    "### Example 2:\n",
    "\n",
    "#### Input: \n",
    "s = \"rat\", t = \"car\"\n",
    "#### Output: \n",
    "false\n",
    "\n",
    "### Constraints:\n",
    "1 <= s.length, t.length <= 5 * 10^4\n",
    "\n",
    "s and t consist of lowercase English letters.\n",
    "\n",
    "**Follow up:** What if the inputs contain Unicode characters? How would you adapt your solution to such a case?"
   ]
  },
  {
   "cell_type": "code",
   "execution_count": 1,
   "metadata": {},
   "outputs": [],
   "source": [
    "class Solution:\n",
    "\n",
    "    # s: str\n",
    "    # t: str\n",
    "    # return -> bool\n",
    "    def isAnagram(self, s: str, t: str) -> bool:\n",
    "        if len(s) != len(t):\n",
    "            return False\n",
    "        \n",
    "        seen1, seen2 = {}, {}\n",
    "        for i in range(len(s)):\n",
    "            \n",
    "            if s[i] in seen1:\n",
    "                seen1[s[i]] += 1\n",
    "            else:\n",
    "                seen1[s[i]] = 1\n",
    "\n",
    "            if t[i] in seen2:\n",
    "                seen2[t[i]] += 1\n",
    "            else:\n",
    "                seen2[t[i]] = 1\n",
    "        \n",
    "        return seen1 == seen2"
   ]
  },
  {
   "cell_type": "code",
   "execution_count": 2,
   "metadata": {},
   "outputs": [
    {
     "data": {
      "text/plain": [
       "True"
      ]
     },
     "execution_count": 2,
     "metadata": {},
     "output_type": "execute_result"
    }
   ],
   "source": [
    "Solution.isAnagram(Solution.isAnagram, 'anagram', 'nagaram')"
   ]
  }
 ],
 "metadata": {
  "kernelspec": {
   "display_name": "Python 3.10.6 64-bit",
   "language": "python",
   "name": "python3"
  },
  "language_info": {
   "codemirror_mode": {
    "name": "ipython",
    "version": 3
   },
   "file_extension": ".py",
   "mimetype": "text/x-python",
   "name": "python",
   "nbconvert_exporter": "python",
   "pygments_lexer": "ipython3",
   "version": "3.10.6"
  },
  "orig_nbformat": 4,
  "vscode": {
   "interpreter": {
    "hash": "26de051ba29f2982a8de78e945f0abaf191376122a1563185a90213a26c5da77"
   }
  }
 },
 "nbformat": 4,
 "nbformat_minor": 2
}
