{
 "cells": [
  {
   "cell_type": "markdown",
   "metadata": {},
   "source": [
    "# DESIGN HASHSET\n",
    "\n",
    "Design a HashSet without using any built-in hash table libraries.\n",
    "\n",
    "Implement MyHashSet class:\n",
    "\n",
    "void add(key) Inserts the value key into the HashSet.\n",
    "bool contains(key) Returns whether the value key exists in the HashSet or not.\n",
    "void remove(key) Removes the value key in the HashSet. If key does not exist in the HashSet, do nothing.\n",
    " \n",
    "### Example 1:\n",
    "\n",
    "#### Input\n",
    "[\"MyHashSet\", \"add\", \"add\", \"contains\", \"contains\", \"add\", \"contains\", \"remove\", \"contains\"]\n",
    "\n",
    "[[], [1], [2], [1], [3], [2], [2], [2], [2]]\n",
    "#### Output\n",
    "[null, null, null, true, false, null, true, null, false]\n",
    "\n",
    "#### Explanation\n",
    "MyHashSet myHashSet = new MyHashSet();\n",
    "myHashSet.add(1);      // set = [1]\n",
    "myHashSet.add(2);      // set = [1, 2]\n",
    "myHashSet.contains(1); // return True\n",
    "myHashSet.contains(3); // return False, (not found)\n",
    "myHashSet.add(2);      // set = [1, 2]\n",
    "myHashSet.contains(2); // return True\n",
    "myHashSet.remove(2);   // set = [1]\n",
    "myHashSet.contains(2); // return False, (already removed)\n",
    "\n",
    "### Constraints:\n",
    "0 <= key <= 10^6\n",
    "\n",
    "At most 10^4 calls will be made to add, remove, and contains."
   ]
  },
  {
   "cell_type": "code",
   "execution_count": null,
   "metadata": {},
   "outputs": [],
   "source": [
    "class MyHashSet:\n",
    "\n",
    "    def __init__(self):\n",
    "        self.hashset = set()\n",
    "\n",
    "    def add(self, key: int) -> None:\n",
    "        self.hashset.add(key)\n",
    "        return\n",
    "\n",
    "    def remove(self, key: int) -> None:\n",
    "        if self.contains(key):\n",
    "            self.hashset.remove(key)\n",
    "        return\n",
    "\n",
    "    def contains(self, key: int) -> bool:\n",
    "        return key in self.hashset\n",
    "\n",
    "# Your MyHashSet object will be instantiated and called as such:\n",
    "# obj = MyHashSet()\n",
    "# obj.add(key)\n",
    "# obj.remove(key)\n",
    "# param_3 = obj.contains(key)"
   ]
  }
 ],
 "metadata": {
  "kernelspec": {
   "display_name": "Python 3.10.6 64-bit",
   "language": "python",
   "name": "python3"
  },
  "language_info": {
   "name": "python",
   "version": "3.10.6"
  },
  "orig_nbformat": 4,
  "vscode": {
   "interpreter": {
    "hash": "26de051ba29f2982a8de78e945f0abaf191376122a1563185a90213a26c5da77"
   }
  }
 },
 "nbformat": 4,
 "nbformat_minor": 2
}
