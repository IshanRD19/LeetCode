{
 "cells": [
  {
   "cell_type": "markdown",
   "metadata": {},
   "source": [
    "# INCREASING ORDER SEARCH TREE\n",
    "\n",
    "Given the root of a binary search tree, rearrange the tree in in-order so that the leftmost node in the tree is now the root of the tree, and every node has no left child and only one right child.\n",
    "\n",
    "### Example 1:\n",
    "\n",
    "#### Input: \n",
    "root = [5,3,6,2,4,null,8,1,null,null,null,7,9]\n",
    "#### Output: \n",
    "[1,null,2,null,3,null,4,null,5,null,6,null,7,null,8,null,9]\n",
    "### Example 2:\n",
    "\n",
    "\n",
    "#### Input: \n",
    "root = [5,1,7]\n",
    "#### Output: \n",
    "[1,null,5,null,7]\n",
    " \n",
    "### Constraints:\n",
    "The number of nodes in the given tree will be in the range [1, 100].\n",
    "\n",
    "0 <= Node.val <= 1000"
   ]
  },
  {
   "cell_type": "code",
   "execution_count": 2,
   "metadata": {},
   "outputs": [],
   "source": [
    "# Definition for a binary tree node.\n",
    "# class TreeNode:\n",
    "#     def __init__(self, val=0, left=None, right=None):\n",
    "#         self.val = val\n",
    "#         self.left = left\n",
    "#         self.right = right\n",
    "\n",
    "# root: TreeNode\n",
    "# return -> TreeNode:\n",
    "class Solution:\n",
    "    \n",
    "    def __init__(self):\n",
    "        self.prev_node = None\n",
    "    \n",
    "    def modified_inorder(self, root):\n",
    "        if not root:\n",
    "            return\n",
    "        \n",
    "        # Right\n",
    "        self.modified_inorder(root.right)\n",
    "        \n",
    "        # Update Node\n",
    "        root.right = self.prev_node\n",
    "        self.prev_node = root\n",
    "        \n",
    "        # Left\n",
    "        self.modified_inorder(root.left)\n",
    "        \n",
    "        root.left = None\n",
    "        \n",
    "        return\n",
    "        \n",
    "    \n",
    "    def increasingBST(self, root):\n",
    "        self.modified_inorder(root)\n",
    "        return self.prev_node\n",
    "        "
   ]
  }
 ],
 "metadata": {
  "kernelspec": {
   "display_name": "Python 3.10.6 64-bit",
   "language": "python",
   "name": "python3"
  },
  "language_info": {
   "codemirror_mode": {
    "name": "ipython",
    "version": 3
   },
   "file_extension": ".py",
   "mimetype": "text/x-python",
   "name": "python",
   "nbconvert_exporter": "python",
   "pygments_lexer": "ipython3",
   "version": "3.10.6"
  },
  "orig_nbformat": 4,
  "vscode": {
   "interpreter": {
    "hash": "26de051ba29f2982a8de78e945f0abaf191376122a1563185a90213a26c5da77"
   }
  }
 },
 "nbformat": 4,
 "nbformat_minor": 2
}
