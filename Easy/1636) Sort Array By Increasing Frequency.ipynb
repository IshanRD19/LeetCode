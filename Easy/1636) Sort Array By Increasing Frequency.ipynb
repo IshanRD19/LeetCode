{
 "cells": [
  {
   "cell_type": "markdown",
   "metadata": {},
   "source": [
    "# SORT AN ARRAY BY INCREASING FREQUENCY\n",
    "\n",
    "Given an array of integers nums, sort the array in increasing order based on the frequency of the values. If multiple values have the same frequency, sort them in decreasing order.\n",
    "\n",
    "Return the sorted array.\n",
    "\n",
    "### Example 1:\n",
    "\n",
    "#### Input: \n",
    "nums = [1,1,2,2,2,3]\n",
    "#### Output: \n",
    "[3,1,1,2,2,2]\n",
    "#### Explanation: \n",
    "'3' has a frequency of 1, '1' has a frequency of 2, and '2' has a frequency of 3.\n",
    "### Example 2:\n",
    "\n",
    "#### Input: \n",
    "nums = [2,3,1,3,2]\n",
    "#### Output: \n",
    "[1,3,3,2,2]\n",
    "#### Explanation: \n",
    "'2' and '3' both have a frequency of 2, so they are sorted in decreasing order.\n",
    "### Example 3:\n",
    "\n",
    "#### Input: \n",
    "nums = [-1,1,-6,4,5,-6,1,4,1]\n",
    "#### Output: \n",
    "[5,-1,4,4,-6,-6,1,1,1]\n",
    " \n",
    "\n",
    "### Constraints:\n",
    "1 <= nums.length <= 100\n",
    "\n",
    "-100 <= nums[i] <= 100"
   ]
  },
  {
   "cell_type": "code",
   "execution_count": 1,
   "metadata": {},
   "outputs": [],
   "source": [
    "# nums: List[int]\n",
    "# return -> List[int]\n",
    "class Solution:\n",
    "    def frequencySort(self, nums):\n",
    "        length = len(nums)\n",
    "        freq = {}\n",
    "        result = []\n",
    "        \n",
    "        # Store the frequency of each item\n",
    "        for i in range(length):\n",
    "            if nums[i] in freq:\n",
    "                freq[nums[i]] += 1\n",
    "            else:\n",
    "                freq[nums[i]] = 1\n",
    "        \n",
    "        # Create a list of all items and their frequency\n",
    "        elements = [(k,v) for k,v in freq.items()]\n",
    "        \n",
    "        # Sort the items as required\n",
    "        elements.sort(key=lambda x: (x[1], -x[0]))\n",
    "        \n",
    "        # Create the final list\n",
    "        for i in range(len(elements)):\n",
    "            result += [elements[i][0]] * elements[i][1]\n",
    "        \n",
    "        return result"
   ]
  },
  {
   "cell_type": "code",
   "execution_count": 2,
   "metadata": {},
   "outputs": [
    {
     "data": {
      "text/plain": [
       "[5, -1, 4, 4, -6, -6, 1, 1, 1]"
      ]
     },
     "execution_count": 2,
     "metadata": {},
     "output_type": "execute_result"
    }
   ],
   "source": [
    "Solution.frequencySort(Solution.frequencySort, [-1,1,-6,4,5,-6,1,4,1])"
   ]
  }
 ],
 "metadata": {
  "kernelspec": {
   "display_name": "Python 3.10.6 64-bit",
   "language": "python",
   "name": "python3"
  },
  "language_info": {
   "codemirror_mode": {
    "name": "ipython",
    "version": 3
   },
   "file_extension": ".py",
   "mimetype": "text/x-python",
   "name": "python",
   "nbconvert_exporter": "python",
   "pygments_lexer": "ipython3",
   "version": "3.10.6"
  },
  "orig_nbformat": 4,
  "vscode": {
   "interpreter": {
    "hash": "26de051ba29f2982a8de78e945f0abaf191376122a1563185a90213a26c5da77"
   }
  }
 },
 "nbformat": 4,
 "nbformat_minor": 2
}
