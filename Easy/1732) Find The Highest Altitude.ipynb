{
 "cells": [
  {
   "cell_type": "markdown",
   "metadata": {},
   "source": [
    "# FIND THE HIGHEST ALTITUDE\n",
    "\n",
    "There is a biker going on a road trip. The road trip consists of n + 1 points at different altitudes. The biker starts his trip on point 0 with altitude equal 0.\n",
    "\n",
    "You are given an integer array gain of length n where gain[i] is the net gain in altitude between points i​​​​​​ and i + 1 for all (0 <= i < n). Return the highest altitude of a point.\n",
    "\n",
    "### Example 1:\n",
    "\n",
    "#### Input: \n",
    "gain = [-5,1,5,0,-7]\n",
    "#### Output: \n",
    "1\n",
    "#### Explanation: \n",
    "The altitudes are [0,-5,-4,1,1,-6]. The highest is 1.\n",
    "### Example 2:\n",
    "\n",
    "#### Input: \n",
    "gain = [-4,-3,-2,-1,4,3,2]\n",
    "#### Output: \n",
    "0\n",
    "#### Explanation: \n",
    "The altitudes are [0,-4,-7,-9,-10,-6,-3,-1]. The highest is 0.\n",
    "\n",
    "### Constraints:\n",
    "n == gain.length\n",
    "\n",
    "1 <= n <= 100\n",
    "\n",
    "-100 <= gain[i] <= 100"
   ]
  },
  {
   "cell_type": "code",
   "execution_count": 1,
   "metadata": {},
   "outputs": [],
   "source": [
    "# gain: List[int]\n",
    "# return -> int\n",
    "class Solution:\n",
    "    def largestAltitude(self, gain):\n",
    "        max_alt = 0\n",
    "        curr_alt = 0\n",
    "        \n",
    "        for i in range(len(gain)):\n",
    "            curr_alt += gain[i]\n",
    "            max_alt = max(max_alt, curr_alt)\n",
    "        \n",
    "        return max_alt"
   ]
  },
  {
   "cell_type": "code",
   "execution_count": 2,
   "metadata": {},
   "outputs": [
    {
     "data": {
      "text/plain": [
       "0"
      ]
     },
     "execution_count": 2,
     "metadata": {},
     "output_type": "execute_result"
    }
   ],
   "source": [
    "Solution.largestAltitude(Solution.largestAltitude, [-4,-3,-2,-1,4,3,2])"
   ]
  }
 ],
 "metadata": {
  "kernelspec": {
   "display_name": "Python 3.10.6 64-bit",
   "language": "python",
   "name": "python3"
  },
  "language_info": {
   "codemirror_mode": {
    "name": "ipython",
    "version": 3
   },
   "file_extension": ".py",
   "mimetype": "text/x-python",
   "name": "python",
   "nbconvert_exporter": "python",
   "pygments_lexer": "ipython3",
   "version": "3.10.6"
  },
  "orig_nbformat": 4,
  "vscode": {
   "interpreter": {
    "hash": "26de051ba29f2982a8de78e945f0abaf191376122a1563185a90213a26c5da77"
   }
  }
 },
 "nbformat": 4,
 "nbformat_minor": 2
}
