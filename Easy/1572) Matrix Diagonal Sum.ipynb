{
 "cells": [
  {
   "cell_type": "markdown",
   "metadata": {},
   "source": [
    "# MATRIX DIAGONAL SUM\n",
    "\n",
    "Given a square matrix mat, return the sum of the matrix diagonals.\n",
    "\n",
    "Only include the sum of all the elements on the primary diagonal and all the elements on the secondary diagonal that are not part of the primary diagonal.\n",
    "\n",
    "### Example 1:\n",
    "\n",
    "\n",
    "#### Input:\n",
    " mat = [[1,2,3],\n",
    "              [4,5,6],\n",
    "              [7,8,9]]\n",
    "#### Output: \n",
    "25\n",
    "#### Explanation: \n",
    "Diagonals sum: 1 + 5 + 9 + 3 + 7 = 25\n",
    "Notice that element mat[1][1] = 5 is counted only once.\n",
    "### Example 2:\n",
    "\n",
    "### Input: \n",
    "mat = [[1,1,1,1],\n",
    "              [1,1,1,1],\n",
    "              [1,1,1,1],\n",
    "              [1,1,1,1]]\n",
    "#### Output: \n",
    "8\n",
    "#### Example 3:\n",
    "\n",
    "#### Input: \n",
    "mat = [[5]]\n",
    "#### Output: \n",
    "5\n",
    " \n",
    "### Constraints:\n",
    "n == mat.length == mat[i].length\n",
    "\n",
    "1 <= n <= 100\n",
    "\n",
    "1 <= mat[i][j] <= 100"
   ]
  },
  {
   "cell_type": "code",
   "execution_count": 1,
   "metadata": {},
   "outputs": [],
   "source": [
    "# mat: List[List[int]]\n",
    "# return -> int\n",
    "class Solution:\n",
    "    def diagonalSum(self, mat):\n",
    "        n = len(mat)\n",
    "        result = 0\n",
    "\n",
    "        for row in range(n):\n",
    "            for col in range(n):\n",
    "                if row == col or row + col == n - 1:\n",
    "                    result += mat[row][col]\n",
    "                    \n",
    "        return result"
   ]
  },
  {
   "cell_type": "code",
   "execution_count": 2,
   "metadata": {},
   "outputs": [
    {
     "data": {
      "text/plain": [
       "25"
      ]
     },
     "execution_count": 2,
     "metadata": {},
     "output_type": "execute_result"
    }
   ],
   "source": [
    "Solution.diagonalSum(Solution.diagonalSum, [[1,2,3], [4,5,6], [7,8,9]])"
   ]
  }
 ],
 "metadata": {
  "kernelspec": {
   "display_name": "Python 3.10.6 64-bit",
   "language": "python",
   "name": "python3"
  },
  "language_info": {
   "codemirror_mode": {
    "name": "ipython",
    "version": 3
   },
   "file_extension": ".py",
   "mimetype": "text/x-python",
   "name": "python",
   "nbconvert_exporter": "python",
   "pygments_lexer": "ipython3",
   "version": "3.10.6"
  },
  "orig_nbformat": 4,
  "vscode": {
   "interpreter": {
    "hash": "26de051ba29f2982a8de78e945f0abaf191376122a1563185a90213a26c5da77"
   }
  }
 },
 "nbformat": 4,
 "nbformat_minor": 2
}
