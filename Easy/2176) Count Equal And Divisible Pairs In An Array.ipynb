{
 "cells": [
  {
   "cell_type": "markdown",
   "metadata": {},
   "source": [
    "# COUNT EQUAL AND DIVISIBLE PAIRS IN AN ARRAY\n",
    "\n",
    "Given a 0-indexed integer array nums of length n and an integer k, return the number of pairs (i, j) where 0 <= i < j < n, such that nums[i] == nums[j] and (i * j) is divisible by k.\n",
    " \n",
    "### Example 1:\n",
    "\n",
    "#### Input: \n",
    "nums = [3,1,2,2,2,1,3], k = 2\n",
    "#### Output: \n",
    "4\n",
    "#### Explanation:\n",
    "There are 4 pairs that meet all the requirements:\n",
    "- nums[0] == nums[6], and 0 * 6 == 0, which is divisible by 2.\n",
    "- nums[2] == nums[3], and 2 * 3 == 6, which is divisible by 2.\n",
    "- nums[2] == nums[4], and 2 * 4 == 8, which is divisible by 2.\n",
    "- nums[3] == nums[4], and 3 * 4 == 12, which is divisible by 2.\n",
    "### Example 2:\n",
    "\n",
    "#### Input: \n",
    "nums = [1,2,3,4], k = 1\n",
    "#### Output: \n",
    "0\n",
    "#### Explanation: Since no value in nums is repeated, there are no pairs (i,j) that meet all the requirements.\n",
    "### Constraints:\n",
    "1 <= nums.length <= 100\n",
    "\n",
    "1 <= nums[i], k <= 100"
   ]
  },
  {
   "cell_type": "code",
   "execution_count": 1,
   "metadata": {},
   "outputs": [],
   "source": [
    "# nums: List[int]\n",
    "# k: int\n",
    "# return -> int\n",
    "class Solution:\n",
    "    def countPairs(self, nums, k):\n",
    "        count = 0\n",
    "        length = len(nums)\n",
    "        \n",
    "        for left in range(length-1):\n",
    "            for right in range(left+1, length):\n",
    "                \n",
    "                if not (left * right) % k and nums[left] == nums[right]:\n",
    "                    count += 1\n",
    "                    \n",
    "        return count\n"
   ]
  },
  {
   "cell_type": "code",
   "execution_count": 2,
   "metadata": {},
   "outputs": [
    {
     "data": {
      "text/plain": [
       "4"
      ]
     },
     "execution_count": 2,
     "metadata": {},
     "output_type": "execute_result"
    }
   ],
   "source": [
    "Solution.countPairs(Solution.countPairs, nums = [3,1,2,2,2,1,3], k = 2)"
   ]
  }
 ],
 "metadata": {
  "kernelspec": {
   "display_name": "Python 3.10.6 64-bit",
   "language": "python",
   "name": "python3"
  },
  "language_info": {
   "codemirror_mode": {
    "name": "ipython",
    "version": 3
   },
   "file_extension": ".py",
   "mimetype": "text/x-python",
   "name": "python",
   "nbconvert_exporter": "python",
   "pygments_lexer": "ipython3",
   "version": "3.10.6"
  },
  "orig_nbformat": 4,
  "vscode": {
   "interpreter": {
    "hash": "26de051ba29f2982a8de78e945f0abaf191376122a1563185a90213a26c5da77"
   }
  }
 },
 "nbformat": 4,
 "nbformat_minor": 2
}
