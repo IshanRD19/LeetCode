{
 "cells": [
  {
   "cell_type": "markdown",
   "metadata": {},
   "source": [
    "# MINIMUM OPERATIONS TO MAKE THE ARRAY INCREASING\n",
    "\n",
    "You are given an integer array nums (0-indexed). In one operation, you can choose an element of the array and increment it by 1.\n",
    "\n",
    "For example, if nums = [1,2,3], you can choose to increment nums[1] to make nums = [1,3,3].\n",
    "Return the minimum number of operations needed to make nums strictly increasing.\n",
    "\n",
    "An array nums is strictly increasing if nums[i] < nums[i+1] for all 0 <= i < nums.length - 1. An array of length 1 is trivially strictly increasing.\n",
    "\n",
    "### Example 1:\n",
    "\n",
    "#### Input: \n",
    "nums = [1,1,1]\n",
    "#### Output: \n",
    "3\n",
    "#### Explanation: \n",
    "You can do the following operations:\n",
    "1) Increment nums[2], so nums becomes [1,1,2].\n",
    "2) Increment nums[1], so nums becomes [1,2,2].\n",
    "3) Increment nums[2], so nums becomes [1,2,3].\n",
    "### Example 2:\n",
    "\n",
    "#### Input: \n",
    "nums = [1,5,2,4,1]\n",
    "#### Output: \n",
    "14\n",
    "### Example 3:\n",
    "#### Input: \n",
    "nums = [8]\n",
    "#### Output: \n",
    "0\n",
    "### Constraints:\n",
    "1 <= nums.length <= 5000\n",
    "\n",
    "1 <= nums[i] <= 10^4"
   ]
  },
  {
   "cell_type": "code",
   "execution_count": 1,
   "metadata": {},
   "outputs": [],
   "source": [
    "# nums: List[int]\n",
    "# return -> int\n",
    "class Solution:\n",
    "    def minOperations(self, nums):\n",
    "        prev = nums[0]\n",
    "        result = 0\n",
    "        \n",
    "        for i in range(1, len(nums)):\n",
    "            \n",
    "            if prev >= nums[i]:\n",
    "                prev += 1\n",
    "                result += prev - nums[i]\n",
    "            else:\n",
    "                prev = nums[i]\n",
    "                \n",
    "        return result"
   ]
  },
  {
   "cell_type": "code",
   "execution_count": 2,
   "metadata": {},
   "outputs": [
    {
     "data": {
      "text/plain": [
       "14"
      ]
     },
     "execution_count": 2,
     "metadata": {},
     "output_type": "execute_result"
    }
   ],
   "source": [
    "Solution.minOperations(Solution.minOperations, [1,5,2,4,1])"
   ]
  }
 ],
 "metadata": {
  "kernelspec": {
   "display_name": "Python 3.10.6 64-bit",
   "language": "python",
   "name": "python3"
  },
  "language_info": {
   "codemirror_mode": {
    "name": "ipython",
    "version": 3
   },
   "file_extension": ".py",
   "mimetype": "text/x-python",
   "name": "python",
   "nbconvert_exporter": "python",
   "pygments_lexer": "ipython3",
   "version": "3.10.6"
  },
  "orig_nbformat": 4,
  "vscode": {
   "interpreter": {
    "hash": "26de051ba29f2982a8de78e945f0abaf191376122a1563185a90213a26c5da77"
   }
  }
 },
 "nbformat": 4,
 "nbformat_minor": 2
}
