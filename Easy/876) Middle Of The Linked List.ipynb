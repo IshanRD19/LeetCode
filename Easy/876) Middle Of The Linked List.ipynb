{
 "cells": [
  {
   "cell_type": "markdown",
   "metadata": {},
   "source": [
    "# MIDDLE OF THE LINKED LIST\n",
    "\n",
    "Given the head of a singly linked list, return the middle node of the linked list.\n",
    "\n",
    "If there are two middle nodes, return the second middle node.\n",
    "\n",
    "### Example 1:\n",
    "\n",
    "#### Input:\n",
    "head = [1,2,3,4,5]\n",
    "#### Output:\n",
    "[3,4,5]\n",
    "#### Explanation:\n",
    "The middle node of the list is node 3.\n",
    "### Example 2:\n",
    "#### Input:\n",
    "head = [1,2,3,4,5,6]\n",
    "#### Output:\n",
    "[4,5,6]\n",
    "#### Explanation:\n",
    "Since the list has two middle nodes with values 3 and 4, we return the second one.\n",
    "\n",
    "### Constraints:\n",
    "The number of nodes in the list is in the range [1, 100].\n",
    "\n",
    "1 <= Node.val <= 100"
   ]
  },
  {
   "cell_type": "code",
   "execution_count": 1,
   "metadata": {},
   "outputs": [],
   "source": [
    "# Definition for singly-linked list.\n",
    "# class ListNode:\n",
    "#     def __init__(self, val=0, next=None):\n",
    "#         self.val = val\n",
    "#         self.next = next\n",
    "\n",
    "# head: Optional[ListNode]\n",
    "# return -> Optional[ListNode]\n",
    "class Solution:\n",
    "    def middleNode(self, head):\n",
    "        slow, fast = head, head\n",
    "        while fast and fast.next:\n",
    "            slow = slow.next\n",
    "            fast = fast.next.next\n",
    "        return slow"
   ]
  }
 ],
 "metadata": {
  "kernelspec": {
   "display_name": "Python 3",
   "language": "python",
   "name": "python3"
  },
  "language_info": {
   "codemirror_mode": {
    "name": "ipython",
    "version": 3
   },
   "file_extension": ".py",
   "mimetype": "text/x-python",
   "name": "python",
   "nbconvert_exporter": "python",
   "pygments_lexer": "ipython3",
   "version": "3.8.3"
  }
 },
 "nbformat": 4,
 "nbformat_minor": 4
}
