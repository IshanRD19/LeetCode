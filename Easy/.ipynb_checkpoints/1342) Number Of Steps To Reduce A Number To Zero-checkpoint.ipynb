{
 "cells": [
  {
   "cell_type": "markdown",
   "metadata": {},
   "source": [
    "# NUMBER OF STEPS TO REDUCE A NUMBER TO ZERO\n",
    "\n",
    "Given an integer num, return the number of steps to reduce it to zero.\n",
    "\n",
    "In one step, if the current number is even, you have to divide it by 2, otherwise, you have to subtract 1 from it.\n",
    "\n",
    "### Example 1:\n",
    "\n",
    "#### Input:\n",
    "num = 14\n",
    "#### Output:\n",
    "6\n",
    "#### Explanation: \n",
    "Step 1) 14 is even; divide by 2 and obtain 7. \n",
    "\n",
    "Step 2) 7 is odd; subtract 1 and obtain 6.\n",
    "\n",
    "Step 3) 6 is even; divide by 2 and obtain 3. \n",
    "\n",
    "Step 4) 3 is odd; subtract 1 and obtain 2. \n",
    "\n",
    "Step 5) 2 is even; divide by 2 and obtain 1. \n",
    "\n",
    "Step 6) 1 is odd; subtract 1 and obtain 0.\n",
    "### Example 2:\n",
    "\n",
    "#### Input:\n",
    "num = 8\n",
    "#### Output:\n",
    "4\n",
    "#### Explanation: \n",
    "Step 1) 8 is even; divide by 2 and obtain 4. \n",
    "\n",
    "Step 2) 4 is even; divide by 2 and obtain 2. \n",
    "\n",
    "Step 3) 2 is even; divide by 2 and obtain 1. \n",
    "\n",
    "Step 4) 1 is odd; subtract 1 and obtain 0.\n",
    "### Example 3:\n",
    "\n",
    "#### Input:\n",
    "num = 123\n",
    "#### Output:\n",
    "12\n",
    " \n",
    "### Constraints:\n",
    "0 <= num <= 10^6"
   ]
  },
  {
   "cell_type": "code",
   "execution_count": 1,
   "metadata": {},
   "outputs": [],
   "source": [
    "# num:int\n",
    "# return -> int\n",
    "class Solution:\n",
    "    def numberOfSteps(self, num):\n",
    "        steps = 0\n",
    "\n",
    "        while num > 1:\n",
    "            \n",
    "            if num % 2:\n",
    "                num = (num - 1) // 2\n",
    "                steps += 2\n",
    "            else:\n",
    "                num = num // 2\n",
    "                steps += 1\n",
    "            \n",
    "        return steps + 1 if num else steps"
   ]
  },
  {
   "cell_type": "code",
   "execution_count": 2,
   "metadata": {},
   "outputs": [
    {
     "data": {
      "text/plain": [
       "12"
      ]
     },
     "execution_count": 2,
     "metadata": {},
     "output_type": "execute_result"
    }
   ],
   "source": [
    "Solution.numberOfSteps(Solution.numberOfSteps, 123)"
   ]
  }
 ],
 "metadata": {
  "kernelspec": {
   "display_name": "Python 3",
   "language": "python",
   "name": "python3"
  },
  "language_info": {
   "codemirror_mode": {
    "name": "ipython",
    "version": 3
   },
   "file_extension": ".py",
   "mimetype": "text/x-python",
   "name": "python",
   "nbconvert_exporter": "python",
   "pygments_lexer": "ipython3",
   "version": "3.8.3"
  }
 },
 "nbformat": 4,
 "nbformat_minor": 4
}
