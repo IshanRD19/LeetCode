{
 "cells": [
  {
   "cell_type": "markdown",
   "metadata": {},
   "source": [
    "# CREATE TARGET ARRAY IN THE GIVEN ORDER\n",
    "\n",
    "Given two arrays of integers nums and index. Your task is to create target array under the following rules:\n",
    "\n",
    "Initially target array is empty.\n",
    "From left to right read nums[i] and index[i], insert at index index[i] the value nums[i] in target array.\n",
    "Repeat the previous step until there are no elements to read in nums and index.\n",
    "Return the target array.\n",
    "\n",
    "It is guaranteed that the insertion operations will be valid.\n",
    "\n",
    "### Example 1:\n",
    "\n",
    "#### Input:\n",
    "nums = [0,1,2,3,4], index = [0,1,2,2,1]\n",
    "#### Output:\n",
    "[0,4,1,3,2]\n",
    "#### Explanation:\n",
    "nums       index     target\n",
    "\n",
    "0            0        [0]\n",
    "\n",
    "1            1        [0,1]\n",
    "\n",
    "2            2        [0,1,2]\n",
    "\n",
    "3            2        [0,1,3,2]\n",
    "\n",
    "4            1        [0,4,1,3,2]\n",
    "### Example 2:\n",
    "\n",
    "#### Input:\n",
    "nums = [1,2,3,4,0], index = [0,1,2,3,0]\n",
    "#### Output:\n",
    "[0,1,2,3,4]\n",
    "#### Explanation:\n",
    "nums       index     target\n",
    "\n",
    "1            0        [1]\n",
    "\n",
    "2            1        [1,2]\n",
    "\n",
    "3            2        [1,2,3]\n",
    "\n",
    "4            3        [1,2,3,4]\n",
    "\n",
    "0            0        [0,1,2,3,4]\n",
    "### Example 3:\n",
    "\n",
    "#### Input:\n",
    "nums = [1], index = [0]\n",
    "#### Output:\n",
    "[1]\n",
    " \n",
    "### Constraints:\n",
    "\n",
    "1 <= nums.length, index.length <= 100\n",
    "\n",
    "nums.length == index.length\n",
    "\n",
    "0 <= nums[i] <= 100\n",
    "\n",
    "0 <= index[i] <= i"
   ]
  },
  {
   "cell_type": "code",
   "execution_count": 1,
   "metadata": {},
   "outputs": [],
   "source": [
    "# nums: List[int]\n",
    "# index: List[int]\n",
    "# return -> List[int]\n",
    "class Solution:\n",
    "    def createTargetArray(self, nums, index):\n",
    "        result = []\n",
    "        \n",
    "        for i in range(len(nums)):\n",
    "            result.insert(index[i], nums[i])\n",
    "            \n",
    "        return result"
   ]
  },
  {
   "cell_type": "code",
   "execution_count": 2,
   "metadata": {},
   "outputs": [
    {
     "data": {
      "text/plain": [
       "[0, 4, 1, 3, 2]"
      ]
     },
     "execution_count": 2,
     "metadata": {},
     "output_type": "execute_result"
    }
   ],
   "source": [
    "Solution.createTargetArray(Solution.createTargetArray, [0,1,2,3,4], [0,1,2,2,1])"
   ]
  }
 ],
 "metadata": {
  "kernelspec": {
   "display_name": "Python 3",
   "language": "python",
   "name": "python3"
  },
  "language_info": {
   "codemirror_mode": {
    "name": "ipython",
    "version": 3
   },
   "file_extension": ".py",
   "mimetype": "text/x-python",
   "name": "python",
   "nbconvert_exporter": "python",
   "pygments_lexer": "ipython3",
   "version": "3.8.3"
  }
 },
 "nbformat": 4,
 "nbformat_minor": 4
}
