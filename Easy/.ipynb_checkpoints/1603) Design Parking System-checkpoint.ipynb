{
 "cells": [
  {
   "cell_type": "markdown",
   "metadata": {},
   "source": [
    "# DESIGN PARKING SYSTEM\n",
    "\n",
    "Design a parking system for a parking lot. The parking lot has three kinds of parking spaces: big, medium, and small, with a fixed number of slots for each size.\n",
    "\n",
    "Implement the ParkingSystem class:\n",
    "\n",
    "ParkingSystem(int big, int medium, int small) Initializes object of the ParkingSystem class. The number of slots for each parking space are given as part of the constructor.\n",
    "bool addCar(int carType) Checks whether there is a parking space of carType for the car that wants to get into the parking lot. carType can be of three kinds: big, medium, or small, which are represented by 1, 2, and 3 respectively. A car can only park in a parking space of its carType. If there is no space available, return false, else park the car in that size space and return true.\n",
    " \n",
    "### Example 1:\n",
    "\n",
    "#### Input\n",
    "[\"ParkingSystem\", \"addCar\", \"addCar\", \"addCar\", \"addCar\"]\n",
    "[[1, 1, 0], [1], [2], [3], [1]]\n",
    "#### Output\n",
    "[null, true, true, false, false]\n",
    "\n",
    "#### Explanation\n",
    "ParkingSystem parkingSystem = new ParkingSystem(1, 1, 0);\n",
    "\n",
    "parkingSystem.addCar(1); // return true because there is 1 available slot for a big car\n",
    "\n",
    "parkingSystem.addCar(2); // return true because there is 1 available slot for a medium car\n",
    "\n",
    "parkingSystem.addCar(3); // return false because there is no available slot for a small car\n",
    "\n",
    "parkingSystem.addCar(1); // return false because there is no available slot for a big car. It is already occupied.\n",
    " \n",
    "\n",
    "### Constraints:\n",
    "\n",
    "0 <= big, medium, small <= 1000\n",
    "\n",
    "carType is 1, 2, or 3\n",
    "\n",
    "At most 1000 calls will be made to addCar"
   ]
  },
  {
   "cell_type": "code",
   "execution_count": 1,
   "metadata": {},
   "outputs": [],
   "source": [
    "# big: int\n",
    "# medium: int\n",
    "# small: int\n",
    "# carType: int\n",
    "# return -> bool\n",
    "class ParkingSystem:\n",
    "    def __init__(self, big, medium, small):\n",
    "        self.big = big\n",
    "        self.medium = medium\n",
    "        self.small = small\n",
    "\n",
    "    def addCar(self, carType):\n",
    "        if carType == 1:\n",
    "            if self.big:\n",
    "                self.big -= 1\n",
    "                return True\n",
    "                \n",
    "        elif carType == 2:\n",
    "            if self.medium:\n",
    "                self.medium -= 1\n",
    "                return True\n",
    "\n",
    "        else:\n",
    "            if self.small:\n",
    "                self.small -= 1\n",
    "                return True\n",
    "            \n",
    "        return False\n",
    "        \n",
    "\n",
    "\n",
    "# Your ParkingSystem object will be instantiated and called as such:\n",
    "# obj = ParkingSystem(big, medium, small)\n",
    "# param_1 = obj.addCar(carType)"
   ]
  }
 ],
 "metadata": {
  "kernelspec": {
   "display_name": "Python 3",
   "language": "python",
   "name": "python3"
  },
  "language_info": {
   "codemirror_mode": {
    "name": "ipython",
    "version": 3
   },
   "file_extension": ".py",
   "mimetype": "text/x-python",
   "name": "python",
   "nbconvert_exporter": "python",
   "pygments_lexer": "ipython3",
   "version": "3.8.3"
  }
 },
 "nbformat": 4,
 "nbformat_minor": 4
}
