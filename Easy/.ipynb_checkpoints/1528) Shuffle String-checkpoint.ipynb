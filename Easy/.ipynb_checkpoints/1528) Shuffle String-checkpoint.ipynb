{
 "cells": [
  {
   "cell_type": "markdown",
   "metadata": {},
   "source": [
    "# SHUFFLE STRING\n",
    "\n",
    "You are given a string s and an integer array indices of the same length. The string s will be shuffled such that the character at the ith position moves to indices[i] in the shuffled string.\n",
    "\n",
    "Return the shuffled string.\n",
    "\n",
    "### Example 1:\n",
    "\n",
    "\n",
    "#### Input:\n",
    "s = \"codeleet\", indices = [4,5,6,7,0,2,1,3]\n",
    "#### Output:\n",
    "\"leetcode\"\n",
    "#### Explanation:\n",
    "As shown, \"codeleet\" becomes \"leetcode\" after shuffling.\n",
    "### Example 2:\n",
    "\n",
    "#### Input:\n",
    "s = \"abc\", indices = [0,1,2]\n",
    "#### Output:\n",
    "\"abc\"\n",
    "#### Explanation:\n",
    "After shuffling, each character remains in its position.\n",
    "\n",
    "### Constraints:\n",
    "\n",
    "s.length == indices.length == n\n",
    "\n",
    "1 <= n <= 100\n",
    "\n",
    "s consists of only lowercase English letters.\n",
    "\n",
    "0 <= indices[i] < n\n",
    "\n",
    "All values of indices are unique."
   ]
  },
  {
   "cell_type": "code",
   "execution_count": 1,
   "metadata": {},
   "outputs": [],
   "source": [
    "# s: str\n",
    "# indices: List[int]\n",
    "# return -> str\n",
    "class Solution:\n",
    "    def restoreString(self, s, indices):\n",
    "        result = list('-' * len(s))\n",
    "        for i in range(len(s)):\n",
    "            result[indices[i]] = s[i]\n",
    "        return ''.join(result)"
   ]
  },
  {
   "cell_type": "code",
   "execution_count": 2,
   "metadata": {},
   "outputs": [
    {
     "data": {
      "text/plain": [
       "'leetcode'"
      ]
     },
     "execution_count": 2,
     "metadata": {},
     "output_type": "execute_result"
    }
   ],
   "source": [
    "Solution.restoreString(Solution.restoreString, 'codeleet', [4,5,6,7,0,2,1,3])"
   ]
  },
  {
   "cell_type": "markdown",
   "metadata": {},
   "source": [
    "## Complexity Analysis\n",
    "\n",
    "Time Complexity: O(|s|)\n",
    "\n",
    "Space Complexity: O(|s|)"
   ]
  }
 ],
 "metadata": {
  "kernelspec": {
   "display_name": "Python 3",
   "language": "python",
   "name": "python3"
  },
  "language_info": {
   "codemirror_mode": {
    "name": "ipython",
    "version": 3
   },
   "file_extension": ".py",
   "mimetype": "text/x-python",
   "name": "python",
   "nbconvert_exporter": "python",
   "pygments_lexer": "ipython3",
   "version": "3.8.3"
  }
 },
 "nbformat": 4,
 "nbformat_minor": 4
}
