{
 "cells": [
  {
   "cell_type": "markdown",
   "metadata": {},
   "source": [
    "# ADD TWO INTEGERS\n",
    "\n",
    "Given two integers num1 and num2, return the sum of the two integers.\n",
    " \n",
    "### Example 1:\n",
    "\n",
    "#### Input:\n",
    "num1 = 12, num2 = 5\n",
    "#### Output:\n",
    "17\n",
    "#### Explanation:\n",
    "num1 is 12, num2 is 5, and their sum is 12 + 5 = 17, so 17 is returned.\n",
    "### Example 2:\n",
    "\n",
    "#### Input:\n",
    "num1 = -10, num2 = 4\n",
    "#### Output:\n",
    "-6\n",
    "#### Explanation:\n",
    "num1 + num2 = -6, so -6 is returned.\n",
    " \n",
    "\n",
    "### Constraints:\n",
    "-100 <= num1, num2 <= 100"
   ]
  },
  {
   "cell_type": "code",
   "execution_count": 1,
   "metadata": {},
   "outputs": [],
   "source": [
    "# nums1: int\n",
    "# nums1: int\n",
    "# return -> int\n",
    "class Solution:\n",
    "    def sum(self, num1, num2):\n",
    "        return num1 + num2"
   ]
  },
  {
   "cell_type": "code",
   "execution_count": 2,
   "metadata": {},
   "outputs": [
    {
     "data": {
      "text/plain": [
       "-6"
      ]
     },
     "execution_count": 2,
     "metadata": {},
     "output_type": "execute_result"
    }
   ],
   "source": [
    "Solution.sum(Solution.sum, -10, 4)"
   ]
  }
 ],
 "metadata": {
  "kernelspec": {
   "display_name": "Python 3",
   "language": "python",
   "name": "python3"
  },
  "language_info": {
   "codemirror_mode": {
    "name": "ipython",
    "version": 3
   },
   "file_extension": ".py",
   "mimetype": "text/x-python",
   "name": "python",
   "nbconvert_exporter": "python",
   "pygments_lexer": "ipython3",
   "version": "3.8.3"
  }
 },
 "nbformat": 4,
 "nbformat_minor": 4
}
