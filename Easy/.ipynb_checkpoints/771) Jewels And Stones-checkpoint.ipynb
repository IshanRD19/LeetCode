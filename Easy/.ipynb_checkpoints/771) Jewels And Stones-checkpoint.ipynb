{
 "cells": [
  {
   "cell_type": "markdown",
   "metadata": {},
   "source": [
    "# JEWELS AND STONES\n",
    "\n",
    "You're given strings jewels representing the types of stones that are jewels, and stones representing the stones you have. Each character in stones is a type of stone you have. You want to know how many of the stones you have are also jewels.\n",
    "\n",
    "Letters are case sensitive, so \"a\" is considered a different type of stone from \"A\".\n",
    "\n",
    "### Example 1:\n",
    "\n",
    "#### Input:\n",
    "jewels = \"aA\", stones = \"aAAbbbb\"\n",
    "#### Output:\n",
    "3\n",
    "### Example 2:\n",
    "\n",
    "#### Input:\n",
    "jewels = \"z\", stones = \"ZZ\"\n",
    "#### Output:\n",
    "0\n",
    " \n",
    "\n",
    "### Constraints:\n",
    "\n",
    "1 <= jewels.length, stones.length <= 50\n",
    "\n",
    "jewels and stones consist of only English letters.\n",
    "\n",
    "All the characters of jewels are unique."
   ]
  },
  {
   "cell_type": "code",
   "execution_count": 1,
   "metadata": {},
   "outputs": [],
   "source": [
    "# jewels: str\n",
    "# stones: str\n",
    "# return -> int\n",
    "class Solution:\n",
    "    def numJewelsInStones(self, jewels, stones):\n",
    "        result = 0\n",
    "        for stone in stones:\n",
    "            if stone in jewels:\n",
    "                result += 1\n",
    "        return result"
   ]
  },
  {
   "cell_type": "code",
   "execution_count": 2,
   "metadata": {},
   "outputs": [
    {
     "data": {
      "text/plain": [
       "3"
      ]
     },
     "execution_count": 2,
     "metadata": {},
     "output_type": "execute_result"
    }
   ],
   "source": [
    "Solution.numJewelsInStones(Solution.numJewelsInStones, 'aA', 'aAAbbbb')"
   ]
  },
  {
   "cell_type": "markdown",
   "metadata": {},
   "source": [
    "## Complexity Analysis\n",
    "\n",
    "Time Complexity: O(|stones| * |jewels|)\n",
    "\n",
    "Space Complexity: O(1)"
   ]
  }
 ],
 "metadata": {
  "kernelspec": {
   "display_name": "Python 3",
   "language": "python",
   "name": "python3"
  },
  "language_info": {
   "codemirror_mode": {
    "name": "ipython",
    "version": 3
   },
   "file_extension": ".py",
   "mimetype": "text/x-python",
   "name": "python",
   "nbconvert_exporter": "python",
   "pygments_lexer": "ipython3",
   "version": "3.8.3"
  }
 },
 "nbformat": 4,
 "nbformat_minor": 4
}
