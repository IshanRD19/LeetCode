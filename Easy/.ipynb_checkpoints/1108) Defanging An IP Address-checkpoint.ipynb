{
 "cells": [
  {
   "cell_type": "markdown",
   "metadata": {},
   "source": [
    "# DEFANGING AN IP ADDRESS\n",
    "\n",
    "Given a valid (IPv4) IP address, return a defanged version of that IP address.\n",
    "\n",
    "A defanged IP address replaces every period \".\" with \"[.]\".\n",
    "\n",
    "### Example 1:\n",
    "\n",
    "#### Input:\n",
    "address = \"1.1.1.1\"\n",
    "#### Output:\n",
    "\"1[.]1[.]1[.]1\"\n",
    "### Example 2:\n",
    "\n",
    "#### Input:\n",
    "address = \"255.100.50.0\"\n",
    "#### Output:\n",
    "\"255[.]100[.]50[.]0\"\n",
    "\n",
    "### Constraints:\n",
    "The given address is a valid IPv4 address."
   ]
  },
  {
   "cell_type": "code",
   "execution_count": 1,
   "metadata": {},
   "outputs": [],
   "source": [
    "# address: str\n",
    "# return -> str\n",
    "class Solution:\n",
    "    def defangIPaddr(self, address):\n",
    "        return address.replace('.', '[.]')\n",
    "        "
   ]
  },
  {
   "cell_type": "code",
   "execution_count": 2,
   "metadata": {},
   "outputs": [
    {
     "data": {
      "text/plain": [
       "'255[.]100[.]50[.]0'"
      ]
     },
     "execution_count": 2,
     "metadata": {},
     "output_type": "execute_result"
    }
   ],
   "source": [
    "Solution.defangIPaddr(Solution.defangIPaddr, '255.100.50.0')"
   ]
  },
  {
   "cell_type": "markdown",
   "metadata": {},
   "source": [
    "### Complexity Analysis\n",
    "\n",
    "Time complexity : O(n)\n",
    "\n",
    "Space complexity: O(1)"
   ]
  }
 ],
 "metadata": {
  "kernelspec": {
   "display_name": "Python 3",
   "language": "python",
   "name": "python3"
  },
  "language_info": {
   "codemirror_mode": {
    "name": "ipython",
    "version": 3
   },
   "file_extension": ".py",
   "mimetype": "text/x-python",
   "name": "python",
   "nbconvert_exporter": "python",
   "pygments_lexer": "ipython3",
   "version": "3.8.3"
  }
 },
 "nbformat": 4,
 "nbformat_minor": 4
}
