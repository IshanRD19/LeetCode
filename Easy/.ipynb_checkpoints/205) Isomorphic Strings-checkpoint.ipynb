{
 "cells": [
  {
   "cell_type": "markdown",
   "metadata": {},
   "source": [
    "# ISOMORPHIC STRINGS\n",
    "\n",
    "Given two strings s and t, determine if they are isomorphic.\n",
    "\n",
    "Two strings s and t are isomorphic if the characters in s can be replaced to get t.\n",
    "\n",
    "All occurrences of a character must be replaced with another character while preserving the order of characters. No two characters may map to the same character, but a character may map to itself.\n",
    "\n",
    "### Example 1:\n",
    "\n",
    "#### Input:\n",
    "s = \"egg\", t = \"add\"\n",
    "#### Output:\n",
    "true\n",
    "### Example 2:\n",
    "\n",
    "#### Input:\n",
    "s = \"foo\", t = \"bar\"\n",
    "#### Output:\n",
    "false\n",
    "#### Example 3:\n",
    "\n",
    "### Input:\n",
    "s = \"paper\", t = \"title\"\n",
    "### Output:\n",
    "true\n",
    "\n",
    "### Constraints:\n",
    "1 <= s.length <= 5 * 10^4\n",
    "\n",
    "t.length == s.length\n",
    "\n",
    "s and t consist of any valid ascii character."
   ]
  },
  {
   "cell_type": "code",
   "execution_count": 1,
   "metadata": {},
   "outputs": [],
   "source": [
    "# s: str\n",
    "# t: str\n",
    "# return -> bool\n",
    "class Solution:\n",
    "    def isIsomorphic(self, s, t):\n",
    "        # Check for unequal length of strings\n",
    "        if len(s) != len(t):\n",
    "            return False\n",
    "        \n",
    "        char_map = {}\n",
    "        for i in range(len(s)):\n",
    "            \n",
    "            if s[i] not in char_map:\n",
    "\n",
    "                if t[i] in char_map.values():\n",
    "                    return False\n",
    "                else:\n",
    "                    char_map[s[i]] = t[i]\n",
    "                    \n",
    "            else:\n",
    "                if char_map[s[i]] != t[i]:\n",
    "                    return False\n",
    "        \n",
    "        return True"
   ]
  },
  {
   "cell_type": "code",
   "execution_count": 2,
   "metadata": {},
   "outputs": [
    {
     "data": {
      "text/plain": [
       "True"
      ]
     },
     "execution_count": 2,
     "metadata": {},
     "output_type": "execute_result"
    }
   ],
   "source": [
    "Solution.isIsomorphic(Solution.isIsomorphic, 'paper', 'title')"
   ]
  }
 ],
 "metadata": {
  "kernelspec": {
   "display_name": "Python 3",
   "language": "python",
   "name": "python3"
  },
  "language_info": {
   "codemirror_mode": {
    "name": "ipython",
    "version": 3
   },
   "file_extension": ".py",
   "mimetype": "text/x-python",
   "name": "python",
   "nbconvert_exporter": "python",
   "pygments_lexer": "ipython3",
   "version": "3.8.3"
  }
 },
 "nbformat": 4,
 "nbformat_minor": 4
}
