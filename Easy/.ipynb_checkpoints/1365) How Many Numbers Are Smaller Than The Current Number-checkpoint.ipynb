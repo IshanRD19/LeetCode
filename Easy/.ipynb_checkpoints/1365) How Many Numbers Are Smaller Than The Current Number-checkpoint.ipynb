{
 "cells": [
  {
   "cell_type": "markdown",
   "metadata": {},
   "source": [
    "# HOW MANY NUMBERS ARE SMALLER THAN THE CURRENT NUMBER\n",
    "\n",
    "Given the array nums, for each nums[i] find out how many numbers in the array are smaller than it. That is, for each nums[i] you have to count the number of valid j's such that j != i and nums[j] < nums[i].\n",
    "\n",
    "Return the answer in an array.\n",
    "\n",
    "### Example 1:\n",
    "\n",
    "#### Input:\n",
    "nums = [8,1,2,2,3]\n",
    "#### Output:\n",
    "[4,0,1,1,3]\n",
    "#### Explanation: \n",
    "For nums[0]=8 there exist four smaller numbers than it (1, 2, 2 and 3). \n",
    "\n",
    "For nums[1]=1 does not exist any smaller number than it.\n",
    "\n",
    "For nums[2]=2 there exist one smaller number than it (1). \n",
    "\n",
    "For nums[3]=2 there exist one smaller number than it (1). \n",
    "\n",
    "For nums[4]=3 there exist three smaller numbers than it (1, 2 and 2).\n",
    "\n",
    "### Example 2:\n",
    "\n",
    "#### Input:\n",
    "nums = [6,5,4,8]\n",
    "#### Output:\n",
    "[2,1,0,3]\n",
    "### Example 3:\n",
    "\n",
    "#### Input:\n",
    "nums = [7,7,7,7]\n",
    "#### Output:\n",
    "[0,0,0,0]\n",
    "\n",
    "### Constraints:\n",
    "\n",
    "2 <= nums.length <= 500\n",
    "\n",
    "0 <= nums[i] <= 100\n",
    "\n",
    "## Approach 1: Brute Force Method"
   ]
  },
  {
   "cell_type": "code",
   "execution_count": 1,
   "metadata": {},
   "outputs": [],
   "source": [
    "# nums: List[int]\n",
    "# return -> List[int]\n",
    "class Solution:\n",
    "    def smallerNumbersThanCurrent(self, nums):\n",
    "        result = []\n",
    "        length = len(nums)\n",
    "        \n",
    "        # Pick each element\n",
    "        for i in range(length):\n",
    "            small_count = 0\n",
    "\n",
    "            # Count the smaller elements\n",
    "            for j in range(length):\n",
    "                if nums[j] < nums[i]:\n",
    "                    small_count += 1\n",
    "                    \n",
    "            result.append(small_count)\n",
    "            \n",
    "        return result"
   ]
  },
  {
   "cell_type": "code",
   "execution_count": 2,
   "metadata": {},
   "outputs": [
    {
     "data": {
      "text/plain": [
       "[4, 0, 1, 1, 3]"
      ]
     },
     "execution_count": 2,
     "metadata": {},
     "output_type": "execute_result"
    }
   ],
   "source": [
    "Solution.smallerNumbersThanCurrent(Solution.smallerNumbersThanCurrent, [8,1,2,2,3])"
   ]
  },
  {
   "cell_type": "markdown",
   "metadata": {},
   "source": [
    "## Approach 2: Faster Method"
   ]
  },
  {
   "cell_type": "code",
   "execution_count": 3,
   "metadata": {},
   "outputs": [],
   "source": [
    "# nums: List[int]\n",
    "# return -> List[int]\n",
    "class Solution:\n",
    "    def smallerNumbersThanCurrent2(self, nums):\n",
    "        result = []\n",
    "        length = len(nums)\n",
    "        small_count_map = {}\n",
    "        \n",
    "        # Sort the array\n",
    "        sorted_nums = sorted(nums)\n",
    "        \n",
    "        # Create a map of small element count for each unique value\n",
    "        for i in range(length):\n",
    "            if sorted_nums[i] not in small_count_map:\n",
    "                small_count_map[sorted_nums[i]] = i\n",
    "        \n",
    "        # Prepare the results with count of smaller numbers\n",
    "        for i in range(length):\n",
    "            result.append(small_count_map[nums[i]])\n",
    "\n",
    "        return result"
   ]
  },
  {
   "cell_type": "code",
   "execution_count": 4,
   "metadata": {},
   "outputs": [
    {
     "data": {
      "text/plain": [
       "[4, 0, 1, 1, 3]"
      ]
     },
     "execution_count": 4,
     "metadata": {},
     "output_type": "execute_result"
    }
   ],
   "source": [
    "Solution.smallerNumbersThanCurrent2(Solution.smallerNumbersThanCurrent2, [8,1,2,2,3])"
   ]
  }
 ],
 "metadata": {
  "kernelspec": {
   "display_name": "Python 3",
   "language": "python",
   "name": "python3"
  },
  "language_info": {
   "codemirror_mode": {
    "name": "ipython",
    "version": 3
   },
   "file_extension": ".py",
   "mimetype": "text/x-python",
   "name": "python",
   "nbconvert_exporter": "python",
   "pygments_lexer": "ipython3",
   "version": "3.8.3"
  }
 },
 "nbformat": 4,
 "nbformat_minor": 4
}
