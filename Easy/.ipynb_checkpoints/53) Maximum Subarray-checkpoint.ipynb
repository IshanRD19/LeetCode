{
 "cells": [
  {
   "cell_type": "markdown",
   "metadata": {},
   "source": [
    "# MAXIMUM SUBARRAY\n",
    "\n",
    "Given an integer array nums, find the contiguous subarray (containing at least one number) which has the largest sum and return its sum.\n",
    "\n",
    "A subarray is a contiguous part of an array.\n",
    "\n",
    "### Example 1:\n",
    "Input: nums = [-2,1,-3,4,-1,2,1,-5,4]\n",
    "\n",
    "Output: 6\n",
    "\n",
    "Explanation: [4,-1,2,1] has the largest sum = 6.\n",
    "\n",
    "### Example 2:\n",
    "Input: nums = [1]\n",
    "\n",
    "Output: 1\n",
    "\n",
    "### Example 3:\n",
    "Input: nums = [5,4,-1,7,8]\n",
    "\n",
    "Output: 23\n",
    "\n",
    "### Constraints:\n",
    "1 <= nums.length <= 10^5\n",
    "\n",
    "-10^4 <= nums[i] <= 10^4"
   ]
  },
  {
   "cell_type": "markdown",
   "metadata": {},
   "source": [
    "## Approach 1: Brute Force"
   ]
  },
  {
   "cell_type": "code",
   "execution_count": 1,
   "metadata": {},
   "outputs": [],
   "source": [
    "# nums: List[int]\n",
    "# return -> int\n",
    "class Solution:\n",
    "    def maxSubArray(self, nums):\n",
    "        \n",
    "        # Check for empty or missing (null) integer array\n",
    "        if not nums:\n",
    "            return 0\n",
    "        \n",
    "        max_subarray_sum = nums[0]\n",
    "        \n",
    "        # Iterate over each integer and set it as starting point of max subarray\n",
    "        for i in range(len(nums)):\n",
    "\n",
    "            j = i\n",
    "\n",
    "            # Iterate over each integer to the right of starting point of potential max subarray\n",
    "            for j in range(len(nums)):\n",
    "\n",
    "                running_sum = 0\n",
    "                k = i\n",
    "                \n",
    "                # Iterate over each integer to from i to j and calculate the sum of subarray\n",
    "                while k <= j:\n",
    "                    running_sum += nums[k]\n",
    "                    k += 1\n",
    "                \n",
    "                # Compare and update the max subarray sum, if applicable\n",
    "                max_subarray_sum = max(running_sum, max_subarray_sum)\n",
    "                    \n",
    "        return max_subarray_sum"
   ]
  },
  {
   "cell_type": "code",
   "execution_count": 2,
   "metadata": {},
   "outputs": [
    {
     "data": {
      "text/plain": [
       "6"
      ]
     },
     "execution_count": 2,
     "metadata": {},
     "output_type": "execute_result"
    }
   ],
   "source": [
    "nums = [-2, 1, -3, 4, -1, 2, 1, -5, 4]\n",
    "Solution.maxSubArray(Solution.maxSubArray, nums)"
   ]
  },
  {
   "cell_type": "markdown",
   "metadata": {},
   "source": [
    "### Complexity Analysis\n",
    "\n",
    "Time Complexity: O(n^3)\n",
    "\n",
    "## Approach 2: Improved Brute Force"
   ]
  },
  {
   "cell_type": "code",
   "execution_count": 3,
   "metadata": {},
   "outputs": [],
   "source": [
    "# nums: List[int]\n",
    "# return -> int\n",
    "class Solution:\n",
    "    def maxSubArray2(self, nums):\n",
    "        \n",
    "        # Check for empty or missing (null) integer array\n",
    "        if not nums:\n",
    "            return 0\n",
    "        \n",
    "        max_subarray_sum = nums[0]\n",
    "        \n",
    "        # Iterate over each integer and set it as starting point of max subarray\n",
    "        for i in range(len(nums)):\n",
    "\n",
    "            running_sum = 0\n",
    "            j = i\n",
    "\n",
    "            # Iterate over each integer towards right of i and calculate the sum of subarray\n",
    "            while j < len(nums):\n",
    "\n",
    "                running_sum += nums[j]\n",
    "                \n",
    "                # Compare (and update) the max subarray sum\n",
    "                max_subarray_sum = max(running_sum, max_subarray_sum)\n",
    "                \n",
    "                j += 1\n",
    "                    \n",
    "        return max_subarray_sum"
   ]
  },
  {
   "cell_type": "code",
   "execution_count": 4,
   "metadata": {},
   "outputs": [
    {
     "data": {
      "text/plain": [
       "6"
      ]
     },
     "execution_count": 4,
     "metadata": {},
     "output_type": "execute_result"
    }
   ],
   "source": [
    "nums = [-2, 1, -3, 4, -1, 2, 1, -5, 4]\n",
    "Solution.maxSubArray2(Solution.maxSubArray2, nums)"
   ]
  },
  {
   "cell_type": "markdown",
   "metadata": {},
   "source": [
    "### Complexity Analysis\n",
    "\n",
    "Time Complexity: O(n^2)\n",
    "\n",
    "## Approach 3: Divide and Conquer"
   ]
  },
  {
   "cell_type": "code",
   "execution_count": 5,
   "metadata": {},
   "outputs": [],
   "source": [
    "# A Divide and Conquer based program for maximum subarray sum problem\n",
    "# Find the maximum possible sum in arr[] such that arr[m] is part of it\n",
    " \n",
    "def maxCrossingSum(nums, left, middle, right):\n",
    " \n",
    "    # Include elements on left of mid.\n",
    "    running_sum = 0\n",
    "    max_left_subarray_sum = -10000\n",
    " \n",
    "    for i in range(middle, left - 1, -1):\n",
    "        running_sum += nums[i]\n",
    " \n",
    "        if (running_sum > max_left_subarray_sum):\n",
    "            max_left_subarray_sum = running_sum\n",
    " \n",
    "    # Include elements on right of mid\n",
    "    running_sum = 0\n",
    "    max_right_subarray_sum = -1000\n",
    "\n",
    "    for i in range(middle + 1, right + 1):\n",
    "        running_sum += nums[i]\n",
    " \n",
    "        if (running_sum > max_right_subarray_sum):\n",
    "            max_right_subarray_sum = running_sum\n",
    " \n",
    "    # Return sum of elements on left and right of mid\n",
    "    # Returning only left_sum + right_sum will fail for [-2, 1]\n",
    "    return max(max_left_subarray_sum + max_right_subarray_sum, max_left_subarray_sum, max_right_subarray_sum)\n",
    " \n",
    "\n",
    "# Returns sum of maximum sum subarray in aa[l..h]\n",
    "def maxSubArraySum(nums, left, right):\n",
    " \n",
    "    # Check for exit condition, i.e. only one element\n",
    "    if (left == right):\n",
    "        return nums[left]\n",
    " \n",
    "    # Find middle point\n",
    "    middle = (left + right) // 2\n",
    " \n",
    "    # Return maximum of following three possible cases\n",
    "    # a) Maximum subarray sum in left half\n",
    "    # b) Maximum subarray sum in right half\n",
    "    # c) Maximum subarray sum such that the subarray crosses the midpoint\n",
    "    return max(maxSubArraySum(nums, left, middle),\n",
    "               maxSubArraySum(nums, middle + 1, right),\n",
    "               maxCrossingSum(nums, left, middle, right))\n",
    " "
   ]
  },
  {
   "cell_type": "code",
   "execution_count": 6,
   "metadata": {},
   "outputs": [
    {
     "data": {
      "text/plain": [
       "6"
      ]
     },
     "execution_count": 6,
     "metadata": {},
     "output_type": "execute_result"
    }
   ],
   "source": [
    "nums = [-2, 1, -3, 4, -1, 2, 1, -5, 4]\n",
    "maxSubArraySum(nums, 0, len(nums) - 1)"
   ]
  },
  {
   "cell_type": "markdown",
   "metadata": {},
   "source": [
    "### Complexity Analysis\n",
    "\n",
    "Time Complexity: O(n logn)\n",
    "\n",
    "Space Complexity: O(n) (?)\n",
    "\n",
    "## Approach 4: Dynamic Programming\n",
    "\n",
    "Instead of using each index as the starting position of subarray in the brute-force approach, DP approach uses each index as the ending point, so that when calculating sum of the next subarray, the algorithm can take advantage of the previous calculations. "
   ]
  },
  {
   "cell_type": "code",
   "execution_count": 7,
   "metadata": {},
   "outputs": [],
   "source": [
    "# nums: List[int]\n",
    "# return -> int\n",
    "class Solution:\n",
    "    def maxSubArray4(self, nums):\n",
    "        \n",
    "        # Check for empty or missing (null) integer array\n",
    "        if not nums:\n",
    "            return 0\n",
    "        \n",
    "        running_sum = [nums[0]]\n",
    "        \n",
    "        # Traverse through the integer array\n",
    "        for i in range(1, len(nums)):\n",
    "            \n",
    "            # Find and append the running sum for current index i\n",
    "            running_sum.append(max(running_sum[i-1] + nums[i], nums[i]))\n",
    "            \n",
    "        return max(running_sum)"
   ]
  },
  {
   "cell_type": "code",
   "execution_count": 8,
   "metadata": {},
   "outputs": [
    {
     "data": {
      "text/plain": [
       "6"
      ]
     },
     "execution_count": 8,
     "metadata": {},
     "output_type": "execute_result"
    }
   ],
   "source": [
    "nums = [-2, 1, -3, 4, -1, 2, 1, -5, 4]\n",
    "Solution.maxSubArray4(Solution.maxSubArray4, nums)"
   ]
  },
  {
   "cell_type": "markdown",
   "metadata": {},
   "source": [
    "### Complexity Analysis\n",
    "\n",
    "Time Complexity: O(n)\n",
    "\n",
    "Space Complexity: O(n)\n",
    "\n",
    "## Approach 5: Kadane's Algorithm"
   ]
  },
  {
   "cell_type": "code",
   "execution_count": 9,
   "metadata": {},
   "outputs": [],
   "source": [
    "# nums: List[int]\n",
    "# return -> int\n",
    "class Solution:\n",
    "    def maxSubArray5(self, nums):\n",
    "        \n",
    "        # Since the integer array is non-empty\n",
    "        max_subarray_sum = running_sum = nums[0]\n",
    "        \n",
    "        # Traverse through the integer array\n",
    "        for num in nums[1:]:\n",
    "            \n",
    "            # Do not consider the non-positive sum for future running sum as it will lower the future running sum \n",
    "            running_sum = running_sum if running_sum > 0 else 0\n",
    "\n",
    "            # Update the running sum\n",
    "            running_sum += num\n",
    "            \n",
    "            # Compare the running sum with the known max subarray sum\n",
    "            max_subarray_sum = max(max_subarray_sum, running_sum)\n",
    "                \n",
    "        return max_subarray_sum"
   ]
  },
  {
   "cell_type": "code",
   "execution_count": 10,
   "metadata": {},
   "outputs": [
    {
     "data": {
      "text/plain": [
       "6"
      ]
     },
     "execution_count": 10,
     "metadata": {},
     "output_type": "execute_result"
    }
   ],
   "source": [
    "nums = [-2, 1, -3, 4, -1, 2, 1, -5, 4]\n",
    "Solution.maxSubArray5(Solution.maxSubArray5, nums)"
   ]
  },
  {
   "cell_type": "markdown",
   "metadata": {},
   "source": [
    "### Complexity Analysis\n",
    "\n",
    "Time Complexity: O(n)\n",
    "\n",
    "Space Complexity: O(1)\n"
   ]
  }
 ],
 "metadata": {
  "kernelspec": {
   "display_name": "Python 3",
   "language": "python",
   "name": "python3"
  },
  "language_info": {
   "codemirror_mode": {
    "name": "ipython",
    "version": 3
   },
   "file_extension": ".py",
   "mimetype": "text/x-python",
   "name": "python",
   "nbconvert_exporter": "python",
   "pygments_lexer": "ipython3",
   "version": "3.8.3"
  }
 },
 "nbformat": 4,
 "nbformat_minor": 4
}
