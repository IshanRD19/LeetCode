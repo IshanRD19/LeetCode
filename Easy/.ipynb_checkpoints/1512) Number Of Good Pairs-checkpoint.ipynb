{
 "cells": [
  {
   "cell_type": "markdown",
   "metadata": {},
   "source": [
    "# NUMBER OF GOOD PAIRS\n",
    "\n",
    "Given an array of integers nums, return the number of good pairs.\n",
    "\n",
    "A pair (i, j) is called good if nums[i] == nums[j] and i < j.\n",
    "\n",
    "### Example 1:\n",
    "\n",
    "#### Input:\n",
    "nums = [1,2,3,1,1,3]\n",
    "#### Output:\n",
    "4\n",
    "#### Explanation:\n",
    "There are 4 good pairs (0,3), (0,4), (3,4), (2,5) 0-indexed.\n",
    "### Example 2:\n",
    "\n",
    "#### Input:\n",
    "nums = [1,1,1,1]\n",
    "#### Output:\n",
    "6\n",
    "#### Explanation:\n",
    "Each pair in the array are good.\n",
    "### Example 3:\n",
    "\n",
    "#### Input:\n",
    "nums = [1,2,3]\n",
    "#### Output:\n",
    "0\n",
    " \n",
    "\n",
    "### Constraints:\n",
    "\n",
    "1 <= nums.length <= 100\n",
    "\n",
    "1 <= nums[i] <= 100\n",
    "\n",
    "## Approach 1: Space Efficient Method"
   ]
  },
  {
   "cell_type": "code",
   "execution_count": 1,
   "metadata": {},
   "outputs": [],
   "source": [
    "# nums: List[int]\n",
    "# return -> int\n",
    "class Solution:\n",
    "    def numIdenticalPairs(self, nums):\n",
    "        length = len(nums)\n",
    "        good_pair_count = 0\n",
    "        \n",
    "        for i in range(length):\n",
    "            for j in range(i+1, length):\n",
    "                \n",
    "                if nums[i] == nums[j]:\n",
    "                    good_pair_count += 1\n",
    "                    \n",
    "        return good_pair_count"
   ]
  },
  {
   "cell_type": "code",
   "execution_count": 2,
   "metadata": {},
   "outputs": [
    {
     "data": {
      "text/plain": [
       "4"
      ]
     },
     "execution_count": 2,
     "metadata": {},
     "output_type": "execute_result"
    }
   ],
   "source": [
    "Solution.numIdenticalPairs(Solution.numIdenticalPairs, [1,2,3,1,1,3])"
   ]
  },
  {
   "cell_type": "markdown",
   "metadata": {},
   "source": [
    "## Approach 2: Time Efficient Method"
   ]
  },
  {
   "cell_type": "code",
   "execution_count": 3,
   "metadata": {},
   "outputs": [],
   "source": [
    "# nums: List[int]\n",
    "# return -> int\n",
    "class Solution:\n",
    "    def numIdenticalPairs2(self, nums):\n",
    "        count_map = {}\n",
    "        good_pair_count = 0\n",
    "        \n",
    "        # Store the count of each element\n",
    "        for i in range(len(nums)):\n",
    "            if nums[i] in count_map:\n",
    "                count_map[nums[i]] += 1\n",
    "            else:\n",
    "                count_map[nums[i]] = 1\n",
    "                \n",
    "        # Find the count of good pairs\n",
    "        for k, v in count_map.items():\n",
    "            good_pair_count += v * (v-1) // 2\n",
    "                    \n",
    "        return good_pair_count"
   ]
  },
  {
   "cell_type": "code",
   "execution_count": 4,
   "metadata": {},
   "outputs": [
    {
     "data": {
      "text/plain": [
       "4"
      ]
     },
     "execution_count": 4,
     "metadata": {},
     "output_type": "execute_result"
    }
   ],
   "source": [
    "Solution.numIdenticalPairs2(Solution.numIdenticalPairs2, [1,2,3,1,1,3])"
   ]
  }
 ],
 "metadata": {
  "kernelspec": {
   "display_name": "Python 3",
   "language": "python",
   "name": "python3"
  },
  "language_info": {
   "codemirror_mode": {
    "name": "ipython",
    "version": 3
   },
   "file_extension": ".py",
   "mimetype": "text/x-python",
   "name": "python",
   "nbconvert_exporter": "python",
   "pygments_lexer": "ipython3",
   "version": "3.8.3"
  }
 },
 "nbformat": 4,
 "nbformat_minor": 4
}
