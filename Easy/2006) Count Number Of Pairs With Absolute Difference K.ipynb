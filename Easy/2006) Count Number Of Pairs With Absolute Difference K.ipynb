{
 "cells": [
  {
   "cell_type": "markdown",
   "metadata": {},
   "source": [
    "# COUNT NUMBER OF PAIRS WITH ABSOLUTE DIFFERENCE K\n",
    "\n",
    "Given an integer array nums and an integer k, return the number of pairs (i, j) where i < j such that |nums[i] - nums[j]| == k.\n",
    "\n",
    "The value of |x| is defined as:\n",
    "\n",
    "- x if x >= 0.\n",
    "- -x if x < 0.\n",
    "\n",
    "### Example 1:\n",
    "\n",
    "#### Input: \n",
    "nums = [1,2,2,1], k = 1\n",
    "#### Output: \n",
    "4\n",
    "#### Explanation: \n",
    "The pairs with an absolute difference of 1 are:\n",
    "- [1,2,2,1]\n",
    "- [1,2,2,1]\n",
    "- [1,2,2,1]\n",
    "- [1,2,2,1]\n",
    "### Example 2:\n",
    "\n",
    "#### Input: \n",
    "nums = [1,3], k = 3\n",
    "#### Output: \n",
    "0\n",
    "#### Explanation: \n",
    "There are no pairs with an absolute difference of 3.\n",
    "### Example 3:\n",
    "\n",
    "#### Input: \n",
    "nums = [3,2,1,5,4], k = 2\n",
    "#### Output: \n",
    "3\n",
    "#### Explanation: \n",
    "The pairs with an absolute difference of 2 are:\n",
    "- [3,2,1,5,4]\n",
    "- [3,2,1,5,4]\n",
    "- [3,2,1,5,4]\n",
    " \n",
    "### Constraints:\n",
    "1 <= nums.length <= 200\n",
    "\n",
    "1 <= nums[i] <= 100\n",
    "\n",
    "1 <= k <= 99\n",
    "\n",
    "## Approach 1: Naive Method"
   ]
  },
  {
   "cell_type": "code",
   "execution_count": 7,
   "metadata": {},
   "outputs": [],
   "source": [
    "# nums: List[int]\n",
    "# k: int\n",
    "# return -> int\n",
    "class Solution:\n",
    "    def countKDifference(self, nums, k):\n",
    "        count = 0\n",
    "        length = len(nums)\n",
    "        \n",
    "        for left in range(length-1):\n",
    "            \n",
    "            for right in range(left+1, length):\n",
    "                \n",
    "                if abs(nums[left] - nums[right]) == k:\n",
    "                    count += 1\n",
    "        \n",
    "        return count"
   ]
  },
  {
   "cell_type": "code",
   "execution_count": 8,
   "metadata": {},
   "outputs": [
    {
     "data": {
      "text/plain": [
       "3"
      ]
     },
     "execution_count": 8,
     "metadata": {},
     "output_type": "execute_result"
    }
   ],
   "source": [
    "Solution.countKDifference(Solution.countKDifference, nums = [3,2,1,5,4], k = 2)"
   ]
  },
  {
   "cell_type": "markdown",
   "metadata": {},
   "source": [
    "## Approach 2: Use HashMap"
   ]
  },
  {
   "cell_type": "code",
   "execution_count": 9,
   "metadata": {},
   "outputs": [],
   "source": [
    "# nums: List[int]\n",
    "# k: int\n",
    "# return -> int\n",
    "class Solution:\n",
    "    def countKDifference(self, nums, k):\n",
    "        nums_count = {}\n",
    "        result = 0\n",
    "\n",
    "        # Count occurence of each element\n",
    "        for i in range(len(nums)):\n",
    "            if nums[i] in nums_count:\n",
    "                nums_count[nums[i]] += 1\n",
    "            else:\n",
    "                nums_count[nums[i]] = 1\n",
    "\n",
    "        # For each element\n",
    "        for i in nums:\n",
    "\n",
    "            # Check if its compliment exists\n",
    "            if (i + k) in nums_count:\n",
    "                result += nums_count[i+k]\n",
    "\n",
    "        return result"
   ]
  },
  {
   "cell_type": "code",
   "execution_count": 10,
   "metadata": {},
   "outputs": [
    {
     "data": {
      "text/plain": [
       "3"
      ]
     },
     "execution_count": 10,
     "metadata": {},
     "output_type": "execute_result"
    }
   ],
   "source": [
    "Solution.countKDifference(Solution.countKDifference, nums = [3,2,1,5,4], k = 2)"
   ]
  }
 ],
 "metadata": {
  "kernelspec": {
   "display_name": "Python 3.10.6 64-bit",
   "language": "python",
   "name": "python3"
  },
  "language_info": {
   "codemirror_mode": {
    "name": "ipython",
    "version": 3
   },
   "file_extension": ".py",
   "mimetype": "text/x-python",
   "name": "python",
   "nbconvert_exporter": "python",
   "pygments_lexer": "ipython3",
   "version": "3.10.6"
  },
  "orig_nbformat": 4,
  "vscode": {
   "interpreter": {
    "hash": "26de051ba29f2982a8de78e945f0abaf191376122a1563185a90213a26c5da77"
   }
  }
 },
 "nbformat": 4,
 "nbformat_minor": 2
}
