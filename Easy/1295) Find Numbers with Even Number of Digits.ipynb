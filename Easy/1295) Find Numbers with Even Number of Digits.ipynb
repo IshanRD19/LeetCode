{
 "cells": [
  {
   "cell_type": "markdown",
   "metadata": {},
   "source": [
    "# FIND NUMBERS WITH EVEN NUMBER OF DIGITS\n",
    "\n",
    "Given an array nums of integers, return how many of them contain an even number of digits.\n",
    " \n",
    "\n",
    "### Example 1:\n",
    "\n",
    "Input: nums = [12,345,2,6,7896]\n",
    "\n",
    "Output: 2\n",
    "\n",
    "Explanation: \n",
    "\n",
    "12 contains 2 digits (even number of digits). \n",
    "\n",
    "345 contains 3 digits (odd number of digits). \n",
    "\n",
    "2 contains 1 digit (odd number of digits). \n",
    "\n",
    "6 contains 1 digit (odd number of digits). \n",
    "\n",
    "7896 contains 4 digits (even number of digits). \n",
    "\n",
    "Therefore only 12 and 7896 contain an even number of digits.\n",
    "\n",
    "### Example 2:\n",
    "\n",
    "Input: nums = [555,901,482,1771]\n",
    "\n",
    "Output: 1 \n",
    "\n",
    "Explanation: \n",
    "\n",
    "Only 1771 contains an even number of digits.\n",
    " \n",
    "\n",
    "### Constraints:\n",
    "\n",
    "1 <= nums.length <= 500\n",
    "\n",
    "1 <= nums[i] <= 10^5"
   ]
  },
  {
   "cell_type": "markdown",
   "metadata": {},
   "source": [
    "## Approach 1: Iterative For loop"
   ]
  },
  {
   "cell_type": "code",
   "execution_count": 1,
   "metadata": {},
   "outputs": [],
   "source": [
    "# nums: List[int]\n",
    "# return: int\n",
    "class Solution:\n",
    "    def findNumbers(self, nums):\n",
    "        result = 0\n",
    "        \n",
    "        for i in range(len(nums)):\n",
    "            result = result + 1 if not len(str(nums[i])) % 2 else result \n",
    "\n",
    "        return result"
   ]
  },
  {
   "cell_type": "code",
   "execution_count": 2,
   "metadata": {},
   "outputs": [
    {
     "data": {
      "text/plain": [
       "2"
      ]
     },
     "execution_count": 2,
     "metadata": {},
     "output_type": "execute_result"
    }
   ],
   "source": [
    "Solution.findNumbers(Solution.findNumbers, [12,345,2,6,7896])"
   ]
  },
  {
   "cell_type": "markdown",
   "metadata": {},
   "source": [
    "## Approach 2: In-line Summation"
   ]
  },
  {
   "cell_type": "code",
   "execution_count": 3,
   "metadata": {},
   "outputs": [],
   "source": [
    "# nums: List[int]\n",
    "# return: int\n",
    "class Solution:\n",
    "    def findNumbers2(self, nums):\n",
    "        result = sum([len(str(i)) % 2 == 0 for i in nums]) \n",
    "        return result"
   ]
  },
  {
   "cell_type": "code",
   "execution_count": 4,
   "metadata": {},
   "outputs": [
    {
     "data": {
      "text/plain": [
       "1"
      ]
     },
     "execution_count": 4,
     "metadata": {},
     "output_type": "execute_result"
    }
   ],
   "source": [
    "Solution.findNumbers2(Solution.findNumbers2, [555,901,482,1771])"
   ]
  },
  {
   "cell_type": "markdown",
   "metadata": {},
   "source": [
    "## Complexity analysis\n",
    "\n",
    "Time complextiy : O(n). Assume that n is the length of array.\n",
    "\n",
    "Space complexity : O(1)."
   ]
  }
 ],
 "metadata": {
  "kernelspec": {
   "display_name": "Python 3",
   "language": "python",
   "name": "python3"
  },
  "language_info": {
   "codemirror_mode": {
    "name": "ipython",
    "version": 3
   },
   "file_extension": ".py",
   "mimetype": "text/x-python",
   "name": "python",
   "nbconvert_exporter": "python",
   "pygments_lexer": "ipython3",
   "version": "3.8.3"
  }
 },
 "nbformat": 4,
 "nbformat_minor": 4
}
