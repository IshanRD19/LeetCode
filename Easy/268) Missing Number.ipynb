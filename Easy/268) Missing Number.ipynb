{
 "cells": [
  {
   "cell_type": "markdown",
   "metadata": {},
   "source": [
    "# MISSING NUMBER\n",
    "\n",
    "Given an array nums containing n distinct numbers in the range [0, n], return the only number in the range that is missing from the array.\n",
    "\n",
    "### Example 1:\n",
    "\n",
    "#### Input: \n",
    "nums = [3,0,1]\n",
    "#### Output: \n",
    "2\n",
    "#### Explanation: \n",
    "n = 3 since there are 3 numbers, so all numbers are in the range [0,3]. 2 is the missing number in the range since it does not appear in nums.\n",
    "### Example 2:\n",
    "\n",
    "#### Input: \n",
    "nums = [0,1]\n",
    "#### Output: \n",
    "2\n",
    "#### Explanation: \n",
    "n = 2 since there are 2 numbers, so all numbers are in the range [0,2]. 2 is the missing number in the range since it does not appear in nums.\n",
    "### Example 3:\n",
    "\n",
    "#### Input: \n",
    "nums = [9,6,4,2,3,5,7,0,1]\n",
    "#### Output: \n",
    "8\n",
    "#### Explanation: \n",
    "n = 9 since there are 9 numbers, so all numbers are in the range [0,9]. 8 is the missing number in the range since it does not appear in nums.\n",
    " \n",
    "\n",
    "### Constraints:\n",
    "n == nums.length\n",
    "\n",
    "1 <= n <= 10^4\n",
    "\n",
    "0 <= nums[i] <= n\n",
    "\n",
    "All the numbers of nums are unique.\n",
    " \n",
    "**Follow up:** Could you implement a solution using only O(1) extra space complexity and O(n) runtime complexity?"
   ]
  },
  {
   "cell_type": "code",
   "execution_count": 1,
   "metadata": {},
   "outputs": [],
   "source": [
    "class Solution:\n",
    "    # nums: List[int]\n",
    "    # return -> int\n",
    "    def missingNumber(self, nums):\n",
    "        n = len(nums) + 1\n",
    "        return (n * (n - 1) // 2) - sum(nums)"
   ]
  },
  {
   "cell_type": "code",
   "execution_count": 2,
   "metadata": {},
   "outputs": [
    {
     "data": {
      "text/plain": [
       "2"
      ]
     },
     "execution_count": 2,
     "metadata": {},
     "output_type": "execute_result"
    }
   ],
   "source": [
    "Solution.missingNumber(Solution.missingNumber, [3,0,1])"
   ]
  }
 ],
 "metadata": {
  "kernelspec": {
   "display_name": "Python 3.10.6 64-bit",
   "language": "python",
   "name": "python3"
  },
  "language_info": {
   "codemirror_mode": {
    "name": "ipython",
    "version": 3
   },
   "file_extension": ".py",
   "mimetype": "text/x-python",
   "name": "python",
   "nbconvert_exporter": "python",
   "pygments_lexer": "ipython3",
   "version": "3.10.6"
  },
  "orig_nbformat": 4,
  "vscode": {
   "interpreter": {
    "hash": "26de051ba29f2982a8de78e945f0abaf191376122a1563185a90213a26c5da77"
   }
  }
 },
 "nbformat": 4,
 "nbformat_minor": 2
}
