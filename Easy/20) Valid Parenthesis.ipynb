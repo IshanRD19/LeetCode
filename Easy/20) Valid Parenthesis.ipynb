{
 "cells": [
  {
   "cell_type": "markdown",
   "metadata": {},
   "source": [
    "# VALID PARENTHESIS\n",
    "\n",
    "Given a string s containing just the characters '(', ')', '{', '}', '[' and ']', determine if the input string is valid.\n",
    "\n",
    "An input string is valid if:\n",
    "\n",
    "Open brackets must be closed by the same type of brackets.\n",
    "Open brackets must be closed in the correct order.\n",
    "\n",
    "### Example 1:\n",
    "\n",
    "#### Input:\n",
    "s = \"()\"\n",
    "#### Output:\n",
    "true\n",
    "### Example 2:\n",
    "\n",
    "#### Input:\n",
    "s = \"()[]{}\"\n",
    "#### Output:\n",
    "true\n",
    "### Example 3:\n",
    "\n",
    "#### Input:\n",
    "s = \"(]\"\n",
    "#### Output:\n",
    "false\n",
    " \n",
    "\n",
    "### Constraints:\n",
    "\n",
    "1 <= s.length <= 10^4\n",
    "\n",
    "s consists of parentheses only '()[]{}'."
   ]
  },
  {
   "cell_type": "code",
   "execution_count": 1,
   "metadata": {},
   "outputs": [],
   "source": [
    "# s: str\n",
    "# return -> bool\n",
    "class Solution:\n",
    "    def isValid(self, s):\n",
    "        stack = []\n",
    "        length = len(s)\n",
    "        pairs = {')': '(', '}': '{', ']': '['}\n",
    "        \n",
    "        for i in range(length):\n",
    "            \n",
    "            if s[i] in ['(', '{', '[']:\n",
    "                stack.append(s[i])\n",
    "            \n",
    "            elif stack and pairs[s[i]] == stack[-1]:\n",
    "                stack.pop()\n",
    "\n",
    "            else:\n",
    "                return False\n",
    "        \n",
    "        return False if stack else True"
   ]
  },
  {
   "cell_type": "code",
   "execution_count": 2,
   "metadata": {},
   "outputs": [
    {
     "data": {
      "text/plain": [
       "False"
      ]
     },
     "execution_count": 2,
     "metadata": {},
     "output_type": "execute_result"
    }
   ],
   "source": [
    "Solution.isValid(Solution.isValid, '(]')"
   ]
  }
 ],
 "metadata": {
  "kernelspec": {
   "display_name": "Python 3.10.6 64-bit",
   "language": "python",
   "name": "python3"
  },
  "language_info": {
   "codemirror_mode": {
    "name": "ipython",
    "version": 3
   },
   "file_extension": ".py",
   "mimetype": "text/x-python",
   "name": "python",
   "nbconvert_exporter": "python",
   "pygments_lexer": "ipython3",
   "version": "3.10.6"
  },
  "vscode": {
   "interpreter": {
    "hash": "26de051ba29f2982a8de78e945f0abaf191376122a1563185a90213a26c5da77"
   }
  }
 },
 "nbformat": 4,
 "nbformat_minor": 4
}
