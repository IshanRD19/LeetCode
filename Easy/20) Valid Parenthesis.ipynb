{
 "cells": [
  {
   "cell_type": "markdown",
   "metadata": {},
   "source": [
    "# VALID PARENTHESIS\n",
    "\n",
    "Given a string s containing just the characters '(', ')', '{', '}', '[' and ']', determine if the input string is valid.\n",
    "\n",
    "An input string is valid if:\n",
    "\n",
    "Open brackets must be closed by the same type of brackets.\n",
    "Open brackets must be closed in the correct order.\n",
    "\n",
    "### Example 1:\n",
    "\n",
    "#### Input:\n",
    "s = \"()\"\n",
    "#### Output:\n",
    "true\n",
    "### Example 2:\n",
    "\n",
    "#### Input:\n",
    "s = \"()[]{}\"\n",
    "#### Output:\n",
    "true\n",
    "### Example 3:\n",
    "\n",
    "#### Input:\n",
    "s = \"(]\"\n",
    "#### Output:\n",
    "false\n",
    " \n",
    "\n",
    "### Constraints:\n",
    "\n",
    "1 <= s.length <= 10^4\n",
    "\n",
    "s consists of parentheses only '()[]{}'."
   ]
  },
  {
   "cell_type": "code",
   "execution_count": 1,
   "metadata": {},
   "outputs": [],
   "source": [
    "# s: str\n",
    "# return -> bool\n",
    "class Solution:\n",
    "    def isValid(self, s):\n",
    "        pairs = {')': '(', '}': '{', ']': '['}\n",
    "        seen = []\n",
    "        \n",
    "        # Traverse the string\n",
    "        for i in s:\n",
    "            \n",
    "            # Check for opening parenthesis\n",
    "            if i in ['(', '{', '[']:\n",
    "                seen.append(i)\n",
    "                \n",
    "            else:\n",
    "                \n",
    "                # Check if stack is empty\n",
    "                if not seen:\n",
    "                    return False\n",
    "                \n",
    "                # Check if top of stack is valid for given character\n",
    "                if pairs[i] == seen[-1]:\n",
    "                    seen.pop(-1)\n",
    "                else:\n",
    "                    return False\n",
    "                \n",
    "        # Check if stack is empty\n",
    "        return True if not seen else False"
   ]
  },
  {
   "cell_type": "code",
   "execution_count": 2,
   "metadata": {},
   "outputs": [
    {
     "data": {
      "text/plain": [
       "False"
      ]
     },
     "execution_count": 2,
     "metadata": {},
     "output_type": "execute_result"
    }
   ],
   "source": [
    "Solution.isValid(Solution.isValid, '(]')"
   ]
  }
 ],
 "metadata": {
  "kernelspec": {
   "display_name": "Python 3",
   "language": "python",
   "name": "python3"
  },
  "language_info": {
   "codemirror_mode": {
    "name": "ipython",
    "version": 3
   },
   "file_extension": ".py",
   "mimetype": "text/x-python",
   "name": "python",
   "nbconvert_exporter": "python",
   "pygments_lexer": "ipython3",
   "version": "3.8.3"
  }
 },
 "nbformat": 4,
 "nbformat_minor": 4
}
