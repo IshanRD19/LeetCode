{
 "cells": [
  {
   "cell_type": "markdown",
   "metadata": {},
   "source": [
    "# SORTING THE SENTENCE\n",
    "\n",
    "A sentence is a list of words that are separated by a single space with no leading or trailing spaces. Each word consists of lowercase and uppercase English letters.\n",
    "\n",
    "A sentence can be shuffled by appending the 1-indexed word position to each word then rearranging the words in the sentence.\n",
    "\n",
    "For example, the sentence \"This is a sentence\" can be shuffled as \"sentence4 a3 is2 This1\" or \"is2 sentence4 This1 a3\".\n",
    "Given a shuffled sentence s containing no more than 9 words, reconstruct and return the original sentence.\n",
    "\n",
    "### Example 1:\n",
    "\n",
    "#### Input:\n",
    "s = \"is2 sentence4 This1 a3\"\n",
    "#### Output:\n",
    "\"This is a sentence\"\n",
    "#### Explanation:\n",
    "Sort the words in s to their original positions \"This1 is2 a3 sentence4\", then remove the numbers.\n",
    "### Example 2:\n",
    "\n",
    "#### Input:\n",
    "s = \"Myself2 Me1 I4 and3\"\n",
    "#### Output:\n",
    "\"Me Myself and I\"\n",
    "#### Explanation:\n",
    "Sort the words in s to their original positions \"Me1 Myself2 and3 I4\", then remove the numbers.\n",
    " \n",
    "\n",
    "### Constraints:\n",
    "2 <= s.length <= 200\n",
    "\n",
    "s consists of lowercase and uppercase English letters, spaces, and digits from 1 to 9.\n",
    "\n",
    "The number of words in s is between 1 and 9.\n",
    "\n",
    "The words in s are separated by a single space.\n",
    "\n",
    "s contains no leading or trailing spaces."
   ]
  },
  {
   "cell_type": "code",
   "execution_count": 1,
   "metadata": {},
   "outputs": [],
   "source": [
    "# s: str\n",
    "# return -> str\n",
    "class Solution:\n",
    "    def sortSentence(self, s):\n",
    "        words = s.split()\n",
    "        word_indices = [int(word[-1]) for word in words]\n",
    "        result = ['-'] * len(words)\n",
    "\n",
    "        for i in range(len(words)):\n",
    "            result[word_indices[i] - 1] = words[i][:-1]\n",
    "            \n",
    "        return ' '.join(result)"
   ]
  },
  {
   "cell_type": "code",
   "execution_count": 2,
   "metadata": {},
   "outputs": [
    {
     "data": {
      "text/plain": [
       "'This is a sentence'"
      ]
     },
     "execution_count": 2,
     "metadata": {},
     "output_type": "execute_result"
    }
   ],
   "source": [
    "Solution.sortSentence(Solution.sortSentence, 'is2 sentence4 This1 a3')"
   ]
  }
 ],
 "metadata": {
  "kernelspec": {
   "display_name": "Python 3",
   "language": "python",
   "name": "python3"
  },
  "language_info": {
   "codemirror_mode": {
    "name": "ipython",
    "version": 3
   },
   "file_extension": ".py",
   "mimetype": "text/x-python",
   "name": "python",
   "nbconvert_exporter": "python",
   "pygments_lexer": "ipython3",
   "version": "3.8.3"
  }
 },
 "nbformat": 4,
 "nbformat_minor": 4
}
