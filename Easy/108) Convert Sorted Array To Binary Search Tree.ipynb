{
 "cells": [
  {
   "cell_type": "markdown",
   "metadata": {},
   "source": [
    "# CONVERT SORTED ARRAY TO BINARY SEARCH TREE\n",
    "\n",
    "Given an integer array nums where the elements are sorted in ascending order, convert it to a height-balanced binary search tree.\n",
    "\n",
    "### Example 1:\n",
    "#### Input: \n",
    "nums = [-10,-3,0,5,9]\n",
    "#### Output: \n",
    "[0,-3,9,-10,null,5]\n",
    "#### Explanation: \n",
    "[0,-10,5,null,-3,null,9] is also accepted:\n",
    "### Example 2:\n",
    "#### Input: \n",
    "nums = [1,3]\n",
    "#### Output: \n",
    "[3,1]\n",
    "#### Explanation: \n",
    "[1,null,3] and [3,1] are both height-balanced BSTs.\n",
    "### Constraints:\n",
    "1 <= nums.length <= 10^4\n",
    "\n",
    "-10^4 <= nums[i] <= 10^4\n",
    "\n",
    "nums is sorted in a strictly increasing order."
   ]
  },
  {
   "cell_type": "code",
   "execution_count": null,
   "metadata": {},
   "outputs": [],
   "source": [
    "# Definition for a binary tree node.\n",
    "class TreeNode:\n",
    "    def __init__(self, val=0, left=None, right=None):\n",
    "        self.val = val\n",
    "        self.left = left\n",
    "        self.right = right\n",
    "\n",
    "class Solution:\n",
    "    \n",
    "    def recursive_call(self, nums, left, right):\n",
    "        if left > right:\n",
    "            return\n",
    "        \n",
    "        # Assign current node as root of subtree\n",
    "        middle = left + (right - left) // 2\n",
    "        current_node = TreeNode(nums[middle])\n",
    "        \n",
    "        # Assign left and children\n",
    "        current_node.left = self.recursive_call(nums, left, middle-1)\n",
    "        current_node.right = self.recursive_call(nums, middle+1, right)\n",
    "        \n",
    "        return current_node\n",
    "    \n",
    "    # nums: List[int]\n",
    "    # return -> TreeNode\n",
    "    def sortedArrayToBST(self, nums):\n",
    "        return self.recursive_call(nums, 0, len(nums)-1)"
   ]
  }
 ],
 "metadata": {
  "language_info": {
   "name": "python"
  },
  "orig_nbformat": 4
 },
 "nbformat": 4,
 "nbformat_minor": 2
}
