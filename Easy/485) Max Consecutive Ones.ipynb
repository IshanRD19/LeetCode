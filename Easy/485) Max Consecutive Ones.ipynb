{
 "cells": [
  {
   "cell_type": "markdown",
   "metadata": {},
   "source": [
    "# MAX CONSECUTIVE ONES\n",
    "\n",
    "Given a binary array nums, return the maximum number of consecutive 1s in the array.\n",
    "\n",
    "### Example 1:\n",
    "\n",
    "Input: nums = [1,1,0,1,1,1]\n",
    "\n",
    "Output: 3\n",
    "\n",
    "Explanation: The first two digits or the last three digits are consecutive 1s. The maximum number of consecutive 1s is 3.\n",
    "\n",
    "### Example 2:\n",
    "\n",
    "Input: nums = [1,0,1,1,0,1]\n",
    "\n",
    "Output: 2\n",
    " \n",
    "\n",
    "### Constraints:\n",
    "\n",
    "1 <= nums.length <= 105\n",
    "\n",
    "nums[i] is either 0 or 1."
   ]
  },
  {
   "cell_type": "markdown",
   "metadata": {},
   "source": [
    "## Approach: Moving Window"
   ]
  },
  {
   "cell_type": "code",
   "execution_count": 9,
   "metadata": {},
   "outputs": [],
   "source": [
    "class Solution:\n",
    "    def findMaxConsecutiveOnes(self, nums):\n",
    "        result = 0\n",
    "        window_size = 0\n",
    "\n",
    "        for i in range(len(nums)):\n",
    "            \n",
    "            # Keep increasing window size if 1\n",
    "            if nums[i]:\n",
    "                window_size += 1\n",
    "            \n",
    "            # Store and reset window size if 0\n",
    "            else:\n",
    "                result = max(result, window_size)\n",
    "                window_size = 0\n",
    "        \n",
    "        # Return max to include the array with last 1 in its last index\n",
    "        return max(result, window_size)"
   ]
  },
  {
   "cell_type": "code",
   "execution_count": 10,
   "metadata": {},
   "outputs": [
    {
     "data": {
      "text/plain": [
       "4"
      ]
     },
     "execution_count": 10,
     "metadata": {},
     "output_type": "execute_result"
    }
   ],
   "source": [
    "Solution.findMaxConsecutiveOnes(Solution.findMaxConsecutiveOnes, [1,1,0,0,0,1,0,1,1,1,1,0,0])"
   ]
  },
  {
   "cell_type": "markdown",
   "metadata": {},
   "source": [
    "### Complexity analysis\n",
    "\n",
    "Time complextiy : O(n). Assume that n is the length of array.\n",
    "\n",
    "Space complexity : O(1)."
   ]
  }
 ],
 "metadata": {
  "kernelspec": {
   "display_name": "Python 3",
   "language": "python",
   "name": "python3"
  },
  "language_info": {
   "codemirror_mode": {
    "name": "ipython",
    "version": 3
   },
   "file_extension": ".py",
   "mimetype": "text/x-python",
   "name": "python",
   "nbconvert_exporter": "python",
   "pygments_lexer": "ipython3",
   "version": "3.8.3"
  }
 },
 "nbformat": 4,
 "nbformat_minor": 4
}
