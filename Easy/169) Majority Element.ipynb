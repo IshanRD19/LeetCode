{
 "cells": [
  {
   "cell_type": "markdown",
   "metadata": {},
   "source": [
    "# MAJORITY ELEMENT\n",
    "\n",
    "Given an array nums of size n, return the majority element.\n",
    "\n",
    "The majority element is the element that appears more than ⌊n / 2⌋ times. You may assume that the majority element always exists in the array.\n",
    "\n",
    "### Example 1:\n",
    "\n",
    "#### Input: nums = [3,2,3]\n",
    "#### Output: 3\n",
    "### Example 2:\n",
    "#### Input: nums = [2,2,1,1,1,2,2]\n",
    "#### Output: 2\n",
    " \n",
    "\n",
    "### Constraints:\n",
    "n == nums.length\n",
    "\n",
    "1 <= n <= 5 * 10^4\n",
    "\n",
    "-10^9 <= nums[i] <= 10^9\n",
    "\n",
    "## Approach 1: Trivial Method"
   ]
  },
  {
   "cell_type": "code",
   "execution_count": 1,
   "metadata": {},
   "outputs": [],
   "source": [
    "class Solution:\n",
    "    # nums: List[int]\n",
    "    # return -> int\n",
    "    def majorityElement(self, nums):\n",
    "        nums.sort()\n",
    "        return nums[len(nums)//2]"
   ]
  },
  {
   "cell_type": "code",
   "execution_count": 2,
   "metadata": {},
   "outputs": [
    {
     "data": {
      "text/plain": [
       "2"
      ]
     },
     "execution_count": 2,
     "metadata": {},
     "output_type": "execute_result"
    }
   ],
   "source": [
    "Solution.majorityElement(Solution.majorityElement, [2,2,1,1,1,2,2])"
   ]
  },
  {
   "cell_type": "markdown",
   "metadata": {},
   "source": [
    "**Follow-up:** Could you solve the problem in linear time and in O(1) space?\n",
    "\n",
    "## Approach 2: Time Efficient Method"
   ]
  },
  {
   "cell_type": "code",
   "execution_count": 3,
   "metadata": {},
   "outputs": [],
   "source": [
    "class Solution2:\n",
    "    # nums: List[int]\n",
    "    # return -> int\n",
    "    def majorityElement(self, nums):\n",
    "        seen = {}\n",
    "        length = len(nums)\n",
    "        majority = length // 2\n",
    "        \n",
    "        for i in range(length):\n",
    "\n",
    "            if nums[i] in seen:\n",
    "                seen[nums[i]] += 1\n",
    "                \n",
    "                if seen[nums[i]] > majority:\n",
    "                    break\n",
    "                \n",
    "            else:\n",
    "                seen[nums[i]] = 1\n",
    "        \n",
    "        return nums[i]"
   ]
  },
  {
   "cell_type": "code",
   "execution_count": 4,
   "metadata": {},
   "outputs": [
    {
     "data": {
      "text/plain": [
       "2"
      ]
     },
     "execution_count": 4,
     "metadata": {},
     "output_type": "execute_result"
    }
   ],
   "source": [
    "Solution2.majorityElement(Solution2.majorityElement, [2,2,1,1,1,2,2])"
   ]
  }
 ],
 "metadata": {
  "kernelspec": {
   "display_name": "Python 3.10.6 64-bit",
   "language": "python",
   "name": "python3"
  },
  "language_info": {
   "codemirror_mode": {
    "name": "ipython",
    "version": 3
   },
   "file_extension": ".py",
   "mimetype": "text/x-python",
   "name": "python",
   "nbconvert_exporter": "python",
   "pygments_lexer": "ipython3",
   "version": "3.10.6"
  },
  "orig_nbformat": 4,
  "vscode": {
   "interpreter": {
    "hash": "26de051ba29f2982a8de78e945f0abaf191376122a1563185a90213a26c5da77"
   }
  }
 },
 "nbformat": 4,
 "nbformat_minor": 2
}
